{
 "cells": [
  {
   "cell_type": "code",
   "execution_count": 1,
   "metadata": {},
   "outputs": [],
   "source": [
    "import geopandas as gpd\n",
    "import pandas as pd\n",
    "import numpy as np\n",
    "from shapely.geometry import Point, LineString\n",
    "from shapely.ops import split"
   ]
  },
  {
   "cell_type": "code",
   "execution_count": 3,
   "metadata": {},
   "outputs": [],
   "source": [
    "#Read in routes feature class as shapefile\n",
    "gdfRoutes = gpd.read_file('..\\\\data\\\\processed\\\\Routes.shp')"
   ]
  },
  {
   "cell_type": "code",
   "execution_count": 4,
   "metadata": {},
   "outputs": [],
   "source": [
    "#Columns to drop to keep things tidy\n",
    "drop_cols = ['Facility N', 'Address', 'City', 'County Nam',\n",
    "             'Zip', 'Latitude', 'Longitude', 'Regulated', \n",
    "             'Allowable', 'Total Wast']"
   ]
  },
  {
   "cell_type": "code",
   "execution_count": 6,
   "metadata": {},
   "outputs": [],
   "source": [
    "#Copy routes geodataframe and update geometry to start points\n",
    "gdfStart = gdfRoutes.copy(deep=True)\n",
    "gdfStart['geometry'] = gdfRoutes['geometry'].apply(lambda x: Point(x.coords[0]))\n",
    "gdfStart.drop(columns=drop_cols,axis=1,inplace=True)\n",
    "gdfStart.to_file('../scratch/starts.shp')"
   ]
  },
  {
   "cell_type": "code",
   "execution_count": 7,
   "metadata": {},
   "outputs": [],
   "source": [
    "#Copy routes geodataframe and update geometry to start points\n",
    "gdfEnd = gdfRoutes.copy(deep=True)\n",
    "gdfEnd['geometry'] = gdfRoutes['geometry'].apply(lambda x: Point(x.coords[-1]))\n",
    "gdfEnd.drop(columns=drop_cols,axis=1,inplace=True)\n",
    "gdfEnd.to_file('../scratch/ends.shp')"
   ]
  },
  {
   "cell_type": "markdown",
   "metadata": {},
   "source": [
    "Create junctions along route segments where upstream routes join them - done by iterating through each route feature and splitting it by the set of end points. "
   ]
  },
  {
   "cell_type": "code",
   "execution_count": 8,
   "metadata": {},
   "outputs": [],
   "source": [
    "#Combine endpoints into a single multipoint object\n",
    "ends = gdfEnd.geometry.unary_union"
   ]
  },
  {
   "cell_type": "code",
   "execution_count": 9,
   "metadata": {},
   "outputs": [],
   "source": [
    "#Create a geoseries of split routes (geometry collections)\n",
    "theSplits = gdfRoutes.geometry.apply(lambda x: split(x,ends))"
   ]
  },
  {
   "cell_type": "markdown",
   "metadata": {},
   "source": [
    "* Create a feature class of all segments (routes split at junctions)"
   ]
  },
  {
   "cell_type": "code",
   "execution_count": 10,
   "metadata": {},
   "outputs": [],
   "source": [
    "#Create lists to fill\n",
    "links = []\n",
    "startIDs = []; endIDs = []\n",
    "biogas = []\n",
    "geom = []\n",
    "#Iterate and add items to the list\n",
    "for index, row in gdfRoutes.iterrows():\n",
    "    #Iterate through split segments in the geometry collection\n",
    "    for line in theSplits[index].geoms:\n",
    "        #Add items to the list\n",
    "        links.append(row['index'])\n",
    "        biogas.append(row['Biogas P_1'])\n",
    "        geom.append(line)\n",
    "\n",
    "#Construct an output geodataframe\n",
    "gdfSegments = gpd.GeoDataFrame(pd.DataFrame({'route_id':links}),\n",
    "                               geometry = geom, crs = gdfRoutes.crs)\n",
    "\n",
    "#Add the index as a unique segment ID  \n",
    "gdfSegments['edge_ID'] = gdfSegments.index"
   ]
  },
  {
   "cell_type": "markdown",
   "metadata": {},
   "source": [
    "* Create feature classes from from and to nodes"
   ]
  },
  {
   "cell_type": "code",
   "execution_count": 11,
   "metadata": {},
   "outputs": [],
   "source": [
    "#Construct a gdf of segement start and end points\n",
    "gdfFromNodes = gdfSegments.copy(deep=True)\n",
    "gdfFromNodes['geometry'] = gdfFromNodes['geometry'].apply(lambda x: Point(x.coords[0]))\n",
    "gdfFromNodes['from_id'] = gdfFromNodes.index\n",
    "\n",
    "gdfToNodes = gdfSegments.copy(deep=True)\n",
    "gdfToNodes['geometry'] = gdfToNodes['geometry'].apply(lambda x: Point(x.coords[-1]))\n",
    "gdfToNodes['to_id'] = gdfToNodes.index"
   ]
  },
  {
   "cell_type": "markdown",
   "metadata": {},
   "source": [
    "* Join the from and to node IDs to each segment"
   ]
  },
  {
   "cell_type": "code",
   "execution_count": 12,
   "metadata": {},
   "outputs": [],
   "source": [
    "#Find the start point corresponding with this value\n",
    "def getNodeID(line_segment,start=True):\n",
    "    #Get the start or end point\n",
    "    if start: \n",
    "        gdf = gdfFromNodes #Set the search geodataframe as the one of start points\n",
    "        idx = 0        #Set the index to the first point of the line segment\n",
    "        col = 'from_id'\n",
    "    else:\n",
    "        gdf = gdfToNodes   #Set the search geodataframe as the one of end points\n",
    "        idx = -1       #Set the index to the last point of the line segment\n",
    "        col = 'to_id'\n",
    "    #Create the search point object, buffered 5 meters\n",
    "    theSearchPoly = Point(line_segment.coords[idx]).buffer(5)\n",
    "    #Select all records found within the buffered search points\n",
    "    gdfSelect = gdf[gdf.geometry.within(theSearchPoly)]\n",
    "    #Return the index value of the returned record\n",
    "    if gdfSelect.shape[0]>0: return gdfSelect[col].values[0]\n",
    "    else: return -1"
   ]
  },
  {
   "cell_type": "code",
   "execution_count": 13,
   "metadata": {},
   "outputs": [],
   "source": [
    "#Add start node ids to edges\n",
    "gdfSegments['FromID'] = gdfSegments['geometry'].apply(getNodeID)\n",
    "#Add end node ids to edges\n",
    "gdfSegments['ToID'] = gdfSegments['geometry'].apply(lambda x: getNodeID(x,start=False))"
   ]
  },
  {
   "cell_type": "code",
   "execution_count": 16,
   "metadata": {},
   "outputs": [],
   "source": [
    "#Write to file\n",
    "gdfSegments.to_file('../scratch/LineSegements.shp')\n",
    "gdfFromNodes.to_file('../scratch/FromNodes.shp')\n",
    "gdfToNodes.to_file('../scratch/ToNodes.shp')"
   ]
  },
  {
   "cell_type": "code",
   "execution_count": null,
   "metadata": {},
   "outputs": [],
   "source": []
  },
  {
   "cell_type": "markdown",
   "metadata": {},
   "source": [
    "We want to build an edge list such that each route segment includes it's from node ID, to node ID, and the biogas associated with the from node id"
   ]
  },
  {
   "cell_type": "code",
   "execution_count": null,
   "metadata": {},
   "outputs": [],
   "source": [
    "#Spatially join biogas potential to start nodes\n",
    "gdf_StartNodes = gpd.sjoin(left_df=gdfSegment_starts,right_df=gdfStart,how='left')\n",
    "gdf_StartNodes.drop(columns=['index_right','level_0','index'],axis=1,inplace=True)\n",
    "gdf_StartNodes.fillna(0,inplace=True)\n",
    "gdf_StartNodes.head()"
   ]
  },
  {
   "cell_type": "code",
   "execution_count": null,
   "metadata": {},
   "outputs": [],
   "source": [
    "#Spatially join edge IDs to end nodes\n",
    "gdf_StartNodes = gpd.sjoin(left_df=gdf_StartNodes,right_df=gdfEnd[['index','geometry']],how='left')\n",
    "#gdf_StartNodes.drop(columns=['index_right','index'],axis=1,inplace=True)\n",
    "gdf_StartNodes.fillna(0,inplace=True)\n",
    "gdf_StartNodes.head()"
   ]
  },
  {
   "cell_type": "code",
   "execution_count": null,
   "metadata": {},
   "outputs": [],
   "source": [
    "#Add from node and to node to gdfSegments\n",
    "gdfSegments2 = gpd.sjoin(left_df=gdfSegments,\n",
    "                         right_df=gdfStart[['index','geometry']],\n",
    "                         how='left',rsuffix='start')"
   ]
  },
  {
   "cell_type": "code",
   "execution_count": null,
   "metadata": {},
   "outputs": [],
   "source": [
    "#Get the start point of the line\n",
    "line.coords[0]"
   ]
  },
  {
   "cell_type": "code",
   "execution_count": null,
   "metadata": {},
   "outputs": [],
   "source": []
  },
  {
   "cell_type": "code",
   "execution_count": null,
   "metadata": {},
   "outputs": [],
   "source": [
    "gdfSegments3 = gpd.sjoin(left_df=gdfSegments2,\n",
    "                         right_df=gdfEnd[['index','geometry']],\n",
    "                         how='left',rsuffix='end')"
   ]
  },
  {
   "cell_type": "code",
   "execution_count": null,
   "metadata": {},
   "outputs": [],
   "source": [
    "gdfSegments3.to_file('../data/processed/LineSegements_StartEnd.shp')"
   ]
  },
  {
   "cell_type": "code",
   "execution_count": null,
   "metadata": {},
   "outputs": [],
   "source": [
    "gdfRoutes.columns"
   ]
  },
  {
   "cell_type": "code",
   "execution_count": null,
   "metadata": {},
   "outputs": [],
   "source": []
  }
 ],
 "metadata": {
  "kernelspec": {
   "display_name": "Python 3",
   "language": "python",
   "name": "python3"
  },
  "language_info": {
   "codemirror_mode": {
    "name": "ipython",
    "version": 3
   },
   "file_extension": ".py",
   "mimetype": "text/x-python",
   "name": "python",
   "nbconvert_exporter": "python",
   "pygments_lexer": "ipython3",
   "version": "3.7.6"
  }
 },
 "nbformat": 4,
 "nbformat_minor": 4
}
