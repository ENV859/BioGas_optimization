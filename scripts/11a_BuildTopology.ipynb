{
 "cells": [
  {
   "cell_type": "code",
   "execution_count": 9,
   "metadata": {},
   "outputs": [],
   "source": [
    "import geopandas as gpd\n",
    "import pandas as pd\n",
    "import numpy as np\n",
    "from shapely.geometry import Point, LineString\n",
    "from shapely.ops import split"
   ]
  },
  {
   "cell_type": "code",
   "execution_count": 2,
   "metadata": {},
   "outputs": [],
   "source": [
    "gdfRoutes = gpd.read_file('..\\\\data\\\\processed\\\\Routes.shp')\n",
    "#gdfPoints = gpd.read_file('..\\\\data\\\\processed\\\\biogas_sources.shp')"
   ]
  },
  {
   "cell_type": "code",
   "execution_count": 4,
   "metadata": {},
   "outputs": [],
   "source": [
    "startPoints = gdfRoutes['geometry'].apply(lambda x: Point(x.coords[0]))\n",
    "endPoints = gdfRoutes['geometry'].apply(lambda x: Point(x.coords[-1]))"
   ]
  },
  {
   "cell_type": "code",
   "execution_count": 5,
   "metadata": {},
   "outputs": [],
   "source": [
    "gdfStart = gdfRoutes.copy(deep=True)\n",
    "gdfStart['geometry'] =startPoints\n",
    "gdfStart.to_file('../data/processed/starts.shp')"
   ]
  },
  {
   "cell_type": "code",
   "execution_count": 7,
   "metadata": {},
   "outputs": [],
   "source": [
    "gdfEnd = gdfRoutes.copy(deep=True)\n",
    "gdfEnd['geometry'] = endPoints\n",
    "gdfEnd.to_file('../data/processed/ends.shp')"
   ]
  },
  {
   "cell_type": "code",
   "execution_count": 8,
   "metadata": {},
   "outputs": [
    {
     "data": {
      "image/svg+xml": [
       "<svg xmlns=\"http://www.w3.org/2000/svg\" xmlns:xlink=\"http://www.w3.org/1999/xlink\" width=\"300\" height=\"300\" viewBox=\"1579142.2639059513 -312440.3509545722 5326.48096070881 17432.11950777436\" preserveAspectRatio=\"xMinYMin meet\"><g transform=\"matrix(1,0,0,-1,0,-607448.58240137)\"><polyline fill=\"none\" stroke=\"#66cc99\" stroke-width=\"116.21413005182907\" points=\"1582814.307598561,-311794.7168987287 1582814.307598561,-311290.315292601 1582309.9059924334,-310785.9136864733 1582309.9059924334,-310281.51208034554 1582309.9059924334,-309777.1104742178 1582309.9059924334,-309272.70886809006 1582309.9059924334,-308768.3072619623 1582309.9059924334,-308263.9056558346 1582309.9059924334,-307759.50404970685 1582309.9059924334,-307255.1024435791 1582814.307598561,-306750.7008374514 1582814.307598561,-306246.29923132365 1582814.307598561,-305741.8976251959 1583318.709204689,-305237.49601906823 1583318.709204689,-304733.0944129405 1583823.1108108165,-304228.69280681276 1583823.1108108165,-303724.291200685 1583318.709204689,-303219.88959455735 1583318.709204689,-302715.4879884296 1583318.709204689,-302211.0863823019 1583318.709204689,-301706.68477617414 1583318.709204689,-301202.2831700464 1583318.709204689,-300697.88156391867 1582814.307598561,-300193.4799577909 1582309.9059924334,-299689.0783516632 1582309.9059924334,-299184.67674553546 1581805.5043863056,-298680.2751394077 1581301.102780178,-298175.87353328 1581301.102780178,-297671.47192715225 1581301.102780178,-297167.07032102457 1580796.70117405,-296662.66871489683 1580292.2995679225,-296158.2671087691 1579787.8979617949,-295653.86550264136\" opacity=\"0.8\" /></g></svg>"
      ],
      "text/plain": [
       "<shapely.geometry.linestring.LineString at 0x2b7e0270c08>"
      ]
     },
     "execution_count": 8,
     "metadata": {},
     "output_type": "execute_result"
    }
   ],
   "source": [
    "#Iterate through lines and split\n",
    "theLine = gdfRoutes.at[0,'geometry']\n",
    "theLine"
   ]
  },
  {
   "cell_type": "code",
   "execution_count": 10,
   "metadata": {},
   "outputs": [],
   "source": [
    "#Merge end points into single feature\n",
    "ends = endPoints.unary_union"
   ]
  },
  {
   "cell_type": "code",
   "execution_count": 20,
   "metadata": {},
   "outputs": [],
   "source": [
    "theSplits = gdfRoutes.geometry.apply(lambda x: split(x,ends))"
   ]
  },
  {
   "cell_type": "code",
   "execution_count": 21,
   "metadata": {},
   "outputs": [],
   "source": [
    "gdfRoutes['geometry'] = theSplits"
   ]
  },
  {
   "cell_type": "code",
   "execution_count": 53,
   "metadata": {},
   "outputs": [],
   "source": [
    "all_lines = []\n",
    "for l in theSplits:\n",
    "    for lg in l.geoms:\n",
    "        all_lines.append(lg)"
   ]
  },
  {
   "cell_type": "code",
   "execution_count": 54,
   "metadata": {},
   "outputs": [],
   "source": [
    "gdfLines = gpd.GeoDataFrame(geometry=all_lines)"
   ]
  },
  {
   "cell_type": "code",
   "execution_count": 56,
   "metadata": {},
   "outputs": [],
   "source": [
    "gdfLines['id'] = gdfLines.index\n",
    "gdfLines.to_file('../data/processed/LineSegements.shp')"
   ]
  },
  {
   "cell_type": "code",
   "execution_count": null,
   "metadata": {},
   "outputs": [],
   "source": []
  }
 ],
 "metadata": {
  "kernelspec": {
   "display_name": "Python 3",
   "language": "python",
   "name": "python3"
  },
  "language_info": {
   "codemirror_mode": {
    "name": "ipython",
    "version": 3
   },
   "file_extension": ".py",
   "mimetype": "text/x-python",
   "name": "python",
   "nbconvert_exporter": "python",
   "pygments_lexer": "ipython3",
   "version": "3.7.6"
  }
 },
 "nbformat": 4,
 "nbformat_minor": 4
}
