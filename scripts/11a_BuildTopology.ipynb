{
 "cells": [
  {
   "cell_type": "code",
   "execution_count": 1,
   "metadata": {},
   "outputs": [],
   "source": [
    "import geopandas as gpd\n",
    "import pandas as pd\n",
    "import numpy as np\n",
    "from shapely.geometry import Point, LineString\n",
    "from shapely.ops import split"
   ]
  },
  {
   "cell_type": "code",
   "execution_count": 2,
   "metadata": {},
   "outputs": [],
   "source": [
    "#Read in routes feature class as shapefile\n",
    "gdfRoutes = gpd.read_file('..\\\\data\\\\processed\\\\Routes.shp')"
   ]
  },
  {
   "cell_type": "code",
   "execution_count": 3,
   "metadata": {},
   "outputs": [],
   "source": [
    "#Columns to drop to keep things tidy\n",
    "drop_cols = ['Facility N', 'Address', 'City', 'County Nam',\n",
    "             'Zip', 'Latitude', 'Longitude', 'Regulated', \n",
    "             'Allowable', 'Total Wast']"
   ]
  },
  {
   "cell_type": "code",
   "execution_count": 4,
   "metadata": {},
   "outputs": [],
   "source": [
    "#Copy routes geodataframe and update geometry to start points\n",
    "gdfStart = gdfRoutes.copy(deep=True)\n",
    "gdfStart['geometry'] = gdfRoutes['geometry'].apply(lambda x: Point(x.coords[0]))\n",
    "gdfStart.drop(columns=drop_cols,axis=1,inplace=True)"
   ]
  },
  {
   "cell_type": "code",
   "execution_count": 5,
   "metadata": {},
   "outputs": [],
   "source": [
    "#Copy routes geodataframe and update geometry to start points\n",
    "gdfEnd = gdfRoutes.copy(deep=True)\n",
    "gdfEnd['geometry'] = gdfRoutes['geometry'].apply(lambda x: Point(x.coords[-1]))\n",
    "gdfEnd.drop(columns=drop_cols,axis=1,inplace=True)"
   ]
  },
  {
   "cell_type": "markdown",
   "metadata": {},
   "source": [
    "Create junctions along route segments where upstream routes join them - done by iterating through each route feature and splitting it by the set of end points. "
   ]
  },
  {
   "cell_type": "code",
   "execution_count": 6,
   "metadata": {},
   "outputs": [],
   "source": [
    "#Combine endpoints into a single multipoint object\n",
    "ends = gdfEnd.geometry.unary_union"
   ]
  },
  {
   "cell_type": "code",
   "execution_count": 7,
   "metadata": {},
   "outputs": [],
   "source": [
    "#Create a geoseries of split routes (geometry collections)\n",
    "theSplits = gdfRoutes.geometry.apply(lambda x: split(x,ends))"
   ]
  },
  {
   "cell_type": "markdown",
   "metadata": {},
   "source": [
    "* Create a feature class of all segments (routes split at junctions)"
   ]
  },
  {
   "cell_type": "code",
   "execution_count": 8,
   "metadata": {},
   "outputs": [],
   "source": [
    "#Create lists to fill\n",
    "links = []\n",
    "geom = []\n",
    "#Iterate and add items to the list\n",
    "for index, row in gdfRoutes.iterrows():\n",
    "    #Iterate through split segments in the geometry collection\n",
    "    for line in theSplits[index].geoms:\n",
    "        #Add items to the list\n",
    "        links.append(row['index'])\n",
    "        geom.append(line)\n",
    "\n",
    "#Construct an output geodataframe\n",
    "gdfSegments = gpd.GeoDataFrame(pd.DataFrame({'route_id':links}),\n",
    "                               geometry = geom, crs = gdfRoutes.crs)\n",
    "\n",
    "#Add the index as a unique segment ID  \n",
    "gdfSegments['edge_ID'] = gdfSegments.index"
   ]
  },
  {
   "cell_type": "markdown",
   "metadata": {},
   "source": [
    "* Create geodataframes from from and to nodes"
   ]
  },
  {
   "cell_type": "code",
   "execution_count": 9,
   "metadata": {},
   "outputs": [],
   "source": [
    "#Construct a gdf of segement start and end points\n",
    "gdfToNodes = gdfSegments.copy(deep=True)\n",
    "gdfToNodes['geometry'] = gdfToNodes['geometry'].apply(lambda x: Point(x.coords[0]))\n",
    "gdfToNodes['to_id'] = gdfToNodes.index\n",
    "\n",
    "gdfFromNodes = gdfSegments.copy(deep=True)\n",
    "gdfFromNodes['geometry'] = gdfFromNodes['geometry'].apply(lambda x: Point(x.coords[-1]))\n",
    "gdfFromNodes['from_id'] = gdfFromNodes.index"
   ]
  },
  {
   "cell_type": "code",
   "execution_count": 16,
   "metadata": {},
   "outputs": [],
   "source": [
    "gdfToNodes.to_file('../scratch/ToNodes.shp')\n",
    "gdfFromNodes.to_file('../scratch/FromNodes.shp')"
   ]
  },
  {
   "cell_type": "markdown",
   "metadata": {},
   "source": [
    "* Overlap the to and from nodes, this provides a table linking the two (start of an edge list)"
   ]
  },
  {
   "cell_type": "code",
   "execution_count": 17,
   "metadata": {},
   "outputs": [],
   "source": [
    "#Spatially join the above geodataframes\n",
    "gdfNodes = gpd.sjoin(left_df=gdfToNodes, right_df=gdfFromNodes,how='right')\n",
    "gdfNodes.to_file('../scratch/nodes.shp')"
   ]
  },
  {
   "cell_type": "markdown",
   "metadata": {},
   "source": [
    "* Append the to and from node IDs to the segments"
   ]
  },
  {
   "cell_type": "code",
   "execution_count": 11,
   "metadata": {},
   "outputs": [],
   "source": [
    "#Join the from and to IDs to the segments dataframe\n",
    "gdfOut = gdfSegments.merge(gdfNodes[['from_id','to_id']],left_on='edge_ID', right_on='from_id')"
   ]
  },
  {
   "cell_type": "code",
   "execution_count": 12,
   "metadata": {},
   "outputs": [],
   "source": [
    "#Join the biogas data to the segments (from gdfStart)\n",
    "gdfOut = gpd.sjoin(left_df=gdfOut,right_df=gdfStart[['geometry','Biogas P_1']],how='left')\n",
    "gdfOut['Biogas P_1'].fillna(0.0,inplace=True)"
   ]
  },
  {
   "cell_type": "code",
   "execution_count": 13,
   "metadata": {},
   "outputs": [],
   "source": [
    "#Fix biogas column\n",
    "gdfOut['BG_potential'] = gdfOut['Biogas P_1'].values.astype(np.int64)"
   ]
  },
  {
   "cell_type": "code",
   "execution_count": 14,
   "metadata": {},
   "outputs": [],
   "source": [
    "#Write out shapefile\n",
    "gdfOut[['edge_ID','from_id','to_id',\n",
    "        'route_id','BG_potential','geometry']].to_file('../data/processed/BasePipeline.shp')"
   ]
  },
  {
   "cell_type": "code",
   "execution_count": 15,
   "metadata": {},
   "outputs": [],
   "source": [
    "#Write out edge list\n",
    "gdfOut[['from_id','to_id','Biogas P_1']].to_csv('../data/processed/BaseEdgeList.csv',index=False)"
   ]
  },
  {
   "cell_type": "code",
   "execution_count": null,
   "metadata": {},
   "outputs": [],
   "source": [
    "# Write out edges and nodes for osmnx\n",
    "gdfEdges = gdfOut"
   ]
  }
 ],
 "metadata": {
  "kernelspec": {
   "display_name": "Python 3",
   "language": "python",
   "name": "python3"
  },
  "language_info": {
   "codemirror_mode": {
    "name": "ipython",
    "version": 3
   },
   "file_extension": ".py",
   "mimetype": "text/x-python",
   "name": "python",
   "nbconvert_exporter": "python",
   "pygments_lexer": "ipython3",
   "version": "3.7.6"
  }
 },
 "nbformat": 4,
 "nbformat_minor": 4
}
