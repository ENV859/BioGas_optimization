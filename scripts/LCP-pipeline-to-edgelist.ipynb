{
 "cells": [
  {
   "cell_type": "markdown",
   "metadata": {},
   "source": [
    "### Workflow\n",
    "1. Extract the start and end vertices from each path feature in the LCP pipeline network\n",
    "1. Split the LCP lines at the vertices --> \"lcp_edges\"\n",
    "1. Extract the from- and to- vertices associated with each segment\n",
    "1. Spatially join the \"lcp_edge\" ID to the from- and the to- vertices feature classes\n",
    "1. Add a unique value to each node\n",
    "1. Split the path features by these nodes; these will become our edges\n",
    "1. Spatially join the node feature IDs to the "
   ]
  },
  {
   "cell_type": "code",
   "execution_count": 1,
   "metadata": {},
   "outputs": [],
   "source": [
    "#Imports\n",
    "import arcpy\n",
    "import numpy as np\n",
    "import pandas as pd"
   ]
  },
  {
   "cell_type": "code",
   "execution_count": 2,
   "metadata": {},
   "outputs": [],
   "source": [
    "#Set arcpy environments\n",
    "arcpy.env.workspace = '..\\\\scratch\\\\scratch.gdb'\n",
    "arcpy.env.scratchWorkspace = '..\\\\scratch\\\\scratch.gdb'\n",
    "arcpy.env.overwriteOutput = True"
   ]
  },
  {
   "cell_type": "code",
   "execution_count": 3,
   "metadata": {},
   "outputs": [],
   "source": [
    "#Set inputs\n",
    "lcp_fc = '..\\\\scratch\\\\LCPNetwork.shp'                          # LCP feature class\n",
    "bgprj_fc = '..\\\\OptimizeViewer\\\\OptimizeViewer.gdb\\\\Biogas_prj' # Biogas source locations, w/attributes"
   ]
  },
  {
   "cell_type": "code",
   "execution_count": 4,
   "metadata": {},
   "outputs": [],
   "source": [
    "#Convert LCP vertices to points\n",
    "lcp_nodes = arcpy.management.FeatureVerticesToPoints(in_features=lcp_fc,\n",
    "                                                    out_feature_class='memory/LCP_vertices',\n",
    "                                                    point_location='BOTH_ENDS').getOutput(0)"
   ]
  },
  {
   "cell_type": "code",
   "execution_count": 22,
   "metadata": {},
   "outputs": [
    {
     "data": {
      "text/plain": [
       "<Result '..\\\\scratch\\\\scratch.gdb\\\\LCP_edges'>"
      ]
     },
     "execution_count": 22,
     "metadata": {},
     "output_type": "execute_result"
    }
   ],
   "source": [
    "#Split the LCP at the vertices\n",
    "if arcpy.Exists('LCP_edges'): arcpy.management.Delete('LCP_edges')\n",
    "lcp_split = arcpy.management.SplitLineAtPoint(in_features=lcp_fc,\n",
    "                                              point_features=lcp_nodes,\n",
    "                                              out_feature_class='LCP_edges_temp',\n",
    "                                              search_radius='10 meters').getOutput(0)\n",
    "\n",
    "#Remove features with no length\n",
    "lcp_edges = arcpy.analysis.Select(in_features=lcp_split,\n",
    "                                  out_feature_class='LCP_edges',\n",
    "                                  where_clause=\"Shape_Length > 0\"\n",
    "                                 ).getOutput(0)\n",
    "\n",
    "#Remove the temp dataset\n",
    "arcpy.management.Delete('LCP_edges_temp')\n",
    "\n",
    "#Add an edge ID field\n",
    "arcpy.management.AddField(in_table=lcp_edges,field_name='Edge_ID',field_type='SHORT')\n",
    "arcpy.management.CalculateField(in_table=lcp_edges,field='Edge_ID',expression='!OBJECTID!')"
   ]
  },
  {
   "cell_type": "code",
   "execution_count": 26,
   "metadata": {},
   "outputs": [],
   "source": [
    "#Re-convert the vertices to points\n",
    "lcp_frNodes = arcpy.management.FeatureVerticesToPoints(in_features=lcp_edges,\n",
    "                                                       out_feature_class='LCP_frNodes',\n",
    "                                                       point_location='END').getOutput(0)\n",
    "\n",
    "lcp_toNodes = arcpy.management.FeatureVerticesToPoints(in_features=lcp_edges,\n",
    "                                                       out_feature_class='LCP_toNodes',\n",
    "                                                       point_location='START').getOutput(0)"
   ]
  },
  {
   "cell_type": "code",
   "execution_count": 30,
   "metadata": {},
   "outputs": [],
   "source": [
    "#Spatially join the edge IDs to each to and from node\n",
    "if arcpy.Exists('LCP_nodes'): arcpy.management.Delete('LCP_nodes')\n",
    "lcp_Nodes = arcpy.analysis.SpatialJoin(target_features=\"LCP_frNodes\", \n",
    "                                       join_features=\"LCP_toNodes\", \n",
    "                                       out_feature_class=\"LCP_nodes\", \n",
    "                                       join_operation=\"JOIN_ONE_TO_MANY\", \n",
    "                                       join_type=\"KEEP_ALL\", \n",
    "                                       field_mapping=('Ids \"Ids\" true true false 8 Double 0 0,First,#,LCP_frNodes,Ids,-1,-1;'+\n",
    "                                                      'FromID \"FromID\" true true false 2 Short 0 0,First,#,LCP_frNodes,Edge_ID,-1,-1;'+\n",
    "                                                      'ToID \"ToID\" true true false 2 Short 0 0,First,#,LCP_toNodes,Edge_ID,-1,-1'), \n",
    "                                       match_option=\"INTERSECT\").getOutput(0)"
   ]
  },
  {
   "cell_type": "markdown",
   "metadata": {},
   "source": [
    "The `lcp_edges` feature class now includes two features for each segment in the LCP network. The two segments share the same `TARGET_FID` value, and the `PtID` value corresponds to the node on either side. So we can construct an edge list by pivoting the attribute table: row  = `TARGET_FID` and column = `PtID`..."
   ]
  },
  {
   "cell_type": "code",
   "execution_count": 34,
   "metadata": {},
   "outputs": [
    {
     "data": {
      "text/html": [
       "<div>\n",
       "<style scoped>\n",
       "    .dataframe tbody tr th:only-of-type {\n",
       "        vertical-align: middle;\n",
       "    }\n",
       "\n",
       "    .dataframe tbody tr th {\n",
       "        vertical-align: top;\n",
       "    }\n",
       "\n",
       "    .dataframe thead th {\n",
       "        text-align: right;\n",
       "    }\n",
       "</style>\n",
       "<table border=\"1\" class=\"dataframe\">\n",
       "  <thead>\n",
       "    <tr style=\"text-align: right;\">\n",
       "      <th></th>\n",
       "      <th>FromID</th>\n",
       "      <th>ToID</th>\n",
       "    </tr>\n",
       "  </thead>\n",
       "  <tbody>\n",
       "    <tr>\n",
       "      <th>0</th>\n",
       "      <td>1</td>\n",
       "      <td>3</td>\n",
       "    </tr>\n",
       "    <tr>\n",
       "      <th>1</th>\n",
       "      <td>2</td>\n",
       "      <td>4</td>\n",
       "    </tr>\n",
       "    <tr>\n",
       "      <th>2</th>\n",
       "      <td>3</td>\n",
       "      <td>2</td>\n",
       "    </tr>\n",
       "    <tr>\n",
       "      <th>3</th>\n",
       "      <td>4</td>\n",
       "      <td>-1</td>\n",
       "    </tr>\n",
       "    <tr>\n",
       "      <th>4</th>\n",
       "      <td>5</td>\n",
       "      <td>13</td>\n",
       "    </tr>\n",
       "  </tbody>\n",
       "</table>\n",
       "</div>"
      ],
      "text/plain": [
       "   FromID  ToID\n",
       "0       1     3\n",
       "1       2     4\n",
       "2       3     2\n",
       "3       4    -1\n",
       "4       5    13"
      ]
     },
     "execution_count": 34,
     "metadata": {},
     "output_type": "execute_result"
    }
   ],
   "source": [
    "#Convert the table to a numpy array\n",
    "arr_nodes = arcpy.da.TableToNumPyArray(in_table=lcp_Nodes,field_names=['FromID','ToID'],\n",
    "                                      null_value={'FromID':-1,'ToID':-1})\n",
    "\n",
    "#And to a Pandas dataframe\n",
    "df_edges = pd.DataFrame(arr_nodes)\n",
    "df_edges.head()"
   ]
  },
  {
   "cell_type": "code",
   "execution_count": 41,
   "metadata": {},
   "outputs": [],
   "source": [
    "#Spatially join the Node IDs to the BG points\n",
    "if arcpy.Exists('BG_sites'): arcpy.management.Delete('BG_sites')\n",
    "bg_sites = arcpy.analysis.SpatialJoin(target_features=bgprj_fc,\n",
    "                           join_features=lcp_edges,\n",
    "                           out_feature_class='BG_sites',\n",
    "                           join_operation=\"JOIN_ONE_TO_ONE\", \n",
    "                           join_type=\"KEEP_COMMON\", \n",
    "                           match_option=\"WITHIN_A_DISTANCE\", \n",
    "                           search_radius=\"500 Meters\").getOutput(0)"
   ]
  },
  {
   "cell_type": "code",
   "execution_count": 43,
   "metadata": {},
   "outputs": [
    {
     "data": {
      "text/html": [
       "<div>\n",
       "<style scoped>\n",
       "    .dataframe tbody tr th:only-of-type {\n",
       "        vertical-align: middle;\n",
       "    }\n",
       "\n",
       "    .dataframe tbody tr th {\n",
       "        vertical-align: top;\n",
       "    }\n",
       "\n",
       "    .dataframe thead th {\n",
       "        text-align: right;\n",
       "    }\n",
       "</style>\n",
       "<table border=\"1\" class=\"dataframe\">\n",
       "  <thead>\n",
       "    <tr style=\"text-align: right;\">\n",
       "      <th></th>\n",
       "      <th>Edge_ID</th>\n",
       "      <th>Total_Potential_Methane_Yield_1</th>\n",
       "    </tr>\n",
       "  </thead>\n",
       "  <tbody>\n",
       "    <tr>\n",
       "      <th>0</th>\n",
       "      <td>105</td>\n",
       "      <td>1895.402385</td>\n",
       "    </tr>\n",
       "    <tr>\n",
       "      <th>1</th>\n",
       "      <td>555</td>\n",
       "      <td>203.029667</td>\n",
       "    </tr>\n",
       "    <tr>\n",
       "      <th>2</th>\n",
       "      <td>105</td>\n",
       "      <td>80.431709</td>\n",
       "    </tr>\n",
       "    <tr>\n",
       "      <th>3</th>\n",
       "      <td>211</td>\n",
       "      <td>991.060070</td>\n",
       "    </tr>\n",
       "    <tr>\n",
       "      <th>4</th>\n",
       "      <td>119</td>\n",
       "      <td>1684.802120</td>\n",
       "    </tr>\n",
       "  </tbody>\n",
       "</table>\n",
       "</div>"
      ],
      "text/plain": [
       "   Edge_ID  Total_Potential_Methane_Yield_1\n",
       "0      105                      1895.402385\n",
       "1      555                       203.029667\n",
       "2      105                        80.431709\n",
       "3      211                       991.060070\n",
       "4      119                      1684.802120"
      ]
     },
     "execution_count": 43,
     "metadata": {},
     "output_type": "execute_result"
    }
   ],
   "source": [
    "#Convert to Pnadas dataframe (via Numpy array)\n",
    "dfSites = pd.DataFrame(arcpy.da.TableToNumPyArray(in_table=bg_sites,\n",
    "                                                  field_names=['Edge_ID','Total_Potential_Methane_Yield_1']))\n",
    "dfSites.head()"
   ]
  },
  {
   "cell_type": "code",
   "execution_count": 44,
   "metadata": {},
   "outputs": [
    {
     "data": {
      "text/html": [
       "<div>\n",
       "<style scoped>\n",
       "    .dataframe tbody tr th:only-of-type {\n",
       "        vertical-align: middle;\n",
       "    }\n",
       "\n",
       "    .dataframe tbody tr th {\n",
       "        vertical-align: top;\n",
       "    }\n",
       "\n",
       "    .dataframe thead th {\n",
       "        text-align: right;\n",
       "    }\n",
       "</style>\n",
       "<table border=\"1\" class=\"dataframe\">\n",
       "  <thead>\n",
       "    <tr style=\"text-align: right;\">\n",
       "      <th></th>\n",
       "      <th>From_node</th>\n",
       "      <th>To_node</th>\n",
       "      <th>Yield_scf_h</th>\n",
       "    </tr>\n",
       "  </thead>\n",
       "  <tbody>\n",
       "    <tr>\n",
       "      <th>0</th>\n",
       "      <td>1</td>\n",
       "      <td>3</td>\n",
       "      <td>5450.830387</td>\n",
       "    </tr>\n",
       "    <tr>\n",
       "      <th>1</th>\n",
       "      <td>2</td>\n",
       "      <td>4</td>\n",
       "      <td>1874.747050</td>\n",
       "    </tr>\n",
       "    <tr>\n",
       "      <th>2</th>\n",
       "      <td>3</td>\n",
       "      <td>2</td>\n",
       "      <td>0.000000</td>\n",
       "    </tr>\n",
       "    <tr>\n",
       "      <th>3</th>\n",
       "      <td>4</td>\n",
       "      <td>-1</td>\n",
       "      <td>0.000000</td>\n",
       "    </tr>\n",
       "    <tr>\n",
       "      <th>4</th>\n",
       "      <td>5</td>\n",
       "      <td>13</td>\n",
       "      <td>5237.045262</td>\n",
       "    </tr>\n",
       "  </tbody>\n",
       "</table>\n",
       "</div>"
      ],
      "text/plain": [
       "   From_node  To_node  Yield_scf_h\n",
       "0          1        3  5450.830387\n",
       "1          2        4  1874.747050\n",
       "2          3        2     0.000000\n",
       "3          4       -1     0.000000\n",
       "4          5       13  5237.045262"
      ]
     },
     "execution_count": 44,
     "metadata": {},
     "output_type": "execute_result"
    }
   ],
   "source": [
    "#Join methane yield to edge list\n",
    "df_edgelist2 = pd.merge(left=df_edges,left_on='FromID',right=dfSites,right_on='Edge_ID',how='left')\n",
    "df_edgelist2.fillna(0,inplace=True)\n",
    "df_edgelist2.drop('Edge_ID',axis=1,inplace=True)\n",
    "df_edgelist2.columns = ['From_node','To_node','Yield_scf_h']\n",
    "df_edgelist2.head()"
   ]
  },
  {
   "cell_type": "code",
   "execution_count": 45,
   "metadata": {},
   "outputs": [],
   "source": [
    "#Write the edge list to a csv\n",
    "#arcpy.management.CopyFeatures(in_features=lcp_nodes,out_feature_class='LCP_nodes')\n",
    "df_edgelist2.to_csv('../scratch/EdgeList.csv',index=False)"
   ]
  },
  {
   "cell_type": "code",
   "execution_count": null,
   "metadata": {},
   "outputs": [],
   "source": []
  }
 ],
 "metadata": {
  "kernelspec": {
   "display_name": "Python 3",
   "language": "python",
   "name": "python3"
  },
  "language_info": {
   "codemirror_mode": {
    "name": "ipython",
    "version": 3
   },
   "file_extension": ".py",
   "mimetype": "text/x-python",
   "name": "python",
   "nbconvert_exporter": "python",
   "pygments_lexer": "ipython3",
   "version": "3.6.8"
  }
 },
 "nbformat": 4,
 "nbformat_minor": 2
}
