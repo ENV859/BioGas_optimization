{
 "cells": [
  {
   "cell_type": "code",
   "execution_count": 1,
   "metadata": {},
   "outputs": [],
   "source": [
    "import arcpy"
   ]
  },
  {
   "cell_type": "code",
   "execution_count": 2,
   "metadata": {},
   "outputs": [],
   "source": [
    "arcpy.env.workspace = '..\\\\scratch'\n",
    "arcpy.env.scratchWorkspace = '..\\\\scratch\\\\scratch.gdb'\n",
    "arcpy.env.overwriteOutput = True"
   ]
  },
  {
   "cell_type": "code",
   "execution_count": 3,
   "metadata": {},
   "outputs": [],
   "source": [
    "lcp_fc = 'LCPNetwork.shp'\n",
    "bgprj_fc = r'C:\\Workspace\\Gits\\BioGas_optimization\\OptimizeViewer\\OptimizeViewer.gdb\\Biogas_prj'"
   ]
  },
  {
   "cell_type": "code",
   "execution_count": 4,
   "metadata": {},
   "outputs": [],
   "source": [
    "#Convert vertices to points\n",
    "lcp_ends = arcpy.management.FeatureVerticesToPoints(in_features=lcp_fc,\n",
    "                                                    out_feature_class='LCP_ends',\n",
    "                                                    point_location='BOTH_ENDS').getOutput(0)"
   ]
  },
  {
   "cell_type": "code",
   "execution_count": 12,
   "metadata": {},
   "outputs": [],
   "source": [
    "#Dissolve the points\n",
    "lcp_ends_dslv = arcpy.management.Dissolve(lcp_ends, \n",
    "                                          \"LCP_ends_Dissolve\", \n",
    "                                          None, \n",
    "                                          None, \n",
    "                                          \"SINGLE_PART\", \n",
    "                                          ).getOutput(0)"
   ]
  },
  {
   "cell_type": "code",
   "execution_count": 13,
   "metadata": {},
   "outputs": [
    {
     "data": {
      "text/plain": [
       "<Result '..\\\\scratch\\\\LCP_ends_Dissolve.shp'>"
      ]
     },
     "execution_count": 13,
     "metadata": {},
     "output_type": "execute_result"
    }
   ],
   "source": [
    "#Add a unique ID field to the lcp_split\n",
    "arcpy.management.AddField(in_table=lcp_ends_dslv,\n",
    "                          field_name='PtID',\n",
    "                          field_type='SHORT')"
   ]
  },
  {
   "cell_type": "code",
   "execution_count": 15,
   "metadata": {},
   "outputs": [
    {
     "data": {
      "text/plain": [
       "<Result '..\\\\scratch\\\\LCP_ends_Dissolve.shp'>"
      ]
     },
     "execution_count": 15,
     "metadata": {},
     "output_type": "execute_result"
    }
   ],
   "source": [
    "arcpy.management.CalculateField(in_table=lcp_ends_dslv,\n",
    "                                field='PtID',\n",
    "                                expression='!FID!',\n",
    "                                expression_type='PYTHON3'\n",
    "                               )"
   ]
  },
  {
   "cell_type": "code",
   "execution_count": 25,
   "metadata": {},
   "outputs": [],
   "source": [
    "#Spatially join the BG source ID to the Pts\n",
    "lcp_ends = arcpy.analysis.SpatialJoin(target_features=lcp_ends_dslv, \n",
    "                           join_features=bgprj_fc, \n",
    "                           out_feature_class='LCP_ends2', \n",
    "                           join_operation=\"JOIN_ONE_TO_ONE\", \n",
    "                           join_type=\"KEEP_ALL\", \n",
    "                           field_mapping=('Id \"Id\" true true false 6 Long 0 6,First,#,LCP_ends_Dissolve,Id,-1,-1;'+\n",
    "                                          'PtID \"PtID\" true true false 5 Long 0 5,First,#,LCP_ends_Dissolve,PtID,-1,-1;'+\n",
    "                                          'Total_Potential_Methane_Yield_1 \"Total Potential Methane Yield (scf/h)\" true true false 8 Double 0 0,First,#,Biogas_Prj,Total_Potential_Methane_Yield_1,-1,-1'), \n",
    "                           match_option=\"WITHIN_A_DISTANCE\", \n",
    "                           search_radius=\"500 Meters\").getOutput(0)"
   ]
  },
  {
   "cell_type": "code",
   "execution_count": 27,
   "metadata": {},
   "outputs": [],
   "source": [
    "#Split the LCP at the vertices\n",
    "lcp_split = arcpy.management.SplitLineAtPoint(in_features=lcp_fc,\n",
    "                                              point_features=lcp_ends_dslv,\n",
    "                                              out_feature_class='LCP_split',\n",
    "                                              search_radius='500 meters').getOutput(0)"
   ]
  },
  {
   "cell_type": "code",
   "execution_count": 29,
   "metadata": {},
   "outputs": [],
   "source": [
    "#Spatially join the vertices to the lines\n",
    "lcp_edges = arcpy.analysis.SpatialJoin(target_features=lcp_split,\n",
    "                                       join_features=lcp_ends_dslv,\n",
    "                                       out_feature_class='lcp_join',\n",
    "                                       join_operation='JOIN_ONE_TO_MANY',\n",
    "                                       match_option='INTERSECT',\n",
    "                                       search_radius='500 meters'\n",
    "                                      ).getOutput(0)"
   ]
  },
  {
   "cell_type": "code",
   "execution_count": 10,
   "metadata": {},
   "outputs": [
    {
     "data": {
      "text/plain": [
       "'..\\\\scratch\\\\lcp_join.shp'"
      ]
     },
     "execution_count": 10,
     "metadata": {},
     "output_type": "execute_result"
    }
   ],
   "source": [
    "#Spatially join the biogas source to the lines\n"
   ]
  }
 ],
 "metadata": {
  "kernelspec": {
   "display_name": "Python 3",
   "language": "python",
   "name": "python3"
  },
  "language_info": {
   "codemirror_mode": {
    "name": "ipython",
    "version": 3
   },
   "file_extension": ".py",
   "mimetype": "text/x-python",
   "name": "python",
   "nbconvert_exporter": "python",
   "pygments_lexer": "ipython3",
   "version": "3.6.8"
  }
 },
 "nbformat": 4,
 "nbformat_minor": 2
}
