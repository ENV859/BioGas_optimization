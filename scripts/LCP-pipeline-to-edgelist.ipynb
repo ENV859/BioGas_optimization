{
 "cells": [
  {
   "cell_type": "markdown",
   "metadata": {},
   "source": [
    "### Workflow\n",
    "1. Extract the start and end vertices from each path feature in the LCP pipeline network --> Nodes\n",
    "1. Dissolve these to eliminate overlappiung duplicates.\n",
    "1. Add a unique value to each node\n",
    "1. Split the path features by these nodes; these will become our edges\n",
    "1. Spatially join the node feature IDs to the "
   ]
  },
  {
   "cell_type": "code",
   "execution_count": 1,
   "metadata": {},
   "outputs": [],
   "source": [
    "#Imports\n",
    "import arcpy\n",
    "import numpy as np\n",
    "import pandas as pd"
   ]
  },
  {
   "cell_type": "code",
   "execution_count": 2,
   "metadata": {},
   "outputs": [],
   "source": [
    "#Set arcpy environments\n",
    "arcpy.env.workspace = '..\\\\scratch\\\\scratch.gdb'\n",
    "arcpy.env.scratchWorkspace = '..\\\\scratch\\\\scratch.gdb'\n",
    "arcpy.env.overwriteOutput = True"
   ]
  },
  {
   "cell_type": "code",
   "execution_count": 3,
   "metadata": {},
   "outputs": [],
   "source": [
    "#Set inputs\n",
    "lcp_fc = '..\\\\scratch\\\\LCPNetwork.shp'                          # LCP feature class\n",
    "bgprj_fc = '..\\\\OptimizeViewer\\\\OptimizeViewer.gdb\\\\Biogas_prj' # Biogas source locations, w/attributes"
   ]
  },
  {
   "cell_type": "code",
   "execution_count": 4,
   "metadata": {},
   "outputs": [],
   "source": [
    "#Convert LCP vertices to points\n",
    "lcp_ends = arcpy.management.FeatureVerticesToPoints(in_features=lcp_fc,\n",
    "                                                    out_feature_class='memory/LCP_vertices',\n",
    "                                                    point_location='BOTH_ENDS').getOutput(0)"
   ]
  },
  {
   "cell_type": "code",
   "execution_count": 5,
   "metadata": {},
   "outputs": [],
   "source": [
    "#Dissolve the points\n",
    "lcp_nodes = arcpy.management.Dissolve(in_features=lcp_ends, \n",
    "                                      out_feature_class=\"memory/LCP_nodes\", \n",
    "                                      multi_part=\"SINGLE_PART\").getOutput(0)"
   ]
  },
  {
   "cell_type": "code",
   "execution_count": 6,
   "metadata": {},
   "outputs": [
    {
     "data": {
      "text/plain": [
       "<Result 'memory\\\\LCP_nodes'>"
      ]
     },
     "execution_count": 6,
     "metadata": {},
     "output_type": "execute_result"
    }
   ],
   "source": [
    "#Add a unique ID field to the lcp_split\n",
    "arcpy.management.AddField(in_table=lcp_nodes,field_name='Node_ID',field_type='SHORT')\n",
    "#Compute the unique ID field as the FID\n",
    "arcpy.management.CalculateField(in_table=lcp_nodes, field='Node_ID',\n",
    "                                expression='!OBJECTID!',expression_type='PYTHON3')"
   ]
  },
  {
   "cell_type": "code",
   "execution_count": 12,
   "metadata": {},
   "outputs": [
    {
     "data": {
      "text/plain": [
       "<Result 'true'>"
      ]
     },
     "execution_count": 12,
     "metadata": {},
     "output_type": "execute_result"
    }
   ],
   "source": [
    "#Split the LCP at the vertices\n",
    "lcp_split = arcpy.management.SplitLineAtPoint(in_features=lcp_fc,\n",
    "                                              point_features=lcp_nodes,\n",
    "                                              out_feature_class='LCP_split_all',\n",
    "                                              search_radius='10 meters').getOutput(0)\n",
    "\n",
    "#Remove features with no length\n",
    "lcp_split = arcpy.analysis.Select(in_features=lcp_split,\n",
    "                                  out_feature_class='memory/LCP_split_keep',\n",
    "                                  where_clause=\"Shape_Length > 0\"\n",
    "                                 ).getOutput(0)\n",
    "\n",
    "#Remove the temp dataset\n",
    "arcpy.management.Delete('LCP_split_all')"
   ]
  },
  {
   "cell_type": "code",
   "execution_count": 13,
   "metadata": {},
   "outputs": [],
   "source": [
    "#Spatially join the nodes to the lines\n",
    "if (arcpy.Exists('lcp_edges')): arcpy.management.Delete('lcp_edges')\n",
    "lcp_edges = arcpy.analysis.SpatialJoin(target_features=lcp_split,\n",
    "                                       join_features=lcp_nodes,\n",
    "                                       out_feature_class='lcp_edges',\n",
    "                                       join_operation='JOIN_ONE_TO_MANY',\n",
    "                                       match_option='WITHIN_A_DISTANCE',\n",
    "                                       search_radius='50 meters'\n",
    "                                      ).getOutput(0)"
   ]
  },
  {
   "cell_type": "markdown",
   "metadata": {},
   "source": [
    "The `lcp_edges` feature class now includes two features for each segment in the LCP network. The two segments share the same `TARGET_FID` value, and the `PtID` value corresponds to the node on either side. So we can construct an edge list by pivoting the attribute table: row  = `TARGET_FID` and column = `PtID`..."
   ]
  },
  {
   "cell_type": "code",
   "execution_count": 14,
   "metadata": {},
   "outputs": [],
   "source": [
    "#Convert the table to a numpy array\n",
    "arr_edges = arcpy.da.TableToNumPyArray(in_table=lcp_edges,field_names=['TARGET_FID','Node_ID'])\n",
    "\n",
    "#And to a Pandas dataframe\n",
    "df_edges = pd.DataFrame(arr_edges)"
   ]
  },
  {
   "cell_type": "code",
   "execution_count": 38,
   "metadata": {},
   "outputs": [
    {
     "name": "stdout",
     "output_type": "stream",
     "text": [
      "all good!\n"
     ]
    }
   ],
   "source": [
    "#Ensure there are no more than two nodes for each edge\n",
    "df_edges_count = df_edges.groupby('TARGET_FID').count()\n",
    "if ((df_edges_count.Node_ID > 2).sum() == 0 & (df_edges_count.Node_ID > 2).sum() == 0) :\n",
    "    print(\"all good!\")\n",
    "else: print (\"Check values!\")"
   ]
  },
  {
   "cell_type": "code",
   "execution_count": 39,
   "metadata": {},
   "outputs": [],
   "source": [
    "#Get start node values to a column\n",
    "df_edge1 = df_edges.groupby('TARGET_FID').agg('first')\n",
    "df_edge2 = df_edges.groupby('TARGET_FID').agg('last')\n",
    "df_edgelist = df_edge1.join(df_edge2,lsuffix='From',rsuffix='To')"
   ]
  },
  {
   "cell_type": "code",
   "execution_count": null,
   "metadata": {},
   "outputs": [],
   "source": [
    "#Join the \n",
    "arr_nodes = arcpy.da.TableToNumPyArray(in_table=lcp_ends,field_names['Total_Pote','ORIG_FID'])"
   ]
  },
  {
   "cell_type": "code",
   "execution_count": 69,
   "metadata": {},
   "outputs": [],
   "source": [
    "#Spatially join the Node IDs to the BG points\n",
    "bg_sites = arcpy.analysis.SpatialJoin(target_features=bgprj_fc,\n",
    "                           join_features=lcp_nodes,\n",
    "                           out_feature_class='memory/BG_sites',\n",
    "                           join_operation=\"JOIN_ONE_TO_ONE\", \n",
    "                           join_type=\"KEEP_COMMON\", \n",
    "                           match_option=\"WITHIN_A_DISTANCE\", \n",
    "                           search_radius=\"100 Meters\").getOutput(0)"
   ]
  },
  {
   "cell_type": "code",
   "execution_count": 74,
   "metadata": {},
   "outputs": [
    {
     "data": {
      "text/html": [
       "<div>\n",
       "<style scoped>\n",
       "    .dataframe tbody tr th:only-of-type {\n",
       "        vertical-align: middle;\n",
       "    }\n",
       "\n",
       "    .dataframe tbody tr th {\n",
       "        vertical-align: top;\n",
       "    }\n",
       "\n",
       "    .dataframe thead th {\n",
       "        text-align: right;\n",
       "    }\n",
       "</style>\n",
       "<table border=\"1\" class=\"dataframe\">\n",
       "  <thead>\n",
       "    <tr style=\"text-align: right;\">\n",
       "      <th></th>\n",
       "      <th>Node_ID</th>\n",
       "      <th>Total_Potential_Methane_Yield_1</th>\n",
       "    </tr>\n",
       "  </thead>\n",
       "  <tbody>\n",
       "    <tr>\n",
       "      <th>0</th>\n",
       "      <td>576</td>\n",
       "      <td>357.493608</td>\n",
       "    </tr>\n",
       "    <tr>\n",
       "      <th>1</th>\n",
       "      <td>555</td>\n",
       "      <td>421.200530</td>\n",
       "    </tr>\n",
       "    <tr>\n",
       "      <th>2</th>\n",
       "      <td>158</td>\n",
       "      <td>309.706272</td>\n",
       "    </tr>\n",
       "    <tr>\n",
       "      <th>3</th>\n",
       "      <td>605</td>\n",
       "      <td>399.176973</td>\n",
       "    </tr>\n",
       "    <tr>\n",
       "      <th>4</th>\n",
       "      <td>507</td>\n",
       "      <td>443.912323</td>\n",
       "    </tr>\n",
       "  </tbody>\n",
       "</table>\n",
       "</div>"
      ],
      "text/plain": [
       "   Node_ID  Total_Potential_Methane_Yield_1\n",
       "0      576                       357.493608\n",
       "1      555                       421.200530\n",
       "2      158                       309.706272\n",
       "3      605                       399.176973\n",
       "4      507                       443.912323"
      ]
     },
     "execution_count": 74,
     "metadata": {},
     "output_type": "execute_result"
    }
   ],
   "source": [
    "#Convert to Pnadas dataframe (via Numpy array)\n",
    "dfSites = pd.DataFrame(arcpy.da.TableToNumPyArray(in_table=bg_sites,\n",
    "                                                  field_names=['Node_ID','Total_Potential_Methane_Yield_1']))\n",
    "dfSites.head()"
   ]
  },
  {
   "cell_type": "code",
   "execution_count": 81,
   "metadata": {},
   "outputs": [
    {
     "data": {
      "text/html": [
       "<div>\n",
       "<style scoped>\n",
       "    .dataframe tbody tr th:only-of-type {\n",
       "        vertical-align: middle;\n",
       "    }\n",
       "\n",
       "    .dataframe tbody tr th {\n",
       "        vertical-align: top;\n",
       "    }\n",
       "\n",
       "    .dataframe thead th {\n",
       "        text-align: right;\n",
       "    }\n",
       "</style>\n",
       "<table border=\"1\" class=\"dataframe\">\n",
       "  <thead>\n",
       "    <tr style=\"text-align: right;\">\n",
       "      <th></th>\n",
       "      <th>From_node</th>\n",
       "      <th>To_node</th>\n",
       "      <th>Yield_scf_y</th>\n",
       "    </tr>\n",
       "  </thead>\n",
       "  <tbody>\n",
       "    <tr>\n",
       "      <th>0</th>\n",
       "      <td>33</td>\n",
       "      <td>34</td>\n",
       "      <td>0.0</td>\n",
       "    </tr>\n",
       "    <tr>\n",
       "      <th>1</th>\n",
       "      <td>25</td>\n",
       "      <td>34</td>\n",
       "      <td>0.0</td>\n",
       "    </tr>\n",
       "    <tr>\n",
       "      <th>2</th>\n",
       "      <td>5</td>\n",
       "      <td>25</td>\n",
       "      <td>0.0</td>\n",
       "    </tr>\n",
       "    <tr>\n",
       "      <th>3</th>\n",
       "      <td>1</td>\n",
       "      <td>5</td>\n",
       "      <td>0.0</td>\n",
       "    </tr>\n",
       "    <tr>\n",
       "      <th>4</th>\n",
       "      <td>216</td>\n",
       "      <td>245</td>\n",
       "      <td>0.0</td>\n",
       "    </tr>\n",
       "  </tbody>\n",
       "</table>\n",
       "</div>"
      ],
      "text/plain": [
       "   From_node  To_node  Yield_scf_y\n",
       "0         33       34          0.0\n",
       "1         25       34          0.0\n",
       "2          5       25          0.0\n",
       "3          1        5          0.0\n",
       "4        216      245          0.0"
      ]
     },
     "execution_count": 81,
     "metadata": {},
     "output_type": "execute_result"
    }
   ],
   "source": [
    "#Join methane yield to edge list\n",
    "df_edgelist2 = pd.merge(left=df_edgelist,left_on='Node_IDFrom',right=dfSites,right_on='Node_ID',how='left')\n",
    "df_edgelist2.fillna(0,inplace=True)\n",
    "df_edgelist2.drop('Node_ID',axis=1,inplace=True)\n",
    "df_edgelist2.columns = ['From_node','To_node','Yield_scf_y']\n",
    "df_edgelist2.head()"
   ]
  },
  {
   "cell_type": "code",
   "execution_count": 82,
   "metadata": {},
   "outputs": [],
   "source": [
    "#Write the edge list to a csv\n",
    "df_edgelist2.to_csv('../scratch/EdgeList.csv',index=False)"
   ]
  }
 ],
 "metadata": {
  "kernelspec": {
   "display_name": "Python 3",
   "language": "python",
   "name": "python3"
  },
  "language_info": {
   "codemirror_mode": {
    "name": "ipython",
    "version": 3
   },
   "file_extension": ".py",
   "mimetype": "text/x-python",
   "name": "python",
   "nbconvert_exporter": "python",
   "pygments_lexer": "ipython3",
   "version": "3.6.8"
  }
 },
 "nbformat": 4,
 "nbformat_minor": 2
}
