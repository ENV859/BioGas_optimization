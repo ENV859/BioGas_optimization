{
 "cells": [
  {
   "cell_type": "markdown",
   "metadata": {},
   "source": [
    "### Cumulative Pipeline Creation\n",
    "#### Objective: \n",
    "From the least cost pipeline network created in `LC-Pipeline-Construction`, create nodes where pipelines from different sources merge and label each pipeline segment with the cumulative amound of methane transported through it. \n",
    "\n",
    "#### Workflow:\n",
    "1. Create a flow direction raster from the LCP and the connection point feature classes:\n",
    "    * Convert the LCP feature class to a raster, using the \"Order\" attribute to assign values\n",
    "    * Compute cost distance and cost traceback rasters away from the connection point. \n",
    "    * Convert the traceback raster computed above into a flow direction raster.\n",
    "2. Create a flow accumulation weight raster from the biogas sources:\n",
    "    * Convert the traceback raster to a polyline feature class (via stream to feature)\n",
    "    * Snap the Biogas Source features to the polyline feature class\n",
    "    * Convert the snapped biogas source to a raster, using the Estimated throughput as the value\n",
    "    * Set null values in the above raster that fall along the flow direction raster to zero. \n",
    "3. Compute weighted flow accumulation and convert back to a polyline feature class\n",
    "    * Compute weighted flow accumulation using the flow direction and biogas source weights.\n",
    "    * Convert the weighted flow accumulation to a polyline feature class via stream to feature.\n",
    "    \n",
    "#### Data inputs:\n",
    "* LCP polyline feature class\n",
    "* Connection point feature class"
   ]
  },
  {
   "cell_type": "code",
   "execution_count": 8,
   "metadata": {},
   "outputs": [
    {
     "data": {
      "text/plain": [
       "'CheckedOut'"
      ]
     },
     "execution_count": 8,
     "metadata": {},
     "output_type": "execute_result"
    }
   ],
   "source": [
    "#Import packages\n",
    "import arcpy\n",
    "from arcpy import sa\n",
    "arcpy.CheckOutExtension('Spatial')"
   ]
  },
  {
   "cell_type": "code",
   "execution_count": 2,
   "metadata": {},
   "outputs": [],
   "source": [
    "#Set folders\n",
    "import os\n",
    "scriptsDir = os.getcwd()\n",
    "rootDir = os.path.dirname(scriptsDir)\n",
    "scratchDir = os.path.join(rootDir,\"scratch\")\n",
    "scratchGDB = os.path.join(scratchDir,'scratch.gdb')"
   ]
  },
  {
   "cell_type": "code",
   "execution_count": 53,
   "metadata": {},
   "outputs": [],
   "source": [
    "#Set inputs\n",
    "lcp_fc = os.path.join(scratchDir,'LCPNetwork.shp')\n",
    "connect_fc =  os.path.join(scratchDir,'ConnectionPoint.shp')\n",
    "biogas_fc =  os.path.join(rootDir,'OptimizeViewer','OptimizeViewer.gdb','Biogas_Prj')\n",
    "#Set the output feature class name\n",
    "lcpnet_fc = os.path.join(scratchDir,'LCPNetwork_Flow.shp')"
   ]
  },
  {
   "cell_type": "code",
   "execution_count": 35,
   "metadata": {},
   "outputs": [],
   "source": [
    "#Set arcpy environments\n",
    "arcpy.env.overwriteOutput = True\n",
    "arcpy.env.workspace =  scratchGDB\n",
    "arcpy.env.scratchWorkspace = scratchGDB\n",
    "arcpy.env.cellSize = 500\n",
    "arcpy.env.extent = lcp_fc"
   ]
  },
  {
   "cell_type": "code",
   "execution_count": 48,
   "metadata": {},
   "outputs": [],
   "source": [
    "#Set temp filenames\n",
    "lcp_raster = 'LCP_raster'\n",
    "cdist_raster = 'LCP_cdist'\n",
    "blink_raster = 'LCP_blink'\n",
    "lcp_lines = 'LCP_pathline'\n",
    "biogas_snapped = 'Biogas_Snapped'\n",
    "bgSrc_raster = 'Biogas_Raster'"
   ]
  },
  {
   "cell_type": "code",
   "execution_count": 6,
   "metadata": {},
   "outputs": [],
   "source": [
    "#Convert LCP fc to a raster at 100 m cell size\n",
    "lcp_raster = arcpy.conversion.PolylineToRaster(in_features=lcp_fc,\n",
    "                                               value_field='Order',\n",
    "                                               out_rasterdataset=lcp_raster,\n",
    "                                               priority_field='Order',\n",
    "                                               cellsize='500')"
   ]
  },
  {
   "cell_type": "code",
   "execution_count": 11,
   "metadata": {},
   "outputs": [],
   "source": [
    "#Compute cost distance to connection point\n",
    "cdist_output = arcpy.sa.CostDistance(in_source_data=connect_fc,\n",
    "                                     in_cost_raster=lcp_raster,\n",
    "                                     out_backlink_raster = blink_raster)"
   ]
  },
  {
   "cell_type": "code",
   "execution_count": 13,
   "metadata": {},
   "outputs": [],
   "source": [
    "#Convert backlink to flow direction\n",
    "flow_dir = sa.Int(sa.Exp2(blink_raster) / 2)"
   ]
  },
  {
   "cell_type": "code",
   "execution_count": 22,
   "metadata": {},
   "outputs": [],
   "source": [
    "#Create \"stream polyline\" from flow dir raster\n",
    "stream_fc = sa.StreamToFeature(in_stream_raster=flow_dir,\n",
    "                               in_flow_direction_raster=flow_dir,\n",
    "                               out_polyline_features=lcp_lines,\n",
    "                               simplify='NO_SIMPLIFY').getoutput(0)"
   ]
  },
  {
   "cell_type": "code",
   "execution_count": 57,
   "metadata": {},
   "outputs": [
    {
     "data": {
      "text/plain": [
       "<Result 'C:\\\\Workspace\\\\Gits\\\\BioGas_optimization\\\\scratch\\\\scratch.gdb\\\\Biogas_Snapped'>"
      ]
     },
     "execution_count": 57,
     "metadata": {},
     "output_type": "execute_result"
    }
   ],
   "source": [
    "#Snap biogas source points to the network\n",
    "#Copy the features first...\n",
    "arcpy.management.CopyFeatures(in_features=biogas_fc, out_feature_class=biogas_snapped)\n",
    "#Snap the features...\n",
    "arcpy.edit.Snap(biogas_snapped,[[stream_fc,'EDGE','1500 Meters']])"
   ]
  },
  {
   "cell_type": "code",
   "execution_count": 58,
   "metadata": {},
   "outputs": [
    {
     "data": {
      "text/plain": [
       "<Result 'C:\\\\Workspace\\\\Gits\\\\BioGas_optimization\\\\scratch\\\\scratch.gdb\\\\Biogas_Raster'>"
      ]
     },
     "execution_count": 58,
     "metadata": {},
     "output_type": "execute_result"
    }
   ],
   "source": [
    "#Convert snapped back to raster, using the \"Total_Potential_Methane_Yield_1\" as the value\n",
    "arcpy.conversion.PointToRaster(in_features=biogas_snapped,\n",
    "                               value_field='Total_Potential_Methane_Yield_1',\n",
    "                               out_rasterdataset=bgSrc_raster,\n",
    "                               cell_assignment='SUM')"
   ]
  },
  {
   "cell_type": "code",
   "execution_count": 59,
   "metadata": {},
   "outputs": [],
   "source": [
    "#Set null values to zero\n",
    "bgSrc_weight_raster = sa.Con(sa.IsNull(bgSrc_raster),0,bgSrc_raster)"
   ]
  },
  {
   "cell_type": "code",
   "execution_count": 60,
   "metadata": {},
   "outputs": [],
   "source": [
    "#Compute flow accumulation \n",
    "bgSrc_accum = sa.FlowAccumulation(in_flow_direction_raster=flow_dir,\n",
    "                                  in_weight_raster=bgSrc_weight_raster,\n",
    "                                  data_type='float',\n",
    "                                  flow_direction_type='D8')"
   ]
  },
  {
   "cell_type": "code",
   "execution_count": 61,
   "metadata": {},
   "outputs": [],
   "source": [
    "#Add the original weights and convert to integer\n",
    "bcSrc_accum_2 = sa.Int(bgSrc_accum + bgSrc_weight_raster)"
   ]
  },
  {
   "cell_type": "code",
   "execution_count": 63,
   "metadata": {},
   "outputs": [],
   "source": [
    "#Convert accumulation to a feature class\n",
    "final_fc = sa.StreamToFeature(in_stream_raster=bcSrc_accum_2,\n",
    "                               in_flow_direction_raster=flow_dir,\n",
    "                               out_polyline_features=lcpnet_fc,\n",
    "                               simplify='NO_SIMPLIFY').getoutput(0)"
   ]
  },
  {
   "cell_type": "code",
   "execution_count": 64,
   "metadata": {},
   "outputs": [],
   "source": [
    "bcSrc_accum_2.save('LCPFlow_raster')"
   ]
  },
  {
   "cell_type": "code",
   "execution_count": 65,
   "metadata": {},
   "outputs": [],
   "source": [
    "bgSrc_weight_raster.save('bgSrcWts')"
   ]
  }
 ],
 "metadata": {
  "kernelspec": {
   "display_name": "Python 3",
   "language": "python",
   "name": "python3"
  },
  "language_info": {
   "codemirror_mode": {
    "name": "ipython",
    "version": 3
   },
   "file_extension": ".py",
   "mimetype": "text/x-python",
   "name": "python",
   "nbconvert_exporter": "python",
   "pygments_lexer": "ipython3",
   "version": "3.6.8"
  }
 },
 "nbformat": 4,
 "nbformat_minor": 2
}
