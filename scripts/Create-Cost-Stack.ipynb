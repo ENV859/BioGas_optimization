{
 "cells": [
  {
   "cell_type": "markdown",
   "metadata": {},
   "source": [
    "## Create Cost Stack \n",
    "This code reads in a **table of biogas sources** -- including coordinates, estimated methane production costs (`$/MMBtu`), and pipeline delivery costs (`$/mi-MMBtu @15y`) -- and a **raster cost surface**, with units of mulitpliers (in percent) applied to building a section of pipeline through that cell. \n",
    "\n",
    "The code iterates through each biogas source and develops a least cost distance surface away from that source such that each pixel's value represents the aggregate cost to deliver 1 MMbtu of methane and to that pixel's location. The result is a stack of these cost distance surfaces, one for each biogas source. \n",
    "\n",
    "The minimum value from the set of all cost distance surfaces represents the minimum cost to deliver methane to that site (from any source). It can be thresholded (select all cells below a set minimum cost) to identify all areas that are cost effective to connect at a set price point. This would also identify other biogas sources that, alone, are not cost effective, but when considered alongside other sites, become cost effective. \n",
    "\n",
    "This notebook also saves both the stack of cost surfaces and cost distances surfaces to numpy export files (`DuplinCostStack.npy` and `DuplinStack.npy`, respectively). These are used in later notebooks that carry the analysis forward.\n",
    "\n",
    "\n",
    "Summer 2019, john.fay@duke.edu"
   ]
  },
  {
   "cell_type": "markdown",
   "metadata": {},
   "source": [
    "#### 1. Load packages\n",
    "The Conda environment required to run this script is provided in the project root folder: [`bg_optimi.yml`](https://raw.githubusercontent.com/johnpfay/BioGas_optimization/master/bg_optimi.yml). "
   ]
  },
  {
   "cell_type": "code",
   "execution_count": null,
   "metadata": {},
   "outputs": [],
   "source": [
    "#Import packages\n",
    "import os                                   # operating system utilities\n",
    "import numpy as np                          # to process arrays\n",
    "import pandas as pd                         # to process data frames\n",
    "from skimage import graph                   # to compute least cost paths\n",
    "from osgeo import gdal                      # to process spatially referenced rasters\n",
    "import geopandas as gpd                     # to process geo-data frames\n",
    "from shapely.geometry import Point          # to process spatial features\n",
    "#Plotting packages\n",
    "import matplotlib.pyplot as plt             # to construct figures\n",
    "from matplotlib import cm                   # colormaps for figures\n",
    "from mpl_toolkits.mplot3d import Axes3D     # to construct 3d figures"
   ]
  },
  {
   "cell_type": "markdown",
   "metadata": {},
   "source": [
    "#### 2. Read in the cost surface\n",
    "The cost surface is a georeferenced raster (`img` format). Here, we read the file into a gdal data source object, from which we extract the file's projection (`ds_prj`) and its affine transformation parameters (lower left coordinate, angle, and pixel size).\n",
    "\n",
    "The original raster here are in percentage values so we divide by 100 to convert to decimal values."
   ]
  },
  {
   "cell_type": "code",
   "execution_count": null,
   "metadata": {},
   "outputs": [],
   "source": [
    "#Read in cost surface data source\n",
    "ds =  gdal.Open('../data/MIT_Surface_Subset/MIT_CostSurface_500m.img')\n",
    "#Get the raster projection\n",
    "ds_prj = ds.GetProjection()\n",
    "#Get raster attributes\n",
    "llx, x_size, x_angle, lly, y_angle, y_size = ds.GetGeoTransform()\n",
    "#Extract Band1 as the cost array; divide by 100 to scale as a percentage\n",
    "arrCost = np.array(ds.GetRasterBand(1).ReadAsArray()) / 100\n",
    "#Print info\n",
    "print(\"Lower left coordinate = ({0:.8f},{1:.8f})\".format(llx,lly))\n",
    "print(\"Pixel size is {0:.1f}(x), {1:.1f}(y)\".format(x_size,y_size))\n",
    "print(\"Values range from {} to {}\".format(arrCost.min(),arrCost.max()))"
   ]
  },
  {
   "cell_type": "markdown",
   "metadata": {},
   "source": [
    "Null [NoData] values in the input are areas of infinite costs. The algorithm used to compute LCPs doesn't like null values, so we conver them to exceedingly high values (the max cost raised an order of magnitude) to mimic the same effect. "
   ]
  },
  {
   "cell_type": "code",
   "execution_count": null,
   "metadata": {},
   "outputs": [],
   "source": [
    "#Set zero cost multiplier to high costs (max X 10)\n",
    "arrCost[arrCost == 0] = arrCost.max() * 10"
   ]
  },
  {
   "cell_type": "markdown",
   "metadata": {},
   "source": [
    "#### 3. Read in the biogas source data\n",
    "Here, we read in the biogas source data, held in an Excel worksheet called `Duplin County Swine Farm Master` in the Excel file called `DuplinCountySwineFarmEconomics.xlsx`. Instead of reading in all columns, we just read in select columns (ones indexed at 11,12,17,19,22).\n",
    "\n",
    "Once imported, we sort the table on cost ($/mi-MMBtu @15y) so that least cost biogas sources are evaluated first. This shouldn't affect the analysis to compute the overall minimum, but it's helpful for reviewing the results. "
   ]
  },
  {
   "cell_type": "code",
   "execution_count": null,
   "metadata": {},
   "outputs": [],
   "source": [
    "#Read in biogas sources (example: Duplin Co)\n",
    "dfBG =  pd.read_excel('../data/DuplinCountySwineFarmEconomics.xlsx',\n",
    "                         sheet_name='Duplin County Swine Farm Master').iloc[:,[11,12,17,19,22]]\n",
    "#Sort values in ascending order by cost to pipe\n",
    "dfBG.sort_values(by='TEST ($/mi-MMBtu @15y)',ascending=True,inplace=True)\n",
    "#Display the first 5 rows of data\n",
    "dfBG.head()"
   ]
  },
  {
   "cell_type": "markdown",
   "metadata": {},
   "source": [
    "We'll need to align these point features, referenced to a geographic coordinate system, to the array coordinates (row and column values), and thus we'll have to project these data to the same coordinate system used by the cost surface. \n",
    "\n",
    "The first step in this is to convert the raw data to geographic features, done by converting the dataframe to a geopandas geo-dataframe and defining its coordinate reference system ([4269](https://spatialreference.org/ref/epsg/4269/) is NAD 83 geographic coordinate system)"
   ]
  },
  {
   "cell_type": "code",
   "execution_count": null,
   "metadata": {},
   "outputs": [],
   "source": [
    "#Convert to a geopandas dataframe (for easy reprojecting)\n",
    "geom = [Point(xy) for xy in zip(dfBG.iloc[:,1],dfBG.iloc[:,0])] #Create the geometry objects\n",
    "gdfBG = gpd.GeoDataFrame(dfBG, geometry = geom)                 #Convert to a geodataframe\n",
    "gdfBG.crs = {'init':'epsg:4269'}                                #Set the projection (NAD 1983)\n",
    "#gdfBG.to_file('../data/DuplinSites_LL.shp')                     #Save to a file"
   ]
  },
  {
   "cell_type": "markdown",
   "metadata": {},
   "source": [
    "Now we can re-project these point features to the same coordinate system as the cost surface. (Or if the reprojected file already exists, we can read that file in and save some time). We'll also include new fields to store the x- and y-offsets, i.e., the column and row references used to link the features to the image as an array. "
   ]
  },
  {
   "cell_type": "code",
   "execution_count": null,
   "metadata": {},
   "outputs": [],
   "source": [
    "#Re-project the points to match the raster (takes a moment...)\n",
    "projFeaturesFilename = '../data/DuplinSites_Prj.shp'\n",
    "if os.path.exists(projFeaturesFilename):\n",
    "    print(\"Using existing file.\")\n",
    "    gdfBG_prj = gpd.read_file(projFeaturesFilename) \n",
    "else:\n",
    "    print(\"Reprojecting data\",end='')\n",
    "    #Create the CRS matching the input raster (lookup https://spatialreference.org/ref/esri/102010/)\n",
    "    outCRS = {'proj': 'eqdc', 'lat_0': 40, 'lon_0': -96, 'lat_1': 20, 'lat_2': 60, \n",
    "              'x_0': 0, 'y_0': 0, 'datum': 'NAD83', 'units': 'm', 'no_defs': True}\n",
    "    gdfBG_prj = gdfBG.to_crs(outCRS)\n",
    "    #Add columns for xOffset (columns) and yOffset (rows)\n",
    "    gdfBG_prj['xOffset'] = gdfBG_prj['geometry'].apply(lambda x: int(((x.x - llx)/x_size)))\n",
    "    gdfBG_prj['yOffset'] = gdfBG_prj['geometry'].apply(lambda x: int(((x.y - lly)/y_size))) \n",
    "    #Save to file\n",
    "    print(\" and saving to {}\".format(projFeaturesFilename))\n",
    "    gdfBG_prj.to_file(projFeaturesFilename)   "
   ]
  },
  {
   "cell_type": "markdown",
   "metadata": {},
   "source": [
    "#### 4. Compute least cost distance arrays for each biogas source.\n",
    "Here, we iterate through each biogas source feature, first constructing an adjusted cost surface (by multiplying the general cost surface by the source's computed pipeline cost factor (column 5), and then computing a minimum cost path from the pixel where the source occurs (xOffset,yOffset) outward. \n",
    "\n",
    "At each iteration, the cost surface and cost distance surface are added to its respective list, and once all sources are run, the list is converted into an stacked array and save to a file. "
   ]
  },
  {
   "cell_type": "code",
   "execution_count": null,
   "metadata": {},
   "outputs": [],
   "source": [
    "#Iterate through all biogas site rows and create a cost distance raster\n",
    "cost_arrays = [] #Cost arrays\n",
    "cd_arrays = []   #Cost distance arrays, min cost distance back to source\n",
    "tb_arrays = []   #Traceback arrays, for creating the least cost path\n",
    "\n",
    "for i,r in gdfBG_prj.iterrows():\n",
    "    xOffset = r['xOffset']    #get the array x coordinate of the biogas source\n",
    "    yOffset = r['yOffset']    #get the array y coordinate of the biogas soruce\n",
    "    z = r[4] / 1609.34        #Get the pipeline cost (5th col) & convert from $/mile to $/meter\n",
    "    base_cost = r[3]          #Get the base production cost (4th col)\n",
    "    \n",
    "    #Create the minimum cost path (MCP) surface, setting the distance between pixels to cell sizes\n",
    "    lc_graph = graph.MCP_Geometric(arrCost * z , sampling=(x_size,y_size))\n",
    "    #Compute cost distances away from the biogas source coordinates\n",
    "    cd_array,tb_array = lc_graph.find_costs(starts=([(yOffset, xOffset)]))\n",
    "    #Add the initial cost to all cells\n",
    "    cd_array = cd_array + base_cost\n",
    "    #Add to stack of arrays\n",
    "    cost_arrays.append(arrCost * z)\n",
    "    cd_arrays.append(cd_array)\n",
    "    tb_arrays.append(tb_array)\n",
    "        \n",
    "#Create a stack of all arrays\n",
    "arrCostStack = np.stack(cost_arrays)\n",
    "arrCostDistanceStack =np.stack(cd_arrays)\n",
    "arrTracebackStack = np.stack(tb_arrays)\n",
    "\n",
    "#Save the array stacks to file\n",
    "np.save('../data/DuplinCostStack.npy',arrCostStack)\n",
    "np.save('../data/DuplinStack.npy',arrCostDistanceStack)\n",
    "np.save('../data/DuplinTraceStack.npy',arrTracebackStack)"
   ]
  },
  {
   "cell_type": "markdown",
   "metadata": {},
   "source": [
    "#### 5. Analyze results\n",
    "* Export the first layer in the cost distance stack and export this as a TIF file. As we sorted our biofarm sources, this is the layer associated with the source that produces biogas at the lowest cost (minus transport). "
   ]
  },
  {
   "cell_type": "code",
   "execution_count": null,
   "metadata": {},
   "outputs": [],
   "source": [
    "#Export lowest cost farm to geotiff\n",
    "\n",
    "#Get the lowest cost layer and set no data values\n",
    "arrFirst = arrCostDistanceStack[0]              #Get the first layer in the stack\n",
    "arrFirst[arrCost == arrCost.max()] = -9999.9    #Set areas with no cost data to NoData value \n",
    "\n",
    "#Create the output TIF object and set its properties\n",
    "height,width = arrFirst.shape\n",
    "drv = gdal.GetDriverByName(\"GTiff\")\n",
    "dsOut = drv.Create('../scratch/lowest_cost.tif',width,height,1,gdal.GDT_Float32)\n",
    "dsOut.SetGeoTransform (ds.GetGeoTransform())    #Set the geo transform parameters\n",
    "dsOut.SetProjection(ds_prj)                     #Set the projection \n",
    "\n",
    "#Populate and save the output TIF object\n",
    "dsOut.GetRasterBand(1).WriteArray(arrFirst)     #Write the array to the output object\n",
    "dsOut.GetRasterBand(1).SetNoDataValue(-9999.9)  #Set the no data value of the output object\n",
    "dsOut.FlushCache()                              #Save the output"
   ]
  },
  {
   "cell_type": "markdown",
   "metadata": {},
   "source": [
    "* Compute the minimum pixel valus across all stacks and export this as a TIF file. This surface reflects the lowest cost  distance to any biogas source and, when thresholded, reveals areas that are cost effective to produce and export biogas at the thresholded cost value."
   ]
  },
  {
   "cell_type": "code",
   "execution_count": null,
   "metadata": {},
   "outputs": [],
   "source": [
    "#Create an array of the min of all surfaces and export to geotiff\n",
    "\n",
    "#Reduce the stack to minimum costs, then set NoData values\n",
    "arrMin = np.amin(arrCostDistanceStack,axis=0) \n",
    "arrMin[arrCost == arrCost.max()] = -9999.9\n",
    "\n",
    "#Create the output TIF object and set its properties\n",
    "height,width = arrMin.shape\n",
    "drv = gdal.GetDriverByName(\"GTiff\")\n",
    "dsOut = drv.Create('../data/processed/min_cost_surface.tif',width,height,1,gdal.GDT_Float32)\n",
    "dsOut.SetGeoTransform (ds.GetGeoTransform())  #Set the pixel size, offset, and warp\n",
    "dsOut.SetProjection(ds_prj)                   #Define the coordinate system\n",
    "\n",
    "#Write to the data source object\n",
    "dsOut.GetRasterBand(1).WriteArray(arrMin)      #Write the data to the 1st band\n",
    "dsOut.GetRasterBand(1).SetNoDataValue(-9999.9) #Assign NoData values\n",
    "dsOut.FlushCache()"
   ]
  },
  {
   "cell_type": "code",
   "execution_count": null,
   "metadata": {},
   "outputs": [],
   "source": [
    "#Export the stack of cost distances to a multiband tiff\n",
    "#Create the output TIF object and set its properties\n",
    "bands, height,width = arrCostDistanceStack.shape\n",
    "drv = gdal.GetDriverByName(\"GTiff\")\n",
    "dsOut = drv.Create('../data/processed/cost_surface_stack.tif',width,height,bands,gdal.GDT_Float32)\n",
    "dsOut.SetGeoTransform (ds.GetGeoTransform())  #Set the pixel size, offset, and warp\n",
    "dsOut.SetProjection(ds_prj)                   #Define the coordinate system\n",
    "\n",
    "#Write to the data source object\n",
    "for i in range(bands):\n",
    "    dsOut.GetRasterBand(i+1).WriteArray(arrCostDistanceStack[i,:,:])      #Write the data to the 1st band\n",
    "    dsOut.GetRasterBand(i+1).SetNoDataValue(-9999.9)          #Assign NoData values\n",
    "dsOut.FlushCache()"
   ]
  },
  {
   "cell_type": "markdown",
   "metadata": {},
   "source": [
    "#### 6. Plotting & visualization"
   ]
  },
  {
   "cell_type": "markdown",
   "metadata": {},
   "source": [
    "* First is a 3D plot of the biogas sources with Z value set to the production cost"
   ]
  },
  {
   "cell_type": "code",
   "execution_count": null,
   "metadata": {},
   "outputs": [],
   "source": [
    "gdfBG_prj.head()"
   ]
  },
  {
   "cell_type": "code",
   "execution_count": null,
   "metadata": {},
   "outputs": [],
   "source": [
    "#Build 3d array of base cost values\n",
    "\n",
    "#Set the axis values\n",
    "xValues = gdfBG_prj.iloc[:,1] #Longitude\n",
    "yValues = gdfBG_prj.iloc[:,0] #Latitude\n",
    "zValues = gdfBG_prj.iloc[:,3] #Production costs \n",
    "\n",
    "#Construct the figure\n",
    "fig = plt.figure(figsize=(20,10))\n",
    "ax = fig.add_subplot(111, projection='3d')\n",
    "ax.scatter3D(xValues,yValues,zValues,c=zValues);\n",
    "ax.set_xlabel(\"Longitude\")\n",
    "ax.set_ylabel(\"Latitude\")\n",
    "ax.set_zlabel(\"Estimated Methane Production Cost ($/MMBtu)\");"
   ]
  },
  {
   "cell_type": "code",
   "execution_count": null,
   "metadata": {},
   "outputs": [],
   "source": [
    "gdfBG_prj.iloc[0]"
   ]
  },
  {
   "cell_type": "code",
   "execution_count": null,
   "metadata": {},
   "outputs": [],
   "source": [
    "#Create a 3 point for the lowest cost site\n",
    "X1,Y1,Z1=gdfBG_prj.loc[0,['xOffset','yOffset','Estimated']]"
   ]
  },
  {
   "cell_type": "code",
   "execution_count": null,
   "metadata": {},
   "outputs": [],
   "source": [
    "X1,Y1,Z1 = gdfBG_prj.iloc[0,[-2,-1,3]].values"
   ]
  },
  {
   "cell_type": "code",
   "execution_count": null,
   "metadata": {},
   "outputs": [],
   "source": [
    "#Create a mesh grid from the row and column\n",
    "y = np.arange(0,arrMin.shape[0])\n",
    "x = np.arange(0,arrMin.shape[1])\n",
    "X,Y  = np.meshgrid(x,y)\n",
    "\n",
    "#Create copies of the arrMin surface\n",
    "arrMinCopy = arrMin.copy()\n",
    "arrMinCopy[arrMin < 0]=np.NaN\n",
    "arrMinCopy[arrMin > 5]=np.NaN\n",
    "arrThreshold = np.full(arrMinCopy.shape,3)"
   ]
  },
  {
   "cell_type": "code",
   "execution_count": null,
   "metadata": {},
   "outputs": [],
   "source": [
    "X1,Y1,Z1"
   ]
  },
  {
   "cell_type": "code",
   "execution_count": null,
   "metadata": {},
   "outputs": [],
   "source": [
    "#3D plotting\n",
    "fig = plt.figure(figsize=(20,12))            #Create the figure canvas\n",
    "ax = fig.add_subplot(111, projection='3d')   #Add 3d plot...\n",
    "#ax.contour3D(X,Y,arrMinCopy,100,alpha=0.2,cmap='ocean')\n",
    "ax.plot_surface(X,Y,arrMinCopy,linewidth=0,alpha=0.6)\n",
    "#ax.plot_surface(X,Y,arrThreshold,linewidth=0,alpha=0.3)\n",
    "#ax.scatter3D(X1m,Y1m,np.log(Z1),color='r')\n",
    "ax.scatter3D(X1,Y1,Z1,color='Black')\n",
    "#ax.scatter3D(gdfBG_prj.iloc[:,-2],gdfBG_prj.iloc[:,-1],gdfBG_prj.iloc[:,3], c=gdfBG_prj.iloc[:,3],cmap='Greens');\n",
    "#ax.scatter3D(gdf.xOffset,dfBG.yOffset,dfBG['Estimated Methane Production Cost ($/MMBtu)'], cmap='ocean')\n",
    "ax.scatter3D(gdfBG_prj.iloc[0,-2],gdfBG_prj.iloc[0,-1],gdfBG_prj.iloc[0,3], color='k')\n",
    "ax.set_xlabel('Easting');ax.set_xlim(0,220)\n",
    "ax.set_ylabel('Northing');ax.set_ylim(0,200)\n",
    "ax.set_zlabel('Cost ($/mile-MMBty)',rotation=90);ax.set_zlim(2, 4)  \n",
    "ax.view_init(10,120);"
   ]
  }
 ],
 "metadata": {
  "kernelspec": {
   "display_name": "Python 3",
   "language": "python",
   "name": "python3"
  },
  "language_info": {
   "codemirror_mode": {
    "name": "ipython",
    "version": 3
   },
   "file_extension": ".py",
   "mimetype": "text/x-python",
   "name": "python",
   "nbconvert_exporter": "python",
   "pygments_lexer": "ipython3",
   "version": "3.6.8"
  }
 },
 "nbformat": 4,
 "nbformat_minor": 2
}
