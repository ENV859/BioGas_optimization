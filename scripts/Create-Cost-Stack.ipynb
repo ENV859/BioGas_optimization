{
 "cells": [
  {
   "cell_type": "markdown",
   "metadata": {},
   "source": [
    "### Pipeline optimization \n",
    "* Objective:\n",
    " * Build a stack of numpy arrays depicting the cost distance away from biogas sources\n",
    " \n",
    "* Requirements - Packages\n",
    " * NumPy, Pandas, Scikit-Image\n",
    "\n",
    "* Requirements - Data:\n",
    " * CSV of biogas sources, including coordinates and biogas production potential (MMBtu)\n",
    " * Cost surface for building pipelines\n",
    " \n",
    "* Output: \n",
    " * Stacked NumPy array\n",
    " \n",
    " https://pcjericks.github.io/py-gdalogr-cookbook/raster_layers.html#create-least-cost-path"
   ]
  },
  {
   "cell_type": "code",
   "execution_count": 1,
   "metadata": {},
   "outputs": [],
   "source": [
    "#Import packages\n",
    "import numpy as np\n",
    "import pandas as pd\n",
    "from skimage import graph\n",
    "from osgeo import gdal\n",
    "from matplotlib import pyplot as plt"
   ]
  },
  {
   "cell_type": "code",
   "execution_count": 2,
   "metadata": {},
   "outputs": [],
   "source": [
    "#Read in biogase sources (example: Duplin Co)\n",
    "dfBG =  pd.read_excel('../data/DuplinCountySwineFarmEconomics.xlsx',\n",
    "                         sheet_name='Duplin County Swine Farm Master').iloc[:,[11,12,16]]"
   ]
  },
  {
   "cell_type": "code",
   "execution_count": 65,
   "metadata": {},
   "outputs": [
    {
     "name": "stdout",
     "output_type": "stream",
     "text": [
      "Lower left coordinate = (-78.40182301,35.28640434)\n",
      "Pixel size is 0.00580288(x), -0.00581646(y)\n"
     ]
    }
   ],
   "source": [
    "#Read in cost surface\n",
    "ds = gdal.Open('../data/MIT Cost Surface Duplin Co/MIT Cost Surface Duplin.tif')\n",
    "#Get raster attributes\n",
    "llx, x_size, x_angle, lly, y_angle, y_size = ds.GetGeoTransform()\n",
    "#Extract Band1 as the cost array\n",
    "arrCost = np.array(ds.GetRasterBand(1).ReadAsArray())\n",
    "#Set zero costs to high costs\n",
    "arrCost[arrCost == 0] = 10000\n",
    "#Print info\n",
    "print(\"Lower left coordinate = ({0:.8f},{1:.8f})\".format(llx,lly))\n",
    "print(\"Pixel size is {0:.8f}(x), {1:.8f}(y)\".format(x_size,y_size))"
   ]
  },
  {
   "cell_type": "code",
   "execution_count": 21,
   "metadata": {},
   "outputs": [
    {
     "name": "stdout",
     "output_type": "stream",
     "text": [
      "Creating the graph from the cost raster\n"
     ]
    }
   ],
   "source": [
    "#Create the MCP object from the cost surface\n",
    "print(\"Creating the graph from the cost raster\")\n",
    "lc_graph = graph.MCP_Geometric(arrCost,sampling=(x_size,y_size))"
   ]
  },
  {
   "cell_type": "code",
   "execution_count": 78,
   "metadata": {},
   "outputs": [
    {
     "name": "stdout",
     "output_type": "stream",
     "text": [
      "................................................................................................................................................................................................................................................................................................................................................................................................................................................................................"
     ]
    }
   ],
   "source": [
    "#Iterate through all records and create a cost distance raster\n",
    "cd_arrays = []\n",
    "for i,r in dfBG.iterrows():\n",
    "    print(\".\",end='')\n",
    "    x = r[1]\n",
    "    y = r[0]\n",
    "\n",
    "    #Get array index from lat long\n",
    "    xOffset = int(round((x - llx)/x_size))\n",
    "    yOffset = int(round((y - lly)/y_size))\n",
    "\n",
    "    #Compute cost distances away\n",
    "    cd_array = lc_graph.find_costs(starts=([(yOffset, xOffset)]))[0]\n",
    "    cd_arrays.append(cd_array)"
   ]
  },
  {
   "cell_type": "code",
   "execution_count": 79,
   "metadata": {},
   "outputs": [],
   "source": [
    "#Stack all the arrays\n",
    "arrStack =np.stack(cd_arrays)\n",
    "np.save('../data/DuplinStack.npy',arrStack)"
   ]
  }
 ],
 "metadata": {
  "kernelspec": {
   "display_name": "Python 3",
   "language": "python",
   "name": "python3"
  },
  "language_info": {
   "codemirror_mode": {
    "name": "ipython",
    "version": 3
   },
   "file_extension": ".py",
   "mimetype": "text/x-python",
   "name": "python",
   "nbconvert_exporter": "python",
   "pygments_lexer": "ipython3",
   "version": "3.6.6"
  }
 },
 "nbformat": 4,
 "nbformat_minor": 2
}
