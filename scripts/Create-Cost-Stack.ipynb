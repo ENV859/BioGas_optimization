{
 "cells": [
  {
   "cell_type": "markdown",
   "metadata": {},
   "source": [
    "### Pipeline optimization \n",
    "* Objective:\n",
    " * Build a stack of numpy arrays depicting the cost distance away from biogas sources\n",
    " \n",
    "* Requirements - Packages\n",
    " * NumPy, Pandas, Scikit-Image\n",
    "\n",
    "* Requirements - Data:\n",
    " * CSV of biogas sources, including coordinates and biogas production potential (MMBtu)\n",
    " * Cost surface for building pipelines\n",
    " \n",
    "* Output: \n",
    " * Stacked NumPy array"
   ]
  },
  {
   "cell_type": "code",
   "execution_count": null,
   "metadata": {},
   "outputs": [],
   "source": [
    "#Import packages\n",
    "import numpy as np\n",
    "import pandas as pd\n",
    "from skimage import graph\n",
    "from osgeo import gdal, osr\n",
    "import geopandas as gpd\n",
    "from shapely.geometry import Point\n",
    "from shapely import wkt"
   ]
  },
  {
   "cell_type": "code",
   "execution_count": null,
   "metadata": {},
   "outputs": [],
   "source": [
    "#Read in cost surface\n",
    "ds =  gdal.Open('../data/MIT_Surface_Subset/MIT_CostSurface_500m.img')\n",
    "#Get the raster projection\n",
    "ds_prj = ds.GetProjection()\n",
    "#Get raster attributes\n",
    "llx, x_size, x_angle, lly, y_angle, y_size = ds.GetGeoTransform()\n",
    "#Extract Band1 as the cost array\n",
    "arrCost = np.array(ds.GetRasterBand(1).ReadAsArray()) / 100\n",
    "#Print info\n",
    "print(\"Lower left coordinate = ({0:.8f},{1:.8f})\".format(llx,lly))\n",
    "print(\"Pixel size is {0:.8f}(x), {1:.8f}(y)\".format(x_size,y_size))\n",
    "print(\"Values range from {} to {}\".format(arrCost.min(),arrCost.max()))"
   ]
  },
  {
   "cell_type": "code",
   "execution_count": null,
   "metadata": {},
   "outputs": [],
   "source": [
    "#Set zero cost multiplier to high costs (10)\n",
    "arrCost[arrCost == 0] = 10\n",
    "arrCostEven = arrCost / arrCost"
   ]
  },
  {
   "cell_type": "code",
   "execution_count": null,
   "metadata": {},
   "outputs": [],
   "source": [
    "#Read in biogas sources (example: Duplin Co)\n",
    "dfBG =  pd.read_excel('../data/DuplinCountySwineFarmEconomics.xlsx',\n",
    "                         sheet_name='Duplin County Swine Farm Master').iloc[:,[11,12,-6,-1]]\n",
    "dfBG.sort_values(by='Total Potential Methane Yield (scf/h)',ascending=False,inplace=True)"
   ]
  },
  {
   "cell_type": "code",
   "execution_count": null,
   "metadata": {},
   "outputs": [],
   "source": [
    "#Convert to a geopandas dataframe (for easy reprojecting)\n",
    "geom = [Point(xy) for xy in zip(dfBG.iloc[:,1],dfBG.iloc[:,0])]\n",
    "gdfBG = gpd.GeoDataFrame(dfBG, geometry = geom)\n",
    "gdfBG.crs = {'init':'epsg:4326'}\n",
    "#gdfBG.to_file('../data/DuplinSites_LL.shp')"
   ]
  },
  {
   "cell_type": "code",
   "execution_count": null,
   "metadata": {},
   "outputs": [],
   "source": [
    "#gdfBG.to_file('../data/DuplinSites_LL.shp')"
   ]
  },
  {
   "cell_type": "code",
   "execution_count": null,
   "metadata": {},
   "outputs": [],
   "source": [
    "#Re-project the points to match the raster (takes a moment...)\n",
    "#gdf2 = gdfBG.to_crs(ds_prj)\n",
    "gdf2 = gpd.read_file('../data/DuplinSites_Prj.shp')\n",
    "gdf2.shape"
   ]
  },
  {
   "cell_type": "code",
   "execution_count": null,
   "metadata": {},
   "outputs": [],
   "source": [
    "#Compute cell size (in meters) in miles\n",
    "x_size_miles = x_size / 1609.344 \n",
    "y_size_miles = y_size / 1609.344"
   ]
  },
  {
   "cell_type": "code",
   "execution_count": null,
   "metadata": {},
   "outputs": [],
   "source": [
    "#Iterate through all records and create a cost distance raster\n",
    "cd_arrays = []\n",
    "for i,r in gdf2.iterrows():\n",
    "    print(\".\",end='')\n",
    "    x = r.geometry.x\n",
    "    y = r.geometry.y\n",
    "    z = r[3] \n",
    "    \n",
    "    #Get array index from lat long\n",
    "    xOffset = int(((x - llx)/x_size))\n",
    "    yOffset = int(((y - lly)/y_size))\n",
    "\n",
    "    #Create the minimum cost path (MCP) surface\n",
    "    lc_graph = graph.MCP_Geometric(arrCost * z / 1609.34, sampling=(x_size,y_size))\n",
    "    #lc_graph = graph.MCP_Geometric(arrCost)# * z, sampling=(x_size_miles,y_size_miles))\n",
    "    #Compute cost distances away\n",
    "    cd_array = lc_graph.find_costs(starts=([(yOffset, xOffset)]))[0]\n",
    "    #Add the initial cost to all cells\n",
    "    cd_array = cd_array + z\n",
    "    #Add to stack of arrays\n",
    "    cd_arrays.append(cd_array)\n",
    "        \n",
    "#Create a stack of all arrays\n",
    "arrStack =np.stack(cd_arrays)"
   ]
  },
  {
   "cell_type": "code",
   "execution_count": null,
   "metadata": {},
   "outputs": [],
   "source": [
    "#Export lowest cost farm to geotiff\n",
    "bands,height,width = arrStack.shape\n",
    "drv = gdal.GetDriverByName(\"GTiff\")\n",
    "dsOut = drv.Create('../scratch/lowest_cost.tif',width,height,1,gdal.GDT_Float32)\n",
    "\n",
    "arrFirst = arrStack[0]\n",
    "arrFirst[arrCost == 10] = -9999.9\n",
    "dsOut.GetRasterBand(1).WriteArray(arrFirst)\n",
    "dsOut.GetRasterBand(1).SetNoDataValue(-9999.9)\n",
    "dsOut.SetGeoTransform (ds.GetGeoTransform())\n",
    "dsOut.SetProjection(ds_prj)\n",
    "dsOut.FlushCache()"
   ]
  },
  {
   "cell_type": "code",
   "execution_count": null,
   "metadata": {},
   "outputs": [],
   "source": [
    "#Export min of all rasters to geotiff\n",
    "\n",
    "#Reduce to minimum costs\n",
    "arrMin = np.amin(arrStack,axis=0)\n",
    "print(arrMin.min())\n",
    "\n",
    "#Create the data source object\n",
    "bands,height,width = arrStack.shape\n",
    "drv = gdal.GetDriverByName(\"GTiff\")\n",
    "dsOut = drv.Create('../scratch/min_cost_surface.tif',width,height,1,gdal.GDT_Float32)\n",
    "\n",
    "#Set no data values \n",
    "arrMin[arrCost == 10] = -9999.9\n",
    "\n",
    "#Write to the data source object\n",
    "dsOut.GetRasterBand(1).WriteArray(arrMin)\n",
    "dsOut.SetGeoTransform (ds.GetGeoTransform())\n",
    "dsOut.SetProjection(ds_prj)\n",
    "dsOut.GetRasterBand(1).SetNoDataValue(-9999.9)\n",
    "dsOut.FlushCache()"
   ]
  },
  {
   "cell_type": "code",
   "execution_count": null,
   "metadata": {},
   "outputs": [],
   "source": [
    "#Stack all the arrays\n",
    "np.save('../data/DuplinStack500m.npy',arrStack)"
   ]
  }
 ],
 "metadata": {
  "kernelspec": {
   "display_name": "Python 3",
   "language": "python",
   "name": "python3"
  },
  "language_info": {
   "codemirror_mode": {
    "name": "ipython",
    "version": 3
   },
   "file_extension": ".py",
   "mimetype": "text/x-python",
   "name": "python",
   "nbconvert_exporter": "python",
   "pygments_lexer": "ipython3",
   "version": "3.6.8"
  }
 },
 "nbformat": 4,
 "nbformat_minor": 2
}
