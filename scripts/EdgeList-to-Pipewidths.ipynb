{
 "cells": [
  {
   "cell_type": "markdown",
   "metadata": {},
   "source": [
    "#### Objective:\n",
    "Create a directional, weighted graph from the provided edge list and compute the total upstream throughput at each node. "
   ]
  },
  {
   "cell_type": "code",
   "execution_count": 1,
   "metadata": {},
   "outputs": [],
   "source": [
    "#Import packages\n",
    "import pandas as pd\n",
    "import networkx as nx"
   ]
  },
  {
   "cell_type": "code",
   "execution_count": 52,
   "metadata": {},
   "outputs": [
    {
     "data": {
      "text/html": [
       "<div>\n",
       "<style scoped>\n",
       "    .dataframe tbody tr th:only-of-type {\n",
       "        vertical-align: middle;\n",
       "    }\n",
       "\n",
       "    .dataframe tbody tr th {\n",
       "        vertical-align: top;\n",
       "    }\n",
       "\n",
       "    .dataframe thead th {\n",
       "        text-align: right;\n",
       "    }\n",
       "</style>\n",
       "<table border=\"1\" class=\"dataframe\">\n",
       "  <thead>\n",
       "    <tr style=\"text-align: right;\">\n",
       "      <th></th>\n",
       "      <th>From_node</th>\n",
       "      <th>To_node</th>\n",
       "      <th>Total_Pote</th>\n",
       "    </tr>\n",
       "  </thead>\n",
       "  <tbody>\n",
       "    <tr>\n",
       "      <th>0</th>\n",
       "      <td>1</td>\n",
       "      <td>3</td>\n",
       "      <td>5450.830387</td>\n",
       "    </tr>\n",
       "    <tr>\n",
       "      <th>1</th>\n",
       "      <td>2</td>\n",
       "      <td>4</td>\n",
       "      <td>1874.747050</td>\n",
       "    </tr>\n",
       "    <tr>\n",
       "      <th>2</th>\n",
       "      <td>3</td>\n",
       "      <td>2</td>\n",
       "      <td>0.000000</td>\n",
       "    </tr>\n",
       "    <tr>\n",
       "      <th>3</th>\n",
       "      <td>4</td>\n",
       "      <td>-1</td>\n",
       "      <td>0.000000</td>\n",
       "    </tr>\n",
       "    <tr>\n",
       "      <th>4</th>\n",
       "      <td>5</td>\n",
       "      <td>13</td>\n",
       "      <td>5237.045262</td>\n",
       "    </tr>\n",
       "  </tbody>\n",
       "</table>\n",
       "</div>"
      ],
      "text/plain": [
       "  From_node To_node   Total_Pote\n",
       "0         1       3  5450.830387\n",
       "1         2       4  1874.747050\n",
       "2         3       2     0.000000\n",
       "3         4      -1     0.000000\n",
       "4         5      13  5237.045262"
      ]
     },
     "execution_count": 52,
     "metadata": {},
     "output_type": "execute_result"
    }
   ],
   "source": [
    "#Read in the edge list and add edges\n",
    "df_edgeList = pd.read_csv('../scratch/EdgeList.csv',dtype={'From_node':'str','To_node':'str'})\n",
    "df_edgeList.head()"
   ]
  },
  {
   "cell_type": "code",
   "execution_count": 3,
   "metadata": {},
   "outputs": [],
   "source": [
    "#Create the empty directional graph\n",
    "G = nx.DiGraph()"
   ]
  },
  {
   "cell_type": "code",
   "execution_count": 5,
   "metadata": {},
   "outputs": [],
   "source": [
    "#Add the edges\n",
    "for i,r in df_edgeList.iterrows():\n",
    "    G.add_edge(r.From_node,r.To_node,cost=r.Total_Pote)"
   ]
  },
  {
   "cell_type": "code",
   "execution_count": 6,
   "metadata": {},
   "outputs": [
    {
     "data": {
      "text/plain": [
       "{'-1', '159', '220', '221', '223', '4'}"
      ]
     },
     "execution_count": 6,
     "metadata": {},
     "output_type": "execute_result"
    }
   ],
   "source": [
    "#Look downstream\n",
    "nx.descendants(G,'222')"
   ]
  },
  {
   "cell_type": "code",
   "execution_count": 33,
   "metadata": {},
   "outputs": [
    {
     "name": "stdout",
     "output_type": "stream",
     "text": [
      "{'219'}\n"
     ]
    }
   ],
   "source": [
    "#Look upstream\n",
    "up_nodes = nx.ancestors(G,'219')\n",
    "up_nodes.add('219')\n",
    "print(up_nodes)"
   ]
  },
  {
   "cell_type": "code",
   "execution_count": 53,
   "metadata": {},
   "outputs": [],
   "source": [
    "nodeCosts = []\n",
    "#Iterate through each to_node\n",
    "for from_node in df_edgeList.From_node.unique():\n",
    "    #Reset the cost variable\n",
    "    total_yield = 0\n",
    "    #Get the upstream nodes for the current node\n",
    "    up_nodes = nx.ancestors(G,from_node)\n",
    "    #Append the node itself\n",
    "    up_nodes.add(from_node)\n",
    "    #Iterate through the to_node's ancestors\n",
    "    for up_node in up_nodes:\n",
    "        #Accumulate the total yield\n",
    "        total_yield += df_edgeList.query(\"From_node == '{}'\".format(up_node))['Total_Pote'].sum()\n",
    "    df_edgeList.loc[df_edgeList.From_node == from_node,'SumYield'] = total_yield"
   ]
  },
  {
   "cell_type": "code",
   "execution_count": 57,
   "metadata": {},
   "outputs": [],
   "source": [
    "df_edgeList.to_csv('../scratch/PipeYield.csv',index=False)"
   ]
  },
  {
   "cell_type": "code",
   "execution_count": null,
   "metadata": {},
   "outputs": [],
   "source": []
  }
 ],
 "metadata": {
  "kernelspec": {
   "display_name": "Python 3",
   "language": "python",
   "name": "python3"
  },
  "language_info": {
   "codemirror_mode": {
    "name": "ipython",
    "version": 3
   },
   "file_extension": ".py",
   "mimetype": "text/x-python",
   "name": "python",
   "nbconvert_exporter": "python",
   "pygments_lexer": "ipython3",
   "version": "3.6.8"
  }
 },
 "nbformat": 4,
 "nbformat_minor": 2
}
