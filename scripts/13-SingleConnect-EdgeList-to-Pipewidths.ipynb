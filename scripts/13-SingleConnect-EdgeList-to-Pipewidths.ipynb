{
 "cells": [
  {
   "cell_type": "markdown",
   "metadata": {},
   "source": [
    "#### Objective:\n",
    "Create a directional, weighted graph from the provided edge list and compute the total upstream throughput at each node. "
   ]
  },
  {
   "cell_type": "code",
   "execution_count": null,
   "metadata": {},
   "outputs": [],
   "source": [
    "#Import packages\n",
    "import pandas as pd\n",
    "import networkx as nx\n",
    "import arcpy"
   ]
  },
  {
   "cell_type": "code",
   "execution_count": null,
   "metadata": {},
   "outputs": [],
   "source": [
    "#Read in the edge list and add edges\n",
    "df_edgeList = pd.read_csv('../scratch/SingleConnect_EdgeList.csv',\n",
    "                          dtype={'From_node':'str','To_node':'str'})\n",
    "df_edgeList.head()"
   ]
  },
  {
   "cell_type": "code",
   "execution_count": null,
   "metadata": {},
   "outputs": [],
   "source": [
    "#Create the empty directional graph\n",
    "G = nx.DiGraph()"
   ]
  },
  {
   "cell_type": "code",
   "execution_count": null,
   "metadata": {},
   "outputs": [],
   "source": [
    "#Add the edges\n",
    "for i,r in df_edgeList.iterrows():\n",
    "    G.add_edge(r.From_node,r.To_node,cost=r.Site_yield_scf_h)"
   ]
  },
  {
   "cell_type": "code",
   "execution_count": null,
   "metadata": {},
   "outputs": [],
   "source": [
    "nodeCosts = []\n",
    "#Iterate through each to_node\n",
    "for from_node in df_edgeList.From_node.unique():\n",
    "    #Reset the cost variable\n",
    "    total_yield = 0\n",
    "    #Get the upstream nodes for the current node\n",
    "    up_nodes = nx.ancestors(G,from_node)\n",
    "    #Append the node itself\n",
    "    up_nodes.add(from_node)\n",
    "    #Iterate through the to_node's ancestors\n",
    "    for up_node in up_nodes:\n",
    "        #Accumulate the total yield\n",
    "        total_yield += df_edgeList.query(\"From_node == '{}'\".format(up_node))['Site_yield_scf_h'].sum()\n",
    "    df_edgeList.loc[df_edgeList.From_node == from_node,'SumYield'] = total_yield"
   ]
  },
  {
   "cell_type": "code",
   "execution_count": null,
   "metadata": {},
   "outputs": [],
   "source": [
    "#Compute pipe diameter from throughput\n",
    "df_edgeList['PipeSize_in'] = df_edgeList['SumYield']**0.394*0.051\n",
    "#Compute pipe cost from throughput \n",
    "df_edgeList['PipeCost'] = df_edgeList['PipeSize_in']**0.485*10829 \n",
    "#Compute return\n",
    "df_edgeList['Return_15yr'] = df_edgeList['PipeCost'] / (df_edgeList['SumYield'] * 15)"
   ]
  },
  {
   "cell_type": "code",
   "execution_count": null,
   "metadata": {},
   "outputs": [],
   "source": [
    "#Save edge list to a filename\n",
    "edgeCSV_filename =  '../scratch/SingleConnect_EdgeList2.csv'\n",
    "df_edgeList[['From_node','Site_yield_scf_h', 'SumYield', 'PipeSize_in',\n",
    "            'PipeCost', 'Return_15yr']].to_csv(edgeCSV_filename,index=False)"
   ]
  },
  {
   "cell_type": "code",
   "execution_count": null,
   "metadata": {},
   "outputs": [],
   "source": [
    "#Join edge list to edge features\n",
    "#Create a table from the CSV\n",
    "edge_table = arcpy.management.MakeTableView(edgeCSV_filename,'edge_table')\n",
    "edge_features = '..\\\\OptimizeViewer\\\\SingleConnect.gdb\\LCP_edges_SingleConnect'\n",
    "#Join to the edgeFC\n",
    "arcpy.management.JoinField(edge_features,'Edge_ID',\n",
    "                           edge_table,\n",
    "                           'From_node',\n",
    "                           ['Site_yield_scf_h', 'SumYield', 'PipeSize_in','PipeCost', 'Return_15yr'])"
   ]
  }
 ],
 "metadata": {
  "kernelspec": {
   "display_name": "Python 3",
   "language": "python",
   "name": "python3"
  },
  "language_info": {
   "codemirror_mode": {
    "name": "ipython",
    "version": 3
   },
   "file_extension": ".py",
   "mimetype": "text/x-python",
   "name": "python",
   "nbconvert_exporter": "python",
   "pygments_lexer": "ipython3",
   "version": "3.6.8"
  }
 },
 "nbformat": 4,
 "nbformat_minor": 2
}
