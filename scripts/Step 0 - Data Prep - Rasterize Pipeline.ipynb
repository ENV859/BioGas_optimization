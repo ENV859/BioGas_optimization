{
 "cells": [
  {
   "cell_type": "markdown",
   "metadata": {},
   "source": [
    "# Rasterize Natural Gas Pipeline Network\n",
    "Creates a raster version at the same extent and cell size of the MIT cost surface."
   ]
  },
  {
   "cell_type": "code",
   "execution_count": null,
   "metadata": {},
   "outputs": [],
   "source": [
    "import rasterio\n",
    "from rasterio import features\n",
    "import geopandas as gpd\n",
    "import pandas as pd\n",
    "import numpy as np"
   ]
  },
  {
   "cell_type": "markdown",
   "metadata": {},
   "source": [
    "#### Import the full MIT cost surface raster\n",
    "This is used to extract the extent and cell size of the created pipeline raster"
   ]
  },
  {
   "cell_type": "code",
   "execution_count": null,
   "metadata": {},
   "outputs": [],
   "source": [
    "#Load the cost surface raster\n",
    "cost_surface_dataset = rasterio.open('../data/MIT_Surface_Full/costsurface500m.img')\n",
    "#Get the surface \n",
    "cost_surface = cost_surface_dataset.read(1)\n",
    "#Extract the coordinate reference system\n",
    "cost_crs = cost_surface_dataset.crs\n",
    "#Get the metadata\n",
    "cost_meta = cost_surface_dataset.meta"
   ]
  },
  {
   "cell_type": "markdown",
   "metadata": {},
   "source": [
    "#### Import the REXTAG natural gas feature class\n",
    "*NOTE: This is proprietary dataset stored on the secure server*"
   ]
  },
  {
   "cell_type": "code",
   "execution_count": null,
   "metadata": {},
   "outputs": [],
   "source": [
    "#Read in features\n",
    "pipelines_gdb = 'C:\\\\Workspace\\\\Rextag_7May2020\\\\Rextag_Zone2_Natural_Gas.gdb'\n",
    "pipelines_lyr = 'NaturalGasPipelines'"
   ]
  },
  {
   "cell_type": "code",
   "execution_count": null,
   "metadata": {},
   "outputs": [],
   "source": [
    "#Read in pipeline dataset as a geodataframe\n",
    "gdf = gpd.read_file(pipelines_gdb,driver='FileGDB',layer=pipelines_lyr)"
   ]
  },
  {
   "cell_type": "markdown",
   "metadata": {},
   "source": [
    "#### Preprocess the dataset\n",
    "* Extract only pipelines tagged as \"Operational\"\n",
    "* Reduce records to only VA, NC, and SC\n",
    "* Transform the selected records to match the coordinate system of the MIT raster"
   ]
  },
  {
   "cell_type": "code",
   "execution_count": null,
   "metadata": {},
   "outputs": [],
   "source": [
    "#Create masks\n",
    "operational_mask = gdf['STATUS'] == 'Operational'\n",
    "state_mask = gdf['STATE_NAME'].isin(['Virginia','North Carolina','South Carolina'])"
   ]
  },
  {
   "cell_type": "code",
   "execution_count": null,
   "metadata": {},
   "outputs": [],
   "source": [
    "#Apply masks\n",
    "gdf_operational = gdf.loc[operational_mask & state_mask].reset_index()"
   ]
  },
  {
   "cell_type": "code",
   "execution_count": null,
   "metadata": {},
   "outputs": [],
   "source": [
    "#Transform to same crs as cost surface\n",
    "gdf_operational = gdf_operational.to_crs(cost_crs)"
   ]
  },
  {
   "cell_type": "markdown",
   "metadata": {},
   "source": [
    "#### Map pipeline \"TYPE\" values to numeric codes"
   ]
  },
  {
   "cell_type": "code",
   "execution_count": null,
   "metadata": {},
   "outputs": [],
   "source": [
    "#Show a list of unique values\n",
    "gdf_operational.TYPE.unique()"
   ]
  },
  {
   "cell_type": "code",
   "execution_count": null,
   "metadata": {},
   "outputs": [],
   "source": [
    "#Create a dictionary to map values\n",
    "typeDict = {'Transmission':1,\n",
    "            'Distribution':2,\n",
    "            'Gathering':3}\n",
    "#Map the values to the dataframe\n",
    "gdf_operational['TYPE_CODE'] = gdf_operational['TYPE'].apply(lambda x: typeDict[x])"
   ]
  },
  {
   "cell_type": "code",
   "execution_count": null,
   "metadata": {},
   "outputs": [],
   "source": [
    "#Save map as dataframe and export as csv\n",
    "dfMap = pd.DataFrame((typeDict.keys(),typeDict.values())).T\n",
    "dfMap.columns=(\"TYPE\",\"TYPE_CODE\")\n",
    "dfMap.to_csv('..\\\\data\\\\processed\\\\USA_pipes_operational_TYPE_LUT.csv',index=False)"
   ]
  },
  {
   "cell_type": "markdown",
   "metadata": {},
   "source": [
    "#### Rastersize features using TYPE_CODE as the output cell value"
   ]
  },
  {
   "cell_type": "code",
   "execution_count": null,
   "metadata": {},
   "outputs": [],
   "source": [
    "#Create list of shape/value tuples to rasterize\n",
    "out_shapes = zip(gdf_operational.geometry,gdf_operational['TYPE_CODE'])"
   ]
  },
  {
   "cell_type": "code",
   "execution_count": null,
   "metadata": {},
   "outputs": [],
   "source": [
    "#Convert features to raster\n",
    "image = features.rasterize(shapes=out_shapes,\n",
    "                           out_shape=cost_surface_dataset.shape,\n",
    "                           transform=cost_surface_dataset.transform,\n",
    "                           all_touched=False)"
   ]
  },
  {
   "cell_type": "markdown",
   "metadata": {},
   "source": [
    "#### Explort the result to a GeoTIFF"
   ]
  },
  {
   "cell_type": "code",
   "execution_count": null,
   "metadata": {},
   "outputs": [],
   "source": [
    "#Get the minimum dtype needed for values\n",
    "min_dtype = rasterio.dtypes.get_minimum_dtype(gdf_operational.TYPE_CODE)\n",
    "min_dtype"
   ]
  },
  {
   "cell_type": "code",
   "execution_count": null,
   "metadata": {},
   "outputs": [],
   "source": [
    "#Update metadata for output\n",
    "cost_meta = cost_surface_dataset.meta\n",
    "cost_meta.update(\n",
    "    {'driver':'GTiff',\n",
    "     'nodata':255,\n",
    "     'dtype':'uint8'\n",
    "    })"
   ]
  },
  {
   "cell_type": "code",
   "execution_count": null,
   "metadata": {},
   "outputs": [],
   "source": [
    "#Export as tiff\n",
    "with rasterio.open('..\\\\data\\\\processed\\\\USA_pipes_operational.tif','w',**cost_meta) as dst:\n",
    "    dst.write(image, indexes=1)"
   ]
  }
 ],
 "metadata": {
  "kernelspec": {
   "display_name": "Python 3",
   "language": "python",
   "name": "python3"
  },
  "language_info": {
   "codemirror_mode": {
    "name": "ipython",
    "version": 3
   },
   "file_extension": ".py",
   "mimetype": "text/x-python",
   "name": "python",
   "nbconvert_exporter": "python",
   "pygments_lexer": "ipython3",
   "version": "3.7.6"
  }
 },
 "nbformat": 4,
 "nbformat_minor": 4
}
