{
 "cells": [
  {
   "cell_type": "code",
   "execution_count": 5,
   "metadata": {},
   "outputs": [],
   "source": [
    "import pandas as pd\n",
    "import numpy as np\n",
    "%matplotlib inline"
   ]
  },
  {
   "cell_type": "code",
   "execution_count": 6,
   "metadata": {},
   "outputs": [],
   "source": [
    "#Levelized cost ($/miles=MMBtu)\n",
    "lc = 0.019108"
   ]
  },
  {
   "cell_type": "code",
   "execution_count": 75,
   "metadata": {},
   "outputs": [],
   "source": [
    "#Distances\n",
    "ds = np.array([1.30,1.20,1.20,1.20,1.20,1.20])\n",
    "#ds = np.ones(8)"
   ]
  },
  {
   "cell_type": "code",
   "execution_count": 76,
   "metadata": {},
   "outputs": [
    {
     "data": {
      "image/png": "[encoded data removed]",
      "text/plain": [
       "<Figure size 432x288 with 1 Axes>"
      ]
     },
     "metadata": {
      "needs_background": "light"
     },
     "output_type": "display_data"
    }
   ],
   "source": [
    "#Create initial cost dataframe ()\n",
    "dfs =[(pd.DataFrame({'dist':[0],'cdist':[0],'accum_cost':[lc]}))]\n",
    "\n",
    "#Initialize cost distance and total distance variables\n",
    "cd0 = 0; dist = 0\n",
    "\n",
    "#Iterate through cost values\n",
    "for i in range(1,len(ds)):\n",
    "    cd = (ds[i]+ds[i-1])/2 + cd0\n",
    "    #Compute accumulated cost\n",
    "    ac = (cd * lc * 500 / 1609.44) + lc\n",
    "    #Update accumulators\n",
    "    cd0 = cd; dist += 500# \n",
    "    #Construct row and add to row list\n",
    "    dfs.append(pd.DataFrame({'dist':[dist],'cdist':[cd],'accum_cost':[ac]}))\n",
    "    \n",
    "#Merge dataframe rows\n",
    "dfOut=pd.concat(dfs)\n",
    "\n",
    "#Add distance in miles \n",
    "dfOut['miles'] = dfOut.dist / 1609.44\n",
    "\n",
    "#Plot\n",
    "x_axis = 'miles'; y_axis = 'accum_cost'\n",
    "ax = dfOut.plot(x=x_axis,y=y_axis,legend=False,\n",
    "                ylim=(0,dfOut[y_axis].max()),\n",
    "                xlim=(0,dfOut[x_axis].max()))\n",
    "\n",
    "dfOut.plot(kind='scatter',x=x_axis,y=y_axis,ax=ax)\n",
    "ax.axvline(1, color='k', linestyle='--')\n",
    "ax.axvline(2, color='k', linestyle='--')\n",
    "ax.axhline(lc*1,color='g',alpha=0.5)\n",
    "ax.axhline(lc*2,color='g',alpha=0.5)\n",
    "ax.axhline(lc*3,color='g',alpha=0.5);"
   ]
  },
  {
   "cell_type": "code",
   "execution_count": 77,
   "metadata": {},
   "outputs": [
    {
     "data": {
      "text/html": [
       "<div>\n",
       "<style scoped>\n",
       "    .dataframe tbody tr th:only-of-type {\n",
       "        vertical-align: middle;\n",
       "    }\n",
       "\n",
       "    .dataframe tbody tr th {\n",
       "        vertical-align: top;\n",
       "    }\n",
       "\n",
       "    .dataframe thead th {\n",
       "        text-align: right;\n",
       "    }\n",
       "</style>\n",
       "<table border=\"1\" class=\"dataframe\">\n",
       "  <thead>\n",
       "    <tr style=\"text-align: right;\">\n",
       "      <th></th>\n",
       "      <th>dist</th>\n",
       "      <th>cdist</th>\n",
       "      <th>accum_cost</th>\n",
       "      <th>miles</th>\n",
       "    </tr>\n",
       "  </thead>\n",
       "  <tbody>\n",
       "    <tr>\n",
       "      <th>0</th>\n",
       "      <td>0</td>\n",
       "      <td>0.00</td>\n",
       "      <td>0.019108</td>\n",
       "      <td>0.000000</td>\n",
       "    </tr>\n",
       "    <tr>\n",
       "      <th>0</th>\n",
       "      <td>500</td>\n",
       "      <td>1.25</td>\n",
       "      <td>0.026528</td>\n",
       "      <td>0.310667</td>\n",
       "    </tr>\n",
       "    <tr>\n",
       "      <th>0</th>\n",
       "      <td>1000</td>\n",
       "      <td>2.45</td>\n",
       "      <td>0.033652</td>\n",
       "      <td>0.621334</td>\n",
       "    </tr>\n",
       "    <tr>\n",
       "      <th>0</th>\n",
       "      <td>1500</td>\n",
       "      <td>3.65</td>\n",
       "      <td>0.040775</td>\n",
       "      <td>0.932001</td>\n",
       "    </tr>\n",
       "    <tr>\n",
       "      <th>0</th>\n",
       "      <td>2000</td>\n",
       "      <td>4.85</td>\n",
       "      <td>0.047899</td>\n",
       "      <td>1.242668</td>\n",
       "    </tr>\n",
       "    <tr>\n",
       "      <th>0</th>\n",
       "      <td>2500</td>\n",
       "      <td>6.05</td>\n",
       "      <td>0.055022</td>\n",
       "      <td>1.553335</td>\n",
       "    </tr>\n",
       "  </tbody>\n",
       "</table>\n",
       "</div>"
      ],
      "text/plain": [
       "   dist  cdist  accum_cost     miles\n",
       "0     0   0.00    0.019108  0.000000\n",
       "0   500   1.25    0.026528  0.310667\n",
       "0  1000   2.45    0.033652  0.621334\n",
       "0  1500   3.65    0.040775  0.932001\n",
       "0  2000   4.85    0.047899  1.242668\n",
       "0  2500   6.05    0.055022  1.553335"
      ]
     },
     "execution_count": 77,
     "metadata": {},
     "output_type": "execute_result"
    }
   ],
   "source": [
    "dfOut"
   ]
  },
  {
   "cell_type": "code",
   "execution_count": null,
   "metadata": {},
   "outputs": [],
   "source": []
  }
 ],
 "metadata": {
  "kernelspec": {
   "display_name": "Python 3",
   "language": "python",
   "name": "python3"
  },
  "language_info": {
   "codemirror_mode": {
    "name": "ipython",
    "version": 3
   },
   "file_extension": ".py",
   "mimetype": "text/x-python",
   "name": "python",
   "nbconvert_exporter": "python",
   "pygments_lexer": "ipython3",
   "version": "3.6.8"
  }
 },
 "nbformat": 4,
 "nbformat_minor": 2
}
