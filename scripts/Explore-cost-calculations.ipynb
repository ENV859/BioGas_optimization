{
 "cells": [
  {
   "cell_type": "code",
   "execution_count": null,
   "metadata": {},
   "outputs": [],
   "source": [
    "import pandas as pd\n",
    "import numpy as np\n",
    "%matplotlib inline"
   ]
  },
  {
   "cell_type": "code",
   "execution_count": null,
   "metadata": {},
   "outputs": [],
   "source": [
    "#Levelized cost ($/miles=MMBtu)\n",
    "lc = 0.019108"
   ]
  },
  {
   "cell_type": "code",
   "execution_count": null,
   "metadata": {},
   "outputs": [],
   "source": [
    "#Distances\n",
    "ds = np.array([1.30,1.20,6.20,1.20,1.20,1.20])\n",
    "#ds = np.ones(8)"
   ]
  },
  {
   "cell_type": "code",
   "execution_count": null,
   "metadata": {},
   "outputs": [],
   "source": [
    "#Create initial cost dataframe ()\n",
    "dfs =[(pd.DataFrame({'dist':[0],'cdist':[0],'accum_cost':[lc]}))]\n",
    "\n",
    "#Initialize cost distance and total distance variables\n",
    "cd0 = 0; dist = 0\n",
    "\n",
    "#Iterate through cost values\n",
    "for i in range(1,len(ds)):\n",
    "    cd = (ds[i]+ds[i-1])/2 + cd0\n",
    "    #Compute accumulated cost\n",
    "    ac = (cd * lc * 500 / 1609.44) + lc\n",
    "    #Update accumulators\n",
    "    cd0 = cd; dist += 500# \n",
    "    #Construct row and add to row list\n",
    "    dfs.append(pd.DataFrame({'dist':[dist],'cdist':[cd],'accum_cost':[ac]}))\n",
    "    \n",
    "#Merge dataframe rows\n",
    "dfOut=pd.concat(dfs)\n",
    "\n",
    "#Add distance in miles \n",
    "dfOut['miles'] = dfOut.dist / 1609.44\n",
    "\n",
    "#Plot\n",
    "x_axis = 'miles'; y_axis = 'accum_cost'\n",
    "ax = dfOut.plot(x=x_axis,y=y_axis,legend=False,\n",
    "                ylim=(0,dfOut[y_axis].max()),\n",
    "                xlim=(0,dfOut[x_axis].max()))\n",
    "\n",
    "dfOut.plot(kind='scatter',x=x_axis,y=y_axis,ax=ax)\n",
    "ax.axvline(1, color='k', linestyle='--')\n",
    "ax.axvline(2, color='k', linestyle='--')\n",
    "ax.axhline(lc*1,color='g',alpha=0.5)\n",
    "ax.axhline(lc*2,color='g',alpha=0.5)\n",
    "ax.axhline(lc*3,color='g',alpha=0.5);"
   ]
  },
  {
   "cell_type": "code",
   "execution_count": null,
   "metadata": {},
   "outputs": [],
   "source": [
    "dfOut"
   ]
  },
  {
   "cell_type": "code",
   "execution_count": null,
   "metadata": {},
   "outputs": [],
   "source": []
  }
 ],
 "metadata": {
  "kernelspec": {
   "display_name": "Python 3",
   "language": "python",
   "name": "python3"
  },
  "language_info": {
   "codemirror_mode": {
    "name": "ipython",
    "version": 3
   },
   "file_extension": ".py",
   "mimetype": "text/x-python",
   "name": "python",
   "nbconvert_exporter": "python",
   "pygments_lexer": "ipython3",
   "version": "3.6.8"
  }
 },
 "nbformat": 4,
 "nbformat_minor": 2
}
