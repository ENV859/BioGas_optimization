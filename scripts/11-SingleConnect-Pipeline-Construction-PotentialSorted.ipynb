{
 "cells": [
  {
   "cell_type": "markdown",
   "metadata": {},
   "source": [
    "## Least Cost Pipeline Construction - sorted on potential\n",
    "This notebook constructs a pipeline network connecting all biogas sources using the following workflow: \n",
    "1.\tStart with the biogas source with the largest potential (f^3/yr) and find its least cost path to the existing pipeline network.\n",
    "2.\tMove to the site with the next highest potential and find its least cost path to the updated pipeline (original + the pipeline linking the 1st site to the original pipe network). \n",
    "3.\tProceed with remaining sites, in order of declining potential, until all are connected.\n",
    "4.\tThen, when all sites have been connected, compute the accumulated volume of biogas passing through each segment from all “upstream sites”. "
   ]
  },
  {
   "cell_type": "markdown",
   "metadata": {},
   "source": [
    "#### The datasets required for this analysis include:\n",
    "* The spreadsheet of biogas source, incliding coordinates and biogas potential \n",
    "* The MIT pipeline cost surface (all US)\n",
    "* The REXTAG natural gas pipeline raster (all US)\n",
    "\n",
    "#### Analysis consists of the following functions:\n",
    "* **Data Prep**:\n",
    " * Import biogas locations as Pandas dataframe: `df_biogas`\n",
    " * Convert biogas locations to GeoPandas geodataframe, using WGS 84 coordinate ref. system (CRS): `gdf_biogas`\n",
    " * Import MIT pipeline cost surface as rasterio raster: `ds_pipecost_full`\n",
    " * Transform biogas geodataframe to same CRS as pipeline cost raster: `ds_pipelines_full`\n",
    " * Subset pipeline cost raster to extent of biogas locations, buffered by 5km: `ds_pipecost`\n",
    " * Subset pipeline raster to same extent as above: `ds_pipelines`"
   ]
  },
  {
   "cell_type": "markdown",
   "metadata": {},
   "source": [
    "* **Functions**:\n",
    " * `cost_distance(source_pt, cost_array)`: Compute cost distance away from site. Outputs are a cost distance and traceback array. \n",
    " * `compute_lcp(source_pt, cost_array, pipes_array)`: "
   ]
  },
  {
   "cell_type": "markdown",
   "metadata": {},
   "source": [
    "---\n",
    "## Data Prep"
   ]
  },
  {
   "cell_type": "code",
   "execution_count": 174,
   "metadata": {},
   "outputs": [],
   "source": [
    "#Imports\n",
    "import numpy as np\n",
    "import pandas as pd\n",
    "import geopandas as gpd\n",
    "from shapely.geometry import Point,LineString\n",
    "import rasterio\n",
    "import rasterio.mask\n",
    "\n",
    "from skimage import graph\n",
    "\n",
    "import matplotlib.pyplot as plt\n",
    "%matplotlib inline"
   ]
  },
  {
   "cell_type": "markdown",
   "metadata": {},
   "source": [
    "* Filenames"
   ]
  },
  {
   "cell_type": "code",
   "execution_count": 64,
   "metadata": {},
   "outputs": [],
   "source": [
    "#Inputs\n",
    "fn_biogas_excel = '..\\\\data\\\\NC_Biogas_Potential.xlsx'\n",
    "fn_MIT_cost_surface = '..\\\\data\\\\MIT_Surface_Full\\\\costsurface500m.img'\n",
    "fn_REXTAG_pipe_raster = '..\\\\data\\\\processed\\\\USA_pipes.tif'\n",
    "\n",
    "#Outputs\n",
    "fn_biogas_points = '..\\\\data\\\\processed\\\\biogas_sources.shp'\n",
    "fn_subset_rasters =  '..\\\\data\\\\processed\\\\subset_data.tif'"
   ]
  },
  {
   "cell_type": "markdown",
   "metadata": {},
   "source": [
    "* Import biogas data and convert to geodataframe"
   ]
  },
  {
   "cell_type": "code",
   "execution_count": 10,
   "metadata": {},
   "outputs": [],
   "source": [
    "#Read the excel sheet into a dataframe\n",
    "df_biogas = pd.read_excel(fn_biogas_excel,sheet_name='Swine')\n",
    "#Create a series of Point geometries for each record\n",
    "geom = [Point(xy) for xy in zip(df_biogas.Longitude, df_biogas.Latitude)]\n",
    "#Construct the geodataframe from the data and geometry, setting crs to WGS84\n",
    "gdf_biogas = gpd.GeoDataFrame(df_biogas, geometry = geom, crs = 4326)\n",
    "#Delete the original dataframe (to conserve memory)\n",
    "del(df_biogas)"
   ]
  },
  {
   "cell_type": "markdown",
   "metadata": {},
   "source": [
    "* Import the MIT cost and REXTAG pipelines rasters"
   ]
  },
  {
   "cell_type": "code",
   "execution_count": 19,
   "metadata": {},
   "outputs": [],
   "source": [
    "#Read the MIT img file into a rasterio raster\n",
    "ds_pipecost_full = rasterio.open(fn_MIT_cost_surface)\n",
    "#Read the REXTAG tif file into a rasterio raster\n",
    "ds_pipelines_full = rasterio.open(fn_REXTAG_pipe_raster)"
   ]
  },
  {
   "cell_type": "markdown",
   "metadata": {},
   "source": [
    "* Transform the biogas points to the same crs as the MIT raster"
   ]
  },
  {
   "cell_type": "code",
   "execution_count": 66,
   "metadata": {},
   "outputs": [],
   "source": [
    "#Get the MIT coordinate reference system\n",
    "crs_pipecost = ds_pipecost_full.crs\n",
    "#Apply the transformation\n",
    "gdf_biogas = gdf_biogas.to_crs(crs_pipecost)\n",
    "#Save to file\n",
    "gdf_biogas.to_file(fn_biogas_points)"
   ]
  },
  {
   "cell_type": "markdown",
   "metadata": {},
   "source": [
    "* Subset the cost and pipe rasters to the extent of the points + 5km"
   ]
  },
  {
   "cell_type": "code",
   "execution_count": 34,
   "metadata": {},
   "outputs": [],
   "source": [
    "#Collapse the biogas points to a multipoint object, buffer 5000m, and pull its exent\n",
    "bg_extent = gdf_biogas.geometry.unary_union.buffer(5000).envelope\n",
    "\n",
    "#Mask the cost and pipe rasters\n",
    "cost_image, cost_transform = rasterio.mask.mask(ds_pipecost_full,[bg_extent],crop=True)\n",
    "pipe_image, pipe_transform = rasterio.mask.mask(ds_pipelines_full,[bg_extent],crop=True)\n",
    "\n",
    "#Update the pipe raster dtype (uint8) to match the cost raster's (uint16)\n",
    "pipe_image = pipe_image.astype(cost_image.dtype)"
   ]
  },
  {
   "cell_type": "markdown",
   "metadata": {},
   "source": [
    "* Save cost and pipeline subset images to two band raster dataset"
   ]
  },
  {
   "cell_type": "code",
   "execution_count": 62,
   "metadata": {},
   "outputs": [],
   "source": [
    "#Extract the dimensions of the output rasters\n",
    "out_height = cost_image.shape[1]\n",
    "out_width = cost_image.shape[2]\n",
    "#Create the subset cost surface metadata (altered from original)\n",
    "out_meta = ds_pipecost_full.meta\n",
    "out_meta.update({\"driver\":\"GTiff\",\"height\":out_height,\"width\":out_width,\"count\":2,\"transform\":cost_transform})\n",
    "#Stack the two images and write to output file\n",
    "out_stacked = np.concatenate((cost_image,pipe_image),axis=0)\n",
    "with rasterio.open(fn_subset_rasters,'w',**out_meta) as dst:\n",
    "    dst.write(out_stacked)"
   ]
  },
  {
   "cell_type": "code",
   "execution_count": 88,
   "metadata": {},
   "outputs": [],
   "source": [
    "#Read the raster back in \n",
    "ds_subset = rasterio.open(fn_subset_rasters)"
   ]
  },
  {
   "cell_type": "markdown",
   "metadata": {},
   "source": [
    "---\n",
    "## Analysis: Functions\n",
    "1. Compute least cost path for a biogas source to nearest pipe"
   ]
  },
  {
   "cell_type": "code",
   "execution_count": 122,
   "metadata": {},
   "outputs": [],
   "source": [
    "#Convert pipes array to a masked array\n",
    "arr_pipes = ds_subset.read(2)\n",
    "pipe_mask = np.ma.masked_array(arr_pipes,mask=arr_pipes==0)"
   ]
  },
  {
   "cell_type": "code",
   "execution_count": 93,
   "metadata": {},
   "outputs": [],
   "source": [
    "#Create a graph from the cost raster\n",
    "x_size,y_size = ds_subset.res\n",
    "arr_cost = ds_subset.read(1)\n",
    "lc_graph = graph.MCP_Geometric(arr_cost,sampling=(x_size,y_size))"
   ]
  },
  {
   "cell_type": "code",
   "execution_count": 189,
   "metadata": {},
   "outputs": [],
   "source": [
    "#def getLCP(layer_number)\n",
    "layer_number = 1\n",
    "\n",
    "#Get the biogas feature for the specified layer number\n",
    "bg_point = gdf_biogas.loc[layer_number,'geometry']\n",
    "#Get the index location\n",
    "idx = ds_subset.index(bg_point.x,bg_point.y)\n",
    "#Compute the cost-distance and traceback arrays\n",
    "cd_array, tb_array = lc_graph.find_costs(starts=([idx]))"
   ]
  },
  {
   "cell_type": "code",
   "execution_count": 157,
   "metadata": {},
   "outputs": [],
   "source": [
    "##Find the pipe coord with lowest cost in cd_array\n",
    "\n",
    "#Mask just pipeline pixels from cost distance output\n",
    "arr_cd_pipes = np.ma.masked_array(cd_array,mask=arr_pipes==0)\n",
    "#Locate the min value\n",
    "minPipeCost = arr_cd_pipes.min()\n",
    "#Determine the row and column where the min occurs\n",
    "rMin, cMin = np.where(arr_cd_pipes == minPipeCost)\n",
    "#Extract values from value arrays\n",
    "pipe_coords = (rMin[0],cMin[0])"
   ]
  },
  {
   "cell_type": "code",
   "execution_count": 158,
   "metadata": {},
   "outputs": [],
   "source": [
    "#Get the row/col indices of pixels in the LCP \n",
    "lcp_indices = lc_graph.traceback(pipe_coords)"
   ]
  },
  {
   "cell_type": "code",
   "execution_count": 195,
   "metadata": {},
   "outputs": [],
   "source": [
    "#Create linestring from lcp_indices\n",
    "pipe_line = LineString([ds_subset.xy(r,c) for r,c in lcp_indices])\n",
    "#Append pipe_line to gdf\n",
    "gdf_biogas.loc[layer_number,'route'] = pipe_line"
   ]
  },
  {
   "cell_type": "code",
   "execution_count": 182,
   "metadata": {},
   "outputs": [],
   "source": [
    "#Convert lcp_indices to array of ones (pipes) and zeros\n",
    "arr_LCP = np.zeros(arr_cost.shape)\n",
    "for r,c in lcp_indices:\n",
    "    arr_LCP[r,c] = 1"
   ]
  },
  {
   "cell_type": "code",
   "execution_count": null,
   "metadata": {},
   "outputs": [],
   "source": []
  }
 ],
 "metadata": {
  "kernelspec": {
   "display_name": "Python 3",
   "language": "python",
   "name": "python3"
  },
  "language_info": {
   "codemirror_mode": {
    "name": "ipython",
    "version": 3
   },
   "file_extension": ".py",
   "mimetype": "text/x-python",
   "name": "python",
   "nbconvert_exporter": "python",
   "pygments_lexer": "ipython3",
   "version": "3.7.6"
  }
 },
 "nbformat": 4,
 "nbformat_minor": 2
}
