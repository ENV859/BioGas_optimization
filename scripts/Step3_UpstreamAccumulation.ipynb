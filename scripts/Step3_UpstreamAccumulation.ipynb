{
 "cells": [
  {
   "cell_type": "markdown",
   "metadata": {},
   "source": [
    "# Network Analysis\n",
    "This notebook compute cumulative biogas potential for the pipeline segments. \n",
    "1. Read in the edge list computed from the pipeline segments. This includes the edge ID, the downstream edge ID, and the amount of biogas potential at the edge source. \n",
    "2. Build a graph and then iterate through node on the graph, trace downstream, and tally cumulative downstream biogas potential values.\n",
    "3. Export as a csv and shapefile"
   ]
  },
  {
   "cell_type": "code",
   "execution_count": 1,
   "metadata": {},
   "outputs": [],
   "source": [
    "#Import packages\n",
    "import networkx as nx\n",
    "import numpy as np\n",
    "import pandas as pd\n",
    "import geopandas as gpd"
   ]
  },
  {
   "cell_type": "code",
   "execution_count": 102,
   "metadata": {},
   "outputs": [
    {
     "data": {
      "text/html": [
       "<div>\n",
       "<style scoped>\n",
       "    .dataframe tbody tr th:only-of-type {\n",
       "        vertical-align: middle;\n",
       "    }\n",
       "\n",
       "    .dataframe tbody tr th {\n",
       "        vertical-align: top;\n",
       "    }\n",
       "\n",
       "    .dataframe thead th {\n",
       "        text-align: right;\n",
       "    }\n",
       "</style>\n",
       "<table border=\"1\" class=\"dataframe\">\n",
       "  <thead>\n",
       "    <tr style=\"text-align: right;\">\n",
       "      <th></th>\n",
       "      <th>route_id</th>\n",
       "      <th>edge_ID</th>\n",
       "      <th>downstream</th>\n",
       "      <th>SiteNo</th>\n",
       "      <th>Waste</th>\n",
       "      <th>Biogas</th>\n",
       "      <th>Type</th>\n",
       "      <th>geometry</th>\n",
       "    </tr>\n",
       "  </thead>\n",
       "  <tbody>\n",
       "    <tr>\n",
       "      <th>0</th>\n",
       "      <td>179</td>\n",
       "      <td>0</td>\n",
       "      <td>1</td>\n",
       "      <td>179</td>\n",
       "      <td>248472.480342</td>\n",
       "      <td>2.456923e+08</td>\n",
       "      <td>Source</td>\n",
       "      <td>LINESTRING (1582814.308 -311794.717, 1582814.3...</td>\n",
       "    </tr>\n",
       "    <tr>\n",
       "      <th>1</th>\n",
       "      <td>179</td>\n",
       "      <td>1</td>\n",
       "      <td>2</td>\n",
       "      <td>-1</td>\n",
       "      <td>0.000000</td>\n",
       "      <td>0.000000e+00</td>\n",
       "      <td>Route</td>\n",
       "      <td>LINESTRING (1582309.906 -310281.512, 1582309.9...</td>\n",
       "    </tr>\n",
       "    <tr>\n",
       "      <th>2</th>\n",
       "      <td>179</td>\n",
       "      <td>2</td>\n",
       "      <td>3</td>\n",
       "      <td>-1</td>\n",
       "      <td>0.000000</td>\n",
       "      <td>0.000000e+00</td>\n",
       "      <td>Route</td>\n",
       "      <td>LINESTRING (1582309.906 -308768.307, 1582309.9...</td>\n",
       "    </tr>\n",
       "    <tr>\n",
       "      <th>3</th>\n",
       "      <td>179</td>\n",
       "      <td>3</td>\n",
       "      <td>4</td>\n",
       "      <td>-1</td>\n",
       "      <td>0.000000</td>\n",
       "      <td>0.000000e+00</td>\n",
       "      <td>Route</td>\n",
       "      <td>LINESTRING (1582309.906 -308263.906, 1582309.9...</td>\n",
       "    </tr>\n",
       "    <tr>\n",
       "      <th>4</th>\n",
       "      <td>179</td>\n",
       "      <td>4</td>\n",
       "      <td>5</td>\n",
       "      <td>-1</td>\n",
       "      <td>0.000000</td>\n",
       "      <td>0.000000e+00</td>\n",
       "      <td>Route</td>\n",
       "      <td>LINESTRING (1582309.906 -307255.102, 1582814.3...</td>\n",
       "    </tr>\n",
       "  </tbody>\n",
       "</table>\n",
       "</div>"
      ],
      "text/plain": [
       "  route_id edge_ID downstream SiteNo          Waste        Biogas    Type  \\\n",
       "0      179       0          1    179  248472.480342  2.456923e+08  Source   \n",
       "1      179       1          2     -1       0.000000  0.000000e+00   Route   \n",
       "2      179       2          3     -1       0.000000  0.000000e+00   Route   \n",
       "3      179       3          4     -1       0.000000  0.000000e+00   Route   \n",
       "4      179       4          5     -1       0.000000  0.000000e+00   Route   \n",
       "\n",
       "                                            geometry  \n",
       "0  LINESTRING (1582814.308 -311794.717, 1582814.3...  \n",
       "1  LINESTRING (1582309.906 -310281.512, 1582309.9...  \n",
       "2  LINESTRING (1582309.906 -308768.307, 1582309.9...  \n",
       "3  LINESTRING (1582309.906 -308263.906, 1582309.9...  \n",
       "4  LINESTRING (1582309.906 -307255.102, 1582814.3...  "
      ]
     },
     "execution_count": 102,
     "metadata": {},
     "output_type": "execute_result"
    }
   ],
   "source": [
    "#Read the data in from the BasePipelines shapefile\n",
    "gdf_Pipelines = gpd.read_file('../data/processed/BasePipelines.shp')\n",
    "gdf_Pipelines.head()"
   ]
  },
  {
   "cell_type": "code",
   "execution_count": 3,
   "metadata": {},
   "outputs": [],
   "source": [
    "#Set the field name variables\n",
    "source_fld = 'edge_ID'\n",
    "target_fld = 'downstream'\n",
    "weight_fld = 'Waste'"
   ]
  },
  {
   "cell_type": "markdown",
   "metadata": {},
   "source": [
    "#### Create and populate the graph\n",
    "* Create a multi-directional graph\n",
    "* Iterate through the edge list and add add edges from the source/downstream nodes & weights"
   ]
  },
  {
   "cell_type": "code",
   "execution_count": 6,
   "metadata": {},
   "outputs": [],
   "source": [
    "#Construct the graph from the dataframe\n",
    "G = nx.from_pandas_edgelist(gdf_Pipelines,\n",
    "                            source=source_fld,\n",
    "                            target=target_fld,\n",
    "                            edge_attr=True,\n",
    "                            create_using=nx.MultiDiGraph\n",
    "                           )"
   ]
  },
  {
   "cell_type": "markdown",
   "metadata": {},
   "source": [
    "#### Compute total upstream biogas potential \n",
    "Iterate through each \"from\" node and find all its upstream nodes and sum their collective biogas potential values"
   ]
  },
  {
   "cell_type": "code",
   "execution_count": 130,
   "metadata": {},
   "outputs": [],
   "source": [
    "def getUpstream(node_id):\n",
    "    #Get a list of nodes downstream of the current node\n",
    "    up_nodes = nx.ancestors(G,node_id)\n",
    "    #Add the source node itself\n",
    "    up_nodes.add(node_id)\n",
    "    #return the sum of the weight field for all selected records\n",
    "    return int(gdf_Pipelines.loc[gdf_Pipelines[source_fld].isin(list(up_nodes)),weight_fld].sum())"
   ]
  },
  {
   "cell_type": "code",
   "execution_count": null,
   "metadata": {},
   "outputs": [],
   "source": [
    "#Apply the function \n",
    "gdf_Pipelines['AccumWaste'] = gdf_Pipelines[source_fld].apply(getUpstream)"
   ]
  },
  {
   "cell_type": "code",
   "execution_count": 131,
   "metadata": {},
   "outputs": [],
   "source": [
    "#Export results\n",
    "gdf_Pipelines.to_file('../data/processed/AccumWaste.shp')"
   ]
  },
  {
   "cell_type": "markdown",
   "metadata": {},
   "source": [
    "### Create node file"
   ]
  },
  {
   "cell_type": "code",
   "execution_count": 165,
   "metadata": {},
   "outputs": [
    {
     "data": {
      "text/html": [
       "<div>\n",
       "<style scoped>\n",
       "    .dataframe tbody tr th:only-of-type {\n",
       "        vertical-align: middle;\n",
       "    }\n",
       "\n",
       "    .dataframe tbody tr th {\n",
       "        vertical-align: top;\n",
       "    }\n",
       "\n",
       "    .dataframe thead th {\n",
       "        text-align: right;\n",
       "    }\n",
       "</style>\n",
       "<table border=\"1\" class=\"dataframe\">\n",
       "  <thead>\n",
       "    <tr style=\"text-align: right;\">\n",
       "      <th></th>\n",
       "      <th>route_id</th>\n",
       "      <th>edge_ID</th>\n",
       "      <th>downstream</th>\n",
       "      <th>SiteNo</th>\n",
       "      <th>Waste</th>\n",
       "      <th>Biogas</th>\n",
       "      <th>Type</th>\n",
       "      <th>geometry</th>\n",
       "      <th>UpWaste</th>\n",
       "    </tr>\n",
       "  </thead>\n",
       "  <tbody>\n",
       "    <tr>\n",
       "      <th>0</th>\n",
       "      <td>179</td>\n",
       "      <td>0</td>\n",
       "      <td>1</td>\n",
       "      <td>179</td>\n",
       "      <td>248472.480342</td>\n",
       "      <td>2.456923e+08</td>\n",
       "      <td>Source</td>\n",
       "      <td>LINESTRING (-78.54546 34.82150, -78.54441 34.8...</td>\n",
       "      <td>306955</td>\n",
       "    </tr>\n",
       "    <tr>\n",
       "      <th>1</th>\n",
       "      <td>179</td>\n",
       "      <td>1</td>\n",
       "      <td>2</td>\n",
       "      <td>-1</td>\n",
       "      <td>0.000000</td>\n",
       "      <td>0.000000e+00</td>\n",
       "      <td>Route</td>\n",
       "      <td>LINESTRING (-78.54773 34.83576, -78.54668 34.8...</td>\n",
       "      <td>504646</td>\n",
       "    </tr>\n",
       "    <tr>\n",
       "      <th>2</th>\n",
       "      <td>179</td>\n",
       "      <td>2</td>\n",
       "      <td>3</td>\n",
       "      <td>-1</td>\n",
       "      <td>0.000000</td>\n",
       "      <td>0.000000e+00</td>\n",
       "      <td>Route</td>\n",
       "      <td>LINESTRING (-78.54458 34.84915, -78.54353 34.8...</td>\n",
       "      <td>522565</td>\n",
       "    </tr>\n",
       "    <tr>\n",
       "      <th>3</th>\n",
       "      <td>179</td>\n",
       "      <td>3</td>\n",
       "      <td>4</td>\n",
       "      <td>-1</td>\n",
       "      <td>0.000000</td>\n",
       "      <td>0.000000e+00</td>\n",
       "      <td>Route</td>\n",
       "      <td>LINESTRING (-78.54353 34.85361, -78.54247 34.8...</td>\n",
       "      <td>630884</td>\n",
       "    </tr>\n",
       "    <tr>\n",
       "      <th>4</th>\n",
       "      <td>179</td>\n",
       "      <td>4</td>\n",
       "      <td>5</td>\n",
       "      <td>-1</td>\n",
       "      <td>0.000000</td>\n",
       "      <td>0.000000e+00</td>\n",
       "      <td>Route</td>\n",
       "      <td>LINESTRING (-78.54142 34.86254, -78.53494 34.8...</td>\n",
       "      <td>635032</td>\n",
       "    </tr>\n",
       "  </tbody>\n",
       "</table>\n",
       "</div>"
      ],
      "text/plain": [
       "  route_id edge_ID downstream SiteNo          Waste        Biogas    Type  \\\n",
       "0      179       0          1    179  248472.480342  2.456923e+08  Source   \n",
       "1      179       1          2     -1       0.000000  0.000000e+00   Route   \n",
       "2      179       2          3     -1       0.000000  0.000000e+00   Route   \n",
       "3      179       3          4     -1       0.000000  0.000000e+00   Route   \n",
       "4      179       4          5     -1       0.000000  0.000000e+00   Route   \n",
       "\n",
       "                                            geometry  UpWaste  \n",
       "0  LINESTRING (-78.54546 34.82150, -78.54441 34.8...   306955  \n",
       "1  LINESTRING (-78.54773 34.83576, -78.54668 34.8...   504646  \n",
       "2  LINESTRING (-78.54458 34.84915, -78.54353 34.8...   522565  \n",
       "3  LINESTRING (-78.54353 34.85361, -78.54247 34.8...   630884  \n",
       "4  LINESTRING (-78.54142 34.86254, -78.53494 34.8...   635032  "
      ]
     },
     "execution_count": 165,
     "metadata": {},
     "output_type": "execute_result"
    }
   ],
   "source": [
    "#Transform to WGS84\n",
    "gdfWGS84 = gdf_Pipelines.to_crs(4326)\n",
    "gdfWGS84.head()"
   ]
  },
  {
   "cell_type": "code",
   "execution_count": 195,
   "metadata": {},
   "outputs": [
    {
     "data": {
      "text/html": [
       "<div>\n",
       "<style scoped>\n",
       "    .dataframe tbody tr th:only-of-type {\n",
       "        vertical-align: middle;\n",
       "    }\n",
       "\n",
       "    .dataframe tbody tr th {\n",
       "        vertical-align: top;\n",
       "    }\n",
       "\n",
       "    .dataframe thead th {\n",
       "        text-align: right;\n",
       "    }\n",
       "</style>\n",
       "<table border=\"1\" class=\"dataframe\">\n",
       "  <thead>\n",
       "    <tr style=\"text-align: right;\">\n",
       "      <th></th>\n",
       "      <th>edge_ID</th>\n",
       "      <th>latitude</th>\n",
       "      <th>longitude</th>\n",
       "    </tr>\n",
       "  </thead>\n",
       "  <tbody>\n",
       "    <tr>\n",
       "      <th>0</th>\n",
       "      <td>0</td>\n",
       "      <td>34.821503</td>\n",
       "      <td>-78.545459</td>\n",
       "    </tr>\n",
       "    <tr>\n",
       "      <th>1</th>\n",
       "      <td>1</td>\n",
       "      <td>34.835759</td>\n",
       "      <td>-78.547733</td>\n",
       "    </tr>\n",
       "  </tbody>\n",
       "</table>\n",
       "</div>"
      ],
      "text/plain": [
       "  edge_ID   latitude  longitude\n",
       "0       0  34.821503 -78.545459\n",
       "1       1  34.835759 -78.547733"
      ]
     },
     "execution_count": 195,
     "metadata": {},
     "output_type": "execute_result"
    }
   ],
   "source": [
    "#Extract the first points in each segment\n",
    "gdfWGS84['longitude'] = gdfWGS84['geometry'].apply(lambda x: x.coords[0][0])\n",
    "gdfWGS84['latitude'] = gdfWGS84['geometry'].apply(lambda x: x.coords[0][1])\n",
    "df_First = (gdfWGS84[['edge_ID','latitude','longitude']]\n",
    "             .reset_index()\n",
    "             .drop('index',axis=1))\n",
    "df_First.head(2)"
   ]
  },
  {
   "cell_type": "code",
   "execution_count": 196,
   "metadata": {},
   "outputs": [
    {
     "data": {
      "text/html": [
       "<div>\n",
       "<style scoped>\n",
       "    .dataframe tbody tr th:only-of-type {\n",
       "        vertical-align: middle;\n",
       "    }\n",
       "\n",
       "    .dataframe tbody tr th {\n",
       "        vertical-align: top;\n",
       "    }\n",
       "\n",
       "    .dataframe thead th {\n",
       "        text-align: right;\n",
       "    }\n",
       "</style>\n",
       "<table border=\"1\" class=\"dataframe\">\n",
       "  <thead>\n",
       "    <tr style=\"text-align: right;\">\n",
       "      <th></th>\n",
       "      <th>edge_ID</th>\n",
       "      <th>latitude</th>\n",
       "      <th>longitude</th>\n",
       "    </tr>\n",
       "  </thead>\n",
       "  <tbody>\n",
       "    <tr>\n",
       "      <th>0</th>\n",
       "      <td>1</td>\n",
       "      <td>34.835759</td>\n",
       "      <td>-78.547733</td>\n",
       "    </tr>\n",
       "    <tr>\n",
       "      <th>1</th>\n",
       "      <td>2</td>\n",
       "      <td>34.849150</td>\n",
       "      <td>-78.544577</td>\n",
       "    </tr>\n",
       "  </tbody>\n",
       "</table>\n",
       "</div>"
      ],
      "text/plain": [
       "  edge_ID   latitude  longitude\n",
       "0       1  34.835759 -78.547733\n",
       "1       2  34.849150 -78.544577"
      ]
     },
     "execution_count": 196,
     "metadata": {},
     "output_type": "execute_result"
    }
   ],
   "source": [
    "#Extract the last points in each segment\n",
    "gdfWGS84['longitude'] = gdfWGS84['geometry'].apply(lambda x: x.coords[-1][0])\n",
    "gdfWGS84['latitude'] = gdfWGS84['geometry'].apply(lambda x: x.coords[-1][1])\n",
    "df_Last = (gdfWGS84[['downstream','latitude','longitude']]\n",
    "            .reset_index()\n",
    "            .rename({'downstream':'edge_ID'},axis=1)\n",
    "            .drop('index',axis=1))\n",
    "df_Last.head(2)"
   ]
  },
  {
   "cell_type": "code",
   "execution_count": 197,
   "metadata": {},
   "outputs": [],
   "source": [
    "df_Nodes = gdf_First.append(gdf_Last,ignore_index=True).drop_duplicates()"
   ]
  },
  {
   "cell_type": "code",
   "execution_count": 204,
   "metadata": {},
   "outputs": [],
   "source": [
    "gdf_Pipelines.merge(df_Nodes,on='edge_ID').drop('route_id',axis=1).to_csv(\"../data/processed/Nodes.csv\",index=False)"
   ]
  },
  {
   "cell_type": "code",
   "execution_count": null,
   "metadata": {},
   "outputs": [],
   "source": []
  }
 ],
 "metadata": {
  "kernelspec": {
   "display_name": "Python 3",
   "language": "python",
   "name": "python3"
  },
  "language_info": {
   "codemirror_mode": {
    "name": "ipython",
    "version": 3
   },
   "file_extension": ".py",
   "mimetype": "text/x-python",
   "name": "python",
   "nbconvert_exporter": "python",
   "pygments_lexer": "ipython3",
   "version": "3.7.6"
  }
 },
 "nbformat": 4,
 "nbformat_minor": 4
}
