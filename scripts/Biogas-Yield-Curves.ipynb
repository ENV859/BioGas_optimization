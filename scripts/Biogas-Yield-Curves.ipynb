{
 "cells": [
  {
   "cell_type": "code",
   "execution_count": 1,
   "metadata": {},
   "outputs": [],
   "source": [
    "#Imports\n",
    "import pandas as pd\n",
    "import numpy as np\n",
    "import matplotlib.pyplot as plt\n",
    "from scipy.optimize import curve_fit\n",
    "from scipy.stats import linregress\n",
    "%matplotlib inline"
   ]
  },
  {
   "cell_type": "markdown",
   "metadata": {},
   "source": [
    "### Conversions and assumptions"
   ]
  },
  {
   "cell_type": "code",
   "execution_count": 2,
   "metadata": {},
   "outputs": [],
   "source": [
    "#Conversions and assumptions\n",
    "biogas_methane = 0.60\n",
    "biogas_co2 = 0.4\n",
    "TCF = 1\n",
    "MMBtu = 1.037\n",
    "days = 365\n",
    "hours = days * 24\n",
    "\n",
    "#Swine farm type lagoon yields\n",
    "lagoon_yields = {'Swine - Feeder to Finish':[2336],\n",
    "                 'Swine - Wean to Feeder':[420],\n",
    "                 'Swine - Wean to Finish':[2068],\n",
    "                 'Swine - Farrow to Wean':[1183],\n",
    "                 'Swine - Farrow to Feeder':[1603]}"
   ]
  },
  {
   "cell_type": "markdown",
   "metadata": {},
   "source": [
    "### Compute cost curve slope and intercept"
   ]
  },
  {
   "cell_type": "code",
   "execution_count": 3,
   "metadata": {},
   "outputs": [
    {
     "data": {
      "text/html": [
       "<div>\n",
       "<style scoped>\n",
       "    .dataframe tbody tr th:only-of-type {\n",
       "        vertical-align: middle;\n",
       "    }\n",
       "\n",
       "    .dataframe tbody tr th {\n",
       "        vertical-align: top;\n",
       "    }\n",
       "\n",
       "    .dataframe thead th {\n",
       "        text-align: right;\n",
       "    }\n",
       "</style>\n",
       "<table border=\"1\" class=\"dataframe\">\n",
       "  <thead>\n",
       "    <tr style=\"text-align: right;\">\n",
       "      <th></th>\n",
       "      <th>Farm_type</th>\n",
       "      <th>Digester</th>\n",
       "      <th>Biogas</th>\n",
       "      <th>Methane</th>\n",
       "    </tr>\n",
       "  </thead>\n",
       "  <tbody>\n",
       "    <tr>\n",
       "      <th>0</th>\n",
       "      <td>Swine</td>\n",
       "      <td>Covered Lagoon</td>\n",
       "      <td>634</td>\n",
       "      <td>23.7</td>\n",
       "    </tr>\n",
       "    <tr>\n",
       "      <th>1</th>\n",
       "      <td>Swine</td>\n",
       "      <td>Covered Lagoon</td>\n",
       "      <td>1226</td>\n",
       "      <td>13.7</td>\n",
       "    </tr>\n",
       "    <tr>\n",
       "      <th>2</th>\n",
       "      <td>Swine</td>\n",
       "      <td>Covered Lagoon</td>\n",
       "      <td>6436</td>\n",
       "      <td>5.2</td>\n",
       "    </tr>\n",
       "  </tbody>\n",
       "</table>\n",
       "</div>"
      ],
      "text/plain": [
       "  Farm_type        Digester  Biogas  Methane\n",
       "0     Swine  Covered Lagoon     634     23.7\n",
       "1     Swine  Covered Lagoon    1226     13.7\n",
       "2     Swine  Covered Lagoon    6436      5.2"
      ]
     },
     "execution_count": 3,
     "metadata": {},
     "output_type": "execute_result"
    }
   ],
   "source": [
    "#IMPORT THE DATA\n",
    "#Swine Waste to Methane Cost Data\n",
    "dfWasteToCost = pd.DataFrame({\"Farm_type\":\"Swine\",\n",
    "                              \"Digester\":\"Covered Lagoon\",\n",
    "                              \"Biogas\":[634,1226,6436],\n",
    "                              \"Methane\":[23.7,13.7,5.2]\n",
    "                             })\n",
    "dfWasteToCost"
   ]
  },
  {
   "cell_type": "code",
   "execution_count": 4,
   "metadata": {},
   "outputs": [
    {
     "name": "stdout",
     "output_type": "stream",
     "text": [
      "Cost curve slope = \t-7.43\n",
      "Cost curve intercept = \t69.51\n",
      "R-squared = \t\t0.9179\n"
     ]
    }
   ],
   "source": [
    "#OMPUTE THE CURVE FORMULA\n",
    "#Set x to log of Biogas values\n",
    "x = np.log(dfWasteToCost.Biogas)\n",
    "#Set y to methand costs\n",
    "y = dfWasteToCost.Methane\n",
    "#Apply linear regression \n",
    "cost_curve_slope,cost_curve_intercept,r,p,str_err = linregress(x, y)\n",
    "print(\"Cost curve slope = \\t{0:.2f}\".format(cost_curve_slope))\n",
    "print(\"Cost curve intercept = \\t{0:.2f}\".format(cost_curve_intercept))\n",
    "print(\"R-squared = \\t\\t{0:.4f}\".format(r**2))\n",
    "#Create the formula\n",
    "fx = np.poly1d((cost_curve_slope,cost_curve_intercept))"
   ]
  },
  {
   "cell_type": "code",
   "execution_count": 5,
   "metadata": {},
   "outputs": [
    {
     "data": {
      "image/png": "[encoded data removed]",
      "text/plain": [
       "<Figure size 576x288 with 1 Axes>"
      ]
     },
     "metadata": {
      "needs_background": "light"
     },
     "output_type": "display_data"
    }
   ],
   "source": [
    "#PLOT THE CURVE\n",
    "fx_txt = \"y = {0:.2f}ln(x) + {1:.2f}\".format(cost_curve_slope,cost_curve_intercept)\n",
    "xp = np.log(np.linspace(1,7000,200))\n",
    "plt.figure(figsize=(8,4))\n",
    "plt.plot(np.exp(x), y, 'ko', label=\"\")\n",
    "plt.plot(np.exp(xp), fx(xp), 'r-', label=fx_txt)\n",
    "plt.legend()\n",
    "plt.ylim(0,80)\n",
    "plt.xlabel(\"Biogas Feed Flow (sfc/h)\")\n",
    "plt.ylabel(\"Methane Cost ($/MMBtu)\")\n",
    "plt.grid()"
   ]
  },
  {
   "cell_type": "code",
   "execution_count": 6,
   "metadata": {},
   "outputs": [
    {
     "data": {
      "text/html": [
       "<div>\n",
       "<style scoped>\n",
       "    .dataframe tbody tr th:only-of-type {\n",
       "        vertical-align: middle;\n",
       "    }\n",
       "\n",
       "    .dataframe tbody tr th {\n",
       "        vertical-align: top;\n",
       "    }\n",
       "\n",
       "    .dataframe thead th {\n",
       "        text-align: right;\n",
       "    }\n",
       "</style>\n",
       "<table border=\"1\" class=\"dataframe\">\n",
       "  <thead>\n",
       "    <tr style=\"text-align: right;\">\n",
       "      <th></th>\n",
       "      <th>Biogas_annual_yield</th>\n",
       "      <th>Methane_annual_yield</th>\n",
       "    </tr>\n",
       "  </thead>\n",
       "  <tbody>\n",
       "    <tr>\n",
       "      <th>Swine - Feeder to Finish</th>\n",
       "      <td>2336</td>\n",
       "      <td>1.453459</td>\n",
       "    </tr>\n",
       "    <tr>\n",
       "      <th>Swine - Wean to Feeder</th>\n",
       "      <td>420</td>\n",
       "      <td>0.261324</td>\n",
       "    </tr>\n",
       "    <tr>\n",
       "      <th>Swine - Wean to Finish</th>\n",
       "      <td>2068</td>\n",
       "      <td>1.286710</td>\n",
       "    </tr>\n",
       "    <tr>\n",
       "      <th>Swine - Farrow to Wean</th>\n",
       "      <td>1183</td>\n",
       "      <td>0.736063</td>\n",
       "    </tr>\n",
       "    <tr>\n",
       "      <th>Swine - Farrow to Feeder</th>\n",
       "      <td>1603</td>\n",
       "      <td>0.997387</td>\n",
       "    </tr>\n",
       "  </tbody>\n",
       "</table>\n",
       "</div>"
      ],
      "text/plain": [
       "                          Biogas_annual_yield  Methane_annual_yield\n",
       "Swine - Feeder to Finish                 2336              1.453459\n",
       "Swine - Wean to Feeder                    420              0.261324\n",
       "Swine - Wean to Finish                   2068              1.286710\n",
       "Swine - Farrow to Wean                   1183              0.736063\n",
       "Swine - Farrow to Feeder                 1603              0.997387"
      ]
     },
     "execution_count": 6,
     "metadata": {},
     "output_type": "execute_result"
    }
   ],
   "source": [
    "#CREATE THE TABLE OF LAGOON BIOGAS PRODUCTION FOR EACH TIME\n",
    "#Farm Type | Biogas (scf/year) | Methane (MMBtu/year)\n",
    "dfYields = pd.DataFrame(lagoon_yields).T\n",
    "dfYields.columns = ['Biogas_annual_yield']\n",
    "#Compute Methand yield from biogas yield and convertion factor\n",
    "dfYields['Methane_annual_yield'] = MMBtu * (dfYields['Biogas_annual_yield'] * biogas_methane)/1000\n",
    "dfYields"
   ]
  },
  {
   "cell_type": "markdown",
   "metadata": {},
   "source": [
    "### Compute values for each farm in the Excel worksheet"
   ]
  },
  {
   "cell_type": "code",
   "execution_count": 7,
   "metadata": {},
   "outputs": [],
   "source": [
    "#Read in the data\n",
    "dfDuplin = pd.read_excel('../data/DuplinCountySwineFarmEconomics.xlsx',\n",
    "                         sheet_name='Duplin County Swine Farm Master').iloc[:,:13]\n",
    "#Join the lagoon data\n",
    "dfDuplin = dfDuplin.join(dfYields,on=['Regulated Activity'])"
   ]
  },
  {
   "cell_type": "code",
   "execution_count": 8,
   "metadata": {},
   "outputs": [],
   "source": [
    "#Compute derived columns \n",
    "dfDuplin['Biogas_feed_flow_per_hour'] = (dfDuplin['Allowable Count'] * \n",
    "                                         dfDuplin['Biogas_annual_yield'] / \n",
    "                                         hours)\n",
    "dfDuplin['Total_methane_yield'] = (dfDuplin['Allowable Count'] * \n",
    "                                   dfDuplin['Methane_annual_yield']) \n",
    "dfDuplin['Methane_production_cost'] = (cost_curve_slope * \n",
    "                                       np.log(dfDuplin['Biogas_feed_flow_per_hour']) + \n",
    "                                       cost_curve_intercept)\n",
    "dfDuplin['Total_production_cost'] = dfDuplin['Total_methane_yield'] * dfDuplin['Methane_production_cost']"
   ]
  },
  {
   "cell_type": "code",
   "execution_count": 9,
   "metadata": {},
   "outputs": [
    {
     "data": {
      "text/html": [
       "<div>\n",
       "<style scoped>\n",
       "    .dataframe tbody tr th:only-of-type {\n",
       "        vertical-align: middle;\n",
       "    }\n",
       "\n",
       "    .dataframe tbody tr th {\n",
       "        vertical-align: top;\n",
       "    }\n",
       "\n",
       "    .dataframe thead th {\n",
       "        text-align: right;\n",
       "    }\n",
       "</style>\n",
       "<table border=\"1\" class=\"dataframe\">\n",
       "  <thead>\n",
       "    <tr style=\"text-align: right;\">\n",
       "      <th></th>\n",
       "      <th>Admin Region</th>\n",
       "      <th>County Name</th>\n",
       "      <th>Farm Latitude</th>\n",
       "      <th>Farm Longitude</th>\n",
       "      <th>Biogas_annual_yield</th>\n",
       "      <th>Methane_annual_yield</th>\n",
       "      <th>Biogas_feed_flow_per_hour</th>\n",
       "      <th>Total_methane_yield</th>\n",
       "      <th>Methane_production_cost</th>\n",
       "      <th>Total_production_cost</th>\n",
       "    </tr>\n",
       "  </thead>\n",
       "  <tbody>\n",
       "    <tr>\n",
       "      <th>0</th>\n",
       "      <td>Wilmington</td>\n",
       "      <td>Duplin</td>\n",
       "      <td>34.725000</td>\n",
       "      <td>-77.758300</td>\n",
       "      <td>2336</td>\n",
       "      <td>1.453459</td>\n",
       "      <td>2937.600000</td>\n",
       "      <td>16011.306547</td>\n",
       "      <td>10.181066</td>\n",
       "      <td>163012.164846</td>\n",
       "    </tr>\n",
       "    <tr>\n",
       "      <th>1</th>\n",
       "      <td>Wilmington</td>\n",
       "      <td>Duplin</td>\n",
       "      <td>34.727500</td>\n",
       "      <td>-77.960600</td>\n",
       "      <td>2336</td>\n",
       "      <td>1.453459</td>\n",
       "      <td>314.666667</td>\n",
       "      <td>1715.081856</td>\n",
       "      <td>26.777412</td>\n",
       "      <td>45925.453657</td>\n",
       "    </tr>\n",
       "    <tr>\n",
       "      <th>2</th>\n",
       "      <td>Wilmington</td>\n",
       "      <td>Duplin</td>\n",
       "      <td>34.730108</td>\n",
       "      <td>-77.772947</td>\n",
       "      <td>420</td>\n",
       "      <td>0.261324</td>\n",
       "      <td>124.657534</td>\n",
       "      <td>679.442400</td>\n",
       "      <td>33.656741</td>\n",
       "      <td>22867.816918</td>\n",
       "    </tr>\n",
       "    <tr>\n",
       "      <th>3</th>\n",
       "      <td>Wilmington</td>\n",
       "      <td>Duplin</td>\n",
       "      <td>34.731100</td>\n",
       "      <td>-77.732800</td>\n",
       "      <td>2336</td>\n",
       "      <td>1.453459</td>\n",
       "      <td>1536.000000</td>\n",
       "      <td>8371.924992</td>\n",
       "      <td>14.998459</td>\n",
       "      <td>125565.973452</td>\n",
       "    </tr>\n",
       "    <tr>\n",
       "      <th>4</th>\n",
       "      <td>Wilmington</td>\n",
       "      <td>Duplin</td>\n",
       "      <td>34.731900</td>\n",
       "      <td>-77.796400</td>\n",
       "      <td>2336</td>\n",
       "      <td>1.453459</td>\n",
       "      <td>2611.200000</td>\n",
       "      <td>14232.272486</td>\n",
       "      <td>11.056139</td>\n",
       "      <td>157353.979156</td>\n",
       "    </tr>\n",
       "  </tbody>\n",
       "</table>\n",
       "</div>"
      ],
      "text/plain": [
       "  Admin Region County Name  Farm Latitude  Farm Longitude  \\\n",
       "0   Wilmington      Duplin      34.725000      -77.758300   \n",
       "1   Wilmington      Duplin      34.727500      -77.960600   \n",
       "2   Wilmington      Duplin      34.730108      -77.772947   \n",
       "3   Wilmington      Duplin      34.731100      -77.732800   \n",
       "4   Wilmington      Duplin      34.731900      -77.796400   \n",
       "\n",
       "   Biogas_annual_yield  Methane_annual_yield  Biogas_feed_flow_per_hour  \\\n",
       "0                 2336              1.453459                2937.600000   \n",
       "1                 2336              1.453459                 314.666667   \n",
       "2                  420              0.261324                 124.657534   \n",
       "3                 2336              1.453459                1536.000000   \n",
       "4                 2336              1.453459                2611.200000   \n",
       "\n",
       "   Total_methane_yield  Methane_production_cost  Total_production_cost  \n",
       "0         16011.306547                10.181066          163012.164846  \n",
       "1          1715.081856                26.777412           45925.453657  \n",
       "2           679.442400                33.656741           22867.816918  \n",
       "3          8371.924992                14.998459          125565.973452  \n",
       "4         14232.272486                11.056139          157353.979156  "
      ]
     },
     "execution_count": 9,
     "metadata": {},
     "output_type": "execute_result"
    }
   ],
   "source": [
    "dfDuplin.iloc[:,9:].head()"
   ]
  },
  {
   "cell_type": "code",
   "execution_count": 10,
   "metadata": {},
   "outputs": [],
   "source": [
    "#Sort on Total Potential Methane Yield (MMBtu/y) - high to low\n",
    "dfDuplin.sort_values('Total_methane_yield',ascending=False,inplace=True)\n",
    "#Compute cumulative sum of Total Potential Methane Yield (MMBtu/y)\n",
    "dfDuplin['Cumulative_methane_yield'] = dfDuplin['Total_methane_yield'].cumsum()\n",
    "#Compute cumulative percentages\n",
    "dfDuplin['Cumulative Percentage (%)'] = (dfDuplin['Cumulative_methane_yield'] / \n",
    "                                         dfDuplin['Cumulative_methane_yield'].max())"
   ]
  },
  {
   "cell_type": "code",
   "execution_count": 11,
   "metadata": {},
   "outputs": [
    {
     "data": {
      "image/png": "[encoded data removed]",
      "text/plain": [
       "<Figure size 432x360 with 1 Axes>"
      ]
     },
     "metadata": {
      "needs_background": "light"
     },
     "output_type": "display_data"
    }
   ],
   "source": [
    "#Plot Cost vs Yield\n",
    "x = dfDuplin['Cumulative_methane_yield']\n",
    "y = dfDuplin['Methane_production_cost']\n",
    "plt.figure(figsize=(6,5))\n",
    "plt.plot(x,y,'r-')\n",
    "plt.xlabel('Cumulative Potential Methane Yield (MMBtu/y)')\n",
    "plt.ylabel('Estimated Methane Production Cost ($/MMBtu)')\n",
    "plt.grid()\n",
    "plt.show()"
   ]
  },
  {
   "cell_type": "markdown",
   "metadata": {},
   "source": [
    "## Pipe Cost"
   ]
  },
  {
   "cell_type": "code",
   "execution_count": 136,
   "metadata": {},
   "outputs": [
    {
     "data": {
      "text/plain": [
       "<matplotlib.axes._subplots.AxesSubplot at 0x15bc4e39f98>"
      ]
     },
     "execution_count": 136,
     "metadata": {},
     "output_type": "execute_result"
    },
    {
     "data": {
      "image/png": "[encoded data removed]",
      "text/plain": [
       "<Figure size 432x288 with 1 Axes>"
      ]
     },
     "metadata": {
      "needs_background": "light"
     },
     "output_type": "display_data"
    }
   ],
   "source": [
    "dfP = pd.DataFrame({'pipe_size':['2','4','6','8','Right of way'],\n",
    "                    'lp_low_cost_per_mile':[6947,9924,13894,19848,11909],\n",
    "                    'lp_avg_cost_per_mile':[15878,19848,24314,32252,34733],\n",
    "                    'lp_high_cost_per_mile':[24809,29771,34733,44656,57556],\n",
    "                    'hp_low_cost_per_mile':[34733,59541,198468,248085,11909],\n",
    "                    'hp_avg_cost_per_mile':[131486,228238,496169,620211,34733],\n",
    "                    'hp_high_cost_per_mile':[228238,396935,793870,992337,57556]}).set_index('pipe_size')\n",
    "dfP.columns = pd.MultiIndex.from_product([['low_pressure','high_pressure'],\n",
    "                            ['low_cost','avg_cost','high_cost']],\n",
    "                           names=['pressure','cost']\n",
    "                            )\n",
    "df.iloc[:,:-1].T.plot()"
   ]
  },
  {
   "cell_type": "code",
   "execution_count": 137,
   "metadata": {},
   "outputs": [
    {
     "data": {
      "text/plain": [
       "<matplotlib.axes._subplots.AxesSubplot at 0x15bc517f710>"
      ]
     },
     "execution_count": 137,
     "metadata": {},
     "output_type": "execute_result"
    },
    {
     "data": {
      "image/png": "[encoded data removed]",
      "text/plain": [
       "<Figure size 864x216 with 1 Axes>"
      ]
     },
     "metadata": {
      "needs_background": "light"
     },
     "output_type": "display_data"
    }
   ],
   "source": [
    "dfP['low_pressure'][:-1].plot(figsize=(12,3))"
   ]
  },
  {
   "cell_type": "code",
   "execution_count": 157,
   "metadata": {},
   "outputs": [],
   "source": [
    "dfLP = dfP['low_pressure'][:-1]\n",
    "dfHP = dfP['high_pressure'][:-1]"
   ]
  },
  {
   "cell_type": "code",
   "execution_count": 258,
   "metadata": {},
   "outputs": [
    {
     "name": "stdout",
     "output_type": "stream",
     "text": [
      "y = 54577x**(1.1676):  R2 =0.9651\n"
     ]
    }
   ],
   "source": [
    "x = [2,4,6,8]\n",
    "y = dfHP.avg_cost\n",
    "#Log transform values\n",
    "lx = np.log(x)\n",
    "ly = np.log(y)\n",
    "#Compute least squares on log data\n",
    "slope,intercept,r,p,str_err = linregress(lx, ly)\n",
    "power = np.exp(slope)\n",
    "coeff = np.exp(intercept)\n",
    "strFormula = \"y = {0:.0f}x**({1:.4f}):  R2 ={2:.4f}\".format(coeff,slope,r**2)\n",
    "print(strFormula)\n",
    "\n",
    "#Create the formula\n",
    "fx = np.poly1d(power,coeff)\n",
    "fz = np.poly1d(slope, coeff)"
   ]
  },
  {
   "cell_type": "code",
   "execution_count": 243,
   "metadata": {},
   "outputs": [],
   "source": [
    "def HPx(x):\n",
    "    return coeff * x**slope"
   ]
  },
  {
   "cell_type": "code",
   "execution_count": 268,
   "metadata": {},
   "outputs": [
    {
     "data": {
      "image/png": "[encoded data removed]",
      "text/plain": [
       "<Figure size 864x288 with 1 Axes>"
      ]
     },
     "metadata": {
      "needs_background": "light"
     },
     "output_type": "display_data"
    }
   ],
   "source": [
    "#PLOT THE CURVE\n",
    "fx_txt = \"y = {0:.2f}ln(x) + {1:.2f}\".format(cost_curve_slope,cost_curve_intercept)\n",
    "xp = np.linspace(1,8,10)\n",
    "plt.figure(figsize=(12,4))\n",
    "plt.plot(x, y, 'ko', label=\"\")\n",
    "plt.plot(xp,(Fx(xp)), 'g-', label=strFormula)\n",
    "plt.legend()\n",
    "plt.ylim(0,800000)\n",
    "plt.xlim(1,9)\n",
    "plt.ylabel(\"Pipeline Cost (%/mi.)\")\n",
    "plt.xlabel(\"Pipeline Diameter (in.)\")\n",
    "plt.grid()"
   ]
  }
 ],
 "metadata": {
  "kernelspec": {
   "display_name": "Python 3",
   "language": "python",
   "name": "python3"
  },
  "language_info": {
   "codemirror_mode": {
    "name": "ipython",
    "version": 3
   },
   "file_extension": ".py",
   "mimetype": "text/x-python",
   "name": "python",
   "nbconvert_exporter": "python",
   "pygments_lexer": "ipython3",
   "version": "3.6.8"
  }
 },
 "nbformat": 4,
 "nbformat_minor": 2
}
