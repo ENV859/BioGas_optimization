{
 "cells": [
  {
   "cell_type": "code",
   "execution_count": 1,
   "metadata": {},
   "outputs": [],
   "source": [
    "import pandas as pd\n",
    "import numpy as np\n",
    "import matplotlib.pyplot as plt\n",
    "%matplotlib inline\n",
    "from scipy.optimize import curve_fit"
   ]
  },
  {
   "cell_type": "code",
   "execution_count": 13,
   "metadata": {},
   "outputs": [],
   "source": [
    "#Conversions and assumptions\n",
    "biogas_methane = 0.60\n",
    "biogas_co2 = 0.4\n",
    "TCF = 1\n",
    "MMBtu = 1.037\n",
    "days = 365\n",
    "hours = days * 24"
   ]
  },
  {
   "cell_type": "code",
   "execution_count": 32,
   "metadata": {},
   "outputs": [],
   "source": [
    "#Create the Lagoon yield values\n",
    "#Farm Type | Biogas (scf/year) | Methane (MMBtu/year)\n",
    "theDict = {'Swine - Feeder to Finish':[2336],\n",
    "           'Swine - Wean to Feeder':[420],\n",
    "           'Swine - Wean to Finish':[2068],\n",
    "           'Swine - Farrow to Wean':[1183],\n",
    "           'Swine - Farrow to Feeder':[1603]}"
   ]
  },
  {
   "cell_type": "code",
   "execution_count": 33,
   "metadata": {},
   "outputs": [
    {
     "data": {
      "text/html": [
       "<div>\n",
       "<style scoped>\n",
       "    .dataframe tbody tr th:only-of-type {\n",
       "        vertical-align: middle;\n",
       "    }\n",
       "\n",
       "    .dataframe tbody tr th {\n",
       "        vertical-align: top;\n",
       "    }\n",
       "\n",
       "    .dataframe thead th {\n",
       "        text-align: right;\n",
       "    }\n",
       "</style>\n",
       "<table border=\"1\" class=\"dataframe\">\n",
       "  <thead>\n",
       "    <tr style=\"text-align: right;\">\n",
       "      <th></th>\n",
       "      <th>Biogas_annual_yield</th>\n",
       "      <th>Methane_annual_yield</th>\n",
       "    </tr>\n",
       "  </thead>\n",
       "  <tbody>\n",
       "    <tr>\n",
       "      <th>Swine - Feeder to Finish</th>\n",
       "      <td>2336</td>\n",
       "      <td>1.453459</td>\n",
       "    </tr>\n",
       "    <tr>\n",
       "      <th>Swine - Wean to Feeder</th>\n",
       "      <td>420</td>\n",
       "      <td>0.261324</td>\n",
       "    </tr>\n",
       "    <tr>\n",
       "      <th>Swine - Wean to Finish</th>\n",
       "      <td>2068</td>\n",
       "      <td>1.286710</td>\n",
       "    </tr>\n",
       "    <tr>\n",
       "      <th>Swine - Farrow to Wean</th>\n",
       "      <td>1183</td>\n",
       "      <td>0.736063</td>\n",
       "    </tr>\n",
       "    <tr>\n",
       "      <th>Swine - Farrow to Feeder</th>\n",
       "      <td>1603</td>\n",
       "      <td>0.997387</td>\n",
       "    </tr>\n",
       "  </tbody>\n",
       "</table>\n",
       "</div>"
      ],
      "text/plain": [
       "                          Biogas_annual_yield  Methane_annual_yield\n",
       "Swine - Feeder to Finish                 2336              1.453459\n",
       "Swine - Wean to Feeder                    420              0.261324\n",
       "Swine - Wean to Finish                   2068              1.286710\n",
       "Swine - Farrow to Wean                   1183              0.736063\n",
       "Swine - Farrow to Feeder                 1603              0.997387"
      ]
     },
     "execution_count": 33,
     "metadata": {},
     "output_type": "execute_result"
    }
   ],
   "source": [
    "dfYields = pd.DataFrame.from_dict(theDict).T\n",
    "dfYields.columns = ['Biogas_annual_yield']\n",
    "dfYields['Methane_annual_yield'] = MMBtu * (dfYields['Biogas_annual_yield'] * biogas_methane)/1000\n",
    "dfYields"
   ]
  },
  {
   "cell_type": "code",
   "execution_count": 34,
   "metadata": {},
   "outputs": [],
   "source": [
    "#Read in the data\n",
    "dfDuplin = pd.read_excel('../data/DuplinCountySwineFarmEconomics.xlsx',sheet_name='Duplin County Swine Farm Master').iloc[:,:13]\n",
    "dfDuplin.columns\n",
    "\n",
    "#Join the lagoon data\n",
    "dfDuplin = dfDuplin.join(dfYields,on=['Regulated Activity'])"
   ]
  },
  {
   "cell_type": "code",
   "execution_count": 35,
   "metadata": {},
   "outputs": [],
   "source": [
    "#Compute total feed flow \n",
    "dfDuplin['Biogas_feed_flow_per_hour'] = dfDuplin['Allowable Count'] * dfDuplin['Biogas_annual_yield'] / hours\n",
    "dfDuplin['Total_methane_yield'] = dfDuplin['Allowable Count'] * dfDuplin['Methane_annual_yield'] "
   ]
  },
  {
   "cell_type": "code",
   "execution_count": 28,
   "metadata": {},
   "outputs": [
    {
     "data": {
      "text/html": [
       "<div>\n",
       "<style scoped>\n",
       "    .dataframe tbody tr th:only-of-type {\n",
       "        vertical-align: middle;\n",
       "    }\n",
       "\n",
       "    .dataframe tbody tr th {\n",
       "        vertical-align: top;\n",
       "    }\n",
       "\n",
       "    .dataframe thead th {\n",
       "        text-align: right;\n",
       "    }\n",
       "</style>\n",
       "<table border=\"1\" class=\"dataframe\">\n",
       "  <thead>\n",
       "    <tr style=\"text-align: right;\">\n",
       "      <th></th>\n",
       "      <th>Permit Number</th>\n",
       "      <th>Facility Name</th>\n",
       "      <th>Permit Type</th>\n",
       "      <th>Regulated Activity</th>\n",
       "      <th>Allowable Count</th>\n",
       "      <th>Number Of Lagoons</th>\n",
       "      <th>Issued Date</th>\n",
       "      <th>Effective Date</th>\n",
       "      <th>Expiration Date</th>\n",
       "      <th>Admin Region</th>\n",
       "      <th>County Name</th>\n",
       "      <th>Farm Latitude</th>\n",
       "      <th>Farm Longitude</th>\n",
       "      <th>Biogas_annual_yield</th>\n",
       "      <th>Methane_annual_yield</th>\n",
       "      <th>Biogas_feed_flow_per_hour</th>\n",
       "      <th>Total_methane_yield</th>\n",
       "    </tr>\n",
       "  </thead>\n",
       "  <tbody>\n",
       "    <tr>\n",
       "      <th>0</th>\n",
       "      <td>AWS310150</td>\n",
       "      <td>Doug Bond Farm</td>\n",
       "      <td>Swine State COC</td>\n",
       "      <td>Swine - Feeder to Finish</td>\n",
       "      <td>11016</td>\n",
       "      <td>3.0</td>\n",
       "      <td>41913</td>\n",
       "      <td>41913</td>\n",
       "      <td>43738</td>\n",
       "      <td>Wilmington</td>\n",
       "      <td>Duplin</td>\n",
       "      <td>34.725000</td>\n",
       "      <td>-77.758300</td>\n",
       "      <td>2336.0</td>\n",
       "      <td>1.45</td>\n",
       "      <td>2937.600000</td>\n",
       "      <td>15973.2</td>\n",
       "    </tr>\n",
       "    <tr>\n",
       "      <th>1</th>\n",
       "      <td>AWS310593</td>\n",
       "      <td>Major Murray Hog Farm</td>\n",
       "      <td>Swine State COC</td>\n",
       "      <td>Swine - Feeder to Finish</td>\n",
       "      <td>1180</td>\n",
       "      <td>1.0</td>\n",
       "      <td>41913</td>\n",
       "      <td>41913</td>\n",
       "      <td>43738</td>\n",
       "      <td>Wilmington</td>\n",
       "      <td>Duplin</td>\n",
       "      <td>34.727500</td>\n",
       "      <td>-77.960600</td>\n",
       "      <td>2336.0</td>\n",
       "      <td>1.45</td>\n",
       "      <td>314.666667</td>\n",
       "      <td>1711.0</td>\n",
       "    </tr>\n",
       "    <tr>\n",
       "      <th>2</th>\n",
       "      <td>AWS310308</td>\n",
       "      <td>Jerry Michael Walker Farm</td>\n",
       "      <td>Swine State COC</td>\n",
       "      <td>Swine - Wean to Feeder</td>\n",
       "      <td>2600</td>\n",
       "      <td>1.0</td>\n",
       "      <td>41913</td>\n",
       "      <td>41913</td>\n",
       "      <td>43738</td>\n",
       "      <td>Wilmington</td>\n",
       "      <td>Duplin</td>\n",
       "      <td>34.730108</td>\n",
       "      <td>-77.772947</td>\n",
       "      <td>420.0</td>\n",
       "      <td>0.26</td>\n",
       "      <td>124.657534</td>\n",
       "      <td>676.0</td>\n",
       "    </tr>\n",
       "    <tr>\n",
       "      <th>3</th>\n",
       "      <td>AWS310260</td>\n",
       "      <td>LD &amp; Winfred Maready Farm</td>\n",
       "      <td>Swine State COC</td>\n",
       "      <td>Swine - Feeder to Finish</td>\n",
       "      <td>5760</td>\n",
       "      <td>2.0</td>\n",
       "      <td>41913</td>\n",
       "      <td>41913</td>\n",
       "      <td>43738</td>\n",
       "      <td>Wilmington</td>\n",
       "      <td>Duplin</td>\n",
       "      <td>34.731100</td>\n",
       "      <td>-77.732800</td>\n",
       "      <td>2336.0</td>\n",
       "      <td>1.45</td>\n",
       "      <td>1536.000000</td>\n",
       "      <td>8352.0</td>\n",
       "    </tr>\n",
       "    <tr>\n",
       "      <th>4</th>\n",
       "      <td>AWS310821</td>\n",
       "      <td>Juniper Farms #1 &amp; #2</td>\n",
       "      <td>Swine State COC</td>\n",
       "      <td>Swine - Feeder to Finish</td>\n",
       "      <td>9792</td>\n",
       "      <td>1.0</td>\n",
       "      <td>41913</td>\n",
       "      <td>41913</td>\n",
       "      <td>43738</td>\n",
       "      <td>Wilmington</td>\n",
       "      <td>Duplin</td>\n",
       "      <td>34.731900</td>\n",
       "      <td>-77.796400</td>\n",
       "      <td>2336.0</td>\n",
       "      <td>1.45</td>\n",
       "      <td>2611.200000</td>\n",
       "      <td>14198.4</td>\n",
       "    </tr>\n",
       "  </tbody>\n",
       "</table>\n",
       "</div>"
      ],
      "text/plain": [
       "  Permit Number              Facility Name      Permit Type  \\\n",
       "0     AWS310150             Doug Bond Farm  Swine State COC   \n",
       "1     AWS310593      Major Murray Hog Farm  Swine State COC   \n",
       "2     AWS310308  Jerry Michael Walker Farm  Swine State COC   \n",
       "3     AWS310260  LD & Winfred Maready Farm  Swine State COC   \n",
       "4     AWS310821      Juniper Farms #1 & #2  Swine State COC   \n",
       "\n",
       "         Regulated Activity  Allowable Count  Number Of Lagoons  Issued Date  \\\n",
       "0  Swine - Feeder to Finish            11016                3.0        41913   \n",
       "1  Swine - Feeder to Finish             1180                1.0        41913   \n",
       "2    Swine - Wean to Feeder             2600                1.0        41913   \n",
       "3  Swine - Feeder to Finish             5760                2.0        41913   \n",
       "4  Swine - Feeder to Finish             9792                1.0        41913   \n",
       "\n",
       "   Effective Date  Expiration Date Admin Region County Name  Farm Latitude  \\\n",
       "0           41913            43738   Wilmington      Duplin      34.725000   \n",
       "1           41913            43738   Wilmington      Duplin      34.727500   \n",
       "2           41913            43738   Wilmington      Duplin      34.730108   \n",
       "3           41913            43738   Wilmington      Duplin      34.731100   \n",
       "4           41913            43738   Wilmington      Duplin      34.731900   \n",
       "\n",
       "   Farm Longitude  Biogas_annual_yield  Methane_annual_yield  \\\n",
       "0      -77.758300               2336.0                  1.45   \n",
       "1      -77.960600               2336.0                  1.45   \n",
       "2      -77.772947                420.0                  0.26   \n",
       "3      -77.732800               2336.0                  1.45   \n",
       "4      -77.796400               2336.0                  1.45   \n",
       "\n",
       "   Biogas_feed_flow_per_hour  Total_methane_yield  \n",
       "0                2937.600000              15973.2  \n",
       "1                 314.666667               1711.0  \n",
       "2                 124.657534                676.0  \n",
       "3                1536.000000               8352.0  \n",
       "4                2611.200000              14198.4  "
      ]
     },
     "execution_count": 28,
     "metadata": {},
     "output_type": "execute_result"
    }
   ],
   "source": [
    "dfDuplin.head()"
   ]
  },
  {
   "cell_type": "code",
   "execution_count": 29,
   "metadata": {},
   "outputs": [
    {
     "data": {
      "text/plain": [
       "15973.199999999999"
      ]
     },
     "execution_count": 29,
     "metadata": {},
     "output_type": "execute_result"
    }
   ],
   "source": [
    "11016 * 1.45"
   ]
  },
  {
   "cell_type": "code",
   "execution_count": 6,
   "metadata": {},
   "outputs": [],
   "source": [
    "#Sort on Total Potential Methane Yield (MMBtu/y) - high to low\n",
    "dfDuplin.sort_values('Total Potential Methane Yield (MMBtu/y)',ascending=False,inplace=True)\n",
    "#Compute cumulative sum of Total Potential Methane Yield (MMBtu/y)\n",
    "dfDuplin['Cumulative Potential Methane Yield (MMBtu/y)'] = dfDuplin['Total Potential Methane Yield (MMBtu/y)'].cumsum()\n",
    "#Compute cumulative percentages\n",
    "dfDuplin['Cumulative Percentage (%)'] = (dfDuplin['Cumulative Potential Methane Yield (MMBtu/y)'] / \n",
    "                                         dfDuplin['Cumulative Potential Methane Yield (MMBtu/y)'].max())"
   ]
  },
  {
   "cell_type": "code",
   "execution_count": 5,
   "metadata": {},
   "outputs": [
    {
     "data": {
      "image/png": "[encoded data removed]",
      "text/plain": [
       "<Figure size 432x360 with 1 Axes>"
      ]
     },
     "metadata": {
      "needs_background": "light"
     },
     "output_type": "display_data"
    }
   ],
   "source": [
    "#Plot Cost vs Yield\n",
    "yColName = 'Estimated Methane Production Cost ($/MMBtu)'\n",
    "xColName = 'Cumulative Potential Methane Yield (MMBtu/y)'\n",
    "x = dfDuplin[xColName]\n",
    "y = dfDuplin[yColName]\n",
    "plt.figure(figsize=(6,5))\n",
    "plt.plot(x,y,'r-')\n",
    "plt.xlabel(xColName)\n",
    "plt.ylabel(yColName)\n",
    "plt.grid()\n",
    "plt.show()"
   ]
  }
 ],
 "metadata": {
  "kernelspec": {
   "display_name": "Python 3",
   "language": "python",
   "name": "python3"
  },
  "language_info": {
   "codemirror_mode": {
    "name": "ipython",
    "version": 3
   },
   "file_extension": ".py",
   "mimetype": "text/x-python",
   "name": "python",
   "nbconvert_exporter": "python",
   "pygments_lexer": "ipython3",
   "version": "3.6.8"
  }
 },
 "nbformat": 4,
 "nbformat_minor": 2
}
