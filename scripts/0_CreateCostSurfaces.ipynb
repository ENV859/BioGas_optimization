{
 "cells": [
  {
   "cell_type": "markdown",
   "metadata": {},
   "source": [
    "## Create cost surfaces \n",
    "This notebook creates a set of cost distance arrays, one for each biogas source, saving them as array stacks. The outputs are `Stack.npy` and `TraceStack.npy`, which are stacks of raw cost distance and cost traceback arrays, respectively. These outputs serve as inputs for cost surface analyses in subsequent notebooks. \n",
    "\n",
    "### Data requirements\n",
    "This analysis requires a **cost surface** and a listing of **biogas source locations with attributes**. \n",
    "\n",
    "The cost surface used here is the MIT cost surface for the US whose pixel values represent cost multipliers for a given pipeline cost (which itself is based on the through put volume). \n",
    "\n",
    "The biogas source locations and attributes are extracted from an Excel table which includes fields on *farm type*, *head count*, and coordinates of the source (*longitude* & *latitude*). \n",
    "\n",
    "### Workflow\n",
    "* Analysis begins by reading in the biogas source data into a dataframe and computing [1] biogas potential (cu. ft./yr) and [2] 15-year biogas transport values ($/mi-MMBtu) from each source's head count and farm type.\n",
    "\n",
    "* The dataframe is then converted into a geodataframe using the coordinate columns, and sorted on biogas potential, from largest to smallest (to prioritize large farms in constructing a connected pipeline framework). \n",
    "\n",
    "* Then the US cost surface raster dataset is read in and subset to the extent of the biogas geodataframe (transformed to match the coordinate reference system of the cost surface). A buffer of 10km is applied to the biogas sources to allow least cost analysis to explore paths slightly outside the minimum bounding box. \n",
    "\n",
    "* Next, the analysis iterates through each biogas record, generating an adjusted cost surface by multiplying the MIT cost surface by the biogas site's transport cost value. Then a cost distance surface and cost traceback surface are computed from the biogas source location and the adjusted cost surface. \n",
    "\n",
    "* At each iteration above, the resulting cost distance and traceback surfaces are cumulatively added to a list of surfaces. These surface array lists are then stacked into 3-d arrays (D1 = biogas source, D2 = y-offset, D3 = x-offset) and saved to disk for access by later scripts. \n",
    "\n",
    "```\n",
    "Author: John.Fay@duke.edu\n",
    "Date: May 2020\n",
    "```"
   ]
  },
  {
   "cell_type": "code",
   "execution_count": null,
   "metadata": {},
   "outputs": [],
   "source": [
    "#Import packages\n",
    "import numpy as np\n",
    "import pandas as pd\n",
    "import geopandas as gpd\n",
    "from shapely.geometry import Point, box\n",
    "import osmnx as ox\n",
    "from pyproj import CRS\n",
    "import rasterio\n",
    "from rasterio import features, plot\n",
    "import rasterio.mask\n",
    "from matplotlib import pyplot as plt\n",
    "from skimage import graph                   "
   ]
  },
  {
   "cell_type": "markdown",
   "metadata": {},
   "source": [
    "### Read in the biogas location data\n",
    "These data are stored as the \"Swine\" sheet in the \"NC_Biogas_Potential.xlsx\" file. These records include the lat/long coordinates of each swine lagoon as well as its biogas potential in ($f^3/yr$). \n",
    "* First, calculations must be made to convert the potential into cost to pipe ($\\$/{mi-MMBtu@15yr}$).\n",
    "* Then the data must be converted to a geodataframe and transformed to match the coordinate reference system of the cost surface."
   ]
  },
  {
   "cell_type": "code",
   "execution_count": null,
   "metadata": {},
   "outputs": [],
   "source": [
    "#Read in biogas sources (example: Duplin Co)\n",
    "dfBG =  pd.read_excel('../data/NC_Biogas_Potential.xlsx',sheet_name='Swine')\n",
    "#Remove the total row\n",
    "dfBG = dfBG.loc[dfBG['Facility Name']!='TOTAL']"
   ]
  },
  {
   "cell_type": "markdown",
   "metadata": {},
   "source": [
    "#### Create a dataframe of per-yead yield by farm type"
   ]
  },
  {
   "cell_type": "code",
   "execution_count": null,
   "metadata": {},
   "outputs": [],
   "source": [
    "#Create a dataframe of per-yead yield by farm type\n",
    "biogas_methane_content = 0.60 #B3 \n",
    "biogas_CO2_content = 0.40     #B2\n",
    "MMBtu_per_tsf = 1.037         #C6\n",
    "\n",
    "\n",
    "#Create dataframe of type and biogas yield\n",
    "df_farm_type_yield = pd.DataFrame(data = [['Swine - Feeder to Finish', 2336],\n",
    "                                          ['Swine - Wean to Feeder', 420], \n",
    "                                          ['Swine - Wean to Finish', 2068], \n",
    "                                          ['Swine - Farrow to Wean', 1183],\n",
    "                                          ['Swine - Farrow to Finish',1603]],\n",
    "                                  columns = ['farm type','biogas (scf/y)'])\n",
    "\n",
    "#Compute methane yield from biogas and constants\n",
    "df_farm_type_yield['methane (MMBtu/year)'] = (df_farm_type_yield['biogas (scf/y)'] * \n",
    "                                              biogas_methane_content *\n",
    "                                              MMBtu_per_tsf / 1000)\n",
    "\n",
    "#Set the index to the farm type\n",
    "df_farm_type_yield.set_index('farm type',inplace=True)\n",
    "\n",
    "#Reveal the table\n",
    "df_farm_type_yield"
   ]
  },
  {
   "cell_type": "markdown",
   "metadata": {},
   "source": [
    "#### Conversions\n",
    "Construct a function that computes hourly methane yield for each lagoon based on its farm type and head count"
   ]
  },
  {
   "cell_type": "code",
   "execution_count": null,
   "metadata": {},
   "outputs": [],
   "source": [
    "#Calculate cost per mile-MMBtu over 15 years for a source, given its farm type and head_count\n",
    "def compute_cost(head_count, farm_type):\n",
    "    #Constants\n",
    "    hours_per_year = 365 * 24                       #C6\n",
    "    low_pressure_diameter_power = 0.394185319       #C62\n",
    "    low_pressure_diameter_coefficient = 0.050593064 #C63\n",
    "    cost_curve_slope = -7.4295332                   #G21\n",
    "    cost_curve_intercept = 69.5084756               #H21\n",
    "    low_pressure_cost_power = 0.485441535           #G62\n",
    "    low_pressure_cost_coefficient = 10829.06613     #G63\n",
    "    \n",
    "    #Check that farm yield data exist, return NoData if not\n",
    "    if farm_type not in df_farm_type_yield.index or head_count == 0:\n",
    "        return np.nan\n",
    "\n",
    "    #Compute biogas yield feed flow (scf/h) from farm type and head count\n",
    "    lagoon_biogas_feed_flow = df_farm_type_yield.loc[farm_type,'biogas (scf/y)'] * head_count / hours_per_year \n",
    "\n",
    "    #Compute hourly methane yield (MMBtu/yr) from farm type and head count\n",
    "    lagoon_methane_yield_yr = df_farm_type_yield.loc[farm_type,'methane (MMBtu/year)'] * head_count \n",
    "\n",
    "    #Compute annual methane yield (scf/h) from hourly yield\n",
    "    lagoon_methane_yield_hr = lagoon_methane_yield_yr / hours_per_year * 1000 * MMBtu_per_tsf\n",
    "\n",
    "    #Compute pipe diameter (in.) from hourly methane yield & coefficients\n",
    "    pipe_diameter = low_pressure_diameter_coefficient * (lagoon_methane_yield_hr**low_pressure_diameter_power)\n",
    "\n",
    "    #Compute production cost ($/MMBtu) from feed rate & coefficients\n",
    "    pipe_cost = cost_curve_slope * np.log(lagoon_biogas_feed_flow) + cost_curve_intercept\n",
    "\n",
    "    #Compute total production cost\n",
    "    cost_per_year = lagoon_methane_yield_yr * pipe_cost\n",
    "\n",
    "    #Compute cost per mile (low pressure)\n",
    "    cost_per_mile = low_pressure_cost_coefficient * pipe_diameter**low_pressure_cost_power\n",
    "\n",
    "    #Compute 15-year cost per MMBtu\n",
    "    cost_per_MMBtu_15 = cost_per_mile / (lagoon_methane_yield_yr * 15)\n",
    "    \n",
    "    #Return the total cost\n",
    "    return cost_per_MMBtu_15"
   ]
  },
  {
   "cell_type": "code",
   "execution_count": null,
   "metadata": {},
   "outputs": [],
   "source": [
    "#Apply the function\n",
    "dfBG['Pipe Cost ($/mi-MMBtu@15y)'] = dfBG.apply(lambda x: compute_cost(x['Allowable Count'],x['Regulated Activity']),axis=1)"
   ]
  },
  {
   "cell_type": "code",
   "execution_count": null,
   "metadata": {},
   "outputs": [],
   "source": [
    "#Drop \"missing\" sites\n",
    "dfBG = dfBG.dropna(subset=['Pipe Cost ($/mi-MMBtu@15y)'])"
   ]
  },
  {
   "cell_type": "code",
   "execution_count": null,
   "metadata": {},
   "outputs": [],
   "source": [
    "#Sort values in ascending order by biogas potential\n",
    "dfBG = dfBG.sort_values(by='Biogas Potential (f^3 / year)',\n",
    "                        ascending=False).reset_index()\n",
    "#Save the data as a csv file\n",
    "dfBG.to_csv('../data/BiogasData.csv',index=False)"
   ]
  },
  {
   "cell_type": "markdown",
   "metadata": {},
   "source": [
    "### Read in the cost surface raster"
   ]
  },
  {
   "cell_type": "code",
   "execution_count": null,
   "metadata": {},
   "outputs": [],
   "source": [
    "#Load the cost surface raster\n",
    "cost_surface_dataset = rasterio.open('../data/costsurface500m.img')\n",
    "#Extract the coordinate reference system\n",
    "cost_crs = cost_surface_dataset.crs"
   ]
  },
  {
   "cell_type": "markdown",
   "metadata": {},
   "source": [
    "### Convert the biogas dataframe to a geodataframe"
   ]
  },
  {
   "cell_type": "code",
   "execution_count": null,
   "metadata": {},
   "outputs": [],
   "source": [
    "#Convert to geodataframe from lat/lng coordinates\n",
    "geom = [Point(xy) for xy in zip(dfBG['Longitude'],dfBG['Latitude'])]\n",
    "gdfBG = gpd.GeoDataFrame(dfBG,geometry=geom,crs=4326)"
   ]
  },
  {
   "cell_type": "code",
   "execution_count": null,
   "metadata": {},
   "outputs": [],
   "source": [
    "#Subset points falling in Duplin County\n",
    "#duplin_co = ox.gdf_from_place('Duplin County, NC').unary_union\n",
    "#gdfBG = gdfBG.loc[gdfBG.geometry.within(duplin_co)]"
   ]
  },
  {
   "cell_type": "code",
   "execution_count": null,
   "metadata": {},
   "outputs": [],
   "source": [
    "#Project to same crs as raster\n",
    "gdfBG = gdfBG.to_crs(cost_crs)"
   ]
  },
  {
   "cell_type": "code",
   "execution_count": null,
   "metadata": {},
   "outputs": [],
   "source": [
    "#Subset records intersecting cost surface\n",
    "bbox = box(*cost_surface_dataset.bounds)\n",
    "gdfBG = gdfBG.loc[gdfBG.geometry.within(bbox)]"
   ]
  },
  {
   "cell_type": "markdown",
   "metadata": {},
   "source": [
    "#### Subset the cost raster"
   ]
  },
  {
   "cell_type": "code",
   "execution_count": null,
   "metadata": {},
   "outputs": [],
   "source": [
    "#Subset the raster to the extent of the biogas locations\n",
    "the_bounds = box(*gdfBG.geometry.unary_union.buffer(10000).bounds)\n",
    "out_image, out_transform = rasterio.mask.mask(cost_surface_dataset,[the_bounds],crop=True)\n",
    "\n",
    "#Update the image\n",
    "out_meta = cost_surface_dataset.meta\n",
    "out_meta.update({\"driver\": \"GTiff\",\n",
    "                 \"height\": out_image.shape[1],\n",
    "                 \"width\": out_image.shape[2],\n",
    "                 \"transform\": out_transform})\n",
    "with rasterio.open(\"../data/costsurface_subset.tif\", \"w\", **out_meta) as dest:\n",
    "    dest.write(out_image)\n",
    "    \n",
    "#re-load the image\n",
    "cost_surface_dataset = rasterio.open(\"../data/costsurface_subset.tif\")\n",
    "cost_surface_array = cost_surface_dataset.read(1)\n",
    "#Get cell sizes\n",
    "x_size,y_size = cost_surface_dataset.res"
   ]
  },
  {
   "cell_type": "code",
   "execution_count": null,
   "metadata": {},
   "outputs": [],
   "source": [
    "cost_surface_array.shape"
   ]
  },
  {
   "cell_type": "code",
   "execution_count": null,
   "metadata": {},
   "outputs": [],
   "source": [
    "#Get x and y offsets for each point\n",
    "#gdfBG['idx'] = gdfBG['geometry'].apply(lambda g: cost_surface_dataset.index(g.x,g.y))\n",
    "gdfBG['xOffset'] = gdfBG['geometry'].apply(lambda g: cost_surface_dataset.index(g.x,g.y)[1])\n",
    "gdfBG['yOffset'] = gdfBG['geometry'].apply(lambda g: cost_surface_dataset.index(g.x,g.y)[0])"
   ]
  },
  {
   "cell_type": "code",
   "execution_count": null,
   "metadata": {},
   "outputs": [],
   "source": [
    "#Plot\n",
    "fig,ax = plt.subplots(1,1,figsize=(10,10))\n",
    "plot.show(cost_surface_dataset,ax=ax,cmap='terrain')\n",
    "gdfBG.plot(ax=ax,color='red',alpha=0.3)"
   ]
  },
  {
   "cell_type": "code",
   "execution_count": null,
   "metadata": {},
   "outputs": [],
   "source": [
    "#Iterate through all biogas site rows and create a cost distance raster\n",
    "cost_arrays = [] #Cost arrays\n",
    "cd_arrays = []   #Cost distance arrays, min cost distance back to source\n",
    "tb_arrays = []   #Traceback arrays, for creating the least cost path"
   ]
  },
  {
   "cell_type": "code",
   "execution_count": null,
   "metadata": {},
   "outputs": [],
   "source": [
    "for i,r in gdfBG.iterrows():\n",
    "    print('.',end='')\n",
    "    xOffset = r['xOffset']    #get the array x coordinate of the biogas source\n",
    "    yOffset = r['yOffset']    #get the array y coordinate of the biogas soruce\n",
    "    z = r['Pipe Cost ($/mi-MMBtu@15y)'] / 1609.34   #Get the pipeline cost (5th col) & convert from $/mile to $/meter\n",
    "    base_cost = 0          #Get the base production cost (4th col)\n",
    "    \n",
    "    #Create the minimum cost path (MCP) surface, setting the distance between pixels to cell sizes\n",
    "    lc_graph = graph.MCP_Geometric(cost_surface_array * z , sampling=(x_size,y_size))\n",
    "    #Compute cost distances away from the biogas source coordinates\n",
    "    cd_array,tb_array = lc_graph.find_costs(starts=([(yOffset, xOffset)]))\n",
    "    #Add the initial cost to all cells\n",
    "    cd_array = ((cd_array + base_cost)*10).astype(int)\n",
    "    #Add to stack of arrays\n",
    "    cost_arrays.append(cost_surface_array * z)\n",
    "    cd_arrays.append(cd_array)\n",
    "    tb_arrays.append(tb_array)\n",
    "        "
   ]
  },
  {
   "cell_type": "code",
   "execution_count": null,
   "metadata": {},
   "outputs": [],
   "source": [
    "#Create a stack of all arrays\n",
    "arrCostStack = np.stack(cost_arrays)\n",
    "arrCostDistanceStack =np.stack(cd_arrays)\n",
    "arrTracebackStack = np.stack(tb_arrays)\n",
    "\n",
    "#Save the array stacks to file\n",
    "np.save('../data/CostStack.npy',arrCostStack)\n",
    "np.save('../data/Stack.npy',arrCostDistanceStack)\n",
    "np.save('../data/TraceStack.npy',arrTracebackStack)"
   ]
  }
 ],
 "metadata": {
  "kernelspec": {
   "display_name": "Python 3",
   "language": "python",
   "name": "python3"
  },
  "language_info": {
   "codemirror_mode": {
    "name": "ipython",
    "version": 3
   },
   "file_extension": ".py",
   "mimetype": "text/x-python",
   "name": "python",
   "nbconvert_exporter": "python",
   "pygments_lexer": "ipython3",
   "version": "3.7.6"
  }
 },
 "nbformat": 4,
 "nbformat_minor": 2
}
