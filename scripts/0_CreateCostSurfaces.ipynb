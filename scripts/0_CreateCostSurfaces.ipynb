{
 "cells": [
  {
   "cell_type": "markdown",
   "metadata": {},
   "source": [
    "## Create cost surfaces \n",
    "This notebook creates a simple set of cost distance surfaces, one for each biogas source. "
   ]
  },
  {
   "cell_type": "code",
   "execution_count": 17,
   "metadata": {},
   "outputs": [],
   "source": [
    "#Import packages\n",
    "import numpy as np\n",
    "import pandas as pd\n",
    "import geopandas as gpd\n",
    "from shapely.geometry import Point, box\n",
    "import osmnx as ox\n",
    "from pyproj import CRS\n",
    "import rasterio\n",
    "from rasterio import features, plot\n",
    "from matplotlib import pyplot as plt"
   ]
  },
  {
   "cell_type": "markdown",
   "metadata": {},
   "source": [
    "### Read in the cost surface raster"
   ]
  },
  {
   "cell_type": "code",
   "execution_count": 2,
   "metadata": {},
   "outputs": [],
   "source": [
    "#Load the cost surface raster\n",
    "cost_surface_dataset = rasterio.open('../data/costsurface500m.img')\n",
    "#Extract the first (and only) band\n",
    "cost_surface = cost_surface_dataset.read(1)\n",
    "#Extract the coordinate reference system\n",
    "cost_crs = cost_surface_dataset.crs"
   ]
  },
  {
   "cell_type": "code",
   "execution_count": null,
   "metadata": {},
   "outputs": [],
   "source": [
    "#Display \n",
    "plot.show(cost_surface_dataset,cmap='YlOrRd')"
   ]
  },
  {
   "cell_type": "markdown",
   "metadata": {},
   "source": [
    "### Read in the biogas location data\n",
    "These data are stored as the \"Swine\" sheet in the \"NC_Biogas_Potential.xlsx\" file. These records include the lat/long coordinates of each swine lagoon as well as its biogas potential in ($f^3/yr$). \n",
    "* First, calculations must be made to convert the potential into cost to pipe ($\\$/{mi-MMBtu@15yr}$).\n",
    "* Then the data must be converted to a geodataframe and transformed to match the coordinate reference system of the cost surface."
   ]
  },
  {
   "cell_type": "code",
   "execution_count": 4,
   "metadata": {},
   "outputs": [],
   "source": [
    "#Read in biogas sources (example: Duplin Co)\n",
    "dfBG =  pd.read_excel('../data/NC_Biogas_Potential.xlsx',sheet_name='Swine')"
   ]
  },
  {
   "cell_type": "code",
   "execution_count": 5,
   "metadata": {},
   "outputs": [
    {
     "data": {
      "text/html": [
       "<div>\n",
       "<style scoped>\n",
       "    .dataframe tbody tr th:only-of-type {\n",
       "        vertical-align: middle;\n",
       "    }\n",
       "\n",
       "    .dataframe tbody tr th {\n",
       "        vertical-align: top;\n",
       "    }\n",
       "\n",
       "    .dataframe thead th {\n",
       "        text-align: right;\n",
       "    }\n",
       "</style>\n",
       "<table border=\"1\" class=\"dataframe\">\n",
       "  <thead>\n",
       "    <tr style=\"text-align: right;\">\n",
       "      <th></th>\n",
       "      <th>Facility Name</th>\n",
       "      <th>Address</th>\n",
       "      <th>City</th>\n",
       "      <th>County Name</th>\n",
       "      <th>Zip</th>\n",
       "      <th>Latitude</th>\n",
       "      <th>Longitude</th>\n",
       "      <th>Regulated Activity</th>\n",
       "      <th>Allowable Count</th>\n",
       "      <th>Total Waste (tons / year)</th>\n",
       "      <th>Biogas Potential (m^3 / year)</th>\n",
       "      <th>Biogas Potential (f^3 / year)</th>\n",
       "    </tr>\n",
       "  </thead>\n",
       "  <tbody>\n",
       "    <tr>\n",
       "      <th>0</th>\n",
       "      <td>Piedmont L/S Co Farm</td>\n",
       "      <td>NaN</td>\n",
       "      <td>NaN</td>\n",
       "      <td>Alamance</td>\n",
       "      <td>NaN</td>\n",
       "      <td>36.1742</td>\n",
       "      <td>-79.4994</td>\n",
       "      <td>Swine - Farrow to Wean</td>\n",
       "      <td>300</td>\n",
       "      <td>3982.050316</td>\n",
       "      <td>111497.408837</td>\n",
       "      <td>3.937494e+06</td>\n",
       "    </tr>\n",
       "  </tbody>\n",
       "</table>\n",
       "</div>"
      ],
      "text/plain": [
       "          Facility Name Address City County Name  Zip  Latitude  Longitude  \\\n",
       "0  Piedmont L/S Co Farm     NaN  NaN    Alamance  NaN   36.1742   -79.4994   \n",
       "\n",
       "       Regulated Activity  Allowable Count  Total Waste (tons / year)  \\\n",
       "0  Swine - Farrow to Wean              300                3982.050316   \n",
       "\n",
       "   Biogas Potential (m^3 / year)  Biogas Potential (f^3 / year)  \n",
       "0                  111497.408837                   3.937494e+06  "
      ]
     },
     "execution_count": 5,
     "metadata": {},
     "output_type": "execute_result"
    }
   ],
   "source": [
    "dfBG.head(1)"
   ]
  },
  {
   "cell_type": "markdown",
   "metadata": {},
   "source": [
    "#### Create a dataframe of per-yead yield by farm type"
   ]
  },
  {
   "cell_type": "code",
   "execution_count": 7,
   "metadata": {},
   "outputs": [
    {
     "data": {
      "text/html": [
       "<div>\n",
       "<style scoped>\n",
       "    .dataframe tbody tr th:only-of-type {\n",
       "        vertical-align: middle;\n",
       "    }\n",
       "\n",
       "    .dataframe tbody tr th {\n",
       "        vertical-align: top;\n",
       "    }\n",
       "\n",
       "    .dataframe thead th {\n",
       "        text-align: right;\n",
       "    }\n",
       "</style>\n",
       "<table border=\"1\" class=\"dataframe\">\n",
       "  <thead>\n",
       "    <tr style=\"text-align: right;\">\n",
       "      <th></th>\n",
       "      <th>biogas (scf/y)</th>\n",
       "      <th>methane (MMBtu/year)</th>\n",
       "    </tr>\n",
       "    <tr>\n",
       "      <th>farm type</th>\n",
       "      <th></th>\n",
       "      <th></th>\n",
       "    </tr>\n",
       "  </thead>\n",
       "  <tbody>\n",
       "    <tr>\n",
       "      <th>Swine - Feeder to Finish</th>\n",
       "      <td>2336</td>\n",
       "      <td>1.453459</td>\n",
       "    </tr>\n",
       "    <tr>\n",
       "      <th>Swine - Wean to Feeder</th>\n",
       "      <td>420</td>\n",
       "      <td>0.261324</td>\n",
       "    </tr>\n",
       "    <tr>\n",
       "      <th>Swine - Wean to Finish</th>\n",
       "      <td>2068</td>\n",
       "      <td>1.286710</td>\n",
       "    </tr>\n",
       "    <tr>\n",
       "      <th>Swine - Farrow to Wean</th>\n",
       "      <td>1183</td>\n",
       "      <td>0.736063</td>\n",
       "    </tr>\n",
       "    <tr>\n",
       "      <th>Swine - Farrow to Finish</th>\n",
       "      <td>1603</td>\n",
       "      <td>0.997387</td>\n",
       "    </tr>\n",
       "  </tbody>\n",
       "</table>\n",
       "</div>"
      ],
      "text/plain": [
       "                          biogas (scf/y)  methane (MMBtu/year)\n",
       "farm type                                                     \n",
       "Swine - Feeder to Finish            2336              1.453459\n",
       "Swine - Wean to Feeder               420              0.261324\n",
       "Swine - Wean to Finish              2068              1.286710\n",
       "Swine - Farrow to Wean              1183              0.736063\n",
       "Swine - Farrow to Finish            1603              0.997387"
      ]
     },
     "execution_count": 7,
     "metadata": {},
     "output_type": "execute_result"
    }
   ],
   "source": [
    "#Create a dataframe of per-yead yield by farm type\n",
    "biogas_methane_content = 0.60 #B3 \n",
    "biogas_CO2_content = 0.40     #B2\n",
    "MMBtu_per_tsf = 1.037         #C6\n",
    "\n",
    "\n",
    "#Create dataframe of type and biogas yield\n",
    "df_farm_type_yield = pd.DataFrame(data = [['Swine - Feeder to Finish', 2336],\n",
    "                                          ['Swine - Wean to Feeder', 420], \n",
    "                                          ['Swine - Wean to Finish', 2068], \n",
    "                                          ['Swine - Farrow to Wean', 1183],\n",
    "                                          ['Swine - Farrow to Finish',1603]],\n",
    "                                  columns = ['farm type','biogas (scf/y)'])\n",
    "\n",
    "#Compute methane yield from biogas and constants\n",
    "df_farm_type_yield['methane (MMBtu/year)'] = (df_farm_type_yield['biogas (scf/y)'] * \n",
    "                                              biogas_methane_content *\n",
    "                                              MMBtu_per_tsf / 1000)\n",
    "\n",
    "#Set the index to the farm type\n",
    "df_farm_type_yield.set_index('farm type',inplace=True)\n",
    "\n",
    "#Reveal the table\n",
    "df_farm_type_yield"
   ]
  },
  {
   "cell_type": "markdown",
   "metadata": {},
   "source": [
    "#### Conversions\n",
    "Construct a function that computes hourly methane yield for each lagoon based on its farm type and head count"
   ]
  },
  {
   "cell_type": "code",
   "execution_count": 31,
   "metadata": {},
   "outputs": [],
   "source": [
    "#Conversion of animal count & type to MMBtu/hour\n",
    "def get_methane_yield(animal_count, farm_type):\n",
    "    #Constants\n",
    "    hours_per_year = 365 * 24     #Hours in a year [C6]\n",
    "    #Compute biogas yield feed flow (scf/h)\n",
    "    lagoon_biogas_feed_flow = df_farm_type_yield.loc[farm_type,'biogas (scf/y)'] * animal_count / hours_per_year \n",
    "    #Compute methane yield MMBtu/yr\n",
    "    lagoon_methane_yield_hr = df_farm_type_yield.loc[farm_type,'methane (MMBtu/year)'] * animal_count \n",
    "    #Convert methane yield to scf/h\n",
    "    lagoon_methane_yield_yr = lagoon_methane_yield / hours_per_year * 1000 * MMBtu_per_tsf\n",
    "    #Return the lagoon methane yield\n",
    "    return (lagoon_biogas_feed_flow, lagoon_methane_yield)"
   ]
  },
  {
   "cell_type": "code",
   "execution_count": 32,
   "metadata": {},
   "outputs": [],
   "source": [
    "#Conversion of methane yield to pipe diameter: in\n",
    "def get_pipe_diameter(methane_yield):\n",
    "    #Constants\n",
    "    low_pressure_diameter_power = 0.394       #C62\n",
    "    low_pressure_diameter_coefficient = 0.051 #C63\n",
    "    #Compute pipe diameter from yield\n",
    "    pipe_diameter = low_pressure_diameter_coefficient * (methane_yield**low_pressure_diameter_power)\n",
    "    #Return the pipe diameter\n",
    "    return pipe_diameter"
   ]
  },
  {
   "cell_type": "code",
   "execution_count": 33,
   "metadata": {},
   "outputs": [],
   "source": [
    "#Computation of methane production cost: $/MMBtu\n",
    "def get_pipe_cost(biogas_feed):\n",
    "    #Constants\n",
    "    cost_curve_slope = -7.43      #G21\n",
    "    cost_curve_intercept = 69.508 #H21\n",
    "    #Computation\n",
    "    pipe_cost = cost_curve_slope * np.log(biogas_feed) + cost_curve_intercept\n",
    "    return pipe_cost"
   ]
  },
  {
   "cell_type": "code",
   "execution_count": null,
   "metadata": {},
   "outputs": [],
   "source": []
  },
  {
   "cell_type": "code",
   "execution_count": 37,
   "metadata": {},
   "outputs": [
    {
     "name": "stdout",
     "output_type": "stream",
     "text": [
      "Methane yield: 16011 MMBtu/yr\n",
      "Pipe diameter: 2.313\n",
      "Pipe cost: $10.18 $/MMBty\n",
      "Annual cost: $162944.8711137337\n"
     ]
    }
   ],
   "source": [
    "biogas_feed, methane_yield = get_methane_yield(11016,'Swine - Feeder to Finish')\n",
    "print(f\"Methane yield: {methane_yield:.0f} MMBtu/yr\")\n",
    "\n",
    "pipe_diam = get_pipe_diameter(methane_yield)\n",
    "print(f\"Pipe diameter: {pipe_diam:.3f}\")\n",
    "\n",
    "pipe_cost = get_pipe_cost(biogas_feed)\n",
    "print(f\"Pipe cost: ${pipe_cost:.2f} $/MMBty\")\n",
    "\n",
    "cost_year = methane_yield * pipe_cost\n",
    "print(f\"Annual cost: ${cost_year}\")"
   ]
  },
  {
   "cell_type": "markdown",
   "metadata": {},
   "source": [
    "##### Calculate cost-to-pipe from potential * head * yield/head\n",
    "1. Convert $ft^{3}/{year}$ to $scf/hr$\n",
    "2. Compute cost from cost curve coefficients: $\\$/{MMBtu} =  -7.43 * ln(scf/hr) + 69.508)$\n",
    "3. Compute "
   ]
  },
  {
   "cell_type": "code",
   "execution_count": null,
   "metadata": {},
   "outputs": [],
   "source": [
    "#Set constants\n",
    "biogas_methane_content = 0.6  #60 percent methane\n",
    "\n",
    "cost_curve_slope = -7.43      #G21\n",
    "cost_curve_intercetp = 69.508 #H21"
   ]
  },
  {
   "cell_type": "code",
   "execution_count": null,
   "metadata": {},
   "outputs": [],
   "source": [
    "#Pipeline cost function (low pressure) - to convert flow rate to $/mile\n",
    "low_power_pressure = 0.485\n",
    "low_power_coefficient = 10829\n",
    "MMBtu_per_CuFt = 1.037"
   ]
  },
  {
   "cell_type": "code",
   "execution_count": null,
   "metadata": {},
   "outputs": [],
   "source": [
    "dfBG['Biogas Potential (MMBtu per year)'] = dfBG['Biogas Potential (f^3 / year)'] * MMBtu_per_CuFt"
   ]
  },
  {
   "cell_type": "code",
   "execution_count": null,
   "metadata": {},
   "outputs": [],
   "source": [
    "dfBG['Yield per head scf/yr'] = dfBG['Regulated Activity'].apply(\n",
    "    lambda x: lagoon_yields_scf_per_year[x])"
   ]
  },
  {
   "cell_type": "code",
   "execution_count": null,
   "metadata": {},
   "outputs": [],
   "source": []
  },
  {
   "cell_type": "code",
   "execution_count": null,
   "metadata": {},
   "outputs": [],
   "source": [
    "#Compute yield/head rate from farm type\n",
    "df_TypeYields = pd.read_csv('../Data/raw/swine_farm_type_yeilds.csv')\n",
    "df_TypeYields\n",
    "#Compute _ from allowable count and methane yield/head (based on )"
   ]
  },
  {
   "cell_type": "code",
   "execution_count": null,
   "metadata": {},
   "outputs": [],
   "source": [
    "#Remove the total row\n",
    "dfBG = dfBG.loc[dfBG['Facility Name']!='TOTAL']\n",
    "#Sort values in ascending order by biogas potential\n",
    "dfBG = dfBG.sort_values(by='Biogas Potential (f^3 / year)',\n",
    "                        ascending=False).reset_index()"
   ]
  },
  {
   "cell_type": "code",
   "execution_count": null,
   "metadata": {},
   "outputs": [],
   "source": [
    "#Convert to geodataframe from lat/lng coordinates\n",
    "geom = [Point(xy) for xy in zip(dfBG['Longitude'],dfBG['Latitude'])]\n",
    "gdfBG = gpd.GeoDataFrame(dfBG,geometry=geom,crs=4326)"
   ]
  },
  {
   "cell_type": "code",
   "execution_count": null,
   "metadata": {},
   "outputs": [],
   "source": [
    "#Subset points falling in Duplin County\n",
    "duplin_co = ox.gdf_from_place('Duplin County, NC').unary_union\n",
    "gdfBG = gdfBG.loc[gdfBG.geometry.within(duplin_co)]"
   ]
  },
  {
   "cell_type": "code",
   "execution_count": null,
   "metadata": {},
   "outputs": [],
   "source": [
    "#Project to same crs as raster\n",
    "gdfBG = gdfBG.to_crs(prj)"
   ]
  },
  {
   "cell_type": "code",
   "execution_count": null,
   "metadata": {},
   "outputs": [],
   "source": [
    "#Subset records intersecting cost surface\n",
    "bbox = box(*ds.bounds)\n",
    "gdfBG = gdfBG.loc[gdfBG.geometry.within(bbox)]"
   ]
  },
  {
   "cell_type": "code",
   "execution_count": null,
   "metadata": {},
   "outputs": [],
   "source": [
    "#Get x and y offsets for each point\n",
    "gdfBG['idx'] = gdfBG['geometry'].apply(lambda g: ds.index(g.x,g.y))\n",
    "gdfBG['xOffset'] = gdfBG['geometry'].apply(lambda g: ds.index(g.x,g.y)[1])\n",
    "gdfBG['yOffset'] = gdfBG['geometry'].apply(lambda g: ds.index(g.x,g.y)[0])"
   ]
  },
  {
   "cell_type": "code",
   "execution_count": null,
   "metadata": {},
   "outputs": [],
   "source": [
    "dfBG.head()"
   ]
  },
  {
   "cell_type": "code",
   "execution_count": null,
   "metadata": {},
   "outputs": [],
   "source": [
    "#Calcuate cost from the index\n",
    "gdfBG['cost'] =gdfBG['idx'].apply(lambda x: band1[x])"
   ]
  },
  {
   "cell_type": "code",
   "execution_count": null,
   "metadata": {},
   "outputs": [],
   "source": [
    "#Drop the index column\n",
    "gdfBG.drop(columns='idx',inplace=True)\n",
    "gdfBG.to_file('foo.shp')"
   ]
  },
  {
   "cell_type": "code",
   "execution_count": null,
   "metadata": {},
   "outputs": [],
   "source": [
    "#Create a function to sample points\n",
    "def get_cost(pt_geom):\n",
    "    #Get the index\n",
    "    idx = ds.index(pt_geom.x,pt_geom.y)\n",
    "    #Get the band value\n",
    "    band = ds.read(1)\n",
    "    try:\n",
    "        value = band[idx]\n",
    "        return value\n",
    "    except:\n",
    "        return -1"
   ]
  },
  {
   "cell_type": "code",
   "execution_count": null,
   "metadata": {},
   "outputs": [],
   "source": [
    "#Apply the function\n",
    "#gdfBG['cost'] = gdfBG['geometry'].apply(get_cost)"
   ]
  },
  {
   "cell_type": "code",
   "execution_count": null,
   "metadata": {},
   "outputs": [],
   "source": [
    "#Plot\n",
    "fig,ax = plt.subplots(1,1,figsize=(10,10))\n",
    "plot.show(ds,ax=ax,cmap='RdYlGn')\n",
    "gdfBG.plot(ax=ax,color='blue')"
   ]
  },
  {
   "cell_type": "code",
   "execution_count": null,
   "metadata": {},
   "outputs": [],
   "source": [
    "gdfBG"
   ]
  },
  {
   "cell_type": "code",
   "execution_count": null,
   "metadata": {},
   "outputs": [],
   "source": [
    "#Iterate through all biogas site rows and create a cost distance raster\n",
    "cost_arrays = [] #Cost arrays\n",
    "cd_arrays = []   #Cost distance arrays, min cost distance back to source\n",
    "tb_arrays = []   #Traceback arrays, for creating the least cost path\n",
    "\n",
    "for i,r in gdfBG.iterrows():\n",
    "    xOffset = r['xOffset']    #get the array x coordinate of the biogas source\n",
    "    yOffset = r['yOffset']    #get the array y coordinate of the biogas soruce\n",
    "    z = r['cost'] / 1609.34   #Get the pipeline cost (5th col) & convert from $/mile to $/meter\n",
    "    base_cost = r[3]          #Get the base production cost (4th col)\n",
    "    \n",
    "    #Create the minimum cost path (MCP) surface, setting the distance between pixels to cell sizes\n",
    "    lc_graph = graph.MCP_Geometric(arrCost * z , sampling=(x_size,y_size))\n",
    "    #Compute cost distances away from the biogas source coordinates\n",
    "    cd_array,tb_array = lc_graph.find_costs(starts=([(yOffset, xOffset)]))\n",
    "    #Add the initial cost to all cells\n",
    "    cd_array = cd_array + base_cost\n",
    "    #Add to stack of arrays\n",
    "    cost_arrays.append(arrCost * z)\n",
    "    cd_arrays.append(cd_array)\n",
    "    tb_arrays.append(tb_array)\n",
    "        \n",
    "#Create a stack of all arrays\n",
    "arrCostStack = np.stack(cost_arrays)\n",
    "arrCostDistanceStack =np.stack(cd_arrays)\n",
    "arrTracebackStack = np.stack(tb_arrays)\n",
    "\n",
    "#Save the array stacks to file\n",
    "np.save('../data/DuplinCostStack.npy',arrCostStack)\n",
    "np.save('../data/DuplinStack.npy',arrCostDistanceStack)\n",
    "np.save('../data/DuplinTraceStack.npy',arrTracebackStack)"
   ]
  }
 ],
 "metadata": {
  "kernelspec": {
   "display_name": "Python 3",
   "language": "python",
   "name": "python3"
  },
  "language_info": {
   "codemirror_mode": {
    "name": "ipython",
    "version": 3
   },
   "file_extension": ".py",
   "mimetype": "text/x-python",
   "name": "python",
   "nbconvert_exporter": "python",
   "pygments_lexer": "ipython3",
   "version": "3.7.6"
  }
 },
 "nbformat": 4,
 "nbformat_minor": 2
}
