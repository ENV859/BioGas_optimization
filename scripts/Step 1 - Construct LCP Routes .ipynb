{
 "cells": [
  {
   "cell_type": "markdown",
   "metadata": {},
   "source": [
    "## Construct Least Cost Paths - sorted on potential\n",
    "This notebook constructs a pipeline network connecting all biogas sources using the following workflow: \n",
    "1.\tStart with the biogas source with the largest potential (f^3/yr) and find its least cost path to the existing pipeline network.\n",
    "2.\tMove to the site with the next highest potential and find its least cost path to the updated pipeline (original + the pipeline linking the 1st site to the original pipe network). \n",
    "3.\tProceed with remaining sites, in order of declining potential, until all are connected.\n",
    "4.\tThen, when all sites have been connected, compute the accumulated volume of biogas passing through each segment from all “upstream sites”. "
   ]
  },
  {
   "cell_type": "markdown",
   "metadata": {},
   "source": [
    "#### The datasets required for this analysis include:\n",
    "* The spreadsheet of biogas source, including coordinates, total waste, and biogas potential\n",
    "* The MIT pipeline cost surface (all US)\n",
    "* The REXTAG natural gas pipeline raster (all US)\n",
    "\n",
    "#### Analysis consists of the following functions:\n",
    "* **Data Prep**:\n",
    " * Import biogas locations as Pandas dataframe: `df_biogas`\n",
    " * Convert biogas locations to GeoPandas geodataframe, using WGS 84 coordinate ref. system (CRS): `gdf_biogas`\n",
    " * Import MIT pipeline cost surface as rasterio raster: `ds_pipecost_full`\n",
    " * Transform biogas geodataframe to same CRS as pipeline cost raster: `ds_pipelines_full`\n",
    " * Subset pipeline cost raster to extent of biogas locations, buffered by 5km: `ds_pipecost`\n",
    " * Subset pipeline raster to same extent as above: `ds_pipelines`"
   ]
  },
  {
   "cell_type": "markdown",
   "metadata": {},
   "source": [
    "* **Functions**:\n",
    " * `cost_distance(source_pt, cost_array)`: Compute cost distance away from site. Outputs are a cost distance and traceback array. \n",
    " * `compute_lcp(source_pt, cost_array, pipes_array)`: "
   ]
  },
  {
   "cell_type": "markdown",
   "metadata": {},
   "source": [
    "---\n",
    "## Data Prep"
   ]
  },
  {
   "cell_type": "code",
   "execution_count": 1,
   "metadata": {},
   "outputs": [],
   "source": [
    "#Imports\n",
    "import numpy as np\n",
    "import pandas as pd\n",
    "import geopandas as gpd\n",
    "from shapely.geometry import Point,LineString\n",
    "import rasterio\n",
    "import rasterio.mask\n",
    "\n",
    "from skimage import graph\n",
    "\n",
    "import matplotlib.pyplot as plt\n",
    "%matplotlib inline"
   ]
  },
  {
   "cell_type": "markdown",
   "metadata": {},
   "source": [
    "* Filenames"
   ]
  },
  {
   "cell_type": "code",
   "execution_count": 2,
   "metadata": {},
   "outputs": [],
   "source": [
    "#Inputs\n",
    "fn_biogas_excel = '..\\\\data\\\\NCSwineBiogasPotentialUniqueFarms.xlsx'\n",
    "fn_MIT_cost_surface = '..\\\\data\\\\MIT_Surface_Full\\\\costsurface500m.img'\n",
    "fn_REXTAG_pipe_raster = '..\\\\data\\\\processed\\\\USA_pipes_operational.tif'\n",
    "\n",
    "#Outputs\n",
    "fn_biogas_points = '..\\\\data\\\\processed\\\\biogas_sources.shp'\n",
    "fn_subset_costs =  '..\\\\data\\\\processed\\\\subset_costs.tif'\n",
    "fn_subset_pipes = '..\\\\data\\\\processed\\\\subset_pipelines.tif'\n",
    "fn_biogas_routes = ('..\\\\data\\processed\\\\Routes.shp')"
   ]
  },
  {
   "cell_type": "markdown",
   "metadata": {},
   "source": [
    "* Import biogas data and convert to geodataframe"
   ]
  },
  {
   "cell_type": "code",
   "execution_count": 3,
   "metadata": {},
   "outputs": [],
   "source": [
    "#Read the excel sheet into a dataframe\n",
    "df_biogas = pd.read_excel(fn_biogas_excel,sheet_name='Sheet2')"
   ]
  },
  {
   "cell_type": "code",
   "execution_count": 5,
   "metadata": {},
   "outputs": [],
   "source": [
    "#Isolate records with biogas potential values and sort from highest to lowest\n",
    "df_biogas = (\n",
    "    #Remove records missing biogas potential data and the Total row\n",
    "    df_biogas.loc[(df_biogas['Biogas Potential (m^3 / year)'] > 0) &\n",
    "                  (df_biogas['Facility ID'] != 'TOTAL')]\n",
    "    #Sort on biogas potential from highest to lowest\n",
    "    .sort_values(by='Biogas Potential (m^3 / year)',ascending=False)\n",
    "    #Reset the index\n",
    "    .reset_index(drop=True))"
   ]
  },
  {
   "cell_type": "code",
   "execution_count": 6,
   "metadata": {},
   "outputs": [
    {
     "data": {
      "text/html": [
       "<div>\n",
       "<style scoped>\n",
       "    .dataframe tbody tr th:only-of-type {\n",
       "        vertical-align: middle;\n",
       "    }\n",
       "\n",
       "    .dataframe tbody tr th {\n",
       "        vertical-align: top;\n",
       "    }\n",
       "\n",
       "    .dataframe thead th {\n",
       "        text-align: right;\n",
       "    }\n",
       "</style>\n",
       "<table border=\"1\" class=\"dataframe\">\n",
       "  <thead>\n",
       "    <tr style=\"text-align: right;\">\n",
       "      <th></th>\n",
       "      <th>Facility ID</th>\n",
       "      <th>Facility Name</th>\n",
       "      <th>Address</th>\n",
       "      <th>City</th>\n",
       "      <th>County Name</th>\n",
       "      <th>Zip</th>\n",
       "      <th>Latitude</th>\n",
       "      <th>Longitude</th>\n",
       "      <th>Regulated Activity</th>\n",
       "      <th>Allowable Count</th>\n",
       "      <th>Total Waste (tons / year)</th>\n",
       "      <th>Biogas Potential (m^3 / year)</th>\n",
       "    </tr>\n",
       "  </thead>\n",
       "  <tbody>\n",
       "    <tr>\n",
       "      <th>0</th>\n",
       "      <td>291</td>\n",
       "      <td>Magnolia III DM Section 4 Sites 1-4 Section 3 ...</td>\n",
       "      <td>1114 Beasley Mill Rd</td>\n",
       "      <td>Warsaw</td>\n",
       "      <td>Duplin</td>\n",
       "      <td>28398.0</td>\n",
       "      <td>34.887500</td>\n",
       "      <td>-78.131400</td>\n",
       "      <td>Swine - Farrow to Wean</td>\n",
       "      <td>106640</td>\n",
       "      <td>490225.577124</td>\n",
       "      <td>1.372632e+07</td>\n",
       "    </tr>\n",
       "    <tr>\n",
       "      <th>1</th>\n",
       "      <td>154</td>\n",
       "      <td>Mr. Holmes Sites #1 - #14 #1 7 #18 Blueberry S...</td>\n",
       "      <td>2313 Mr Holmes Farm Rd</td>\n",
       "      <td>Garland</td>\n",
       "      <td>Bladen</td>\n",
       "      <td>28441.0</td>\n",
       "      <td>34.819191</td>\n",
       "      <td>-78.544711</td>\n",
       "      <td>Swine - Farrow to Wean</td>\n",
       "      <td>78630</td>\n",
       "      <td>301328.821333</td>\n",
       "      <td>8.437207e+06</td>\n",
       "    </tr>\n",
       "    <tr>\n",
       "      <th>2</th>\n",
       "      <td>1930</td>\n",
       "      <td>White Oaks Farm Inc</td>\n",
       "      <td>604 Benton Pond Rd</td>\n",
       "      <td>Fremont</td>\n",
       "      <td>Wayne</td>\n",
       "      <td>27830.0</td>\n",
       "      <td>35.516100</td>\n",
       "      <td>-77.923100</td>\n",
       "      <td>Swine - Farrow to Wean</td>\n",
       "      <td>65550</td>\n",
       "      <td>266616.481879</td>\n",
       "      <td>7.465261e+06</td>\n",
       "    </tr>\n",
       "    <tr>\n",
       "      <th>3</th>\n",
       "      <td>292</td>\n",
       "      <td>DM Farms Sec 2 Sites 1-4</td>\n",
       "      <td>419 Dail Rd</td>\n",
       "      <td>Magnolia</td>\n",
       "      <td>Duplin</td>\n",
       "      <td>28453.0</td>\n",
       "      <td>34.867200</td>\n",
       "      <td>-78.151400</td>\n",
       "      <td>Swine - Feeder to Finish</td>\n",
       "      <td>63360</td>\n",
       "      <td>243401.613396</td>\n",
       "      <td>6.815245e+06</td>\n",
       "    </tr>\n",
       "    <tr>\n",
       "      <th>4</th>\n",
       "      <td>1925</td>\n",
       "      <td>Somerset Farm</td>\n",
       "      <td>Sr 1139 1855-A N Line Rd</td>\n",
       "      <td>Roper</td>\n",
       "      <td>Washington</td>\n",
       "      <td>27970.0</td>\n",
       "      <td>35.888900</td>\n",
       "      <td>-76.535800</td>\n",
       "      <td>Swine - Feeder to Finish</td>\n",
       "      <td>59000</td>\n",
       "      <td>226652.386212</td>\n",
       "      <td>6.346267e+06</td>\n",
       "    </tr>\n",
       "  </tbody>\n",
       "</table>\n",
       "</div>"
      ],
      "text/plain": [
       "  Facility ID                                      Facility Name  \\\n",
       "0         291  Magnolia III DM Section 4 Sites 1-4 Section 3 ...   \n",
       "1         154  Mr. Holmes Sites #1 - #14 #1 7 #18 Blueberry S...   \n",
       "2        1930                                White Oaks Farm Inc   \n",
       "3         292                           DM Farms Sec 2 Sites 1-4   \n",
       "4        1925                                      Somerset Farm   \n",
       "\n",
       "                    Address      City County Name      Zip   Latitude  \\\n",
       "0      1114 Beasley Mill Rd    Warsaw      Duplin  28398.0  34.887500   \n",
       "1    2313 Mr Holmes Farm Rd   Garland      Bladen  28441.0  34.819191   \n",
       "2        604 Benton Pond Rd   Fremont       Wayne  27830.0  35.516100   \n",
       "3               419 Dail Rd  Magnolia      Duplin  28453.0  34.867200   \n",
       "4  Sr 1139 1855-A N Line Rd     Roper  Washington  27970.0  35.888900   \n",
       "\n",
       "   Longitude        Regulated Activity  Allowable Count  \\\n",
       "0 -78.131400    Swine - Farrow to Wean           106640   \n",
       "1 -78.544711    Swine - Farrow to Wean            78630   \n",
       "2 -77.923100    Swine - Farrow to Wean            65550   \n",
       "3 -78.151400  Swine - Feeder to Finish            63360   \n",
       "4 -76.535800  Swine - Feeder to Finish            59000   \n",
       "\n",
       "   Total Waste (tons / year)  Biogas Potential (m^3 / year)  \n",
       "0              490225.577124                   1.372632e+07  \n",
       "1              301328.821333                   8.437207e+06  \n",
       "2              266616.481879                   7.465261e+06  \n",
       "3              243401.613396                   6.815245e+06  \n",
       "4              226652.386212                   6.346267e+06  "
      ]
     },
     "execution_count": 6,
     "metadata": {},
     "output_type": "execute_result"
    }
   ],
   "source": [
    "#Display the contents\n",
    "df_biogas.head()"
   ]
  },
  {
   "cell_type": "code",
   "execution_count": 7,
   "metadata": {},
   "outputs": [],
   "source": [
    "#Create a series of Point geometries for each record\n",
    "geom = [Point(xy) for xy in zip(df_biogas.Longitude, df_biogas.Latitude)]\n",
    "#Construct the geodataframe from the data and geometry, setting crs to WGS84\n",
    "gdf_biogas = gpd.GeoDataFrame(df_biogas, geometry = geom, crs = 4326)\n",
    "#Delete the original dataframe (to conserve memory)\n",
    "del(df_biogas)"
   ]
  },
  {
   "cell_type": "markdown",
   "metadata": {},
   "source": [
    "### Subset the cost and pipeline rasters to the extent of the biogas sites\n",
    "* Read in the raster datasets"
   ]
  },
  {
   "cell_type": "code",
   "execution_count": 9,
   "metadata": {},
   "outputs": [],
   "source": [
    "#Read the MIT img file into a rasterio raster\n",
    "ds_pipecost_full = rasterio.open(fn_MIT_cost_surface)\n",
    "\n",
    "#Read the REXTAG tif file into a rasterio raster\n",
    "ds_pipelines_full = rasterio.open(fn_REXTAG_pipe_raster)"
   ]
  },
  {
   "cell_type": "markdown",
   "metadata": {},
   "source": [
    "* Transform the biogas points to the same crs as the MIT raster"
   ]
  },
  {
   "cell_type": "code",
   "execution_count": 10,
   "metadata": {},
   "outputs": [],
   "source": [
    "#Get the MIT coordinate reference system\n",
    "crs_pipecost = ds_pipecost_full.crs\n",
    "#Apply the transformation\n",
    "gdf_biogas = gdf_biogas.to_crs(crs_pipecost)\n",
    "#Save to file\n",
    "gdf_biogas.to_file(fn_biogas_points)"
   ]
  },
  {
   "cell_type": "markdown",
   "metadata": {},
   "source": [
    "* Compute the extent of the biogas features, buffered 5000m"
   ]
  },
  {
   "cell_type": "code",
   "execution_count": 11,
   "metadata": {},
   "outputs": [],
   "source": [
    "#Collapse the biogas points to a multipoint object, buffer 5000m, and pull its exent\n",
    "bg_extent = gdf_biogas.geometry.unary_union.buffer(5000).envelope"
   ]
  },
  {
   "cell_type": "markdown",
   "metadata": {},
   "source": [
    "* Subset & save the cost raster. *Note, we also reclassify zero values to high values*"
   ]
  },
  {
   "cell_type": "code",
   "execution_count": 12,
   "metadata": {},
   "outputs": [],
   "source": [
    "#Subset the cost raster using the bg_extent shape as a mask\n",
    "cost_image, cost_transform = rasterio.mask.mask(ds_pipecost_full,[bg_extent],crop=True)\n",
    "#Revise zero values to high cost values in cost_image\n",
    "cost_image[cost_image == 0] = cost_image.max() * 10\n",
    "#Create and revise the output metadata\n",
    "cost_meta = ds_pipecost_full.meta\n",
    "cost_meta.update({\"driver\":\"GTiff\",\n",
    "                  \"height\":cost_image.shape[1],\n",
    "                  \"width\":cost_image.shape[2],\n",
    "                  \"transform\":cost_transform})\n",
    "#Write to a geoTiff file\n",
    "with rasterio.open(fn_subset_costs,'w',**cost_meta) as dst:\n",
    "    dst.write(cost_image)"
   ]
  },
  {
   "cell_type": "markdown",
   "metadata": {},
   "source": [
    "* Subset & save the pipeline raster."
   ]
  },
  {
   "cell_type": "code",
   "execution_count": 13,
   "metadata": {},
   "outputs": [],
   "source": [
    "#Subset the pipes raster using the bg_extent shape as a mask\n",
    "pipe_image, pipe_transform = rasterio.mask.mask(ds_pipelines_full,[bg_extent],crop=True)\n",
    "pipe_meta = ds_pipecost_full.meta\n",
    "\n",
    "#Save the subset pipeline raster\n",
    "pipe_meta.update({\"driver\":\"GTiff\",\n",
    "                  \"height\":pipe_image.shape[1],\n",
    "                  \"width\":pipe_image.shape[2],\n",
    "                  \"nodata\":255,\n",
    "                  \"dtype\":pipe_image.dtype,\n",
    "                  \"transform\":pipe_transform})\n",
    "#Write to a geoTiff file\n",
    "with rasterio.open(fn_subset_pipes,'w',**pipe_meta) as dst:\n",
    "    dst.write(pipe_image)"
   ]
  },
  {
   "cell_type": "code",
   "execution_count": 14,
   "metadata": {},
   "outputs": [],
   "source": [
    "#Read the rasters back in (as read only)\n",
    "ds_costs = rasterio.open(fn_subset_costs)\n",
    "ds_pipeline = rasterio.open(fn_subset_pipes)\n",
    "\n",
    "#Read in bands as arrays\n",
    "arr_cost = ds_costs.read(1)\n",
    "arr_pipes = ds_pipeline.read(1)"
   ]
  },
  {
   "cell_type": "code",
   "execution_count": 15,
   "metadata": {},
   "outputs": [],
   "source": [
    "#Create a masked array from the pipeline dataset\n",
    "pipe_mask = np.ma.masked_array(arr_pipes,mask=arr_pipes==255)"
   ]
  },
  {
   "cell_type": "markdown",
   "metadata": {},
   "source": [
    "---\n",
    "## Analysis: Functions\n",
    "1. Compute least cost path for a biogas source to nearest pipe"
   ]
  },
  {
   "cell_type": "code",
   "execution_count": 16,
   "metadata": {},
   "outputs": [
    {
     "name": "stdout",
     "output_type": "stream",
     "text": [
      "2040 2020 2000 1980 1960 1940 1920 1900 1880 1860 1840 1820 1800 1780 1760 1740 1720 1700 1680 1660 1640 1620 1600 1580 1560 1540 1520 1500 1480 1460 1440 1420 1400 1380 1360 1340 1320 1300 1280 1260 1240 1220 1200 1180 1160 1140 1120 1100 1080 1060 1040 1020 1000 980 960 940 920 900 880 860 840 820 800 780 760 740 720 700 680 660 640 620 600 580 560 540 520 500 480 460 440 420 400 380 360 340 320 300 280 260 240 220 200 180 160 140 120 100 80 60 40 20 "
     ]
    }
   ],
   "source": [
    "#Get attributes of input cost/pipe rasters\n",
    "x_size,y_size = ds_costs.res\n",
    "\n",
    "#Create a graph from the cost raster\n",
    "lc_graph = graph.MCP_Geometric(arr_cost,sampling=(x_size,y_size))\n",
    "\n",
    "#Make working copies of the biogas features \n",
    "gdf_biogas_routes = gdf_biogas.copy(deep=True)\n",
    "\n",
    "#Create lookup dictionary of pipe type\n",
    "pipeDict = {1:'Transmission',2:'Distribution',3:'Gathering'}\n",
    "\n",
    "#Iterate through each record\n",
    "for layer_number,row in gdf_biogas_routes.iterrows():\n",
    "    #Status: report every 20th run\n",
    "    if layer_number%20 == 0: print(gdf_biogas_routes.shape[0] - layer_number,end=' ')\n",
    "\n",
    "    #Get the biogas feature for the specified layer number\n",
    "    fac_id = row['Facility ID']\n",
    "    bg_point = row['geometry']\n",
    "\n",
    "    #Get the index location\n",
    "    idx = ds_pipeline.index(bg_point.x,bg_point.y)\n",
    "    \n",
    "    #Compute the cost-distance and traceback arrays\n",
    "    cd_array, tb_array = lc_graph.find_costs(starts=([idx]))\n",
    "\n",
    "    ##Find the pipe coord with lowest cost in cd_array\n",
    "\n",
    "    #Mask just pipeline pixels from cost distance output\n",
    "    arr_cd_pipes = np.ma.masked_array(cd_array,mask=arr_pipes==255)\n",
    "    \n",
    "    #Locate the min value, i.e. where the LCP should end\n",
    "    minPipeCost = arr_cd_pipes.min()\n",
    "    \n",
    "    #Determine the row and column where the min occurs\n",
    "    rMin, cMin = np.where(arr_cd_pipes == minPipeCost)\n",
    "    \n",
    "    #Extract values from value arrays\n",
    "    pipe_coords = (rMin[0],cMin[0])\n",
    "    \n",
    "    #Get the pipe type at the output\n",
    "    pipe_type_code = arr_pipes[pipe_coords]\n",
    "    pipe_type = pipeDict[pipe_type_code]\n",
    "\n",
    "    #Get the row/col indices of pixels in the LCP \n",
    "    lcp_indices = lc_graph.traceback(pipe_coords)\n",
    "    \n",
    "    #If the site is already on the pipeline, a lineString cannot be created\n",
    "    if(len(lcp_indices)<2):\n",
    "        gdf_biogas_routes.loc[layer_number,'TYPE'] = pipe_type\n",
    "        gdf_biogas_routes.loc[layer_number,'cost'] = minPipeCost\n",
    "        r, c = pipe_coords\n",
    "        toPt = Point(ds_pipeline.xy(r,c))\n",
    "        pipe_line = LineString((bg_point,toPt))\n",
    "        gdf_biogas_routes.loc[layer_number,'geometry'] = pipe_line\n",
    "        continue\n",
    "\n",
    "    ##Add the route polyline to the geodatabase\n",
    "    #Create linestring from lcp_indices\n",
    "    pipe_line = LineString([ds_pipeline.xy(r,c) for r,c in lcp_indices])\n",
    "    \n",
    "    #Update the dataset so that the geometry is the route\n",
    "    gdf_biogas_routes.loc[layer_number,'geometry'] = pipe_line\n",
    "    gdf_biogas_routes.loc[layer_number,'TYPE'] = pipe_type\n",
    "    gdf_biogas_routes.loc[layer_number,'cost'] = minPipeCost\n",
    "\n",
    "    #Update the pipeline with the new connection\n",
    "    for r,c in lcp_indices:\n",
    "        arr_pipes[r,c] = pipe_type_code"
   ]
  },
  {
   "cell_type": "markdown",
   "metadata": {},
   "source": [
    "* Save results"
   ]
  },
  {
   "cell_type": "code",
   "execution_count": 17,
   "metadata": {},
   "outputs": [],
   "source": [
    "#Rename columns\n",
    "gdf_out = gdf_biogas_routes.rename({'Facility ID':'Fac_ID',\n",
    "                                    'Total Waste (tons / year)':'Waste',\n",
    "                                    'Biogas Potential (m^3 / year)':'Biogas'\n",
    "                                   },axis=1)\n",
    "\n",
    "#Filter for LineString records, and select columns: write to output\n",
    "outColumns = ['Fac_ID','Waste','Biogas','TYPE','geometry']\n",
    "gdf_out.loc[gdf_out.geometry.type=='LineString'][outColumns].to_file(fn_biogas_routes)"
   ]
  },
  {
   "cell_type": "code",
   "execution_count": null,
   "metadata": {},
   "outputs": [],
   "source": [
    "#Write route attributes to csv file\n",
    "gdf_biogas_routes.to_csv('..\\\\data\\\\processed\\\\RouteData.csv')"
   ]
  },
  {
   "cell_type": "code",
   "execution_count": null,
   "metadata": {},
   "outputs": [],
   "source": []
  }
 ],
 "metadata": {
  "kernelspec": {
   "display_name": "Python 3",
   "language": "python",
   "name": "python3"
  },
  "language_info": {
   "codemirror_mode": {
    "name": "ipython",
    "version": 3
   },
   "file_extension": ".py",
   "mimetype": "text/x-python",
   "name": "python",
   "nbconvert_exporter": "python",
   "pygments_lexer": "ipython3",
   "version": "3.7.6"
  }
 },
 "nbformat": 4,
 "nbformat_minor": 2
}
