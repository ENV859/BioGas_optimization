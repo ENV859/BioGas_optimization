{
 "cells": [
  {
   "cell_type": "markdown",
   "metadata": {},
   "source": [
    "## Construct Least Cost Paths - sorted on potential\n",
    "This notebook constructs a pipeline network connecting all biogas sources using the following workflow: \n",
    "1.\tStart with the biogas source with the largest potential (f^3/yr) and find its least cost path to the existing pipeline network.\n",
    "2.\tMove to the site with the next highest potential and find its least cost path to the updated pipeline (original + the pipeline linking the 1st site to the original pipe network). \n",
    "3.\tProceed with remaining sites, in order of declining potential, until all are connected.\n",
    "4.\tThen, when all sites have been connected, compute the accumulated volume of biogas passing through each segment from all “upstream sites”. "
   ]
  },
  {
   "cell_type": "markdown",
   "metadata": {},
   "source": [
    "#### The datasets required for this analysis include:\n",
    "* The spreadsheet of biogas source, including coordinates, total waste, and biogas potential\n",
    "* The MIT pipeline cost surface (all US)\n",
    "* The REXTAG natural gas pipeline raster (all US)\n",
    "\n",
    "#### Analysis consists of the following functions:\n",
    "* **Data Prep**:\n",
    " * Import biogas locations as Pandas dataframe: `df_biogas`\n",
    " * Convert biogas locations to GeoPandas geodataframe, using WGS 84 coordinate ref. system (CRS): `gdf_biogas`\n",
    " * Import MIT pipeline cost surface as rasterio raster: `ds_pipecost_full`\n",
    " * Transform biogas geodataframe to same CRS as pipeline cost raster: `ds_pipelines_full`\n",
    " * Subset pipeline cost raster to extent of biogas locations, buffered by 5km: `ds_pipecost`\n",
    " * Subset pipeline raster to same extent as above: `ds_pipelines`"
   ]
  },
  {
   "cell_type": "markdown",
   "metadata": {},
   "source": [
    "* **Functions**:\n",
    " * `cost_distance(source_pt, cost_array)`: Compute cost distance away from site. Outputs are a cost distance and traceback array. \n",
    " * `compute_lcp(source_pt, cost_array, pipes_array)`: "
   ]
  },
  {
   "cell_type": "markdown",
   "metadata": {},
   "source": [
    "---\n",
    "## Data Prep"
   ]
  },
  {
   "cell_type": "code",
   "execution_count": 1,
   "metadata": {},
   "outputs": [],
   "source": [
    "#Imports\n",
    "import numpy as np\n",
    "import pandas as pd\n",
    "import geopandas as gpd\n",
    "from shapely.geometry import Point,LineString\n",
    "import rasterio\n",
    "import rasterio.mask\n",
    "\n",
    "from skimage import graph\n",
    "\n",
    "import matplotlib.pyplot as plt\n",
    "%matplotlib inline"
   ]
  },
  {
   "cell_type": "markdown",
   "metadata": {},
   "source": [
    "* Filenames"
   ]
  },
  {
   "cell_type": "code",
   "execution_count": 191,
   "metadata": {},
   "outputs": [],
   "source": [
    "#Inputs\n",
    "fn_biogas_excel = '..\\\\data\\\\NCSwineBiogasPotentialUniqueFarms.xlsx'\n",
    "fn_MIT_cost_surface = '..\\\\data\\\\MIT_Surface_Full\\\\costsurface500m.img'\n",
    "fn_REXTAG_pipe_raster = '..\\\\data\\\\processed\\\\USA_pipes_operational.tif'\n",
    "\n",
    "#Outputs\n",
    "fn_biogas_points = '..\\\\data\\\\processed\\\\biogas_sources.shp'\n",
    "fn_subset_rasters =  '..\\\\data\\\\processed\\\\subset_data.tif'\n",
    "fn_biogas_routes_geojson = '..\\\\data\\\\processed\\\\Routes.geojson'\n",
    "fn_biogas_routes = ('..\\\\data\\processed\\\\Routes.shp')"
   ]
  },
  {
   "cell_type": "markdown",
   "metadata": {},
   "source": [
    "* Import biogas data and convert to geodataframe"
   ]
  },
  {
   "cell_type": "code",
   "execution_count": 3,
   "metadata": {},
   "outputs": [],
   "source": [
    "#Read the excel sheet into a dataframe\n",
    "df_biogas = pd.read_excel(fn_biogas_excel,sheet_name='Sheet2')"
   ]
  },
  {
   "cell_type": "code",
   "execution_count": 4,
   "metadata": {},
   "outputs": [],
   "source": [
    "#Isolate records with biogas potential values and sort from highest to lowest\n",
    "df_biogas = (\n",
    "    #Remove records missing biogas potential data and the Total row\n",
    "    df_biogas.loc[(df_biogas['Biogas Potential (m^3 / year)'] > 0) &\n",
    "                  (df_biogas['Facility ID'] != 'TOTAL')]\n",
    "    #Sort on biogas potential from highest to lowest\n",
    "    .sort_values(by='Biogas Potential (m^3 / year)',ascending=False)\n",
    "    #Reset the index\n",
    "    .reset_index(drop=True))"
   ]
  },
  {
   "cell_type": "code",
   "execution_count": 5,
   "metadata": {},
   "outputs": [
    {
     "data": {
      "text/html": [
       "<div>\n",
       "<style scoped>\n",
       "    .dataframe tbody tr th:only-of-type {\n",
       "        vertical-align: middle;\n",
       "    }\n",
       "\n",
       "    .dataframe tbody tr th {\n",
       "        vertical-align: top;\n",
       "    }\n",
       "\n",
       "    .dataframe thead th {\n",
       "        text-align: right;\n",
       "    }\n",
       "</style>\n",
       "<table border=\"1\" class=\"dataframe\">\n",
       "  <thead>\n",
       "    <tr style=\"text-align: right;\">\n",
       "      <th></th>\n",
       "      <th>Facility ID</th>\n",
       "      <th>Facility Name</th>\n",
       "      <th>Address</th>\n",
       "      <th>City</th>\n",
       "      <th>County Name</th>\n",
       "      <th>Zip</th>\n",
       "      <th>Latitude</th>\n",
       "      <th>Longitude</th>\n",
       "      <th>Regulated Activity</th>\n",
       "      <th>Allowable Count</th>\n",
       "      <th>Total Waste (tons / year)</th>\n",
       "      <th>Biogas Potential (m^3 / year)</th>\n",
       "    </tr>\n",
       "  </thead>\n",
       "  <tbody>\n",
       "    <tr>\n",
       "      <th>0</th>\n",
       "      <td>291</td>\n",
       "      <td>Magnolia III DM Section 4 Sites 1-4 Section 3 ...</td>\n",
       "      <td>1114 Beasley Mill Rd</td>\n",
       "      <td>Warsaw</td>\n",
       "      <td>Duplin</td>\n",
       "      <td>28398.0</td>\n",
       "      <td>34.887500</td>\n",
       "      <td>-78.131400</td>\n",
       "      <td>Swine - Farrow to Wean</td>\n",
       "      <td>106640</td>\n",
       "      <td>490225.577124</td>\n",
       "      <td>1.372632e+07</td>\n",
       "    </tr>\n",
       "    <tr>\n",
       "      <th>1</th>\n",
       "      <td>154</td>\n",
       "      <td>Mr. Holmes Sites #1 - #14 #1 7 #18 Blueberry S...</td>\n",
       "      <td>2313 Mr Holmes Farm Rd</td>\n",
       "      <td>Garland</td>\n",
       "      <td>Bladen</td>\n",
       "      <td>28441.0</td>\n",
       "      <td>34.819191</td>\n",
       "      <td>-78.544711</td>\n",
       "      <td>Swine - Farrow to Wean</td>\n",
       "      <td>78630</td>\n",
       "      <td>301328.821333</td>\n",
       "      <td>8.437207e+06</td>\n",
       "    </tr>\n",
       "    <tr>\n",
       "      <th>2</th>\n",
       "      <td>1930</td>\n",
       "      <td>White Oaks Farm Inc</td>\n",
       "      <td>604 Benton Pond Rd</td>\n",
       "      <td>Fremont</td>\n",
       "      <td>Wayne</td>\n",
       "      <td>27830.0</td>\n",
       "      <td>35.516100</td>\n",
       "      <td>-77.923100</td>\n",
       "      <td>Swine - Farrow to Wean</td>\n",
       "      <td>65550</td>\n",
       "      <td>266616.481879</td>\n",
       "      <td>7.465261e+06</td>\n",
       "    </tr>\n",
       "    <tr>\n",
       "      <th>3</th>\n",
       "      <td>292</td>\n",
       "      <td>DM Farms Sec 2 Sites 1-4</td>\n",
       "      <td>419 Dail Rd</td>\n",
       "      <td>Magnolia</td>\n",
       "      <td>Duplin</td>\n",
       "      <td>28453.0</td>\n",
       "      <td>34.867200</td>\n",
       "      <td>-78.151400</td>\n",
       "      <td>Swine - Feeder to Finish</td>\n",
       "      <td>63360</td>\n",
       "      <td>243401.613396</td>\n",
       "      <td>6.815245e+06</td>\n",
       "    </tr>\n",
       "    <tr>\n",
       "      <th>4</th>\n",
       "      <td>1925</td>\n",
       "      <td>Somerset Farm</td>\n",
       "      <td>Sr 1139 1855-A N Line Rd</td>\n",
       "      <td>Roper</td>\n",
       "      <td>Washington</td>\n",
       "      <td>27970.0</td>\n",
       "      <td>35.888900</td>\n",
       "      <td>-76.535800</td>\n",
       "      <td>Swine - Feeder to Finish</td>\n",
       "      <td>59000</td>\n",
       "      <td>226652.386212</td>\n",
       "      <td>6.346267e+06</td>\n",
       "    </tr>\n",
       "  </tbody>\n",
       "</table>\n",
       "</div>"
      ],
      "text/plain": [
       "  Facility ID                                      Facility Name  \\\n",
       "0         291  Magnolia III DM Section 4 Sites 1-4 Section 3 ...   \n",
       "1         154  Mr. Holmes Sites #1 - #14 #1 7 #18 Blueberry S...   \n",
       "2        1930                                White Oaks Farm Inc   \n",
       "3         292                           DM Farms Sec 2 Sites 1-4   \n",
       "4        1925                                      Somerset Farm   \n",
       "\n",
       "                    Address      City County Name      Zip   Latitude  \\\n",
       "0      1114 Beasley Mill Rd    Warsaw      Duplin  28398.0  34.887500   \n",
       "1    2313 Mr Holmes Farm Rd   Garland      Bladen  28441.0  34.819191   \n",
       "2        604 Benton Pond Rd   Fremont       Wayne  27830.0  35.516100   \n",
       "3               419 Dail Rd  Magnolia      Duplin  28453.0  34.867200   \n",
       "4  Sr 1139 1855-A N Line Rd     Roper  Washington  27970.0  35.888900   \n",
       "\n",
       "   Longitude        Regulated Activity  Allowable Count  \\\n",
       "0 -78.131400    Swine - Farrow to Wean           106640   \n",
       "1 -78.544711    Swine - Farrow to Wean            78630   \n",
       "2 -77.923100    Swine - Farrow to Wean            65550   \n",
       "3 -78.151400  Swine - Feeder to Finish            63360   \n",
       "4 -76.535800  Swine - Feeder to Finish            59000   \n",
       "\n",
       "   Total Waste (tons / year)  Biogas Potential (m^3 / year)  \n",
       "0              490225.577124                   1.372632e+07  \n",
       "1              301328.821333                   8.437207e+06  \n",
       "2              266616.481879                   7.465261e+06  \n",
       "3              243401.613396                   6.815245e+06  \n",
       "4              226652.386212                   6.346267e+06  "
      ]
     },
     "execution_count": 5,
     "metadata": {},
     "output_type": "execute_result"
    }
   ],
   "source": [
    "#Display the contents\n",
    "df_biogas.head()"
   ]
  },
  {
   "cell_type": "code",
   "execution_count": 6,
   "metadata": {},
   "outputs": [],
   "source": [
    "#Create a series of Point geometries for each record\n",
    "geom = [Point(xy) for xy in zip(df_biogas.Longitude, df_biogas.Latitude)]\n",
    "#Construct the geodataframe from the data and geometry, setting crs to WGS84\n",
    "gdf_biogas = gpd.GeoDataFrame(df_biogas, geometry = geom, crs = 4326)\n",
    "#Delete the original dataframe (to conserve memory)\n",
    "del(df_biogas)"
   ]
  },
  {
   "cell_type": "markdown",
   "metadata": {},
   "source": [
    "* Import the MIT cost and REXTAG pipelines rasters"
   ]
  },
  {
   "cell_type": "code",
   "execution_count": 7,
   "metadata": {},
   "outputs": [],
   "source": [
    "#Read the MIT img file into a rasterio raster\n",
    "ds_pipecost_full = rasterio.open(fn_MIT_cost_surface)\n",
    "#Read the REXTAG tif file into a rasterio raster\n",
    "ds_pipelines_full = rasterio.open(fn_REXTAG_pipe_raster)"
   ]
  },
  {
   "cell_type": "markdown",
   "metadata": {},
   "source": [
    "* Transform the biogas points to the same crs as the MIT raster"
   ]
  },
  {
   "cell_type": "code",
   "execution_count": 8,
   "metadata": {},
   "outputs": [],
   "source": [
    "#Get the MIT coordinate reference system\n",
    "crs_pipecost = ds_pipecost_full.crs\n",
    "#Apply the transformation\n",
    "gdf_biogas = gdf_biogas.to_crs(crs_pipecost)\n",
    "#Save to file\n",
    "gdf_biogas.to_file(fn_biogas_points)"
   ]
  },
  {
   "cell_type": "markdown",
   "metadata": {},
   "source": [
    "* Subset the cost and pipe rasters to the extent of the points + 5km"
   ]
  },
  {
   "cell_type": "code",
   "execution_count": 12,
   "metadata": {},
   "outputs": [],
   "source": [
    "#Collapse the biogas points to a multipoint object, buffer 5000m, and pull its exent\n",
    "bg_extent = gdf_biogas.geometry.unary_union.buffer(5000).envelope\n",
    "\n",
    "#Mask the cost and pipe rasters\n",
    "cost_image, cost_transform = rasterio.mask.mask(ds_pipecost_full,[bg_extent],crop=True)\n",
    "pipe_image, pipe_transform = rasterio.mask.mask(ds_pipelines_full,[bg_extent],crop=True)\n",
    "\n",
    "#Update the pipe raster dtype (uint8) to match the cost raster's (uint16)\n",
    "pipe_image = pipe_image.astype(cost_image.dtype)\n",
    "\n",
    "#Revise zero values to high cost values in cost_image\n",
    "cost_image[cost_image == 0] = cost_image.max() * 10"
   ]
  },
  {
   "cell_type": "markdown",
   "metadata": {},
   "source": [
    "* Save cost and pipeline subset images to two band raster dataset"
   ]
  },
  {
   "cell_type": "code",
   "execution_count": 192,
   "metadata": {},
   "outputs": [],
   "source": [
    "#Extract the dimensions of the output rasters\n",
    "out_height = cost_image.shape[1]\n",
    "out_width = cost_image.shape[2]\n",
    "#Create the subset cost surface metadata (altered from original)\n",
    "out_meta = ds_pipecost_full.meta\n",
    "out_meta.update({\"driver\":\"GTiff\",\n",
    "                 \"height\":out_height,\n",
    "                 \"width\":out_width,\"count\":2,\n",
    "                 \"transform\":cost_transform})\n",
    "#Stack the two images and write to output file\n",
    "out_stacked = np.concatenate((cost_image,pipe_image),axis=0)\n",
    "with rasterio.open(fn_subset_rasters,'w',**out_meta) as dst:\n",
    "    dst.write(out_stacked)"
   ]
  },
  {
   "cell_type": "code",
   "execution_count": 193,
   "metadata": {},
   "outputs": [],
   "source": [
    "#Read the raster back in \n",
    "ds_subset = rasterio.open(fn_subset_rasters)"
   ]
  },
  {
   "cell_type": "markdown",
   "metadata": {},
   "source": [
    "---\n",
    "## Analysis: Functions\n",
    "1. Compute least cost path for a biogas source to nearest pipe"
   ]
  },
  {
   "cell_type": "code",
   "execution_count": 194,
   "metadata": {},
   "outputs": [
    {
     "name": "stdout",
     "output_type": "stream",
     "text": [
      "0 Error with 35\n"
     ]
    }
   ],
   "source": [
    "#Convert pipes array to a masked array\n",
    "arr_pipes = ds_subset.read(2)\n",
    "pipe_mask = np.ma.masked_array(arr_pipes,mask=arr_pipes==0)\n",
    "\n",
    "#Create a graph from the cost raster\n",
    "x_size,y_size = ds_subset.res\n",
    "arr_cost = ds_subset.read(1)\n",
    "lc_graph = graph.MCP_Geometric(arr_cost,sampling=(x_size,y_size))\n",
    "\n",
    "#Make working copies of the biogas features and pipeline features\n",
    "gdf_biogas_routes = gdf_biogas.copy(deep=True)\n",
    "arr_pipes_working = arr_pipes.copy()\n",
    "\n",
    "#Create lookup dictionary of pipe type\n",
    "pipeDict = {1:'Transmission',2:'Distribution',3:'Gathering'}\n",
    "\n",
    "#Iterate through each record\n",
    "for layer_number,row in gdf_biogas_routes.iterrows():\n",
    "    #Status: report every 20th run\n",
    "    if layer_number%20 == 0: print(layer_number,end=' ')\n",
    "   \n",
    "    #Get the biogas feature for the specified layer number\n",
    "    fac_id = row['Facility ID']\n",
    "    bg_point = row['geometry']\n",
    "\n",
    "    #Get the index location\n",
    "    idx = ds_subset.index(bg_point.x,bg_point.y)\n",
    "    \n",
    "    #Compute the cost-distance and traceback arrays\n",
    "    cd_array, tb_array = lc_graph.find_costs(starts=([idx]))\n",
    "\n",
    "    ##Find the pipe coord with lowest cost in cd_array\n",
    "\n",
    "    #Mask just pipeline pixels from cost distance output\n",
    "    arr_cd_pipes = np.ma.masked_array(cd_array,mask=arr_pipes==0)\n",
    "    \n",
    "    #Locate the min value, i.e. where the LCP should end\n",
    "    minPipeCost = arr_cd_pipes.min()\n",
    "    \n",
    "    #If minPipeCost is zero, something is up\n",
    "    if minPipeCost == 0: \n",
    "        print(F\"Error with {fac_id}\")\n",
    "        break\n",
    "\n",
    "    #Determine the row and column where the min occurs\n",
    "    rMin, cMin = np.where(arr_cd_pipes == minPipeCost)\n",
    "    \n",
    "    #Extract values from value arrays\n",
    "    pipe_coords = (rMin[0],cMin[0])\n",
    "    \n",
    "    #Get the pipe type at the output\n",
    "    pipe_type = pipeDict[arr_pipes[pipe_coords]]\n",
    "\n",
    "    #Get the row/col indices of pixels in the LCP \n",
    "    lcp_indices = lc_graph.traceback(pipe_coords)\n",
    "    \n",
    "    #If the site is already on the pipeline, a lineString cannot be created\n",
    "    if(len(lcp_indices)<2):\n",
    "        continue\n",
    "\n",
    "    ##Add the route polyline to the geodatabase\n",
    "    #Create linestring from lcp_indices\n",
    "    pipe_line = LineString([ds_subset.xy(r,c) for r,c in lcp_indices])\n",
    "    \n",
    "    #Update the dataset so that the geometry is the route\n",
    "    gdf_biogas_routes.loc[layer_number,'geometry'] = pipe_line\n",
    "    gdf_biogas_routes.loc[layer_number,'TYPE'] = pipe_type\n",
    "\n",
    "    #Update the pipeline with the new connection\n",
    "    for r,c in lcp_indices:\n",
    "        arr_pipes[r,c] = 1"
   ]
  },
  {
   "cell_type": "markdown",
   "metadata": {},
   "source": [
    "Some biogas locations are located too close to existing pipelines to have a LCP computed. These appear as points in the output `gdf_biogas_routes` geodataframe. To fix this, we find the nearest point along exisiting routes and connect these sources to those routes. "
   ]
  },
  {
   "cell_type": "markdown",
   "metadata": {},
   "source": [
    "---"
   ]
  },
  {
   "cell_type": "code",
   "execution_count": 214,
   "metadata": {},
   "outputs": [],
   "source": [
    "FacID = 94\n",
    "bg_point = gdf_biogas.loc[gdf_biogas['Facility ID'] == FacID,'geometry'].values[0]\n",
    "#Get the index location\n",
    "idx = ds_subset.index(bg_point.x,bg_point.y)\n",
    "\n",
    "#Compute the cost-distance and traceback arrays\n",
    "cd_array, tb_array = lc_graph.find_costs(starts=([idx]))\n",
    "\n",
    "##Find the pipe coord with lowest cost in cd_array\n",
    "\n",
    "#Mask just pipeline pixels from cost distance output\n",
    "arr_cd_pipes = np.ma.masked_array(cd_array,mask=arr_pipes==0)\n",
    "\n",
    "#Locate the min value, i.e. where the LCP should end\n",
    "minPipeCost = arr_cd_pipes.min()\n",
    "\n",
    "#Determine the row and column where the min occurs\n",
    "rMin, cMin = np.where(arr_cd_pipes == minPipeCost)\n",
    "\n",
    "#Extract values from value arrays\n",
    "pipe_coords = (rMin[0],cMin[0])\n",
    "\n",
    "#Get the pipe type at the output\n",
    "pipe_type = pipeDict[arr_pipes[pipe_coords]]\n",
    "\n",
    "#Get the row/col indices of pixels in the LCP \n",
    "lcp_indices = lc_graph.traceback(pipe_coords)\n"
   ]
  },
  {
   "cell_type": "code",
   "execution_count": 203,
   "metadata": {},
   "outputs": [],
   "source": [
    "extent = (cMin[0]-20,cMin[0]+20,rMin[0]-20,rMin[0]+20)"
   ]
  },
  {
   "cell_type": "code",
   "execution_count": 209,
   "metadata": {},
   "outputs": [
    {
     "data": {
      "text/plain": [
       "<matplotlib.image.AxesImage at 0x168aa680708>"
      ]
     },
     "execution_count": 209,
     "metadata": {},
     "output_type": "execute_result"
    },
    {
     "data": {
      "image/png": "[encoded data removed]",
      "text/plain": [
       "<Figure size 432x288 with 1 Axes>"
      ]
     },
     "metadata": {
      "needs_background": "light"
     },
     "output_type": "display_data"
    }
   ],
   "source": [
    "#plt.imshow(tb_array,extent=extent,cmap='Set1')\n",
    "plt.imshow(arr_cd_pipes==0,extent=extent)"
   ]
  },
  {
   "cell_type": "code",
   "execution_count": 219,
   "metadata": {},
   "outputs": [],
   "source": [
    "#Create the subset cost surface metadata (altered from original)\n",
    "out_meta2 = ds_subset.meta\n",
    "\n",
    "out_meta2.update({\"nodata\":19,\"count\":1,\"dtype\":rasterio.uint16})\n",
    "#Stack the two images and write to output file\n",
    "with rasterio.open('../scratch/pipes1.tif','w',**out_meta2) as dst:\n",
    "    dst.write(arr_pipes,1)"
   ]
  },
  {
   "cell_type": "code",
   "execution_count": 176,
   "metadata": {},
   "outputs": [],
   "source": [
    "out_meta2.update({\"count\":1,\"dtype\":rasterio.int16})\n",
    "#Stack the two images and write to output file\n",
    "with rasterio.open('../scratch/tbX.tif','w',**out_meta2) as dst:\n",
    "    dst.write(tb_array,1)"
   ]
  },
  {
   "cell_type": "markdown",
   "metadata": {},
   "source": [
    "---"
   ]
  },
  {
   "cell_type": "code",
   "execution_count": 97,
   "metadata": {},
   "outputs": [
    {
     "data": {
      "text/plain": [
       "171"
      ]
     },
     "execution_count": 97,
     "metadata": {},
     "output_type": "execute_result"
    }
   ],
   "source": [
    "#Reveal how many un-routed points\n",
    "(gdf_biogas_routes.geom_type == 'Point').sum()"
   ]
  },
  {
   "cell_type": "code",
   "execution_count": 66,
   "metadata": {},
   "outputs": [],
   "source": [
    "#Separate out line features from point features\n",
    "gdfLines = gdf_biogas_routes.loc[gdf_biogas_routes.geometry.type == 'LineString']\n",
    "gdfPoints = gdf_biogas_routes.loc[gdf_biogas_routes.geometry.type != 'LineString']"
   ]
  },
  {
   "cell_type": "code",
   "execution_count": 67,
   "metadata": {},
   "outputs": [],
   "source": [
    "#For points, find nearest point on line\n",
    "allLines = gdfLines.geometry.unary_union"
   ]
  },
  {
   "cell_type": "code",
   "execution_count": 68,
   "metadata": {},
   "outputs": [],
   "source": [
    "from shapely.ops import nearest_points"
   ]
  },
  {
   "cell_type": "code",
   "execution_count": 77,
   "metadata": {},
   "outputs": [],
   "source": [
    "gdf_routes = gdf_biogas_routes.copy(deep=True)"
   ]
  },
  {
   "cell_type": "code",
   "execution_count": 82,
   "metadata": {},
   "outputs": [],
   "source": [
    "def addRoutes(shape):\n",
    "    if shape.type=='LineString': \n",
    "        return shape\n",
    "    else:\n",
    "        return LineString(nearest_points(shape,allLines))"
   ]
  },
  {
   "cell_type": "code",
   "execution_count": 85,
   "metadata": {},
   "outputs": [],
   "source": [
    "gdf_routes['geometry'] = gdf_routes['geometry'].apply(addRoutes)"
   ]
  },
  {
   "cell_type": "code",
   "execution_count": null,
   "metadata": {},
   "outputs": [],
   "source": []
  },
  {
   "cell_type": "code",
   "execution_count": 87,
   "metadata": {},
   "outputs": [],
   "source": [
    "#Rename columns\n",
    "gdf_out = gdf_routes.rename({'Facility ID':'Fac_ID',\n",
    "                                    'Total Waste (tons / year)':'Waste',\n",
    "                                    'Biogas Potential (m^3 / year)':'Biogas'\n",
    "                                   },axis=1)\n",
    "\n",
    "#Filter for LineString records, and select columns: write to output\n",
    "outColumns = ['Fac_ID','Waste','Biogas','TYPE','geometry']\n",
    "gdf_out.loc[gdf_out.geometry.type=='LineString'][outColumns].to_file(fn_biogas_routes)"
   ]
  },
  {
   "cell_type": "code",
   "execution_count": null,
   "metadata": {},
   "outputs": [],
   "source": [
    "#Write route attributes to csv file\n",
    "gdf_biogas_routes.to_csv('..\\\\data\\\\processed\\\\RouteData.csv')"
   ]
  },
  {
   "cell_type": "code",
   "execution_count": 90,
   "metadata": {},
   "outputs": [],
   "source": [
    "#Write points to file\n",
    "outColumns = ['Fac_ID','Waste','Biogas','TYPE','geometry']\n",
    "gdf_biogas_routes.loc[gdf_biogas_routes.geometry.type!='LineString'].to_file('../data/processed/Points.shp')"
   ]
  }
 ],
 "metadata": {
  "kernelspec": {
   "display_name": "Python 3",
   "language": "python",
   "name": "python3"
  },
  "language_info": {
   "codemirror_mode": {
    "name": "ipython",
    "version": 3
   },
   "file_extension": ".py",
   "mimetype": "text/x-python",
   "name": "python",
   "nbconvert_exporter": "python",
   "pygments_lexer": "ipython3",
   "version": "3.7.6"
  }
 },
 "nbformat": 4,
 "nbformat_minor": 2
}
