{
 "cells": [
  {
   "cell_type": "code",
   "execution_count": 3,
   "metadata": {},
   "outputs": [],
   "source": [
    "import numpy as np\n",
    "import gdal"
   ]
  },
  {
   "cell_type": "code",
   "execution_count": 4,
   "metadata": {},
   "outputs": [],
   "source": [
    "#Read in the original cost raster to get specifics\n",
    "dsIn = gdal.Open('../data/MIT Cost Surface Duplin Co/MIT Cost Surface Duplin.tif')\n",
    "geoTS = dsIn.GetGeoTransform()\n",
    "prj = dsIn.GetProjection()"
   ]
  },
  {
   "cell_type": "code",
   "execution_count": 5,
   "metadata": {},
   "outputs": [
    {
     "data": {
      "text/plain": [
       "(229, 112, 149)"
      ]
     },
     "execution_count": 5,
     "metadata": {},
     "output_type": "execute_result"
    }
   ],
   "source": [
    "#Read the stack\n",
    "arrStack = np.load('../data/DuplinStack.npy')\n",
    "arrStack.shape"
   ]
  },
  {
   "cell_type": "code",
   "execution_count": 6,
   "metadata": {},
   "outputs": [],
   "source": [
    "#Reduce to minimum costs\n",
    "arrMin = np.amin(arrStack,axis=0)"
   ]
  },
  {
   "cell_type": "code",
   "execution_count": 7,
   "metadata": {},
   "outputs": [],
   "source": [
    "#Export to geotiff\n",
    "bands,height,width = arrStack.shape\n",
    "drv = gdal.GetDriverByName(\"GTiff\")\n",
    "dsOut = drv.Create('../scratch/coststack.tif',width,height,bands,gdal.GDT_Float32)\n",
    "\n",
    "#dsOut.SetGeoTransform (geoTS)\n",
    "#dsOut.SetProjection(prj)\n",
    "for i in range(bands):\n",
    "    dsOut.GetRasterBand(i+1).WriteArray(arrStack[i,:,:])\n",
    "dsOut.SetGeoTransform (geoTS)\n",
    "dsOut.SetProjection(prj)\n",
    "dsOut.FlushCache()  # Write to disk."
   ]
  },
  {
   "cell_type": "code",
   "execution_count": 8,
   "metadata": {},
   "outputs": [],
   "source": [
    "#Export to geotiff\n",
    "bands,height,width = arrStack.shape\n",
    "drv = gdal.GetDriverByName(\"GTiff\")\n",
    "dsOut = drv.Create('../scratch/min_cost1.tif',width,height,1,gdal.GDT_Float32)\n",
    "\n",
    "dsOut.GetRasterBand(1).WriteArray(arrMin)\n",
    "dsOut.SetGeoTransform (geoTS)\n",
    "dsOut.SetProjection(prj)\n",
    "dsOut.FlushCache()\n"
   ]
  },
  {
   "cell_type": "code",
   "execution_count": null,
   "metadata": {},
   "outputs": [],
   "source": []
  }
 ],
 "metadata": {
  "kernelspec": {
   "display_name": "Python 3",
   "language": "python",
   "name": "python3"
  },
  "language_info": {
   "codemirror_mode": {
    "name": "ipython",
    "version": 3
   },
   "file_extension": ".py",
   "mimetype": "text/x-python",
   "name": "python",
   "nbconvert_exporter": "python",
   "pygments_lexer": "ipython3",
   "version": "3.6.8"
  }
 },
 "nbformat": 4,
 "nbformat_minor": 2
}
