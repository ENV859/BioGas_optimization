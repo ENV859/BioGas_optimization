{
 "cells": [
  {
   "cell_type": "code",
   "execution_count": 1,
   "metadata": {},
   "outputs": [],
   "source": [
    "import geopandas as gpd\n",
    "import pandas as pd\n",
    "import numpy as np\n",
    "from shapely.geometry import Point, LineString\n",
    "from shapely.ops import split\n",
    "\n",
    "#Set debugging flag\n",
    "DEBUG = False"
   ]
  },
  {
   "cell_type": "code",
   "execution_count": 2,
   "metadata": {},
   "outputs": [],
   "source": [
    "#Read in routes feature class as shapefile\n",
    "gdfRoutes = gpd.read_file('..\\\\data\\\\processed\\\\Routes.shp')"
   ]
  },
  {
   "cell_type": "code",
   "execution_count": 3,
   "metadata": {},
   "outputs": [],
   "source": [
    "#Columns to drop to keep things tidy\n",
    "drop_cols = ['Facility N', 'Address', 'City', 'County Nam',\n",
    "             'Zip', 'Latitude', 'Longitude', 'Regulated', \n",
    "             'Allowable', 'Total Wast']"
   ]
  },
  {
   "cell_type": "code",
   "execution_count": 4,
   "metadata": {},
   "outputs": [],
   "source": [
    "#Copy routes geodataframe and update geometry to start points\n",
    "gdfStart = gdfRoutes.copy(deep=True)\n",
    "gdfStart['geometry'] = gdfRoutes['geometry'].apply(lambda x: Point(x.coords[0]))\n",
    "gdfStart.drop(columns=drop_cols,axis=1,inplace=True)"
   ]
  },
  {
   "cell_type": "code",
   "execution_count": 5,
   "metadata": {},
   "outputs": [],
   "source": [
    "#Copy routes geodataframe and update geometry to start points\n",
    "gdfEnd = gdfRoutes.copy(deep=True)\n",
    "gdfEnd['geometry'] = gdfRoutes['geometry'].apply(lambda x: Point(x.coords[-1]))\n",
    "gdfEnd.drop(columns=drop_cols,axis=1,inplace=True)"
   ]
  },
  {
   "cell_type": "markdown",
   "metadata": {},
   "source": [
    "Create junctions along route segments where upstream routes join them - done by iterating through each route feature and splitting it by the set of end points. "
   ]
  },
  {
   "cell_type": "code",
   "execution_count": 6,
   "metadata": {},
   "outputs": [],
   "source": [
    "#Combine endpoints into a single multipoint object\n",
    "ends = gdfEnd.geometry.unary_union"
   ]
  },
  {
   "cell_type": "code",
   "execution_count": 7,
   "metadata": {},
   "outputs": [],
   "source": [
    "#Create a geoseries of split routes (geometry collections)\n",
    "theSplits = gdfRoutes.geometry.apply(lambda x: split(x,ends))"
   ]
  },
  {
   "cell_type": "markdown",
   "metadata": {},
   "source": [
    "* Create a feature class of all segments (routes split at junctions)"
   ]
  },
  {
   "cell_type": "code",
   "execution_count": 8,
   "metadata": {},
   "outputs": [],
   "source": [
    "#Create lists to fill\n",
    "links = []\n",
    "geom = []\n",
    "#Iterate and add items to the list\n",
    "for index, row in gdfRoutes.iterrows():\n",
    "    #Iterate through split segments in the geometry collection\n",
    "    for line in theSplits[index].geoms:\n",
    "        #Add items to the list\n",
    "        links.append(str(row['index']))\n",
    "        geom.append(line)\n",
    "\n",
    "#Construct an output geodataframe\n",
    "gdfSegments = gpd.GeoDataFrame(pd.DataFrame({'route_id':links}),\n",
    "                               geometry = geom, crs = gdfRoutes.crs)\n",
    "\n",
    "#Add the index as a unique segment ID  \n",
    "gdfSegments['edge_ID'] = gdfSegments.index.astype(str)"
   ]
  },
  {
   "cell_type": "markdown",
   "metadata": {},
   "source": [
    "##### Create geodataframes from \"from\" and \"to\" nodes\n",
    "Here the \"from\" nodes are actually the last point in each segment, and the \"to\" nodes are the first. This seems backwards, but these are both intermediate datasets used to determine \"from-to\" pairs, done by spatially joining them. When joined, the \"from\" node carries the attribute of the upstream segment and the \"to\" node carries the downstream one..."
   ]
  },
  {
   "cell_type": "code",
   "execution_count": 10,
   "metadata": {},
   "outputs": [],
   "source": [
    "gdfSegments.to_file('../scratch/segs.shp')"
   ]
  },
  {
   "cell_type": "code",
   "execution_count": 11,
   "metadata": {},
   "outputs": [],
   "source": [
    "#Construct a gdf of segement start and end points\n",
    "gdfToNodes = gdfSegments.copy(deep=True)\n",
    "gdfToNodes['geometry'] = gdfToNodes['geometry'].apply(lambda x: Point(x.coords[0]))\n",
    "gdfToNodes['to_id'] = gdfToNodes.index.astype(str)\n",
    "\n",
    "gdfFromNodes = gdfSegments.copy(deep=True)\n",
    "gdfFromNodes['geometry'] = gdfFromNodes['geometry'].apply(lambda x: Point(x.coords[-1]))\n",
    "gdfFromNodes['from_id'] = gdfFromNodes.index.astype(str)"
   ]
  },
  {
   "cell_type": "code",
   "execution_count": 12,
   "metadata": {},
   "outputs": [],
   "source": [
    "#Print out for debugging\n",
    "if DEBUG:\n",
    "    gdfToNodes.to_file('../scratch/ToNodes.shp')\n",
    "    gdfFromNodes.to_file('../scratch/FromNodes.shp')"
   ]
  },
  {
   "cell_type": "markdown",
   "metadata": {},
   "source": [
    "* Overlap the to and from nodes, this provides a table linking the two (start of an edge list). However, in doing this, because there is no \"outer\" join option, the \"to\" nodes with no correspondng \"from\" nodes are dropped. We need to re-add them, assigning their value to the appropriate \"from\" value. "
   ]
  },
  {
   "cell_type": "code",
   "execution_count": 13,
   "metadata": {},
   "outputs": [],
   "source": [
    "#Spatially join the above geodataframes\n",
    "gdfNodes = gpd.sjoin(left_df=gdfFromNodes, right_df=gdfToNodes,how='left')\n",
    "#Set terminal nodes to the index + \"T\"\n",
    "gdfNodes['idx'] = gdfNodes.index.astype(str)+\"_T\"\n",
    "gdfNodes['to_id'].fillna(gdfNodes['idx'],inplace=True)\n",
    "#Drop extraneous fields\n",
    "gdfNodes.drop(columns=['index_right','route_id_right','edge_ID_right','idx'],axis=1,inplace=True)"
   ]
  },
  {
   "cell_type": "code",
   "execution_count": 14,
   "metadata": {},
   "outputs": [],
   "source": [
    "gdfNodes.to_file('../scratch/nodes.shp')"
   ]
  },
  {
   "cell_type": "markdown",
   "metadata": {},
   "source": [
    "##### Append the `to` and `from` node IDs to the segments\n",
    "The `edge_id_left` in the spatially joined dataframe above contains the value corresponding to the edge from which the end points were extracted. We thus join back the end node data back to the segments via this value. "
   ]
  },
  {
   "cell_type": "code",
   "execution_count": 48,
   "metadata": {},
   "outputs": [],
   "source": [
    "#Join the from and to IDs to the segments dataframe\n",
    "gdfOut = gdfSegments.merge(gdfNodes[['from_id','to_id']],left_on='edge_ID', right_on='from_id',how='left')"
   ]
  },
  {
   "cell_type": "code",
   "execution_count": 49,
   "metadata": {},
   "outputs": [],
   "source": [
    "##### Attach biogas potential (in gdfStart) to segment from nodes (gdfToNode)\n",
    "#Spatially join the start point features to the \"ToPoint\" feature (which are actually the \"from pts\")\n",
    "gdfTo = gpd.sjoin(left_df=gdfToNodes,right_df=gdfStart,how='left')\n",
    "#Merge the biogas data in the above result to the existing output segments\n",
    "gdfOut = gdfOut.merge(gdfTo[['to_id','Biogas P_1']],left_on='edge_ID',right_on='to_id')"
   ]
  },
  {
   "cell_type": "code",
   "execution_count": 59,
   "metadata": {},
   "outputs": [],
   "source": [
    "#Fix biogas column\n",
    "gdfOut['BG_potential'] = gdfOut['Biogas P_1'].values.astype(np.int64)\n",
    "gdfOut.loc[pd.isna(gdfOut['Biogas P_1']),'BG_potential'] = 0"
   ]
  },
  {
   "cell_type": "code",
   "execution_count": 61,
   "metadata": {},
   "outputs": [
    {
     "data": {
      "text/html": [
       "<div>\n",
       "<style scoped>\n",
       "    .dataframe tbody tr th:only-of-type {\n",
       "        vertical-align: middle;\n",
       "    }\n",
       "\n",
       "    .dataframe tbody tr th {\n",
       "        vertical-align: top;\n",
       "    }\n",
       "\n",
       "    .dataframe thead th {\n",
       "        text-align: right;\n",
       "    }\n",
       "</style>\n",
       "<table border=\"1\" class=\"dataframe\">\n",
       "  <thead>\n",
       "    <tr style=\"text-align: right;\">\n",
       "      <th></th>\n",
       "      <th>route_id</th>\n",
       "      <th>geometry</th>\n",
       "      <th>edge_ID</th>\n",
       "      <th>from_id</th>\n",
       "      <th>to_id</th>\n",
       "      <th>to_id_y</th>\n",
       "      <th>Biogas P_1</th>\n",
       "      <th>BG_potential</th>\n",
       "    </tr>\n",
       "  </thead>\n",
       "  <tbody>\n",
       "    <tr>\n",
       "      <th>0</th>\n",
       "      <td>179</td>\n",
       "      <td>LINESTRING (1582814.308 -311794.717, 1582814.3...</td>\n",
       "      <td>0</td>\n",
       "      <td>0</td>\n",
       "      <td>1</td>\n",
       "      <td>0</td>\n",
       "      <td>2.456923e+08</td>\n",
       "      <td>245692262</td>\n",
       "    </tr>\n",
       "    <tr>\n",
       "      <th>1</th>\n",
       "      <td>179</td>\n",
       "      <td>LINESTRING (1582309.906 -310281.512, 1582309.9...</td>\n",
       "      <td>1</td>\n",
       "      <td>1</td>\n",
       "      <td>2</td>\n",
       "      <td>1</td>\n",
       "      <td>NaN</td>\n",
       "      <td>0</td>\n",
       "    </tr>\n",
       "    <tr>\n",
       "      <th>2</th>\n",
       "      <td>179</td>\n",
       "      <td>LINESTRING (1582309.906 -308768.307, 1582309.9...</td>\n",
       "      <td>2</td>\n",
       "      <td>2</td>\n",
       "      <td>3</td>\n",
       "      <td>2</td>\n",
       "      <td>NaN</td>\n",
       "      <td>0</td>\n",
       "    </tr>\n",
       "    <tr>\n",
       "      <th>3</th>\n",
       "      <td>179</td>\n",
       "      <td>LINESTRING (1582309.906 -308263.906, 1582309.9...</td>\n",
       "      <td>3</td>\n",
       "      <td>3</td>\n",
       "      <td>4</td>\n",
       "      <td>3</td>\n",
       "      <td>NaN</td>\n",
       "      <td>0</td>\n",
       "    </tr>\n",
       "    <tr>\n",
       "      <th>4</th>\n",
       "      <td>179</td>\n",
       "      <td>LINESTRING (1582309.906 -307255.102, 1582814.3...</td>\n",
       "      <td>4</td>\n",
       "      <td>4</td>\n",
       "      <td>5</td>\n",
       "      <td>4</td>\n",
       "      <td>NaN</td>\n",
       "      <td>0</td>\n",
       "    </tr>\n",
       "  </tbody>\n",
       "</table>\n",
       "</div>"
      ],
      "text/plain": [
       "  route_id                                           geometry edge_ID from_id  \\\n",
       "0      179  LINESTRING (1582814.308 -311794.717, 1582814.3...       0       0   \n",
       "1      179  LINESTRING (1582309.906 -310281.512, 1582309.9...       1       1   \n",
       "2      179  LINESTRING (1582309.906 -308768.307, 1582309.9...       2       2   \n",
       "3      179  LINESTRING (1582309.906 -308263.906, 1582309.9...       3       3   \n",
       "4      179  LINESTRING (1582309.906 -307255.102, 1582814.3...       4       4   \n",
       "\n",
       "  to_id to_id_y    Biogas P_1  BG_potential  \n",
       "0     1       0  2.456923e+08     245692262  \n",
       "1     2       1           NaN             0  \n",
       "2     3       2           NaN             0  \n",
       "3     4       3           NaN             0  \n",
       "4     5       4           NaN             0  "
      ]
     },
     "execution_count": 61,
     "metadata": {},
     "output_type": "execute_result"
    }
   ],
   "source": [
    "#Fix merged column names\n",
    "gdfOut.rename(columns={'to_id_x':'to_id'},inplace=True)\n",
    "gdfOut.head()"
   ]
  },
  {
   "cell_type": "code",
   "execution_count": 62,
   "metadata": {},
   "outputs": [],
   "source": [
    "#Write out shapefile\n",
    "gdfOut[['edge_ID','from_id','to_id',\n",
    "        'route_id','BG_potential','geometry']].to_file('../data/processed/BasePipeline.shp')"
   ]
  },
  {
   "cell_type": "code",
   "execution_count": 63,
   "metadata": {},
   "outputs": [],
   "source": [
    "#Write out edge list\n",
    "gdfOut[['from_id','to_id','Biogas P_1']].to_csv('../data/processed/BaseEdgeList.csv',index=False)"
   ]
  }
 ],
 "metadata": {
  "kernelspec": {
   "display_name": "Python 3",
   "language": "python",
   "name": "python3"
  },
  "language_info": {
   "codemirror_mode": {
    "name": "ipython",
    "version": 3
   },
   "file_extension": ".py",
   "mimetype": "text/x-python",
   "name": "python",
   "nbconvert_exporter": "python",
   "pygments_lexer": "ipython3",
   "version": "3.7.6"
  }
 },
 "nbformat": 4,
 "nbformat_minor": 4
}
