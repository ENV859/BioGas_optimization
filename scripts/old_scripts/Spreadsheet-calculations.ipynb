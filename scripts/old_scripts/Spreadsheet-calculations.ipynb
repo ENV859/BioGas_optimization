{
 "cells": [
  {
   "cell_type": "code",
   "execution_count": 2,
   "metadata": {},
   "outputs": [],
   "source": [
    "import pandas as pd\n",
    "import xlrd"
   ]
  },
  {
   "cell_type": "markdown",
   "metadata": {},
   "source": [
    "#### Read in constants from Conversion & Assumptions table\n"
   ]
  },
  {
   "cell_type": "code",
   "execution_count": 49,
   "metadata": {},
   "outputs": [],
   "source": [
    "#Read the spreadsheet in as a dataframe\n",
    "dfBG =  pd.read_excel('../data/NC_Biogas_Potential.xlsx',sheet_name='Swine')"
   ]
  },
  {
   "cell_type": "code",
   "execution_count": 52,
   "metadata": {},
   "outputs": [],
   "source": [
    "G62 = wsCA.cell_value(61,6) #Low pressure power\n",
    "G63 = wsCA.cell_value(62,6) #Low pressure coefficient\n",
    "B3 = wsCA.cell_value(2,1)  #Biogas methane content (%)\n",
    "C3 = wsCA.cell_value(2,2)  #Biogas CO2 content (%)"
   ]
  },
  {
   "cell_type": "code",
   "execution_count": 53,
   "metadata": {},
   "outputs": [
    {
     "data": {
      "text/plain": [
       "(0.6, 0.4)"
      ]
     },
     "execution_count": 53,
     "metadata": {},
     "output_type": "execute_result"
    }
   ],
   "source": [
    "B3,C3"
   ]
  },
  {
   "cell_type": "code",
   "execution_count": 48,
   "metadata": {},
   "outputs": [],
   "source": [
    "#Read in table of Swine Types\n",
    "df_yields = pd.read_excel('../data/DuplinCountySwineFarmEconomics.xlsx',\n",
    "                          sheet_name='Swine Farm Type Lagoon Yields',\n",
    "                          skiprows=1,\n",
    "                          names=['Swine Farm Type','Biogas (scf/y)','Methane (MMBtu/y)'])\n",
    "df_yields.drop('Methane (MMBtu/y)',axis=1,inplace=True)\n",
    "df_yields.to_csv('../Data/raw/swine_farm_type_yeilds.csv',index=False)"
   ]
  },
  {
   "cell_type": "code",
   "execution_count": 8,
   "metadata": {},
   "outputs": [],
   "source": [
    "#Read in economics spreadsheet\n",
    "wbEcon = xlrd.opn_workbook('../data/DuplinCountySwineFarmEconomics.xlsx')\n",
    "#Get the worksheet\n",
    "wsCA = wbEcon.sheet_by_name('Conversions & Assumptions')"
   ]
  },
  {
   "cell_type": "markdown",
   "metadata": {},
   "source": [
    "---"
   ]
  },
  {
   "cell_type": "code",
   "execution_count": 40,
   "metadata": {},
   "outputs": [],
   "source": [
    "#Read in the swine data\n",
    "dfBG =  pd.read_excel('../data/NC_Biogas_Potential.xlsx',sheet_name='Swine')"
   ]
  },
  {
   "cell_type": "code",
   "execution_count": 41,
   "metadata": {},
   "outputs": [],
   "source": [
    "#Join the Biogas yield table\n",
    "dfBG = pd.merge(left=dfBG,left_on='Regulated Activity',\n",
    "                right=df_yields,right_on='Swine Farm Type',\n",
    "                how='left').drop('Swine Farm Type',axis=1)"
   ]
  },
  {
   "cell_type": "code",
   "execution_count": 44,
   "metadata": {},
   "outputs": [],
   "source": [
    "dfBG['X'] = dfBG['Biogas Potential (m^3 / year)'] - dfBG['Biogas (scf/y)']"
   ]
  },
  {
   "cell_type": "code",
   "execution_count": 45,
   "metadata": {},
   "outputs": [
    {
     "data": {
      "text/html": [
       "<div>\n",
       "<style scoped>\n",
       "    .dataframe tbody tr th:only-of-type {\n",
       "        vertical-align: middle;\n",
       "    }\n",
       "\n",
       "    .dataframe tbody tr th {\n",
       "        vertical-align: top;\n",
       "    }\n",
       "\n",
       "    .dataframe thead th {\n",
       "        text-align: right;\n",
       "    }\n",
       "</style>\n",
       "<table border=\"1\" class=\"dataframe\">\n",
       "  <thead>\n",
       "    <tr style=\"text-align: right;\">\n",
       "      <th></th>\n",
       "      <th>Facility Name</th>\n",
       "      <th>Address</th>\n",
       "      <th>City</th>\n",
       "      <th>County Name</th>\n",
       "      <th>Zip</th>\n",
       "      <th>Latitude</th>\n",
       "      <th>Longitude</th>\n",
       "      <th>Regulated Activity</th>\n",
       "      <th>Allowable Count</th>\n",
       "      <th>Total Waste (tons / year)</th>\n",
       "      <th>Biogas Potential (m^3 / year)</th>\n",
       "      <th>Biogas Potential (f^3 / year)</th>\n",
       "      <th>Biogas (scf/y)</th>\n",
       "      <th>X</th>\n",
       "    </tr>\n",
       "  </thead>\n",
       "  <tbody>\n",
       "    <tr>\n",
       "      <th>0</th>\n",
       "      <td>Piedmont L/S Co Farm</td>\n",
       "      <td>NaN</td>\n",
       "      <td>NaN</td>\n",
       "      <td>Alamance</td>\n",
       "      <td>NaN</td>\n",
       "      <td>36.174200</td>\n",
       "      <td>-79.499400</td>\n",
       "      <td>Swine - Farrow to Wean</td>\n",
       "      <td>300</td>\n",
       "      <td>3982.050316</td>\n",
       "      <td>111497.408837</td>\n",
       "      <td>3.937494e+06</td>\n",
       "      <td>1183.0</td>\n",
       "      <td>110314.408837</td>\n",
       "    </tr>\n",
       "    <tr>\n",
       "      <th>1</th>\n",
       "      <td>Randall Lewis Farm 2</td>\n",
       "      <td>3978 Lewis Rd</td>\n",
       "      <td>Snow Camp</td>\n",
       "      <td>Alamance</td>\n",
       "      <td>27349.0</td>\n",
       "      <td>35.870000</td>\n",
       "      <td>-79.303300</td>\n",
       "      <td>Swine - Feeder to Finish</td>\n",
       "      <td>600</td>\n",
       "      <td>2304.939521</td>\n",
       "      <td>64538.306582</td>\n",
       "      <td>2.279149e+06</td>\n",
       "      <td>2336.0</td>\n",
       "      <td>62202.306582</td>\n",
       "    </tr>\n",
       "    <tr>\n",
       "      <th>2</th>\n",
       "      <td>A. Dale McRae Farm</td>\n",
       "      <td>3459 Dennis Rd</td>\n",
       "      <td>Wadesboro</td>\n",
       "      <td>Anson</td>\n",
       "      <td>28170.0</td>\n",
       "      <td>35.050361</td>\n",
       "      <td>-80.062561</td>\n",
       "      <td>Swine - Wean to Feeder</td>\n",
       "      <td>7040</td>\n",
       "      <td>5572.301110</td>\n",
       "      <td>156024.431073</td>\n",
       "      <td>5.509951e+06</td>\n",
       "      <td>420.0</td>\n",
       "      <td>155604.431073</td>\n",
       "    </tr>\n",
       "    <tr>\n",
       "      <th>3</th>\n",
       "      <td>Gold Creek Farm</td>\n",
       "      <td>656 Deep Creek Rd</td>\n",
       "      <td>Wadesboro</td>\n",
       "      <td>Anson</td>\n",
       "      <td>28170.0</td>\n",
       "      <td>34.845508</td>\n",
       "      <td>-80.101780</td>\n",
       "      <td>Swine - Wean to Feeder</td>\n",
       "      <td>3552</td>\n",
       "      <td>2811.479196</td>\n",
       "      <td>78721.417496</td>\n",
       "      <td>2.780021e+06</td>\n",
       "      <td>420.0</td>\n",
       "      <td>78301.417496</td>\n",
       "    </tr>\n",
       "    <tr>\n",
       "      <th>4</th>\n",
       "      <td>Kevin Martin Farm</td>\n",
       "      <td>1024 Old Hwy 52 W</td>\n",
       "      <td>Wadesboro</td>\n",
       "      <td>Anson</td>\n",
       "      <td>28170.0</td>\n",
       "      <td>35.156219</td>\n",
       "      <td>-80.116250</td>\n",
       "      <td>Swine - Wean to Feeder</td>\n",
       "      <td>3552</td>\n",
       "      <td>2811.479196</td>\n",
       "      <td>78721.417496</td>\n",
       "      <td>2.780021e+06</td>\n",
       "      <td>420.0</td>\n",
       "      <td>78301.417496</td>\n",
       "    </tr>\n",
       "  </tbody>\n",
       "</table>\n",
       "</div>"
      ],
      "text/plain": [
       "          Facility Name            Address       City County Name      Zip  \\\n",
       "0  Piedmont L/S Co Farm                NaN        NaN    Alamance      NaN   \n",
       "1  Randall Lewis Farm 2      3978 Lewis Rd  Snow Camp    Alamance  27349.0   \n",
       "2    A. Dale McRae Farm     3459 Dennis Rd  Wadesboro       Anson  28170.0   \n",
       "3       Gold Creek Farm  656 Deep Creek Rd  Wadesboro       Anson  28170.0   \n",
       "4     Kevin Martin Farm  1024 Old Hwy 52 W  Wadesboro       Anson  28170.0   \n",
       "\n",
       "    Latitude  Longitude        Regulated Activity  Allowable Count  \\\n",
       "0  36.174200 -79.499400    Swine - Farrow to Wean              300   \n",
       "1  35.870000 -79.303300  Swine - Feeder to Finish              600   \n",
       "2  35.050361 -80.062561    Swine - Wean to Feeder             7040   \n",
       "3  34.845508 -80.101780    Swine - Wean to Feeder             3552   \n",
       "4  35.156219 -80.116250    Swine - Wean to Feeder             3552   \n",
       "\n",
       "   Total Waste (tons / year)  Biogas Potential (m^3 / year)  \\\n",
       "0                3982.050316                  111497.408837   \n",
       "1                2304.939521                   64538.306582   \n",
       "2                5572.301110                  156024.431073   \n",
       "3                2811.479196                   78721.417496   \n",
       "4                2811.479196                   78721.417496   \n",
       "\n",
       "   Biogas Potential (f^3 / year)  Biogas (scf/y)              X  \n",
       "0                   3.937494e+06          1183.0  110314.408837  \n",
       "1                   2.279149e+06          2336.0   62202.306582  \n",
       "2                   5.509951e+06           420.0  155604.431073  \n",
       "3                   2.780021e+06           420.0   78301.417496  \n",
       "4                   2.780021e+06           420.0   78301.417496  "
      ]
     },
     "execution_count": 45,
     "metadata": {},
     "output_type": "execute_result"
    }
   ],
   "source": [
    "dfBG.head()"
   ]
  },
  {
   "cell_type": "code",
   "execution_count": null,
   "metadata": {},
   "outputs": [],
   "source": []
  }
 ],
 "metadata": {
  "kernelspec": {
   "display_name": "Python 3",
   "language": "python",
   "name": "python3"
  },
  "language_info": {
   "codemirror_mode": {
    "name": "ipython",
    "version": 3
   },
   "file_extension": ".py",
   "mimetype": "text/x-python",
   "name": "python",
   "nbconvert_exporter": "python",
   "pygments_lexer": "ipython3",
   "version": "3.7.6"
  }
 },
 "nbformat": 4,
 "nbformat_minor": 4
}
