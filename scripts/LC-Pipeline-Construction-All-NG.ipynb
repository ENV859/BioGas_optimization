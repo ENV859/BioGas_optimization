{
 "cells": [
  {
   "cell_type": "markdown",
   "metadata": {},
   "source": [
    "## Least Cost Pipeline Construction -- All NG\n",
    "Modification of LC-Pipeline-Construction to allow connection anywhere, not just the initial connection point."
   ]
  },
  {
   "cell_type": "code",
   "execution_count": 1,
   "metadata": {},
   "outputs": [],
   "source": [
    "#Import packages\n",
    "import numpy as np\n",
    "import pandas as pd\n",
    "from skimage import graph\n",
    "from osgeo import gdal\n",
    "import matplotlib.pyplot as plt\n",
    "%matplotlib inline"
   ]
  },
  {
   "cell_type": "code",
   "execution_count": 2,
   "metadata": {},
   "outputs": [],
   "source": [
    "#Read the cost and cost distance stacks\n",
    "arrCosts = np.load('../data/DuplinCostStack.npy')\n",
    "arrStack = np.load('../data/DuplinStack.npy')"
   ]
  },
  {
   "cell_type": "code",
   "execution_count": 3,
   "metadata": {},
   "outputs": [],
   "source": [
    "#Read in the pipeline rasters\n",
    "ds =  gdal.Open('../data/processed/duplin_pipe_diameter.tif')\n",
    "#Get the raster projection\n",
    "ds_prj = ds.GetProjection()\n",
    "#Get raster attributes (used in MCP analysis)\n",
    "llx, x_size, x_angle, lly, y_angle, y_size = ds.GetGeoTransform()\n",
    "#Extract Band1 as the cost array; divide by 100 to scale as a percentage\n",
    "arrPipesAll = np.array(ds.GetRasterBand(1).ReadAsArray())\n",
    "#Convert all pipe pixels to 1, others to -1\n",
    "arrPipesAll[arrPipesAll >= 0] = 1\n",
    "arrPipesAll[arrPipesAll < 0] = -1\n",
    "#Convert to a masked array (ignoring all values < 0, which are NoData)\n",
    "arrPipes = np.ma.masked_array(arrPipesAll, mask=arrPipesAll < 0)"
   ]
  },
  {
   "cell_type": "markdown",
   "metadata": {},
   "source": [
    "## Functions"
   ]
  },
  {
   "cell_type": "code",
   "execution_count": 4,
   "metadata": {},
   "outputs": [],
   "source": [
    "def getMin(array_stack,array_mask,verbose=False):\n",
    "    '''Returns the layer and row/col index of the pixel in a stack of layers containing the \n",
    "       overall minimum value found among cells within the supplied mask array.\n",
    "    \n",
    "    Arguments:\n",
    "     array_stack (3d array): Stack of cost distance layers from each biogas source\n",
    "     array_mask (2d array): Layer of pixels from which min values should be returned\n",
    "     verbose (Boolean): Set to true to display processing messages\n",
    "    \n",
    "    Returns (tuple):\n",
    "     [1] (integer) Index of the layer in the array_stack containing the minimum values\n",
    "     [2] (tuple) Row/column coordinates of the pixel containing the minimum value.\n",
    "     [3] (float) The vost value at the location\n",
    "    \n",
    "    '''\n",
    "    #Reduce the stack of cost distance layers to a layer of the minimum value at each location\n",
    "    arrMin = np.amin(array_stack,axis=0)\n",
    "    #Mask the values so only pipeline pixels are kept\n",
    "    arrMin_masked = np.ma.masked_array(arrMin, mask=array_mask != 1)\n",
    "    #Find the min value of the pipeline pixels\n",
    "    minValue = np.amin(arrMin_masked)\n",
    "    #Determine the row and column where the min occurs\n",
    "    rMin,cMin = np.where(arrMin_masked == minValue)\n",
    "    #Extract values from value arrays\n",
    "    rowMin = rMin[0];  colMin = cMin[0]\n",
    "    #Find which layer has the min value at this location in the stack of layers\n",
    "    layers = np.where(array_stack[:,rowMin,colMin] == minValue)[0]\n",
    "    #if len(layers) > 1: layerIdx = layers[0]\n",
    "    #else: layerIdx = [layers]\n",
    "    layerIdx = layers[0]\n",
    "    if verbose: print(\"Link to LCP row/col ({},{} (Layer:{}, Cost:{:.2f}))\".format(rowMin,colMin,layerIdx,minValue))\n",
    "    return(layerIdx,(rowMin,colMin),minValue)"
   ]
  },
  {
   "cell_type": "code",
   "execution_count": 5,
   "metadata": {},
   "outputs": [],
   "source": [
    "def getSourceCoordinates(array_stack,layer_id,verbose=False):\n",
    "    '''Returns the row and column index for a biogas source in the provided layer\n",
    "    \n",
    "    Args: \n",
    "     array_stack (3d array): Stack of cost distance layers from each biogas source\n",
    "     layer_id (integer): Index value of the layer containing the biogas source\n",
    "     verbose (Boolean): Set to true to display processing messages\n",
    "    \n",
    "    Returns (tuple): \n",
    "     The Row/column coordinates of the pixel containing the minimum \n",
    "     value in the layer, i.e., the biogas source.\n",
    "    \n",
    "    '''\n",
    "    #Get the layer from the stack corresponding to the source\n",
    "    arrSource = array_stack[layer_id]\n",
    "    #Find the minimum of that layer\n",
    "    minValue = np.amin(arrSource)\n",
    "    #Get the row and columns corresponding to that value\n",
    "    rFarm,cFarm = np.where(array_stack[layer_id,:,:]==minValue)\n",
    "    #Convert value arrays to just values\n",
    "    theRow = rFarm[0]; theCol = cFarm[0]\n",
    "    if verbose: print(\"Source occurs at ({},{})\".format(theRow,theCol))\n",
    "    #Return coords as a tuple\n",
    "    return(theRow,theCol)"
   ]
  },
  {
   "cell_type": "code",
   "execution_count": 6,
   "metadata": {},
   "outputs": [],
   "source": [
    "def getLCP(array_costs,layer_id,source_coords,pipe_coords,x_size=500,y_size=500):\n",
    "    '''Returns a least cost layer between biogas source and pipeline coordinates\n",
    "       for a given layer using the cost surface for a specific biogase source among\n",
    "       the stack of biogas cost surface layers. \n",
    "       \n",
    "    Args:\n",
    "     array_costs (3d array): Stack of cost rasters (not cost distance) for each source\n",
    "     layer_id (integer): Index value of the layer containing the biogas source\n",
    "     source_coords (tuple): Row/column of the pixel containing the biogas source (start of LCP)\n",
    "     pipe_coords (tuple): Row/columns of the pipeline pixel to connect (end of LCP)\n",
    "     x_size (integer): Pixel width, in units of the cost layers [default=500(m)]\n",
    "     y_size (integer): Pixel height, in units of the cost layers [default=500(m)]\n",
    "     \n",
    "    Returns (2d array):\n",
    "     A 2D array of 1s and 0s where 1s represent the least cost pathway between biogas\n",
    "     source and the pipeline coordinate provided. \n",
    "    '''\n",
    "    #Extract the cost surface for that farm\n",
    "    arrCost = array_costs[layer_id,:,:]\n",
    "    #Create the MCP graph object from the farm location\n",
    "    lc_graph = graph.MCP_Geometric(arrCost, sampling=(x_size,y_size))\n",
    "    #Compute the cost distance and traceback arrays\n",
    "    cd_array,tb_array = lc_graph.find_costs(starts=([source_coords]))\n",
    "    #Get the row/col indices of pixels in the LCP \n",
    "    lcp_indices = lc_graph.traceback(pipe_coords)\n",
    "    #Convert collection of indices to a layer\n",
    "    arr_LCP = np.zeros(arrCost.shape) #Create a layer of all NaNs\n",
    "    for r,c in lcp_indices:                 #Loop through coordinates in traceback\n",
    "        arr_LCP[r,c] = 1                     # ..set values to 1\n",
    "    #Return the lcp array\n",
    "    return(arr_LCP,lcp_indices)"
   ]
  },
  {
   "cell_type": "code",
   "execution_count": 7,
   "metadata": {},
   "outputs": [],
   "source": [
    "def coordsToline(coord_list,ll_x,ll_y,x_size,y_size):\n",
    "    '''Convert a list of row/col coordinates to a line feature.\n",
    "    \n",
    "    Args: \n",
    "        coordList (list): collection of array coordinates\n",
    "        ll_x (float): geographic x coordinate of lower left corner of array\n",
    "        ll_y (float): geographic y coordinate of lower left corner of array\n",
    "        x_size (float): pixel size in the x direction\n",
    "        y_size (float): pixel size in the x direction\n",
    "        \n",
    "    Returns:\n",
    "        Shapely linestring object\n",
    "    \n",
    "    '''\n",
    "    #Import library\n",
    "    from shapely.geometry import LineString\n",
    "    #Initialize the list of geographic coordinates\n",
    "    outCoords = []\n",
    "    #Iterate through coordinates, georeference, and add to the list\n",
    "    for row,col in coord_list:\n",
    "        #Convert row and column indicies to geographic coordinates\n",
    "        x = x_size * col + llx + (x_size/2)\n",
    "        y = y_size * row + lly + (y_size/2)\n",
    "        #Append to the list\n",
    "        outCoords.append((x,y))\n",
    "        \n",
    "    #Construct a shapely linestring\n",
    "    try:\n",
    "        line = LineString(outCoords)\n",
    "    except:\n",
    "        return None\n",
    "    \n",
    "    #Return the line\n",
    "    return line\n"
   ]
  },
  {
   "cell_type": "markdown",
   "metadata": {},
   "source": [
    "## Main code, Part 1\n",
    "1. Find the least costly point on the existing NG pipeline and the layer ID of the biogas source.\n",
    "1. Identify the coordinates of that biogas source.\n",
    "1. Construct the least cost path from source to pipeline."
   ]
  },
  {
   "cell_type": "code",
   "execution_count": 8,
   "metadata": {},
   "outputs": [
    {
     "name": "stdout",
     "output_type": "stream",
     "text": [
      "Link to LCP row/col (91,48 (Layer:0, Cost:2.54))\n"
     ]
    }
   ],
   "source": [
    "#Get location of the connection point\n",
    "layerID, pipeCoords, pipeCost = getMin(array_stack=arrStack,array_mask=arrPipes,verbose=True)\n",
    "#Get the location of the source for that point\n",
    "#srcCoords = getSourceCoordinates(array_stack=arrStack,layer_id=layerID,verbose=True)\n",
    "#Create the LCP array\n",
    "#arrLCP_first,coordList_first = getLCP(array_costs=arrCosts,layer_id=layerID,\n",
    "#                                      source_coords=srcCoords,pipe_coords=pipeCoords)"
   ]
  },
  {
   "cell_type": "markdown",
   "metadata": {},
   "source": [
    "## Main code, Part 2\n",
    "With the initial least cost path created, the following steps are to iterate through the remaining layers, finding the next least cost farm to connect, but this time connecting it to the least cost path deteremined above. This LCP is then added to the base LCP and the cycle continues...\n",
    "1. Remove the layer corresponding to the least cost biogas source from the stack of cost distance layers.\n",
    "1. Iterate through the remaining layers, and with each:\n",
    " 1. Find the least costly source to connect among remaining layers, as well as the coordinates of the connection point.\n",
    " 1. Find the coordinates of the corresponding biogas source.\n",
    " 1. Construct the least cost path between the source and the identified connection point.\n",
    " 1. Combine that least cost path with the existing least cost path.\n",
    " 1. Remove the source's layer from the remaining stack of cost distance layers.\n"
   ]
  },
  {
   "cell_type": "code",
   "execution_count": 9,
   "metadata": {},
   "outputs": [],
   "source": [
    "arrLCP = arrPipes"
   ]
  },
  {
   "cell_type": "code",
   "execution_count": 10,
   "metadata": {},
   "outputs": [],
   "source": [
    "#Initialize lists of costs, LCP arrays, and LCP lines\n",
    "pipeCosts = []\n",
    "pipeArrays = []\n",
    "pipeLines = []\n",
    "\n",
    "#Drop the original layer from the stacks\n",
    "arrStack_next = arrStack.copy()\n",
    "\n",
    "#Create a dataframe of the initial least cost pipeline\n",
    "dfLCP = pd.DataFrame(arrLCP)   \n",
    "\n",
    "#Loop through the remaining layers until all layers have been processed\n",
    "remaining = arrStack_next.shape[0]\n",
    "while arrStack_next.shape[0] > 0:\n",
    "    #print(remaining,end=' ')\n",
    "    #Get the layer containing the next cheapest source to the nearest pipe, and the location to connect\n",
    "    layerID, pipeCoords, pipeCost = getMin(arrStack_next,arrLCP,verbose=False)\n",
    "    #Get the location of the farm associated with that layer\n",
    "    farmCoords = getSourceCoordinates(arrStack_next,layerID,verbose=False)\n",
    "    #Extract the LCP from the farm to the pipe coordinate\n",
    "    arrLCP_next,coordList_next = getLCP(arrCosts,layerID,farmCoords,pipeCoords)\n",
    "    #Construct the lcp line feature\n",
    "    lineString = coordsToline(coordList_next,llx,lly,x_size,y_size)\n",
    "    pipeLines.append(lineString)\n",
    "    #Add the pipe cost and least cost path arrays to their respective list\n",
    "    pipeCosts.append(pipeCost)\n",
    "    pipeArrays.append(arrLCP_next * pipeCost) \n",
    "    #Update the pipe network array with the new LCP (max of binary arrays)\n",
    "    arrLCP = np.maximum(arrLCP,arrLCP_next) \n",
    "    #Remove the processed layer from the stack\n",
    "    arrStack_next1=np.delete(arrStack_next,layerID,axis=0)\n",
    "    arrStack_next = arrStack_next1\n",
    "    #Update the number of remaining stacks\n",
    "    remaining = arrStack_next.shape[0]"
   ]
  },
  {
   "cell_type": "code",
   "execution_count": 11,
   "metadata": {},
   "outputs": [],
   "source": [
    "#Construct a feature class of the lines\n",
    "import geopandas as gpd\n",
    "#Contruct a geodataframe of the tracelines\n",
    "gf = gpd.GeoDataFrame(pipeLines,columns=['geometry'])\n",
    "#Add the costs\n",
    "gf['Costs'] = pipeCosts\n",
    "#Compute cumulative sum of costs\n",
    "gf['SumCosts'] = gf.Costs.cumsum()\n",
    "#Add the projection\n",
    "gf.crs = {'proj': 'eqdc', 'lat_0': 40, 'lon_0': -96, 'lat_1': 20, 'lat_2': 60, \n",
    "              'x_0': 0, 'y_0': 0, 'datum': 'NAD83', 'units': 'm', 'no_defs': True}\n",
    "#Save to a file\n",
    "gf.to_file('../scratch/LCPNetwork_AllNG.shp')"
   ]
  },
  {
   "cell_type": "code",
   "execution_count": 12,
   "metadata": {},
   "outputs": [],
   "source": [
    "#Stack the individual cost layers and reduce to one of just max cost values\n",
    "arrPipeCostStack = np.stack(pipeArrays)\n",
    "#Reduce to max values\n",
    "arrPipeCostAll = np.amax(arrPipeCostStack,axis=0)\n",
    "#Mask out zeros\n",
    "arrPipeCostAll_masked = np.ma.masked_less_equal(arrPipeCostAll,0)"
   ]
  },
  {
   "cell_type": "code",
   "execution_count": 13,
   "metadata": {},
   "outputs": [],
   "source": [
    "dfLCP = pd.DataFrame(pipeArrays[0])\n",
    "for pipeArray in pipeArrays[1:]:\n",
    "    dfNext = pd.DataFrame(pipeArray)\n",
    "    dfLCP[dfLCP==0]=dfNext    "
   ]
  },
  {
   "cell_type": "code",
   "execution_count": 14,
   "metadata": {},
   "outputs": [],
   "source": [
    "arrPipeCosts = dfLCP.to_numpy()"
   ]
  },
  {
   "cell_type": "code",
   "execution_count": 15,
   "metadata": {},
   "outputs": [
    {
     "data": {
      "image/png": "[encoded data removed]",
      "text/plain": [
       "<Figure size 1080x1080 with 1 Axes>"
      ]
     },
     "metadata": {
      "needs_background": "light"
     },
     "output_type": "display_data"
    }
   ],
   "source": [
    "#View results\n",
    "plt.figure(figsize = (15,15))\n",
    "plt.imshow(np.ma.masked_equal(arrPipesAll,0),alpha=0.2)\n",
    "#plt.imshow(np.ma.masked_equal(arrLCP,0))\n",
    "plt.imshow(arrPipeCostAll_masked,plt.cm.Greens);"
   ]
  },
  {
   "cell_type": "code",
   "execution_count": 16,
   "metadata": {},
   "outputs": [],
   "source": [
    "#Save the array\n",
    "#Create the data source object\n",
    "bands = 1\n",
    "height,width = arrLCP.shape\n",
    "drv = gdal.GetDriverByName(\"GTiff\")\n",
    "dsOut = drv.Create('../data/processed/least_cost_pipenet_allNG.tif',width,height,1,gdal.GDT_Float32)\n",
    "dsOut.SetGeoTransform (ds.GetGeoTransform())  #Set the pixel size, offset, and warp\n",
    "dsOut.SetProjection(ds_prj)                   #Define the coordinate system\n",
    "\n",
    "\n",
    "#Write to the data source object\n",
    "dsOut.GetRasterBand(1).WriteArray(arrPipeCosts)      #Write the data to the 1st band\n",
    "dsOut.GetRasterBand(1).SetNoDataValue(0) #Assign NoData values\n",
    "dsOut.FlushCache()"
   ]
  },
  {
   "cell_type": "markdown",
   "metadata": {},
   "source": [
    "### Plotting\n",
    "The figure below computes the cumulative costs and benefits for adding more biogas sources to the pipeline system. The point at which costs (blue) exceeds the yield, it's no longer cost effective to add more sites to the pipeline. "
   ]
  },
  {
   "cell_type": "code",
   "execution_count": 17,
   "metadata": {},
   "outputs": [],
   "source": [
    "#Read in biogas sources (example: Duplin Co)\n",
    "dfBG =  pd.read_excel('../data/DuplinCountySwineFarmEconomics.xlsx',\n",
    "                         sheet_name='Duplin County Swine Farm Master').iloc[:,[11,12,-6,-4,-1]]\n",
    "#Sort values in ascending order by cost to pipe\n",
    "dfBG.sort_values(by='TEST ($/mi-MMBtu @15y)',ascending=True,inplace=True)\n",
    "dfBG.reset_index(inplace=True)\n",
    "#Compute cumulative production yield (scf/h)\n",
    "dfBG['CumulativeProduction'] = dfBG['Total Potential Methane Yield (scf/h)'].cumsum()\n",
    "#Compute cumulative dollar yeild (@ $0.20 per scf/h)\n",
    "dollar_per_scfh = 0.01\n",
    "dfBG['CumulativeYield'] = dfBG['CumulativeProduction'] * dollar_per_scfh"
   ]
  },
  {
   "cell_type": "markdown",
   "metadata": {},
   "source": [
    "_Notes: I need to somehow sort the above table to match the order in which sites are added to the pipeline system._ "
   ]
  },
  {
   "cell_type": "code",
   "execution_count": 18,
   "metadata": {},
   "outputs": [
    {
     "data": {
      "image/png": "[encoded data removed]",
      "text/plain": [
       "<Figure size 1440x504 with 1 Axes>"
      ]
     },
     "metadata": {
      "needs_background": "light"
     },
     "output_type": "display_data"
    }
   ],
   "source": [
    "#Plot the cumulative costs to add more sites to the pipeline system\n",
    "dfCosts = pd.DataFrame({'PipeCost':pipeCosts})\n",
    "dfCosts['cumCosts'] = dfCosts['PipeCost'].cumsum()\n",
    "ax = dfCosts['cumCosts'].plot(figsize=(20,7))\n",
    "dfBG['CumulativeYield'].plot(ax=ax,color='red')\n",
    "ax.set_xlabel(\"# Farms connected to pipeline system\")\n",
    "ax.set_ylabel(\"Cost $\")\n",
    "ax.legend()\n",
    "ax.grid();"
   ]
  },
  {
   "cell_type": "code",
   "execution_count": null,
   "metadata": {},
   "outputs": [],
   "source": []
  }
 ],
 "metadata": {
  "kernelspec": {
   "display_name": "Python 3",
   "language": "python",
   "name": "python3"
  },
  "language_info": {
   "codemirror_mode": {
    "name": "ipython",
    "version": 3
   },
   "file_extension": ".py",
   "mimetype": "text/x-python",
   "name": "python",
   "nbconvert_exporter": "python",
   "pygments_lexer": "ipython3",
   "version": "3.6.8"
  }
 },
 "nbformat": 4,
 "nbformat_minor": 2
}
