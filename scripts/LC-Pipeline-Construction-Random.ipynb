{
 "cells": [
  {
   "cell_type": "markdown",
   "metadata": {},
   "source": [
    "## Least Cost Pipeline Construction -- All NG\n",
    "Sites are added in random order to an organic pipeline network."
   ]
  },
  {
   "cell_type": "code",
   "execution_count": 13,
   "metadata": {},
   "outputs": [],
   "source": [
    "#Import packages\n",
    "import numpy as np\n",
    "import pandas as pd\n",
    "from skimage import graph\n",
    "from osgeo import gdal\n",
    "import matplotlib.pyplot as plt\n",
    "%matplotlib inline"
   ]
  },
  {
   "cell_type": "code",
   "execution_count": 14,
   "metadata": {},
   "outputs": [],
   "source": [
    "#Read the cost and cost distance stacks\n",
    "arrCosts = np.load('../data/DuplinCostStack.npy')\n",
    "arrStack = np.load('../data/DuplinStack.npy')"
   ]
  },
  {
   "cell_type": "code",
   "execution_count": 15,
   "metadata": {},
   "outputs": [],
   "source": [
    "#Read in the pipeline raster\n",
    "ds =  gdal.Open('../data/processed/duplin_pipe_diameter.tif')\n",
    "#Get the raster projection\n",
    "ds_prj = ds.GetProjection()\n",
    "ds_WKT = 'PROJCS[\"North_America_Equidistant_Conic\",GEOGCS[\"GCS_North_American_1983\",DATUM[\"D_North_American_1983\",SPHEROID[\"GRS_1980\",6378137,298.257222101]],PRIMEM[\"Greenwich\",0],UNIT[\"Degree\",0.017453292519943295]],PROJECTION[\"Equidistant_Conic\"],PARAMETER[\"False_Easting\",0],PARAMETER[\"False_Northing\",0],PARAMETER[\"central_meridian\",-96],PARAMETER[\"Standard_Parallel_1\",20],PARAMETER[\"Standard_Parallel_2\",60],PARAMETER[\"latitude_of_origin\",40],UNIT[\"Meter\",1]]'\n",
    "#Get raster attributes (used in MCP analysis)\n",
    "llx, x_size, x_angle, lly, y_angle, y_size = ds.GetGeoTransform()\n",
    "#Extract Band1 as the cost array; divide by 100 to scale as a percentage\n",
    "arrPipesAll = np.array(ds.GetRasterBand(1).ReadAsArray())\n",
    "#Convert all pipe pixels to 1, others to -1\n",
    "arrPipesAll[arrPipesAll >= 0] = 1\n",
    "arrPipesAll[arrPipesAll < 0] = 0\n",
    "#Convert to a masked array (ignoring all values < 0, which are NoData)\n",
    "arrPipes = np.ma.masked_array(arrPipesAll, mask=arrPipesAll < 0)"
   ]
  },
  {
   "cell_type": "code",
   "execution_count": 16,
   "metadata": {},
   "outputs": [],
   "source": [
    "#Read in biogas sources (example: Duplin Co)\n",
    "dfBG =  pd.read_excel('../data/DuplinCountySwineFarmEconomics.xlsx',\n",
    "                         sheet_name='Duplin County Swine Farm Master').iloc[:,[11,12,17,19,22]]\n",
    "#Sort values in ascending order by cost to pipe\n",
    "dfBG.sort_values(by='TEST ($/mi-MMBtu @15y)',ascending=True,inplace=True)\n",
    "#Set the master index as the value of indices\n",
    "master_index = dfBG.index.tolist()"
   ]
  },
  {
   "cell_type": "markdown",
   "metadata": {},
   "source": [
    "## Functions"
   ]
  },
  {
   "cell_type": "code",
   "execution_count": 17,
   "metadata": {},
   "outputs": [],
   "source": [
    "def getPipeCoord(array_item,array_mask,verbose=False):\n",
    "    '''Returns the layer and row/col index of the pixel in a stack of layers containing the \n",
    "       overall minimum value found among cells within the supplied mask array.\n",
    "    \n",
    "    Arguments:\n",
    "     array_stack (3d array): Stack of cost distance layers from each biogas source\n",
    "     array_mask (2d array): Layer of pixels from which min values should be returned\n",
    "     verbose (Boolean): Set to true to display processing messages\n",
    "    \n",
    "    Returns (tuple):\n",
    "     [1] (integer) Index of the layer in the array_stack containing the minimum values\n",
    "     [2] (tuple) Row/column coordinates of the pixel containing the minimum value.\n",
    "     [3] (float) The vost value at the location\n",
    "    \n",
    "    '''\n",
    "    #Reduce the stack of cost distance layers to a layer of the minimum value at each location\n",
    "    #arrMin = np.amin(array_stack,axis=0)\n",
    "    #Mask the values so only pipeline pixels are kept\n",
    "    arrMin_masked = np.ma.masked_array(array_item, mask=array_mask != 1)\n",
    "    #Find the min value of the pipeline pixels\n",
    "    minValue = np.amin(arrMin_masked)\n",
    "    #Determine the row and column where the min occurs\n",
    "    rMin,cMin = np.where(arrMin_masked == minValue)\n",
    "    #Extract values from value arrays\n",
    "    rowMin = rMin[0];  colMin = cMin[0]\n",
    "    if verbose: print(\"Link to LCP row/col ({},{} (Layer:{}, Cost:{:.2f}))\".format(rowMin,colMin,layerIdx,minValue))\n",
    "    return((rowMin,colMin),minValue)"
   ]
  },
  {
   "cell_type": "code",
   "execution_count": 18,
   "metadata": {},
   "outputs": [],
   "source": [
    "def getPipeValue(array_stack,array_mask,verbose=False):\n",
    "    '''Returns the layer and row/col index of the pixel in a stack of layers containing the \n",
    "       overall minimum value found among cells within the supplied mask array.\n",
    "    \n",
    "    Arguments:\n",
    "     array_stack (3d array): Stack of cost distance layers from each biogas source\n",
    "     array_mask (2d array): Layer of pixels from which min values should be returned\n",
    "     verbose (Boolean): Set to true to display processing messages\n",
    "    \n",
    "    Returns (tuple):\n",
    "     [1] (integer) Index of the layer in the array_stack containing the minimum values\n",
    "     [2] (tuple) Row/column coordinates of the pixel containing the minimum value.\n",
    "     [3] (float) The vost value at the location\n",
    "    \n",
    "    '''\n",
    "    #Reduce the stack of cost distance layers to a layer of the minimum value at each location\n",
    "    arrMin = np.amin(array_stack,axis=0)\n",
    "    #Mask the values so only pipeline pixels are kept\n",
    "    arrMin_masked = np.ma.masked_array(arrMin, mask=array_mask != 1)\n",
    "    #Find the min value of the pipeline pixels\n",
    "    minValue = np.amin(arrMin_masked)\n",
    "    #Determine the row and column where the min occurs\n",
    "    rMin,cMin = np.where(arrMin_masked == minValue)\n",
    "    #Extract values from value arrays\n",
    "    rowMin = rMin[0];  colMin = cMin[0]\n",
    "    #Find which layer has the min value at this location in the stack of layers\n",
    "    layers = np.where(array_stack[:,rowMin,colMin] == minValue)[0]\n",
    "    #if len(layers) > 1: layerIdx = layers[0]\n",
    "    #else: layerIdx = [layers]\n",
    "    layerIdx = layers[0]\n",
    "    if verbose: print(\"Link to LCP row/col ({},{} (Layer:{}, Cost:{:.2f}))\".format(rowMin,colMin,layerIdx,minValue))\n",
    "    return(layerIdx,(rowMin,colMin),minValue)"
   ]
  },
  {
   "cell_type": "code",
   "execution_count": 19,
   "metadata": {},
   "outputs": [],
   "source": [
    "def getSourceCoordinates(array_stack,layer_id,verbose=False):\n",
    "    '''Returns the row and column index for a biogas source in the provided layer\n",
    "    \n",
    "    Args: \n",
    "     array_stack (3d array): Stack of cost distance layers from each biogas source\n",
    "     layer_id (integer): Index value of the layer containing the biogas source\n",
    "     verbose (Boolean): Set to true to display processing messages\n",
    "    \n",
    "    Returns (tuple): \n",
    "     The Row/column coordinates of the pixel containing the minimum \n",
    "     value in the layer, i.e., the biogas source.\n",
    "    \n",
    "    '''\n",
    "    #Get the layer from the stack corresponding to the source\n",
    "    arrSource = array_stack[layer_id]\n",
    "    #Find the minimum of that layer\n",
    "    minValue = np.amin(arrSource)\n",
    "    #Get the row and columns corresponding to that value\n",
    "    rFarm,cFarm = np.where(array_stack[layer_id,:,:]==minValue)\n",
    "    #Convert value arrays to just values\n",
    "    theRow = rFarm[0]; theCol = cFarm[0]\n",
    "    if verbose: print(\"Source occurs at ({},{})\".format(theRow,theCol))\n",
    "    #Return coords as a tuple\n",
    "    return(theRow,theCol)"
   ]
  },
  {
   "cell_type": "code",
   "execution_count": 20,
   "metadata": {},
   "outputs": [],
   "source": [
    "def getLCP(array_costs,layer_id,source_coords,pipe_coords,x_size=500,y_size=500):\n",
    "    '''Returns a least cost layer between biogas source and pipeline coordinates\n",
    "       for a given layer using the cost surface for a specific biogase source among\n",
    "       the stack of biogas cost surface layers. \n",
    "       \n",
    "    Args:\n",
    "     array_costs (3d array): Stack of cost rasters (not cost distance) for each source\n",
    "     layer_id (integer): Index value of the layer containing the biogas source\n",
    "     source_coords (tuple): Row/column of the pixel containing the biogas source (start of LCP)\n",
    "     pipe_coords (tuple): Row/columns of the pipeline pixel to connect (end of LCP)\n",
    "     x_size (integer): Pixel width, in units of the cost layers [default=500(m)]\n",
    "     y_size (integer): Pixel height, in units of the cost layers [default=500(m)]\n",
    "     \n",
    "    Returns (2d array):\n",
    "     A 2D array of 1s and 0s where 1s represent the least cost pathway between biogas\n",
    "     source and the pipeline coordinate provided. \n",
    "    '''\n",
    "    #Extract the cost surface for that farm\n",
    "    arrCost = array_costs[layer_id,:,:]\n",
    "    #Create the MCP graph object from the farm location\n",
    "    lc_graph = graph.MCP_Geometric(arrCost, sampling=(x_size,y_size))\n",
    "    #Compute the cost distance and traceback arrays\n",
    "    cd_array,tb_array = lc_graph.find_costs(starts=([source_coords]))\n",
    "    #Get the row/col indices of pixels in the LCP \n",
    "    lcp_indices = lc_graph.traceback(pipe_coords)\n",
    "    #Convert collection of indices to a layer\n",
    "    arr_LCP = np.zeros(arrCost.shape) #Create a layer of all NaNs\n",
    "    for r,c in lcp_indices:                 #Loop through coordinates in traceback\n",
    "        arr_LCP[r,c] = 1                     # ..set values to 1\n",
    "    #Return the lcp array\n",
    "    return(arr_LCP,lcp_indices)"
   ]
  },
  {
   "cell_type": "code",
   "execution_count": 21,
   "metadata": {},
   "outputs": [],
   "source": [
    "def coordsToline(coord_list,ll_x,ll_y,x_size,y_size):\n",
    "    '''Convert a list of row/col coordinates to a line feature.\n",
    "    \n",
    "    Args: \n",
    "        coordList (list): collection of array coordinates\n",
    "        ll_x (float): geographic x coordinate of lower left corner of array\n",
    "        ll_y (float): geographic y coordinate of lower left corner of array\n",
    "        x_size (float): pixel size in the x direction\n",
    "        y_size (float): pixel size in the x direction\n",
    "        \n",
    "    Returns:\n",
    "        Shapely linestring object\n",
    "    \n",
    "    '''\n",
    "    #Import library\n",
    "    from shapely.geometry import LineString\n",
    "    #Initialize the list of geographic coordinates\n",
    "    outCoords = []\n",
    "    #Iterate through coordinates, georeference, and add to the list\n",
    "    for row,col in coord_list:\n",
    "        #Convert row and column indicies to geographic coordinates\n",
    "        x = x_size * col + llx + (x_size/2)\n",
    "        y = y_size * row + lly + (y_size/2)\n",
    "        #Append to the list\n",
    "        outCoords.append((x,y))\n",
    "        \n",
    "    #Construct a shapely linestring\n",
    "    if len(outCoords) < 2:\n",
    "        line = ((outCoords[0],outCoords[0]))\n",
    "    else:\n",
    "        line = LineString(outCoords)\n",
    "\n",
    "    \n",
    "    #Return the line\n",
    "    return line"
   ]
  },
  {
   "cell_type": "markdown",
   "metadata": {},
   "source": [
    "## Main code\n",
    "1. Sort the biogas sources in random order \n",
    "2. Sequentially connect them in that order\n"
   ]
  },
  {
   "cell_type": "code",
   "execution_count": 22,
   "metadata": {},
   "outputs": [],
   "source": [
    "#Generate a randomly sorted list of IDs\n",
    "stackList = list(range(arrStack.shape[0]))\n",
    "randIDs = []\n",
    "while len(stackList) > 0:\n",
    "    randID =  np.random.randint(len(stackList))\n",
    "    randVal = stackList[randID]\n",
    "    stackList.pop(randID)\n",
    "    randIDs.append(randVal)   "
   ]
  },
  {
   "cell_type": "code",
   "execution_count": 34,
   "metadata": {},
   "outputs": [
    {
     "data": {
      "text/plain": [
       "(453, 464, (464, 5))"
      ]
     },
     "execution_count": 34,
     "metadata": {},
     "output_type": "execute_result"
    }
   ],
   "source": [
    "len(master_index),len(randIDs),dfBG.shape"
   ]
  },
  {
   "cell_type": "code",
   "execution_count": 27,
   "metadata": {},
   "outputs": [
    {
     "ename": "IndexError",
     "evalue": "pop index out of range",
     "output_type": "error",
     "traceback": [
      "\u001b[1;31m---------------------------------------------------------------------------\u001b[0m",
      "\u001b[1;31mIndexError\u001b[0m                                Traceback (most recent call last)",
      "\u001b[1;32m<ipython-input-27-c6743c0b6413>\u001b[0m in \u001b[0;36m<module>\u001b[1;34m\u001b[0m\n\u001b[0;32m     15\u001b[0m \u001b[1;32mfor\u001b[0m \u001b[0mlayerID\u001b[0m \u001b[1;32min\u001b[0m \u001b[0mrandIDs\u001b[0m\u001b[1;33m:\u001b[0m\u001b[1;33m\u001b[0m\u001b[1;33m\u001b[0m\u001b[0m\n\u001b[0;32m     16\u001b[0m     \u001b[1;31m#Get the biogas index\u001b[0m\u001b[1;33m\u001b[0m\u001b[1;33m\u001b[0m\u001b[1;33m\u001b[0m\u001b[0m\n\u001b[1;32m---> 17\u001b[1;33m     \u001b[0mbgIndex\u001b[0m \u001b[1;33m=\u001b[0m \u001b[0mmaster_index\u001b[0m\u001b[1;33m.\u001b[0m\u001b[0mpop\u001b[0m\u001b[1;33m(\u001b[0m\u001b[0mlayerID\u001b[0m\u001b[1;33m)\u001b[0m\u001b[1;33m\u001b[0m\u001b[1;33m\u001b[0m\u001b[0m\n\u001b[0m\u001b[0;32m     18\u001b[0m     \u001b[1;32mcontinue\u001b[0m\u001b[1;33m\u001b[0m\u001b[1;33m\u001b[0m\u001b[0m\n\u001b[0;32m     19\u001b[0m     \u001b[1;31m#Get the pipeCoords and pipeCost for the selected layer\u001b[0m\u001b[1;33m\u001b[0m\u001b[1;33m\u001b[0m\u001b[1;33m\u001b[0m\u001b[0m\n",
      "\u001b[1;31mIndexError\u001b[0m: pop index out of range"
     ]
    }
   ],
   "source": [
    "master_index = dfBG.index.tolist()\n",
    "\n",
    "#Initialize lists of layer indices, costs, LCP arrays, and LCP lines\n",
    "sourceIds = []\n",
    "pipeCosts = []\n",
    "pipeArrays = []\n",
    "pipeLines = []\n",
    "\n",
    "#Copy the stack of cost distance arrays\n",
    "arrStack_next = arrStack.copy()\n",
    "\n",
    "arrLCP = arrPipes\n",
    "\n",
    "#Loop through the remaining layers until all layers have been processed\n",
    "for layerID in randIDs:\n",
    "    #Get the biogas index\n",
    "    bgIndex = master_index.pop(layerID)\n",
    "    continue\n",
    "    #Get the pipeCoords and pipeCost for the selected layer\n",
    "    arrLayer = arrStack[layerID]\n",
    "    #Get the layer containing the next cheapest source to the nearest pipe, and the location to connect\n",
    "    pipeCoords, pipeCost = getPipeCoord(arrLayer,arrLCP,verbose=False)\n",
    "    #Get the location of the farm associated with that layer\n",
    "    farmCoords = getSourceCoordinates(arrStack,layerID,verbose=False)\n",
    "    #Extract the LCP from the farm to the pipe coordinate\n",
    "    arrLCP_next,coordList_next = getLCP(arrCosts,layerID,farmCoords,pipeCoords)\n",
    "    #Construct the lcp line feature\n",
    "    lineString = coordsToline(coordList_next,llx,lly,x_size,y_size)\n",
    "    pipeLines.append(lineString)\n",
    "    #Add the pipe cost and least cost path arrays to their respective list\n",
    "    sourceIds.append(bgIndex)\n",
    "    pipeCosts.append(pipeCost)\n",
    "    pipeArrays.append(arrLCP_next * pipeCost) \n",
    "    #Update the pipe network array with the new LCP (max of binary arrays)\n",
    "    arrLCP = np.maximum(arrLCP,arrLCP_next) "
   ]
  },
  {
   "cell_type": "code",
   "execution_count": null,
   "metadata": {},
   "outputs": [],
   "source": [
    "#Construct a feature class of the lines\n",
    "import geopandas as gpd\n",
    "#Contruct a geodataframe: start with the list of pipeline linestrings\n",
    "gf = gpd.GeoDataFrame(pipeLines,columns=['geometry'])\n",
    "#Add the biogas source IDs costs\n",
    "gf['Ids'] = sourceIds\n",
    "gf['Costs'] = pipeCosts\n",
    "#Compute cumulative sum of costs\n",
    "gf['SumCosts'] = gf.Costs.cumsum()\n",
    "#Add the order added as an explicit column\n",
    "gf['Order'] = gf.index + 1\n",
    "#Add the projection\n",
    "gf.crs = {'proj': 'eqdc', 'lat_0': 40, 'lon_0': -96, 'lat_1': 20, 'lat_2': 60, \n",
    "              'x_0': 0, 'y_0': 0, 'datum': 'NAD83', 'units': 'm', 'no_defs': True}\n"
   ]
  },
  {
   "cell_type": "code",
   "execution_count": null,
   "metadata": {},
   "outputs": [],
   "source": [
    "#Join the yield values from the biogas dataframe\n",
    "dfBG['Link'] = dfBG.index #Add the index as a link for joining\n",
    "gf2 = pd.merge(gf,dfBG[['Link','Total Potential Methane Yield (scf/h)']],\n",
    "               how='left',left_on='Ids',right_on='Link').drop('Link',axis=1)\n",
    "#Compute cumulative yield\n",
    "gf2['SumYield'] = gf2['Total Potential Methane Yield (scf/h)'].cumsum()"
   ]
  },
  {
   "cell_type": "code",
   "execution_count": null,
   "metadata": {},
   "outputs": [],
   "source": [
    "#Save to a file\n",
    "LCP_filename = '../scratch/LCPNetwork_Random.shp'\n",
    "gf2.to_file(LCP_filename)"
   ]
  }
 ],
 "metadata": {
  "kernelspec": {
   "display_name": "Python 3",
   "language": "python",
   "name": "python3"
  },
  "language_info": {
   "codemirror_mode": {
    "name": "ipython",
    "version": 3
   },
   "file_extension": ".py",
   "mimetype": "text/x-python",
   "name": "python",
   "nbconvert_exporter": "python",
   "pygments_lexer": "ipython3",
   "version": "3.6.8"
  }
 },
 "nbformat": 4,
 "nbformat_minor": 2
}
