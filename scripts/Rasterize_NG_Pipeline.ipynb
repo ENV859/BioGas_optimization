{
 "cells": [
  {
   "cell_type": "markdown",
   "metadata": {},
   "source": [
    "# Rasterize Natural Gas Pipeline Network\n",
    "Creates a raster version at the same extent and cell size of the MIT cost surface."
   ]
  },
  {
   "cell_type": "code",
   "execution_count": null,
   "metadata": {},
   "outputs": [],
   "source": [
    "import rasterio\n",
    "from rasterio import features\n",
    "import geopandas as gpd\n",
    "import numpy as np"
   ]
  },
  {
   "cell_type": "code",
   "execution_count": null,
   "metadata": {},
   "outputs": [],
   "source": [
    "#Load the cost surface raster\n",
    "cost_surface_dataset = rasterio.open('../data/costsurface500m.img')\n",
    "#Get the surface \n",
    "cost_surface = cost_surface_dataset.read(1)\n",
    "#Extract the coordinate reference system\n",
    "cost_crs = cost_surface_dataset.crs"
   ]
  },
  {
   "cell_type": "code",
   "execution_count": null,
   "metadata": {},
   "outputs": [],
   "source": [
    "#Read in features\n",
    "pipelines_gdb = 'C:\\\\Workspace\\\\Rextag_7May2020\\\\Rextag_Zone2_Natural_Gas.gdb'\n",
    "pipelines_lyr = 'NaturalGasPipelines'"
   ]
  },
  {
   "cell_type": "code",
   "execution_count": null,
   "metadata": {},
   "outputs": [],
   "source": [
    "#Read in pipeline dataset as a geodataframe\n",
    "gdf = gpd.read_file(pipelines_gdb,driver='FileGDB',layer=pipelines_lyr)"
   ]
  },
  {
   "cell_type": "code",
   "execution_count": null,
   "metadata": {},
   "outputs": [],
   "source": [
    "#Transform to same crs as cost surface\n",
    "gdf_nc = gdf.to_crs(cost_crs)"
   ]
  },
  {
   "cell_type": "code",
   "execution_count": null,
   "metadata": {},
   "outputs": [],
   "source": [
    "#Convert features to raster\n",
    "image = features.rasterize(shapes=gdf_nc.geometry,\n",
    "                           out_shape=cost_surface_dataset.shape,\n",
    "                           transform=cost_surface_dataset.transform,\n",
    "                           all_touched=False)"
   ]
  },
  {
   "cell_type": "code",
   "execution_count": null,
   "metadata": {},
   "outputs": [],
   "source": [
    "#Update metadata for output\n",
    "cost_meta.update(\n",
    "    {'driver':'GTiff',\n",
    "     'dtype':'uint8',\n",
    "     'nodata':0,\n",
    "    })"
   ]
  },
  {
   "cell_type": "code",
   "execution_count": null,
   "metadata": {},
   "outputs": [],
   "source": [
    "#Export as tiff\n",
    "with rasterio.open('..\\\\data\\\\processed\\\\USA_pipes.tif','w',**cost_meta) as dst:\n",
    "    dst.write(image, indexes=1)\n",
    "    \n"
   ]
  },
  {
   "cell_type": "markdown",
   "metadata": {},
   "source": [
    "#### Subset to extent of `costsurface_subset.tif`"
   ]
  },
  {
   "cell_type": "code",
   "execution_count": null,
   "metadata": {},
   "outputs": [],
   "source": [
    "#Read in subset raster\n",
    "ds_cost_subset = rasterio.open('../data/costsurface_subset.tif')\n",
    "arr_cost = ds_cost_subset.read(1)\n",
    "arr_cost.shape"
   ]
  },
  {
   "cell_type": "code",
   "execution_count": null,
   "metadata": {},
   "outputs": [],
   "source": [
    "#Re-open tiff\n",
    "ds_pipes_all = rasterio.open('..\\\\data\\\\processed\\\\USA_pipes.tif')"
   ]
  },
  {
   "cell_type": "code",
   "execution_count": null,
   "metadata": {},
   "outputs": [],
   "source": [
    "#Get the bounding box\n",
    "from shapely.geometry import box\n",
    "bounding_box = ds_cost_subset.bounds\n",
    "print(bounding_box)\n",
    "bbox = box(*bounding_box)"
   ]
  },
  {
   "cell_type": "code",
   "execution_count": null,
   "metadata": {},
   "outputs": [],
   "source": [
    "#Mask the data\n",
    "import rasterio.mask\n",
    "out_image, out_transform = rasterio.mask.mask(\n",
    "    dataset=ds_pipes_all,\n",
    "    shapes=[bbox],\n",
    "    all_touched=True,\n",
    "    nodata=0,\n",
    "    crop=True,\n",
    ")\n",
    "#Drop last row\n",
    "out_image_fixed = out_image[:,0:-1,:]\n",
    "out_image_fixed.shape"
   ]
  },
  {
   "cell_type": "code",
   "execution_count": null,
   "metadata": {},
   "outputs": [],
   "source": [
    "#Update the image\n",
    "out_meta = ds_cost_subset.meta\n",
    "out_meta.update({\"driver\": \"GTiff\",\n",
    "                 \"dtype\":\"uint8\",\n",
    "                 \"height\": out_image_fixed.shape[1],\n",
    "                 \"width\": out_image_fixed.shape[2],\n",
    "                 \"transform\": out_transform})\n",
    "with rasterio.open(\"../data/processed/subset_pipes2.tif\", \"w\", **out_meta) as dest:\n",
    "    dest.write(out_image)\n",
    "    "
   ]
  },
  {
   "cell_type": "code",
   "execution_count": null,
   "metadata": {},
   "outputs": [],
   "source": []
  }
 ],
 "metadata": {
  "kernelspec": {
   "display_name": "Python 3",
   "language": "python",
   "name": "python3"
  },
  "language_info": {
   "codemirror_mode": {
    "name": "ipython",
    "version": 3
   },
   "file_extension": ".py",
   "mimetype": "text/x-python",
   "name": "python",
   "nbconvert_exporter": "python",
   "pygments_lexer": "ipython3",
   "version": "3.7.6"
  }
 },
 "nbformat": 4,
 "nbformat_minor": 4
}
