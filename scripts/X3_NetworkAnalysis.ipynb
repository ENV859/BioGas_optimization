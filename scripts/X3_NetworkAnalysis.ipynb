{
 "cells": [
  {
   "cell_type": "code",
   "execution_count": 22,
   "metadata": {},
   "outputs": [],
   "source": [
    "import networkx as nx\n",
    "import osmnx as ox\n",
    "import numpy as np\n",
    "import pandas as pd"
   ]
  },
  {
   "cell_type": "code",
   "execution_count": 41,
   "metadata": {},
   "outputs": [],
   "source": [
    "#Get the edge list\n",
    "edgelist_fn = '../data/processed/BaseEdgeList.csv'\n",
    "df_edgeList = pd.read_csv(edgelist_fn,\n",
    "                          header = 1,\n",
    "                          names = ['From_node','To_node','Site_yield_scf_h'])\n",
    "#Drop null to values\n",
    "df_edgeList = df_edgeList.dropna(subset=['To_node'],axis=0)\n",
    "#Drop zero to values\n",
    "df_edgeList = df_edgeList[df_edgeList.To_node != 0]\n",
    "#Change to_nodes to integers then strings\n",
    "df_edgeList['To_node'] = df_edgeList['To_node'].apply(lambda x: str(int(x)))\n",
    "#Change from nodes to strings\n",
    "df_edgeList['From_node'] = df_edgeList['From_node'].apply(lambda x: str(x))"
   ]
  },
  {
   "cell_type": "code",
   "execution_count": 44,
   "metadata": {},
   "outputs": [
    {
     "name": "stdout",
     "output_type": "stream",
     "text": [
      "<class 'pandas.core.frame.DataFrame'>\n",
      "Int64Index: 2701 entries, 0 to 3110\n",
      "Data columns (total 3 columns):\n",
      " #   Column            Non-Null Count  Dtype  \n",
      "---  ------            --------------  -----  \n",
      " 0   From_node         2701 non-null   object \n",
      " 1   To_node           2701 non-null   object \n",
      " 2   Site_yield_scf_h  2701 non-null   float64\n",
      "dtypes: float64(1), object(2)\n",
      "memory usage: 84.4+ KB\n"
     ]
    }
   ],
   "source": [
    "df_edgeList.info()"
   ]
  },
  {
   "cell_type": "code",
   "execution_count": 45,
   "metadata": {},
   "outputs": [],
   "source": [
    "#Create the graph\n",
    "G = nx.MultiDiGraph()"
   ]
  },
  {
   "cell_type": "code",
   "execution_count": 46,
   "metadata": {},
   "outputs": [],
   "source": [
    "#Add the edges\n",
    "for i,r in df_edgeList.iterrows():\n",
    "    G.add_edge(r.From_node,r.To_node,cost=r.Site_yield_scf_h)"
   ]
  },
  {
   "cell_type": "code",
   "execution_count": 49,
   "metadata": {},
   "outputs": [],
   "source": [
    "nodeCosts = []\n",
    "#Iterate through each to_node\n",
    "for from_node in df_edgeList.From_node.unique():\n",
    "    #Reset the cost variable\n",
    "    total_yield = 0\n",
    "    #Get the upstream nodes for the current node\n",
    "    up_nodes = nx.ancestors(G,from_node)\n",
    "    #Append the node itself\n",
    "    up_nodes.add(from_node)\n",
    "    #Iterate through the to_node's ancestors\n",
    "    for up_node in up_nodes:\n",
    "        #Accumulate the total yield\n",
    "        total_yield += df_edgeList.query(\"From_node == '{}'\".format(up_node))['Site_yield_scf_h'].sum()\n",
    "    df_edgeList.loc[df_edgeList.From_node == from_node,'SumYield'] = total_yield"
   ]
  },
  {
   "cell_type": "code",
   "execution_count": 50,
   "metadata": {},
   "outputs": [],
   "source": [
    "#Compute pipe diameter from throughput\n",
    "df_edgeList['PipeSize_in'] = df_edgeList['SumYield']**0.394*0.051\n",
    "#Compute pipe cost from throughput \n",
    "df_edgeList['PipeCost'] = df_edgeList['PipeSize_in']**0.485*10829 \n",
    "#Compute return\n",
    "df_edgeList['Return_15yr'] = df_edgeList['PipeCost'] / (df_edgeList['SumYield'] * 15)"
   ]
  },
  {
   "cell_type": "code",
   "execution_count": 51,
   "metadata": {},
   "outputs": [],
   "source": [
    "#Save edge list to a filename\n",
    "edgeCSV_filename =  '../scratch/Biogas_9May2020.csv'\n",
    "df_edgeList[['From_node','Site_yield_scf_h', 'SumYield', 'PipeSize_in',\n",
    "            'PipeCost', 'Return_15yr']].to_csv(edgeCSV_filename,index=False)"
   ]
  },
  {
   "cell_type": "code",
   "execution_count": 38,
   "metadata": {},
   "outputs": [],
   "source": [
    "%matplotlib inline"
   ]
  },
  {
   "cell_type": "code",
   "execution_count": null,
   "metadata": {},
   "outputs": [],
   "source": []
  }
 ],
 "metadata": {
  "kernelspec": {
   "display_name": "Python 3",
   "language": "python",
   "name": "python3"
  },
  "language_info": {
   "codemirror_mode": {
    "name": "ipython",
    "version": 3
   },
   "file_extension": ".py",
   "mimetype": "text/x-python",
   "name": "python",
   "nbconvert_exporter": "python",
   "pygments_lexer": "ipython3",
   "version": "3.7.6"
  }
 },
 "nbformat": 4,
 "nbformat_minor": 4
}
