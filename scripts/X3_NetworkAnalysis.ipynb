{
 "cells": [
  {
   "cell_type": "markdown",
   "metadata": {},
   "source": [
    "# Network Analysis\n",
    "This notebook compute cumulative biogas potential for the pipeline segments. \n",
    "1. Read in the edge list computed from the pipeline segments. This includes the edge ID, the downstream edge ID, and the amount of biogas potential at the edge source. \n",
    "2. Build a graph and then iterate through node on the graph, trace downstream, and tally cumulative downstream biogas potential values.\n",
    "3. Export as a csv and shapefile"
   ]
  },
  {
   "cell_type": "code",
   "execution_count": 1,
   "metadata": {},
   "outputs": [],
   "source": [
    "#Import packages\n",
    "import networkx as nx\n",
    "import numpy as np\n",
    "import pandas as pd\n",
    "import geopandas as gpd"
   ]
  },
  {
   "cell_type": "code",
   "execution_count": 2,
   "metadata": {},
   "outputs": [],
   "source": [
    "#Read the edge list in as a dataframe\n",
    "edgelist_fn = '../data/processed/BaseEdgeList.csv'\n",
    "df_edgeList = pd.read_csv(edgelist_fn,\n",
    "                          header=0,\n",
    "                          names = ['Source_node','To_node','BG_Potential'],\n",
    "                          dtype={'Source_node':str,'To_node':str,'BG_Potential':np.float64})"
   ]
  },
  {
   "cell_type": "code",
   "execution_count": 3,
   "metadata": {},
   "outputs": [],
   "source": [
    "#Replace null values in biogas potential with zero\n",
    "df_edgeList.loc[pd.isna(df_edgeList['BG_Potential']),'BG_Potential'] = 0"
   ]
  },
  {
   "cell_type": "markdown",
   "metadata": {},
   "source": [
    "#### Create and populate the graph\n",
    "* Create a multi-directional graph\n",
    "* Iterate through the edge list and add add edges from the source/downstream nodes & weights"
   ]
  },
  {
   "cell_type": "code",
   "execution_count": 4,
   "metadata": {},
   "outputs": [],
   "source": [
    "#Create the graph\n",
    "G = nx.MultiDiGraph()"
   ]
  },
  {
   "cell_type": "code",
   "execution_count": 5,
   "metadata": {},
   "outputs": [],
   "source": [
    "#Add the edges to the graph\n",
    "for i,r in df_edgeList.iterrows():\n",
    "    G.add_edge(r['Source_node'],r['To_node'],cost=r['BG_Potential'])"
   ]
  },
  {
   "cell_type": "markdown",
   "metadata": {},
   "source": [
    "#### Compute total upstream biogas potential \n",
    "Iterate through each \"from\" node and find all its upstream nodes and sum their collective biogas potential values"
   ]
  },
  {
   "cell_type": "code",
   "execution_count": 8,
   "metadata": {},
   "outputs": [],
   "source": [
    "#Iterate through each to_node\n",
    "for source_node in df_edgeList['Source_node'].unique():\n",
    "    #Reset the cost variable\n",
    "    total_yield = 0\n",
    "    #Get the downstream nodes for the current node\n",
    "    down_nodes = nx.ancestors(G,source_node)\n",
    "    #Append the node itself\n",
    "    down_nodes.add(source_node)\n",
    "    #Iterate through the to_node's ancestors\n",
    "    for down_node in down_nodes:\n",
    "        #Accumulate the total yield\n",
    "        total_yield += df_edgeList.query(F\"Source_node == '{down_node}'\")['BG_Potential'].sum()\n",
    "    #Update the output table\n",
    "    df_edgeList.loc[df_edgeList['Source_node'] == source_node,'SumPotential'] = total_yield"
   ]
  },
  {
   "cell_type": "markdown",
   "metadata": {},
   "source": [
    "##### Export results"
   ]
  },
  {
   "cell_type": "code",
   "execution_count": 22,
   "metadata": {},
   "outputs": [],
   "source": [
    "#Save edge list to a filename\n",
    "edgeCSV_filename =  '../data/processed/Biogas_11May2020.csv'\n",
    "df_edgeList[['Source_node','To_node', 'SumPotential']].to_csv(edgeCSV_filename,index=False)"
   ]
  },
  {
   "cell_type": "code",
   "execution_count": null,
   "metadata": {},
   "outputs": [],
   "source": [
    "df_edgeList['SumPotential'] = df_edgeList['SumPotential'].round(0)"
   ]
  },
  {
   "cell_type": "code",
   "execution_count": 20,
   "metadata": {},
   "outputs": [],
   "source": [
    "#Read in segments and join cumulative data\n",
    "gdf_Segments = gpd.read_file('../data/processed/BasePipeline.shp')\n",
    "gdf_Segments = gdf_Segments.merge(df_edgeList,left_on='edge_ID',right_on='Source_node',how='left')\n",
    "gdf_Segments.drop(columns=['downstream','BG_potenti','route_id','edge_ID'],axis=1,inplace=True)\n",
    "gdf_Segments.to_file('../data/processed/CumulativeBG.shp')"
   ]
  }
 ],
 "metadata": {
  "kernelspec": {
   "display_name": "Python 3",
   "language": "python",
   "name": "python3"
  },
  "language_info": {
   "codemirror_mode": {
    "name": "ipython",
    "version": 3
   },
   "file_extension": ".py",
   "mimetype": "text/x-python",
   "name": "python",
   "nbconvert_exporter": "python",
   "pygments_lexer": "ipython3",
   "version": "3.7.6"
  }
 },
 "nbformat": 4,
 "nbformat_minor": 4
}
