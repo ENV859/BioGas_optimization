{
 "cells": [
  {
   "cell_type": "markdown",
   "metadata": {},
   "source": [
    "# Network Analysis\n",
    "This notebook compute cumulative biogas potential for the pipeline segments. \n",
    "1. Read in the edge list computed from the pipeline segments. This includes the edge ID, the downstream edge ID, and the amount of biogas potential at the edge source. \n",
    "2. Build a graph and then iterate through node on the graph, trace downstream, and tally cumulative downstream biogas potential values.\n",
    "3. Export as a csv and shapefile"
   ]
  },
  {
   "cell_type": "code",
   "execution_count": 1,
   "metadata": {},
   "outputs": [],
   "source": [
    "#Import packages\n",
    "import networkx as nx\n",
    "import numpy as np\n",
    "import pandas as pd\n",
    "import geopandas as gpd"
   ]
  },
  {
   "cell_type": "code",
   "execution_count": 2,
   "metadata": {},
   "outputs": [
    {
     "data": {
      "text/html": [
       "<div>\n",
       "<style scoped>\n",
       "    .dataframe tbody tr th:only-of-type {\n",
       "        vertical-align: middle;\n",
       "    }\n",
       "\n",
       "    .dataframe tbody tr th {\n",
       "        vertical-align: top;\n",
       "    }\n",
       "\n",
       "    .dataframe thead th {\n",
       "        text-align: right;\n",
       "    }\n",
       "</style>\n",
       "<table border=\"1\" class=\"dataframe\">\n",
       "  <thead>\n",
       "    <tr style=\"text-align: right;\">\n",
       "      <th></th>\n",
       "      <th>route_id</th>\n",
       "      <th>edge_ID</th>\n",
       "      <th>downstream</th>\n",
       "      <th>Fac_ID</th>\n",
       "      <th>Waste</th>\n",
       "      <th>Biogas</th>\n",
       "      <th>Type</th>\n",
       "      <th>Connection</th>\n",
       "      <th>geometry</th>\n",
       "    </tr>\n",
       "  </thead>\n",
       "  <tbody>\n",
       "    <tr>\n",
       "      <th>0</th>\n",
       "      <td>291</td>\n",
       "      <td>0</td>\n",
       "      <td>1</td>\n",
       "      <td>291</td>\n",
       "      <td>490225.577124</td>\n",
       "      <td>1.372632e+07</td>\n",
       "      <td>Source</td>\n",
       "      <td>NA</td>\n",
       "      <td>LINESTRING (1618626.822 -297167.070, 1618626.8...</td>\n",
       "    </tr>\n",
       "    <tr>\n",
       "      <th>1</th>\n",
       "      <td>291</td>\n",
       "      <td>1</td>\n",
       "      <td>2</td>\n",
       "      <td>-1</td>\n",
       "      <td>0.000000</td>\n",
       "      <td>0.000000e+00</td>\n",
       "      <td>Route</td>\n",
       "      <td>NA</td>\n",
       "      <td>LINESTRING (1619131.223 -296158.267, 1619635.6...</td>\n",
       "    </tr>\n",
       "    <tr>\n",
       "      <th>2</th>\n",
       "      <td>291</td>\n",
       "      <td>2</td>\n",
       "      <td>3</td>\n",
       "      <td>-1</td>\n",
       "      <td>0.000000</td>\n",
       "      <td>0.000000e+00</td>\n",
       "      <td>Route</td>\n",
       "      <td>NA</td>\n",
       "      <td>LINESTRING (1621148.830 -293674.376, 1621148.8...</td>\n",
       "    </tr>\n",
       "    <tr>\n",
       "      <th>3</th>\n",
       "      <td>291</td>\n",
       "      <td>3</td>\n",
       "      <td>4</td>\n",
       "      <td>-1</td>\n",
       "      <td>0.000000</td>\n",
       "      <td>0.000000e+00</td>\n",
       "      <td>Route</td>\n",
       "      <td>NA</td>\n",
       "      <td>LINESTRING (1621148.830 -293131.857, 1621148.8...</td>\n",
       "    </tr>\n",
       "    <tr>\n",
       "      <th>4</th>\n",
       "      <td>291</td>\n",
       "      <td>4</td>\n",
       "      <td>5</td>\n",
       "      <td>-1</td>\n",
       "      <td>0.000000</td>\n",
       "      <td>0.000000e+00</td>\n",
       "      <td>Route</td>\n",
       "      <td>NA</td>\n",
       "      <td>LINESTRING (1621653.231 -288087.841, 1622157.6...</td>\n",
       "    </tr>\n",
       "  </tbody>\n",
       "</table>\n",
       "</div>"
      ],
      "text/plain": [
       "  route_id edge_ID downstream Fac_ID          Waste        Biogas    Type  \\\n",
       "0      291       0          1    291  490225.577124  1.372632e+07  Source   \n",
       "1      291       1          2     -1       0.000000  0.000000e+00   Route   \n",
       "2      291       2          3     -1       0.000000  0.000000e+00   Route   \n",
       "3      291       3          4     -1       0.000000  0.000000e+00   Route   \n",
       "4      291       4          5     -1       0.000000  0.000000e+00   Route   \n",
       "\n",
       "  Connection                                           geometry  \n",
       "0         NA  LINESTRING (1618626.822 -297167.070, 1618626.8...  \n",
       "1         NA  LINESTRING (1619131.223 -296158.267, 1619635.6...  \n",
       "2         NA  LINESTRING (1621148.830 -293674.376, 1621148.8...  \n",
       "3         NA  LINESTRING (1621148.830 -293131.857, 1621148.8...  \n",
       "4         NA  LINESTRING (1621653.231 -288087.841, 1622157.6...  "
      ]
     },
     "execution_count": 2,
     "metadata": {},
     "output_type": "execute_result"
    }
   ],
   "source": [
    "#Read the data in from the BasePipelines shapefile\n",
    "gdf_Pipelines = gpd.read_file('../data/processed/BasePipelines.shp')\n",
    "gdf_Pipelines.head()"
   ]
  },
  {
   "cell_type": "code",
   "execution_count": 3,
   "metadata": {},
   "outputs": [],
   "source": [
    "#Set the field name variables\n",
    "source_fld = 'edge_ID'\n",
    "target_fld = 'downstream'\n",
    "weight_fld = 'Waste'"
   ]
  },
  {
   "cell_type": "markdown",
   "metadata": {},
   "source": [
    "#### Create and populate the graph\n",
    "* Create a multi-directional graph\n",
    "* Iterate through the edge list and add add edges from the source/downstream nodes & weights"
   ]
  },
  {
   "cell_type": "code",
   "execution_count": 4,
   "metadata": {},
   "outputs": [],
   "source": [
    "#Construct the graph from the dataframe\n",
    "G = nx.from_pandas_edgelist(gdf_Pipelines,\n",
    "                            source=source_fld,\n",
    "                            target=target_fld,\n",
    "                            edge_attr=True,\n",
    "                            create_using=nx.MultiDiGraph\n",
    "                           )"
   ]
  },
  {
   "cell_type": "markdown",
   "metadata": {},
   "source": [
    "#### Compute total upstream biogas potential \n",
    "Iterate through each \"from\" node and find all its upstream nodes and sum their collective biogas potential values"
   ]
  },
  {
   "cell_type": "code",
   "execution_count": 5,
   "metadata": {},
   "outputs": [],
   "source": [
    "def getUpstream(node_id):\n",
    "    #Get a list of nodes downstream of the current node\n",
    "    up_nodes = nx.ancestors(G,node_id)\n",
    "    #Add the source node itself\n",
    "    up_nodes.add(node_id)\n",
    "    #return the sum of the weight field for all selected records\n",
    "    return int(gdf_Pipelines.loc[gdf_Pipelines[source_fld].isin(list(up_nodes)),weight_fld].sum())"
   ]
  },
  {
   "cell_type": "code",
   "execution_count": 6,
   "metadata": {},
   "outputs": [],
   "source": [
    "#Apply the function \n",
    "gdf_Pipelines['AccumWaste'] = gdf_Pipelines[source_fld].apply(getUpstream)"
   ]
  },
  {
   "cell_type": "code",
   "execution_count": 7,
   "metadata": {},
   "outputs": [],
   "source": [
    "#Export results\n",
    "gdf_Pipelines.to_file('../data/processed/AccumWaste.shp')"
   ]
  },
  {
   "cell_type": "markdown",
   "metadata": {},
   "source": [
    "### Create node file"
   ]
  },
  {
   "cell_type": "code",
   "execution_count": 8,
   "metadata": {},
   "outputs": [
    {
     "data": {
      "text/html": [
       "<div>\n",
       "<style scoped>\n",
       "    .dataframe tbody tr th:only-of-type {\n",
       "        vertical-align: middle;\n",
       "    }\n",
       "\n",
       "    .dataframe tbody tr th {\n",
       "        vertical-align: top;\n",
       "    }\n",
       "\n",
       "    .dataframe thead th {\n",
       "        text-align: right;\n",
       "    }\n",
       "</style>\n",
       "<table border=\"1\" class=\"dataframe\">\n",
       "  <thead>\n",
       "    <tr style=\"text-align: right;\">\n",
       "      <th></th>\n",
       "      <th>route_id</th>\n",
       "      <th>edge_ID</th>\n",
       "      <th>downstream</th>\n",
       "      <th>Fac_ID</th>\n",
       "      <th>Waste</th>\n",
       "      <th>Biogas</th>\n",
       "      <th>Type</th>\n",
       "      <th>Connection</th>\n",
       "      <th>geometry</th>\n",
       "      <th>AccumWaste</th>\n",
       "    </tr>\n",
       "  </thead>\n",
       "  <tbody>\n",
       "    <tr>\n",
       "      <th>0</th>\n",
       "      <td>291</td>\n",
       "      <td>0</td>\n",
       "      <td>1</td>\n",
       "      <td>291</td>\n",
       "      <td>490225.577124</td>\n",
       "      <td>1.372632e+07</td>\n",
       "      <td>Source</td>\n",
       "      <td>NA</td>\n",
       "      <td>LINESTRING (-78.12924 34.88877, -78.12816 34.8...</td>\n",
       "      <td>2722067</td>\n",
       "    </tr>\n",
       "    <tr>\n",
       "      <th>1</th>\n",
       "      <td>291</td>\n",
       "      <td>1</td>\n",
       "      <td>2</td>\n",
       "      <td>-1</td>\n",
       "      <td>0.000000</td>\n",
       "      <td>0.000000e+00</td>\n",
       "      <td>Route</td>\n",
       "      <td>NA</td>\n",
       "      <td>LINESTRING (-78.12166 34.89680, -78.11515 34.9...</td>\n",
       "      <td>3005386</td>\n",
       "    </tr>\n",
       "    <tr>\n",
       "      <th>2</th>\n",
       "      <td>291</td>\n",
       "      <td>2</td>\n",
       "      <td>3</td>\n",
       "      <td>-1</td>\n",
       "      <td>0.000000</td>\n",
       "      <td>0.000000e+00</td>\n",
       "      <td>Route</td>\n",
       "      <td>NA</td>\n",
       "      <td>LINESTRING (-78.09463 34.91522, -78.09455 34.9...</td>\n",
       "      <td>3106569</td>\n",
       "    </tr>\n",
       "    <tr>\n",
       "      <th>3</th>\n",
       "      <td>291</td>\n",
       "      <td>3</td>\n",
       "      <td>4</td>\n",
       "      <td>-1</td>\n",
       "      <td>0.000000</td>\n",
       "      <td>0.000000e+00</td>\n",
       "      <td>Route</td>\n",
       "      <td>NA</td>\n",
       "      <td>LINESTRING (-78.09347 34.92001, -78.09239 34.9...</td>\n",
       "      <td>3114801</td>\n",
       "    </tr>\n",
       "    <tr>\n",
       "      <th>4</th>\n",
       "      <td>291</td>\n",
       "      <td>4</td>\n",
       "      <td>5</td>\n",
       "      <td>-1</td>\n",
       "      <td>0.000000</td>\n",
       "      <td>0.000000e+00</td>\n",
       "      <td>Route</td>\n",
       "      <td>NA</td>\n",
       "      <td>LINESTRING (-78.07723 34.96372, -78.07072 34.9...</td>\n",
       "      <td>3163657</td>\n",
       "    </tr>\n",
       "  </tbody>\n",
       "</table>\n",
       "</div>"
      ],
      "text/plain": [
       "  route_id edge_ID downstream Fac_ID          Waste        Biogas    Type  \\\n",
       "0      291       0          1    291  490225.577124  1.372632e+07  Source   \n",
       "1      291       1          2     -1       0.000000  0.000000e+00   Route   \n",
       "2      291       2          3     -1       0.000000  0.000000e+00   Route   \n",
       "3      291       3          4     -1       0.000000  0.000000e+00   Route   \n",
       "4      291       4          5     -1       0.000000  0.000000e+00   Route   \n",
       "\n",
       "  Connection                                           geometry  AccumWaste  \n",
       "0         NA  LINESTRING (-78.12924 34.88877, -78.12816 34.8...     2722067  \n",
       "1         NA  LINESTRING (-78.12166 34.89680, -78.11515 34.9...     3005386  \n",
       "2         NA  LINESTRING (-78.09463 34.91522, -78.09455 34.9...     3106569  \n",
       "3         NA  LINESTRING (-78.09347 34.92001, -78.09239 34.9...     3114801  \n",
       "4         NA  LINESTRING (-78.07723 34.96372, -78.07072 34.9...     3163657  "
      ]
     },
     "execution_count": 8,
     "metadata": {},
     "output_type": "execute_result"
    }
   ],
   "source": [
    "#Transform to WGS84\n",
    "gdfWGS84 = gdf_Pipelines.to_crs(4326)\n",
    "gdfWGS84.head()"
   ]
  },
  {
   "cell_type": "code",
   "execution_count": 9,
   "metadata": {},
   "outputs": [
    {
     "data": {
      "text/html": [
       "<div>\n",
       "<style scoped>\n",
       "    .dataframe tbody tr th:only-of-type {\n",
       "        vertical-align: middle;\n",
       "    }\n",
       "\n",
       "    .dataframe tbody tr th {\n",
       "        vertical-align: top;\n",
       "    }\n",
       "\n",
       "    .dataframe thead th {\n",
       "        text-align: right;\n",
       "    }\n",
       "</style>\n",
       "<table border=\"1\" class=\"dataframe\">\n",
       "  <thead>\n",
       "    <tr style=\"text-align: right;\">\n",
       "      <th></th>\n",
       "      <th>edge_ID</th>\n",
       "      <th>latitude</th>\n",
       "      <th>longitude</th>\n",
       "    </tr>\n",
       "  </thead>\n",
       "  <tbody>\n",
       "    <tr>\n",
       "      <th>0</th>\n",
       "      <td>0</td>\n",
       "      <td>34.888768</td>\n",
       "      <td>-78.129238</td>\n",
       "    </tr>\n",
       "    <tr>\n",
       "      <th>1</th>\n",
       "      <td>1</td>\n",
       "      <td>34.896802</td>\n",
       "      <td>-78.121655</td>\n",
       "    </tr>\n",
       "  </tbody>\n",
       "</table>\n",
       "</div>"
      ],
      "text/plain": [
       "  edge_ID   latitude  longitude\n",
       "0       0  34.888768 -78.129238\n",
       "1       1  34.896802 -78.121655"
      ]
     },
     "execution_count": 9,
     "metadata": {},
     "output_type": "execute_result"
    }
   ],
   "source": [
    "#Extract the first points in each segment\n",
    "gdfWGS84['longitude'] = gdfWGS84['geometry'].apply(lambda x: x.coords[0][0])\n",
    "gdfWGS84['latitude'] = gdfWGS84['geometry'].apply(lambda x: x.coords[0][1])\n",
    "df_First = (gdfWGS84[['edge_ID','latitude','longitude']]\n",
    "             .reset_index()\n",
    "             .drop('index',axis=1))\n",
    "df_First.head(2)"
   ]
  },
  {
   "cell_type": "code",
   "execution_count": 10,
   "metadata": {},
   "outputs": [
    {
     "data": {
      "text/html": [
       "<div>\n",
       "<style scoped>\n",
       "    .dataframe tbody tr th:only-of-type {\n",
       "        vertical-align: middle;\n",
       "    }\n",
       "\n",
       "    .dataframe tbody tr th {\n",
       "        vertical-align: top;\n",
       "    }\n",
       "\n",
       "    .dataframe thead th {\n",
       "        text-align: right;\n",
       "    }\n",
       "</style>\n",
       "<table border=\"1\" class=\"dataframe\">\n",
       "  <thead>\n",
       "    <tr style=\"text-align: right;\">\n",
       "      <th></th>\n",
       "      <th>edge_ID</th>\n",
       "      <th>latitude</th>\n",
       "      <th>longitude</th>\n",
       "    </tr>\n",
       "  </thead>\n",
       "  <tbody>\n",
       "    <tr>\n",
       "      <th>0</th>\n",
       "      <td>1</td>\n",
       "      <td>34.896802</td>\n",
       "      <td>-78.121655</td>\n",
       "    </tr>\n",
       "    <tr>\n",
       "      <th>1</th>\n",
       "      <td>2</td>\n",
       "      <td>34.915217</td>\n",
       "      <td>-78.094629</td>\n",
       "    </tr>\n",
       "  </tbody>\n",
       "</table>\n",
       "</div>"
      ],
      "text/plain": [
       "  edge_ID   latitude  longitude\n",
       "0       1  34.896802 -78.121655\n",
       "1       2  34.915217 -78.094629"
      ]
     },
     "execution_count": 10,
     "metadata": {},
     "output_type": "execute_result"
    }
   ],
   "source": [
    "#Extract the last points in each segment\n",
    "gdfWGS84['longitude'] = gdfWGS84['geometry'].apply(lambda x: x.coords[-1][0])\n",
    "gdfWGS84['latitude'] = gdfWGS84['geometry'].apply(lambda x: x.coords[-1][1])\n",
    "df_Last = (gdfWGS84[['downstream','latitude','longitude']]\n",
    "            .reset_index()\n",
    "            .rename({'downstream':'edge_ID'},axis=1)\n",
    "            .drop('index',axis=1))\n",
    "df_Last.head(2)"
   ]
  },
  {
   "cell_type": "code",
   "execution_count": 12,
   "metadata": {},
   "outputs": [],
   "source": [
    "df_Nodes = df_First.append(df_Last,ignore_index=True).drop_duplicates()"
   ]
  },
  {
   "cell_type": "code",
   "execution_count": 14,
   "metadata": {},
   "outputs": [],
   "source": [
    "gdf_Pipelines.merge(df_Nodes,on='edge_ID').drop(columns=['route_id','geometry'],axis=1).to_csv(\"../data/processed/Nodes.csv\",index=False)"
   ]
  },
  {
   "cell_type": "code",
   "execution_count": null,
   "metadata": {},
   "outputs": [],
   "source": []
  }
 ],
 "metadata": {
  "kernelspec": {
   "display_name": "Python 3",
   "language": "python",
   "name": "python3"
  },
  "language_info": {
   "codemirror_mode": {
    "name": "ipython",
    "version": 3
   },
   "file_extension": ".py",
   "mimetype": "text/x-python",
   "name": "python",
   "nbconvert_exporter": "python",
   "pygments_lexer": "ipython3",
   "version": "3.7.6"
  }
 },
 "nbformat": 4,
 "nbformat_minor": 4
}
