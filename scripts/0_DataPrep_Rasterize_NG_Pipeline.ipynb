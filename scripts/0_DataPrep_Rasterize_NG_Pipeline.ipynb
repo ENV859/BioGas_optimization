{
 "cells": [
  {
   "cell_type": "markdown",
   "metadata": {},
   "source": [
    "# Rasterize Natural Gas Pipeline Network\n",
    "Creates a raster version at the same extent and cell size of the MIT cost surface."
   ]
  },
  {
   "cell_type": "code",
   "execution_count": 1,
   "metadata": {},
   "outputs": [],
   "source": [
    "import rasterio\n",
    "from rasterio import features\n",
    "import geopandas as gpd\n",
    "import numpy as np"
   ]
  },
  {
   "cell_type": "code",
   "execution_count": 3,
   "metadata": {},
   "outputs": [],
   "source": [
    "#Load the cost surface raster\n",
    "cost_surface_dataset = rasterio.open('../data/MIT_Surface_Full/costsurface500m.img')\n",
    "#Get the surface \n",
    "cost_surface = cost_surface_dataset.read(1)\n",
    "#Extract the coordinate reference system\n",
    "cost_crs = cost_surface_dataset.crs\n",
    "#Get the metadata\n",
    "cost_meta = cost_surface_dataset.meta"
   ]
  },
  {
   "cell_type": "code",
   "execution_count": 4,
   "metadata": {},
   "outputs": [],
   "source": [
    "#Read in features\n",
    "pipelines_gdb = 'C:\\\\Workspace\\\\Rextag_7May2020\\\\Rextag_Zone2_Natural_Gas.gdb'\n",
    "pipelines_lyr = 'NaturalGasPipelines'"
   ]
  },
  {
   "cell_type": "code",
   "execution_count": 5,
   "metadata": {},
   "outputs": [],
   "source": [
    "#Read in pipeline dataset as a geodataframe\n",
    "gdf = gpd.read_file(pipelines_gdb,driver='FileGDB',layer=pipelines_lyr)"
   ]
  },
  {
   "cell_type": "code",
   "execution_count": 8,
   "metadata": {},
   "outputs": [
    {
     "data": {
      "text/plain": [
       "(630204, 42)"
      ]
     },
     "execution_count": 8,
     "metadata": {},
     "output_type": "execute_result"
    }
   ],
   "source": [
    "gdf.shape"
   ]
  },
  {
   "cell_type": "code",
   "execution_count": 9,
   "metadata": {},
   "outputs": [
    {
     "data": {
      "text/plain": [
       "(622065, 43)"
      ]
     },
     "execution_count": 9,
     "metadata": {},
     "output_type": "execute_result"
    }
   ],
   "source": [
    "#Extract only operational pipeline routes\n",
    "gdf_operational = gdf.loc[gdf['STATUS'] == 'Operational'].reset_index()\n",
    "gdf_operational.shape"
   ]
  },
  {
   "cell_type": "code",
   "execution_count": 10,
   "metadata": {},
   "outputs": [],
   "source": [
    "#Transform to same crs as cost surface\n",
    "gdf_operational = gdf_operational.to_crs(cost_crs)"
   ]
  },
  {
   "cell_type": "code",
   "execution_count": 12,
   "metadata": {},
   "outputs": [],
   "source": [
    "#Convert features to raster\n",
    "image = features.rasterize(shapes=gdf_operational.geometry,\n",
    "                           out_shape=cost_surface_dataset.shape,\n",
    "                           transform=cost_surface_dataset.transform,\n",
    "                           all_touched=False)"
   ]
  },
  {
   "cell_type": "code",
   "execution_count": 13,
   "metadata": {},
   "outputs": [],
   "source": [
    "#Update metadata for output\n",
    "cost_meta.update(\n",
    "    {'driver':'GTiff',\n",
    "     'dtype':'uint8',\n",
    "     'nodata':0,\n",
    "    })"
   ]
  },
  {
   "cell_type": "code",
   "execution_count": 14,
   "metadata": {},
   "outputs": [],
   "source": [
    "#Export as tiff\n",
    "with rasterio.open('..\\\\data\\\\processed\\\\USA_pipes_operational.tif','w',**cost_meta) as dst:\n",
    "    dst.write(image, indexes=1)"
   ]
  }
 ],
 "metadata": {
  "kernelspec": {
   "display_name": "Python 3",
   "language": "python",
   "name": "python3"
  },
  "language_info": {
   "codemirror_mode": {
    "name": "ipython",
    "version": 3
   },
   "file_extension": ".py",
   "mimetype": "text/x-python",
   "name": "python",
   "nbconvert_exporter": "python",
   "pygments_lexer": "ipython3",
   "version": "3.7.6"
  }
 },
 "nbformat": 4,
 "nbformat_minor": 4
}
