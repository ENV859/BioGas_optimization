{
 "cells": [
  {
   "cell_type": "markdown",
   "metadata": {},
   "source": [
    "### Build topology\n",
    "This script reads in the individual least cost routes linking each biogas source to the nearest pipeline and merges them into a topologically correct network. This is done by splitting each route where two routes meet. "
   ]
  },
  {
   "cell_type": "code",
   "execution_count": 1,
   "metadata": {},
   "outputs": [],
   "source": [
    "#Import packages\n",
    "import geopandas as gpd\n",
    "import pandas as pd\n",
    "import numpy as np\n",
    "from shapely.geometry import Point, LineString\n",
    "from shapely.ops import split"
   ]
  },
  {
   "cell_type": "code",
   "execution_count": 2,
   "metadata": {},
   "outputs": [],
   "source": [
    "#Read in routes feature class as shapefile\n",
    "gdfRoutes = gpd.read_file('..\\\\data\\\\processed\\\\Routes.shp')"
   ]
  },
  {
   "cell_type": "code",
   "execution_count": 3,
   "metadata": {},
   "outputs": [],
   "source": [
    "#Columns to drop to keep things tidy\n",
    "drop_cols = ['Facility N', 'Address', 'City', 'County Nam',\n",
    "             'Zip', 'Latitude', 'Longitude', 'Regulated', \n",
    "             'Allowable']"
   ]
  },
  {
   "cell_type": "markdown",
   "metadata": {},
   "source": [
    "#### Derive geodataframes of the route start points and end points\n",
    "Start points are used to link each route's biogas potential to the final output and end points are used to split existing route features."
   ]
  },
  {
   "cell_type": "code",
   "execution_count": 4,
   "metadata": {},
   "outputs": [],
   "source": [
    "#Copy routes geodataframe and update geometry to start points\n",
    "gdfStart = gdfRoutes.copy(deep=True)\n",
    "gdfStart['geometry'] = gdfRoutes['geometry'].apply(lambda x: Point(x.coords[0]))\n",
    "gdfStart.drop(columns=drop_cols,axis=1,inplace=True)"
   ]
  },
  {
   "cell_type": "code",
   "execution_count": 5,
   "metadata": {},
   "outputs": [],
   "source": [
    "#Copy routes geodataframe and update geometry to start points\n",
    "gdfEnd = gdfRoutes.copy(deep=True)\n",
    "gdfEnd['geometry'] = gdfRoutes['geometry'].apply(lambda x: Point(x.coords[-1]))\n",
    "gdfEnd.drop(columns=drop_cols,axis=1,inplace=True)"
   ]
  },
  {
   "cell_type": "markdown",
   "metadata": {},
   "source": [
    "#### Split route features where new routes enter them\n",
    "1. Combine all endpoint point features into a single multipoint feature\n",
    "2. Split the LineString geometries with this multipoint feature, resulting in Geometry Collection features stored in the geodataframe's geometry series\n",
    "3. Iterate through each fearture in the above result, splitting its geometry collection back into individual LineString features, and adding each to a growing list.\n",
    "4. Reconstruct a new geodataframe of all the route segments from the split list, adding a new edge ID attribute"
   ]
  },
  {
   "cell_type": "code",
   "execution_count": 6,
   "metadata": {},
   "outputs": [],
   "source": [
    "#Combine endpoints into a single multipoint object\n",
    "ends = gdfEnd.geometry.unary_union"
   ]
  },
  {
   "cell_type": "code",
   "execution_count": 7,
   "metadata": {},
   "outputs": [],
   "source": [
    "#Create a geoseries of split routes (geometry collections) - takes a bit of time\n",
    "theSplits = gdfRoutes.geometry.apply(lambda x: split(x,ends))"
   ]
  },
  {
   "cell_type": "code",
   "execution_count": 8,
   "metadata": {},
   "outputs": [],
   "source": [
    "#Create lists to fill\n",
    "links = [] #List of each route's original route ID\n",
    "geom = []  #List of the LineString objects extracted from each feature's geometry collection"
   ]
  },
  {
   "cell_type": "code",
   "execution_count": 9,
   "metadata": {},
   "outputs": [],
   "source": [
    "#Iterate and add items to the list\n",
    "for index, row in gdfRoutes.iterrows():\n",
    "    #Iterate through split segments in the geometry collection\n",
    "    for line in theSplits[index].geoms:\n",
    "        #Add items to the list\n",
    "        links.append(str(row['index']))\n",
    "        geom.append(line)"
   ]
  },
  {
   "cell_type": "code",
   "execution_count": 10,
   "metadata": {},
   "outputs": [],
   "source": [
    "#Construct an output geodataframe from the route and geom lists created above\n",
    "gdfSegments = gpd.GeoDataFrame(pd.DataFrame({'route_id':links}),\n",
    "                               geometry = geom, crs = gdfRoutes.crs)\n",
    "\n",
    "#Add the index as a unique segment ID  \n",
    "gdfSegments['edge_ID'] = gdfSegments.index.astype(str)"
   ]
  },
  {
   "cell_type": "markdown",
   "metadata": {},
   "source": [
    "With the segments created, we now need assign attributes to each edge. These consist of the its upstream node ID, its downstream node ID, and the amount of biogas introduced at its upstream node. \n",
    "\n",
    "This process is a bit tricky and is done by:\n",
    "* Creating a feature class of the segment's starting vertex, linked to the segment's `edge_id`. This geodataframe is labeled `gdfDownstreamNodes` as its points are labeled with the edge that falls **downstream** of it. \n",
    "* Creating a second feature class of the segment's ending vertex, tagged with the segment's `edge_id `. This geodataframe is labeled `gdfUpstreamNodes` as its points are labeled with the edge that falls **upstream** of it. \n",
    "* The to points are spatially joined, resulting in a dataset of vertices (`gdNodes`) where each includes the label of the upstream and downstream edge_id. "
   ]
  },
  {
   "cell_type": "markdown",
   "metadata": {},
   "source": [
    "##### Create geodataframes from \"upstream\" and \"downstream\" nodes\n",
    "Here the \"downstream\" nodes are actually the first point in each segment, and the \"upstream\" nodes are the last. This seems backwards, but these are both intermediate datasets used to determine \"from-to\" pairs, done by spatially joining them. When joined, the \"from\" node carries the attribute of the upstream segment and the \"to\" node carries the downstream one..."
   ]
  },
  {
   "cell_type": "code",
   "execution_count": 11,
   "metadata": {},
   "outputs": [],
   "source": [
    "#Construct a gdf of segement start points; \n",
    "#  the 'edge_id' included is the id of the segement into which it flows, i.e. its downstream segment ID\n",
    "gdfFirstPoints = gdfSegments.copy(deep=True)\n",
    "gdfFirstPoints['geometry'] = gdfFirstPoints['geometry'].apply(lambda x: Point(x.coords[0]))\n",
    "gdfFirstPoints['downstream_id'] = gdfFirstPoints.index.astype(str)"
   ]
  },
  {
   "cell_type": "code",
   "execution_count": 12,
   "metadata": {},
   "outputs": [],
   "source": [
    "#Construct a gdf of segement start points; \n",
    "#  the 'edge_id' included is the id of the segement flowing into it, i.e. its upstream segment ID\n",
    "gdfLastPoints = gdfSegments.copy(deep=True)\n",
    "gdfLastPoints['geometry'] = gdfLastPoints['geometry'].apply(lambda x: Point(x.coords[-1]))\n",
    "gdfLastPoints['upstream_id'] = gdfLastPoints.index.astype(str)"
   ]
  },
  {
   "cell_type": "markdown",
   "metadata": {},
   "source": [
    "##### Spatially join the downstream and upstream points\n",
    "Spatially joining the two datasets results in a single point feature class with each point including the edge ids of the upstream and downstream segements, respectively."
   ]
  },
  {
   "cell_type": "code",
   "execution_count": 13,
   "metadata": {},
   "outputs": [
    {
     "data": {
      "text/html": [
       "<div>\n",
       "<style scoped>\n",
       "    .dataframe tbody tr th:only-of-type {\n",
       "        vertical-align: middle;\n",
       "    }\n",
       "\n",
       "    .dataframe tbody tr th {\n",
       "        vertical-align: top;\n",
       "    }\n",
       "\n",
       "    .dataframe thead th {\n",
       "        text-align: right;\n",
       "    }\n",
       "</style>\n",
       "<table border=\"1\" class=\"dataframe\">\n",
       "  <thead>\n",
       "    <tr style=\"text-align: right;\">\n",
       "      <th></th>\n",
       "      <th>geometry</th>\n",
       "      <th>upstream_id</th>\n",
       "      <th>downstream_id</th>\n",
       "    </tr>\n",
       "  </thead>\n",
       "  <tbody>\n",
       "    <tr>\n",
       "      <th>0</th>\n",
       "      <td>POINT (1582309.906 -310281.512)</td>\n",
       "      <td>0</td>\n",
       "      <td>1</td>\n",
       "    </tr>\n",
       "  </tbody>\n",
       "</table>\n",
       "</div>"
      ],
      "text/plain": [
       "                          geometry upstream_id downstream_id\n",
       "0  POINT (1582309.906 -310281.512)           0             1"
      ]
     },
     "execution_count": 13,
     "metadata": {},
     "output_type": "execute_result"
    }
   ],
   "source": [
    "#Spatially join the above geodataframes and remove indices\n",
    "gdfNodes = gpd.sjoin(left_df=gdfLastPoints, right_df=gdfFirstPoints, how='left')\n",
    "gdfNodes.drop(columns=['route_id_left','edge_ID_left','index_right','route_id_right','edge_ID_right'],\n",
    "              axis=1,inplace=True)\n",
    "gdfNodes.head(1)"
   ]
  },
  {
   "cell_type": "code",
   "execution_count": 14,
   "metadata": {},
   "outputs": [
    {
     "name": "stdout",
     "output_type": "stream",
     "text": [
      "<class 'geopandas.geodataframe.GeoDataFrame'>\n",
      "Int64Index: 2570 entries, 0 to 2569\n",
      "Data columns (total 3 columns):\n",
      " #   Column         Non-Null Count  Dtype   \n",
      "---  ------         --------------  -----   \n",
      " 0   geometry       2570 non-null   geometry\n",
      " 1   upstream_id    2570 non-null   object  \n",
      " 2   downstream_id  2161 non-null   object  \n",
      "dtypes: geometry(1), object(2)\n",
      "memory usage: 80.3+ KB\n"
     ]
    }
   ],
   "source": [
    "#Show info on the resulting dataset\n",
    "gdfNodes.info()"
   ]
  },
  {
   "cell_type": "markdown",
   "metadata": {},
   "source": [
    "The above reveals a number of records missing `downstream_id` values. These are the terminal segments, i.e. the ones connecting routes to existing NG pipeline infrastructure. \n",
    "> This is because we joined the \"first\" points of each segement to the \"last\" ones (left join above), leaving a number of downstream labeled as NaN (those segment end points that didn't intersect another segment's start point); these are the terminal nodes in each route grouping (i.e. where the pipes connect to the existing pipeline network). \n",
    "\n",
    "We relabel these terminal nodes with the upstream segment ID followed by a \"T\". "
   ]
  },
  {
   "cell_type": "code",
   "execution_count": 15,
   "metadata": {},
   "outputs": [
    {
     "data": {
      "text/html": [
       "<div>\n",
       "<style scoped>\n",
       "    .dataframe tbody tr th:only-of-type {\n",
       "        vertical-align: middle;\n",
       "    }\n",
       "\n",
       "    .dataframe tbody tr th {\n",
       "        vertical-align: top;\n",
       "    }\n",
       "\n",
       "    .dataframe thead th {\n",
       "        text-align: right;\n",
       "    }\n",
       "</style>\n",
       "<table border=\"1\" class=\"dataframe\">\n",
       "  <thead>\n",
       "    <tr style=\"text-align: right;\">\n",
       "      <th></th>\n",
       "      <th>geometry</th>\n",
       "      <th>upstream_id</th>\n",
       "      <th>downstream_id</th>\n",
       "    </tr>\n",
       "  </thead>\n",
       "  <tbody>\n",
       "    <tr>\n",
       "      <th>2046</th>\n",
       "      <td>POINT (1589875.930 -272955.793)</td>\n",
       "      <td>2046</td>\n",
       "      <td>676</td>\n",
       "    </tr>\n",
       "    <tr>\n",
       "      <th>2323</th>\n",
       "      <td>POINT (1470837.151 -180145.898)</td>\n",
       "      <td>2323</td>\n",
       "      <td>2323T</td>\n",
       "    </tr>\n",
       "    <tr>\n",
       "      <th>2390</th>\n",
       "      <td>POINT (1447634.677 -333483.986)</td>\n",
       "      <td>2390</td>\n",
       "      <td>1934</td>\n",
       "    </tr>\n",
       "    <tr>\n",
       "      <th>2234</th>\n",
       "      <td>POINT (1644351.304 -283043.825)</td>\n",
       "      <td>2234</td>\n",
       "      <td>1512</td>\n",
       "    </tr>\n",
       "    <tr>\n",
       "      <th>964</th>\n",
       "      <td>POINT (1593406.741 -277999.809)</td>\n",
       "      <td>964</td>\n",
       "      <td>625</td>\n",
       "    </tr>\n",
       "    <tr>\n",
       "      <th>1340</th>\n",
       "      <td>POINT (1619131.223 -318856.339)</td>\n",
       "      <td>1340</td>\n",
       "      <td>1341</td>\n",
       "    </tr>\n",
       "    <tr>\n",
       "      <th>1593</th>\n",
       "      <td>POINT (1619131.223 -272451.392)</td>\n",
       "      <td>1593</td>\n",
       "      <td>203</td>\n",
       "    </tr>\n",
       "    <tr>\n",
       "      <th>1755</th>\n",
       "      <td>POINT (1636785.279 -177119.488)</td>\n",
       "      <td>1755</td>\n",
       "      <td>1755T</td>\n",
       "    </tr>\n",
       "    <tr>\n",
       "      <th>1547</th>\n",
       "      <td>POINT (1665031.769 -297671.472)</td>\n",
       "      <td>1547</td>\n",
       "      <td>1286</td>\n",
       "    </tr>\n",
       "    <tr>\n",
       "      <th>225</th>\n",
       "      <td>POINT (1630732.460 -318856.339)</td>\n",
       "      <td>225</td>\n",
       "      <td>51</td>\n",
       "    </tr>\n",
       "  </tbody>\n",
       "</table>\n",
       "</div>"
      ],
      "text/plain": [
       "                             geometry upstream_id downstream_id\n",
       "2046  POINT (1589875.930 -272955.793)        2046           676\n",
       "2323  POINT (1470837.151 -180145.898)        2323         2323T\n",
       "2390  POINT (1447634.677 -333483.986)        2390          1934\n",
       "2234  POINT (1644351.304 -283043.825)        2234          1512\n",
       "964   POINT (1593406.741 -277999.809)         964           625\n",
       "1340  POINT (1619131.223 -318856.339)        1340          1341\n",
       "1593  POINT (1619131.223 -272451.392)        1593           203\n",
       "1755  POINT (1636785.279 -177119.488)        1755         1755T\n",
       "1547  POINT (1665031.769 -297671.472)        1547          1286\n",
       "225   POINT (1630732.460 -318856.339)         225            51"
      ]
     },
     "execution_count": 15,
     "metadata": {},
     "output_type": "execute_result"
    }
   ],
   "source": [
    "#Update null values with upstream IDs, appended with a \"T\"\n",
    "gdfNodes['downstream_id'].fillna(gdfNodes['upstream_id'] + \"T\",inplace=True)\n",
    "#Drop extraneous fields\n",
    "gdfNodes.sample(10)"
   ]
  },
  {
   "cell_type": "code",
   "execution_count": 16,
   "metadata": {},
   "outputs": [],
   "source": [
    "#Write the nodes to a file\n",
    "gdfNodes.to_file('../scratch/nodes.shp')"
   ]
  },
  {
   "cell_type": "markdown",
   "metadata": {},
   "source": [
    "#### Transfer node information to route segment features.\n",
    "The nodes geodataframe above includes points occuring at the end vertices of each pipeline segment (again, because we joined the `gdfFirstPoints` features *to* the `gdfEndPoint` features, keeping all the `gdfEndPoint` features). And each of these points is aware of the edge_IDs of the segment upstream of it and downstream of it (or if it's a terminal node). \n",
    "\n",
    "What we want in the next step is to link this information to each route segment feature such that each feature knows its node ID (taken from it's upstream_id) and the node ID immediately downstream of it. This will allow us to construct a graph from all the segments. \n",
    "\n",
    "We also need to link each segment with the amount of biogas potential it introduces into the system. "
   ]
  },
  {
   "cell_type": "markdown",
   "metadata": {},
   "source": [
    "##### Joining node attribute data to each segment feature\n",
    "The first step is done via attribute join, i.e., by merging the `downstream_id` attribute in the gdfNodes dataframe to the segment geodataframe using the `upstream_id` as the joining feature to link with the gdfSegments's `edge_ID` attribute."
   ]
  },
  {
   "cell_type": "code",
   "execution_count": 17,
   "metadata": {},
   "outputs": [
    {
     "data": {
      "text/html": [
       "<div>\n",
       "<style scoped>\n",
       "    .dataframe tbody tr th:only-of-type {\n",
       "        vertical-align: middle;\n",
       "    }\n",
       "\n",
       "    .dataframe tbody tr th {\n",
       "        vertical-align: top;\n",
       "    }\n",
       "\n",
       "    .dataframe thead th {\n",
       "        text-align: right;\n",
       "    }\n",
       "</style>\n",
       "<table border=\"1\" class=\"dataframe\">\n",
       "  <thead>\n",
       "    <tr style=\"text-align: right;\">\n",
       "      <th></th>\n",
       "      <th>route_id</th>\n",
       "      <th>geometry</th>\n",
       "      <th>edge_ID</th>\n",
       "      <th>downstream_id</th>\n",
       "    </tr>\n",
       "  </thead>\n",
       "  <tbody>\n",
       "    <tr>\n",
       "      <th>2224</th>\n",
       "      <td>1910</td>\n",
       "      <td>LINESTRING (1598450.757 -281026.219, 1598450.7...</td>\n",
       "      <td>2224</td>\n",
       "      <td>1987</td>\n",
       "    </tr>\n",
       "    <tr>\n",
       "      <th>622</th>\n",
       "      <td>1036</td>\n",
       "      <td>LINESTRING (1544984.187 -254797.335, 1545488.5...</td>\n",
       "      <td>622</td>\n",
       "      <td>622T</td>\n",
       "    </tr>\n",
       "    <tr>\n",
       "      <th>1561</th>\n",
       "      <td>1139</td>\n",
       "      <td>LINESTRING (1675119.802 -272451.392, 1674615.4...</td>\n",
       "      <td>1561</td>\n",
       "      <td>720</td>\n",
       "    </tr>\n",
       "    <tr>\n",
       "      <th>2496</th>\n",
       "      <td>86</td>\n",
       "      <td>LINESTRING (1585336.316 -341050.010, 1584831.9...</td>\n",
       "      <td>2496</td>\n",
       "      <td>1466</td>\n",
       "    </tr>\n",
       "    <tr>\n",
       "      <th>353</th>\n",
       "      <td>1891</td>\n",
       "      <td>LINESTRING (1611565.199 -330961.978, 1612069.6...</td>\n",
       "      <td>353</td>\n",
       "      <td>69</td>\n",
       "    </tr>\n",
       "    <tr>\n",
       "      <th>1243</th>\n",
       "      <td>60</td>\n",
       "      <td>LINESTRING (1592397.938 -345085.223, 1592397.9...</td>\n",
       "      <td>1243</td>\n",
       "      <td>1168</td>\n",
       "    </tr>\n",
       "    <tr>\n",
       "      <th>478</th>\n",
       "      <td>1491</td>\n",
       "      <td>LINESTRING (1681677.022 -213436.404, 1682181.4...</td>\n",
       "      <td>478</td>\n",
       "      <td>479</td>\n",
       "    </tr>\n",
       "    <tr>\n",
       "      <th>779</th>\n",
       "      <td>479</td>\n",
       "      <td>LINESTRING (1638298.484 -298680.275, 1637794.0...</td>\n",
       "      <td>779</td>\n",
       "      <td>735</td>\n",
       "    </tr>\n",
       "    <tr>\n",
       "      <th>1699</th>\n",
       "      <td>2247</td>\n",
       "      <td>LINESTRING (1618626.822 -257823.745, 1618122.4...</td>\n",
       "      <td>1699</td>\n",
       "      <td>1700</td>\n",
       "    </tr>\n",
       "    <tr>\n",
       "      <th>2392</th>\n",
       "      <td>4</td>\n",
       "      <td>LINESTRING (1435529.039 -301202.283, 1435529.0...</td>\n",
       "      <td>2392</td>\n",
       "      <td>222</td>\n",
       "    </tr>\n",
       "  </tbody>\n",
       "</table>\n",
       "</div>"
      ],
      "text/plain": [
       "     route_id                                           geometry edge_ID  \\\n",
       "2224     1910  LINESTRING (1598450.757 -281026.219, 1598450.7...    2224   \n",
       "622      1036  LINESTRING (1544984.187 -254797.335, 1545488.5...     622   \n",
       "1561     1139  LINESTRING (1675119.802 -272451.392, 1674615.4...    1561   \n",
       "2496       86  LINESTRING (1585336.316 -341050.010, 1584831.9...    2496   \n",
       "353      1891  LINESTRING (1611565.199 -330961.978, 1612069.6...     353   \n",
       "1243       60  LINESTRING (1592397.938 -345085.223, 1592397.9...    1243   \n",
       "478      1491  LINESTRING (1681677.022 -213436.404, 1682181.4...     478   \n",
       "779       479  LINESTRING (1638298.484 -298680.275, 1637794.0...     779   \n",
       "1699     2247  LINESTRING (1618626.822 -257823.745, 1618122.4...    1699   \n",
       "2392        4  LINESTRING (1435529.039 -301202.283, 1435529.0...    2392   \n",
       "\n",
       "     downstream_id  \n",
       "2224          1987  \n",
       "622           622T  \n",
       "1561           720  \n",
       "2496          1466  \n",
       "353             69  \n",
       "1243          1168  \n",
       "478            479  \n",
       "779            735  \n",
       "1699          1700  \n",
       "2392           222  "
      ]
     },
     "execution_count": 17,
     "metadata": {},
     "output_type": "execute_result"
    }
   ],
   "source": [
    "#Join the upstream and downstream IDs to the segments features\n",
    "gdfSegments_ids = gdfSegments.merge(gdfNodes[['upstream_id','downstream_id']],left_on='edge_ID', right_on='upstream_id',how='left')\n",
    "#Drop the 'upstream_ID' as it's redundant with the edge_ID\n",
    "gdfSegments_ids. drop('upstream_id',axis=1,inplace=True)\n",
    "#Show the table\n",
    "gdfSegments_ids.sample(10)"
   ]
  },
  {
   "cell_type": "markdown",
   "metadata": {},
   "source": [
    "Now each segment feature knows its node/edge ID and the node ID of the segment immediately downstream!"
   ]
  },
  {
   "cell_type": "markdown",
   "metadata": {},
   "source": [
    "##### Attaching biogas potential data back to each segment\n",
    "Next, we need to join the Biogas Potential linked with each segment. The biogas potential is stored in the `gdfStart` geodataframe constructed by taking the first point in each original biogas route. Here, the `Biogas P_1` attribute is what we want. "
   ]
  },
  {
   "cell_type": "code",
   "execution_count": 18,
   "metadata": {},
   "outputs": [
    {
     "data": {
      "text/html": [
       "<div>\n",
       "<style scoped>\n",
       "    .dataframe tbody tr th:only-of-type {\n",
       "        vertical-align: middle;\n",
       "    }\n",
       "\n",
       "    .dataframe tbody tr th {\n",
       "        vertical-align: top;\n",
       "    }\n",
       "\n",
       "    .dataframe thead th {\n",
       "        text-align: right;\n",
       "    }\n",
       "</style>\n",
       "<table border=\"1\" class=\"dataframe\">\n",
       "  <thead>\n",
       "    <tr style=\"text-align: right;\">\n",
       "      <th></th>\n",
       "      <th>index</th>\n",
       "      <th>Total Wast</th>\n",
       "      <th>Biogas Pot</th>\n",
       "      <th>Biogas P_1</th>\n",
       "      <th>geometry</th>\n",
       "    </tr>\n",
       "  </thead>\n",
       "  <tbody>\n",
       "    <tr>\n",
       "      <th>0</th>\n",
       "      <td>179</td>\n",
       "      <td>248472.480342</td>\n",
       "      <td>6.957229e+06</td>\n",
       "      <td>2.456923e+08</td>\n",
       "      <td>POINT (1582814.308 -311794.717)</td>\n",
       "    </tr>\n",
       "    <tr>\n",
       "      <th>1</th>\n",
       "      <td>2106</td>\n",
       "      <td>226652.386212</td>\n",
       "      <td>6.346267e+06</td>\n",
       "      <td>2.241163e+08</td>\n",
       "      <td>POINT (1737161.199 -158961.030)</td>\n",
       "    </tr>\n",
       "    <tr>\n",
       "      <th>2</th>\n",
       "      <td>2112</td>\n",
       "      <td>192948.551040</td>\n",
       "      <td>5.402559e+06</td>\n",
       "      <td>1.907896e+08</td>\n",
       "      <td>POINT (1623166.436 -225037.641)</td>\n",
       "    </tr>\n",
       "    <tr>\n",
       "      <th>3</th>\n",
       "      <td>345</td>\n",
       "      <td>186392.775915</td>\n",
       "      <td>5.218998e+06</td>\n",
       "      <td>1.843072e+08</td>\n",
       "      <td>POINT (1618626.822 -297167.070)</td>\n",
       "    </tr>\n",
       "    <tr>\n",
       "      <th>4</th>\n",
       "      <td>1300</td>\n",
       "      <td>158494.371443</td>\n",
       "      <td>4.437842e+06</td>\n",
       "      <td>1.567209e+08</td>\n",
       "      <td>POINT (1627706.051 -108520.870)</td>\n",
       "    </tr>\n",
       "  </tbody>\n",
       "</table>\n",
       "</div>"
      ],
      "text/plain": [
       "   index     Total Wast    Biogas Pot    Biogas P_1  \\\n",
       "0    179  248472.480342  6.957229e+06  2.456923e+08   \n",
       "1   2106  226652.386212  6.346267e+06  2.241163e+08   \n",
       "2   2112  192948.551040  5.402559e+06  1.907896e+08   \n",
       "3    345  186392.775915  5.218998e+06  1.843072e+08   \n",
       "4   1300  158494.371443  4.437842e+06  1.567209e+08   \n",
       "\n",
       "                          geometry  \n",
       "0  POINT (1582814.308 -311794.717)  \n",
       "1  POINT (1737161.199 -158961.030)  \n",
       "2  POINT (1623166.436 -225037.641)  \n",
       "3  POINT (1618626.822 -297167.070)  \n",
       "4  POINT (1627706.051 -108520.870)  "
      ]
     },
     "execution_count": 18,
     "metadata": {},
     "output_type": "execute_result"
    }
   ],
   "source": [
    "gdfStart.head()"
   ]
  },
  {
   "cell_type": "markdown",
   "metadata": {},
   "source": [
    "As this dataframe has no attribute feature that would let us join the data to our segement features, we'll need to create some sort of spatial join to link the biogas potential to our segments. \n",
    "\n",
    "To do this, we'll spatially join the `gdfStart` features (which contain biogas potential information ) to the `gdfFirstPoints` features (which contain the node/edge ID information):"
   ]
  },
  {
   "cell_type": "code",
   "execution_count": 19,
   "metadata": {},
   "outputs": [
    {
     "data": {
      "text/html": [
       "<div>\n",
       "<style scoped>\n",
       "    .dataframe tbody tr th:only-of-type {\n",
       "        vertical-align: middle;\n",
       "    }\n",
       "\n",
       "    .dataframe tbody tr th {\n",
       "        vertical-align: top;\n",
       "    }\n",
       "\n",
       "    .dataframe thead th {\n",
       "        text-align: right;\n",
       "    }\n",
       "</style>\n",
       "<table border=\"1\" class=\"dataframe\">\n",
       "  <thead>\n",
       "    <tr style=\"text-align: right;\">\n",
       "      <th></th>\n",
       "      <th>geometry</th>\n",
       "      <th>edge_ID</th>\n",
       "      <th>index_right</th>\n",
       "      <th>Total Wast</th>\n",
       "      <th>Biogas P_1</th>\n",
       "    </tr>\n",
       "  </thead>\n",
       "  <tbody>\n",
       "    <tr>\n",
       "      <th>0</th>\n",
       "      <td>POINT (1582814.308 -311794.717)</td>\n",
       "      <td>0</td>\n",
       "      <td>0</td>\n",
       "      <td>248472.480342</td>\n",
       "      <td>2.456923e+08</td>\n",
       "    </tr>\n",
       "    <tr>\n",
       "      <th>12</th>\n",
       "      <td>POINT (1737161.199 -158961.030)</td>\n",
       "      <td>12</td>\n",
       "      <td>1</td>\n",
       "      <td>226652.386212</td>\n",
       "      <td>2.241163e+08</td>\n",
       "    </tr>\n",
       "    <tr>\n",
       "      <th>13</th>\n",
       "      <td>POINT (1623166.436 -225037.641)</td>\n",
       "      <td>13</td>\n",
       "      <td>2</td>\n",
       "      <td>192948.551040</td>\n",
       "      <td>1.907896e+08</td>\n",
       "    </tr>\n",
       "    <tr>\n",
       "      <th>16</th>\n",
       "      <td>POINT (1618626.822 -297167.070)</td>\n",
       "      <td>16</td>\n",
       "      <td>3</td>\n",
       "      <td>186392.775915</td>\n",
       "      <td>1.843072e+08</td>\n",
       "    </tr>\n",
       "    <tr>\n",
       "      <th>21</th>\n",
       "      <td>POINT (1627706.051 -108520.870)</td>\n",
       "      <td>21</td>\n",
       "      <td>4</td>\n",
       "      <td>158494.371443</td>\n",
       "      <td>1.567209e+08</td>\n",
       "    </tr>\n",
       "  </tbody>\n",
       "</table>\n",
       "</div>"
      ],
      "text/plain": [
       "                           geometry edge_ID  index_right     Total Wast  \\\n",
       "0   POINT (1582814.308 -311794.717)       0            0  248472.480342   \n",
       "12  POINT (1737161.199 -158961.030)      12            1  226652.386212   \n",
       "13  POINT (1623166.436 -225037.641)      13            2  192948.551040   \n",
       "16  POINT (1618626.822 -297167.070)      16            3  186392.775915   \n",
       "21  POINT (1627706.051 -108520.870)      21            4  158494.371443   \n",
       "\n",
       "      Biogas P_1  \n",
       "0   2.456923e+08  \n",
       "12  2.241163e+08  \n",
       "13  1.907896e+08  \n",
       "16  1.843072e+08  \n",
       "21  1.567209e+08  "
      ]
     },
     "execution_count": 19,
     "metadata": {},
     "output_type": "execute_result"
    }
   ],
   "source": [
    "gdfBiogasLookup = gpd.sjoin(left_df=gdfFirstPoints[['geometry','edge_ID']],#Join only the geom and edge_ID cols\n",
    "                            right_df=gdfStart[['geometry','Total Wast','Biogas P_1']],  #Join only the geom and biogas cols\n",
    "                            how='inner')\n",
    "gdfBiogasLookup.head()"
   ]
  },
  {
   "cell_type": "markdown",
   "metadata": {},
   "source": [
    "This gives us a table that we can now merge to our segments dataframe. Not all segments will have biogas data, so we need to set null values to zero (which requires fixing the datatype)."
   ]
  },
  {
   "cell_type": "code",
   "execution_count": 20,
   "metadata": {},
   "outputs": [
    {
     "data": {
      "text/html": [
       "<div>\n",
       "<style scoped>\n",
       "    .dataframe tbody tr th:only-of-type {\n",
       "        vertical-align: middle;\n",
       "    }\n",
       "\n",
       "    .dataframe tbody tr th {\n",
       "        vertical-align: top;\n",
       "    }\n",
       "\n",
       "    .dataframe thead th {\n",
       "        text-align: right;\n",
       "    }\n",
       "</style>\n",
       "<table border=\"1\" class=\"dataframe\">\n",
       "  <thead>\n",
       "    <tr style=\"text-align: right;\">\n",
       "      <th></th>\n",
       "      <th>route_id</th>\n",
       "      <th>geometry</th>\n",
       "      <th>edge_ID</th>\n",
       "    </tr>\n",
       "  </thead>\n",
       "  <tbody>\n",
       "    <tr>\n",
       "      <th>0</th>\n",
       "      <td>179</td>\n",
       "      <td>LINESTRING (1582814.308 -311794.717, 1582814.3...</td>\n",
       "      <td>0</td>\n",
       "    </tr>\n",
       "    <tr>\n",
       "      <th>1</th>\n",
       "      <td>179</td>\n",
       "      <td>LINESTRING (1582309.906 -310281.512, 1582309.9...</td>\n",
       "      <td>1</td>\n",
       "    </tr>\n",
       "    <tr>\n",
       "      <th>2</th>\n",
       "      <td>179</td>\n",
       "      <td>LINESTRING (1582309.906 -308768.307, 1582309.9...</td>\n",
       "      <td>2</td>\n",
       "    </tr>\n",
       "    <tr>\n",
       "      <th>3</th>\n",
       "      <td>179</td>\n",
       "      <td>LINESTRING (1582309.906 -308263.906, 1582309.9...</td>\n",
       "      <td>3</td>\n",
       "    </tr>\n",
       "    <tr>\n",
       "      <th>4</th>\n",
       "      <td>179</td>\n",
       "      <td>LINESTRING (1582309.906 -307255.102, 1582814.3...</td>\n",
       "      <td>4</td>\n",
       "    </tr>\n",
       "  </tbody>\n",
       "</table>\n",
       "</div>"
      ],
      "text/plain": [
       "  route_id                                           geometry edge_ID\n",
       "0      179  LINESTRING (1582814.308 -311794.717, 1582814.3...       0\n",
       "1      179  LINESTRING (1582309.906 -310281.512, 1582309.9...       1\n",
       "2      179  LINESTRING (1582309.906 -308768.307, 1582309.9...       2\n",
       "3      179  LINESTRING (1582309.906 -308263.906, 1582309.9...       3\n",
       "4      179  LINESTRING (1582309.906 -307255.102, 1582814.3...       4"
      ]
     },
     "execution_count": 20,
     "metadata": {},
     "output_type": "execute_result"
    }
   ],
   "source": [
    "gdfSegments.head()"
   ]
  },
  {
   "cell_type": "code",
   "execution_count": 23,
   "metadata": {},
   "outputs": [
    {
     "data": {
      "text/html": [
       "<div>\n",
       "<style scoped>\n",
       "    .dataframe tbody tr th:only-of-type {\n",
       "        vertical-align: middle;\n",
       "    }\n",
       "\n",
       "    .dataframe tbody tr th {\n",
       "        vertical-align: top;\n",
       "    }\n",
       "\n",
       "    .dataframe thead th {\n",
       "        text-align: right;\n",
       "    }\n",
       "</style>\n",
       "<table border=\"1\" class=\"dataframe\">\n",
       "  <thead>\n",
       "    <tr style=\"text-align: right;\">\n",
       "      <th></th>\n",
       "      <th>route_id</th>\n",
       "      <th>geometry</th>\n",
       "      <th>edge_ID</th>\n",
       "      <th>downstream_id</th>\n",
       "      <th>Total Wast</th>\n",
       "      <th>Biogas P_1</th>\n",
       "      <th>BG_potential</th>\n",
       "    </tr>\n",
       "  </thead>\n",
       "  <tbody>\n",
       "    <tr>\n",
       "      <th>0</th>\n",
       "      <td>179</td>\n",
       "      <td>LINESTRING (1582814.308 -311794.717, 1582814.3...</td>\n",
       "      <td>0</td>\n",
       "      <td>1</td>\n",
       "      <td>248472.480342</td>\n",
       "      <td>2.456923e+08</td>\n",
       "      <td>245692262</td>\n",
       "    </tr>\n",
       "    <tr>\n",
       "      <th>1</th>\n",
       "      <td>179</td>\n",
       "      <td>LINESTRING (1582309.906 -310281.512, 1582309.9...</td>\n",
       "      <td>1</td>\n",
       "      <td>2</td>\n",
       "      <td>0.000000</td>\n",
       "      <td>NaN</td>\n",
       "      <td>0</td>\n",
       "    </tr>\n",
       "    <tr>\n",
       "      <th>2</th>\n",
       "      <td>179</td>\n",
       "      <td>LINESTRING (1582309.906 -308768.307, 1582309.9...</td>\n",
       "      <td>2</td>\n",
       "      <td>3</td>\n",
       "      <td>0.000000</td>\n",
       "      <td>NaN</td>\n",
       "      <td>0</td>\n",
       "    </tr>\n",
       "    <tr>\n",
       "      <th>3</th>\n",
       "      <td>179</td>\n",
       "      <td>LINESTRING (1582309.906 -308263.906, 1582309.9...</td>\n",
       "      <td>3</td>\n",
       "      <td>4</td>\n",
       "      <td>0.000000</td>\n",
       "      <td>NaN</td>\n",
       "      <td>0</td>\n",
       "    </tr>\n",
       "    <tr>\n",
       "      <th>4</th>\n",
       "      <td>179</td>\n",
       "      <td>LINESTRING (1582309.906 -307255.102, 1582814.3...</td>\n",
       "      <td>4</td>\n",
       "      <td>5</td>\n",
       "      <td>0.000000</td>\n",
       "      <td>NaN</td>\n",
       "      <td>0</td>\n",
       "    </tr>\n",
       "  </tbody>\n",
       "</table>\n",
       "</div>"
      ],
      "text/plain": [
       "  route_id                                           geometry edge_ID  \\\n",
       "0      179  LINESTRING (1582814.308 -311794.717, 1582814.3...       0   \n",
       "1      179  LINESTRING (1582309.906 -310281.512, 1582309.9...       1   \n",
       "2      179  LINESTRING (1582309.906 -308768.307, 1582309.9...       2   \n",
       "3      179  LINESTRING (1582309.906 -308263.906, 1582309.9...       3   \n",
       "4      179  LINESTRING (1582309.906 -307255.102, 1582814.3...       4   \n",
       "\n",
       "  downstream_id     Total Wast    Biogas P_1  BG_potential  \n",
       "0             1  248472.480342  2.456923e+08     245692262  \n",
       "1             2       0.000000           NaN             0  \n",
       "2             3       0.000000           NaN             0  \n",
       "3             4       0.000000           NaN             0  \n",
       "4             5       0.000000           NaN             0  "
      ]
     },
     "execution_count": 23,
     "metadata": {},
     "output_type": "execute_result"
    }
   ],
   "source": [
    "#Merge the biogas potential to the segment featuresm using edge_ID as the common field\n",
    "gdfSegments_biogas = gdfSegments_ids.merge(gdfBiogasLookup[['edge_ID','Total Wast','Biogas P_1']],\n",
    "                                           on='edge_ID',how='left')\n",
    "\n",
    "#Fix waste and biogas columns (set NaN to zero)\n",
    "gdfSegments_biogas['BG_potential'] = gdfSegments_biogas['Biogas P_1'].values.astype(np.int64)\n",
    "gdfSegments_biogas.loc[pd.isna(gdfSegments_biogas['Biogas P_1']),'BG_potential'] = 0\n",
    "gdfSegments_biogas.loc[pd.isna(gdfSegments_biogas['Total Wast']),'Total Wast'] = 0\n",
    "\n",
    "gdfSegments_biogas.head()"
   ]
  },
  {
   "cell_type": "code",
   "execution_count": null,
   "metadata": {},
   "outputs": [],
   "source": [
    "#Add segment attributes: Biogas site | Junction | Terminal\n",
    "gdfSegments['Node']"
   ]
  },
  {
   "cell_type": "code",
   "execution_count": 27,
   "metadata": {},
   "outputs": [],
   "source": [
    "#Write out shapefile\n",
    "gdfSegments_biogas[['edge_ID','downstream_id','route_id','Total Wast',\n",
    "                    'BG_potential','geometry']].to_file('../data/processed/BasePipeline.shp')"
   ]
  },
  {
   "cell_type": "code",
   "execution_count": 25,
   "metadata": {},
   "outputs": [],
   "source": [
    "#Write out edge list\n",
    "gdfSegments_biogas[['edge_ID','downstream_id','Total Wast','Biogas P_1']].to_csv('../data/processed/BaseEdgeList.csv',index=False)"
   ]
  },
  {
   "cell_type": "code",
   "execution_count": null,
   "metadata": {},
   "outputs": [],
   "source": []
  }
 ],
 "metadata": {
  "kernelspec": {
   "display_name": "Python 3",
   "language": "python",
   "name": "python3"
  },
  "language_info": {
   "codemirror_mode": {
    "name": "ipython",
    "version": 3
   },
   "file_extension": ".py",
   "mimetype": "text/x-python",
   "name": "python",
   "nbconvert_exporter": "python",
   "pygments_lexer": "ipython3",
   "version": "3.7.6"
  }
 },
 "nbformat": 4,
 "nbformat_minor": 4
}
