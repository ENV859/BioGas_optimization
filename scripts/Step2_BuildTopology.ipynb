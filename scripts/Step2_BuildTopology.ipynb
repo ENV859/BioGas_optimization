{
 "cells": [
  {
   "cell_type": "markdown",
   "metadata": {},
   "source": [
    "### Build topology\n",
    "This script reads in the individual least cost routes linking each biogas source to the nearest pipeline and merges them into a topologically correct network. This is done by splitting each route where two routes meet. "
   ]
  },
  {
   "cell_type": "code",
   "execution_count": 1,
   "metadata": {},
   "outputs": [],
   "source": [
    "#Import packages\n",
    "import geopandas as gpd\n",
    "import pandas as pd\n",
    "import numpy as np\n",
    "from shapely.geometry import Point, LineString\n",
    "from shapely.ops import split"
   ]
  },
  {
   "cell_type": "code",
   "execution_count": 2,
   "metadata": {},
   "outputs": [],
   "source": [
    "#Read in routes feature class as shapefile\n",
    "gdfRoutes = gpd.read_file('..\\\\data\\\\processed\\\\Routes.shp')"
   ]
  },
  {
   "cell_type": "code",
   "execution_count": 3,
   "metadata": {},
   "outputs": [],
   "source": [
    "#Columns to drop to keep things tidy\n",
    "drop_cols = ['Facility N', 'Address', 'City', 'County Nam',\n",
    "             'Zip', 'Latitude', 'Longitude', 'Regulated', \n",
    "             'Allowable', 'Total Wast']"
   ]
  },
  {
   "cell_type": "markdown",
   "metadata": {},
   "source": [
    "#### Derive geodataframes of the route start points and end points\n",
    "Start points are used to link each route's biogas potential to the final output and end points are used to split existing route features."
   ]
  },
  {
   "cell_type": "code",
   "execution_count": 4,
   "metadata": {},
   "outputs": [],
   "source": [
    "#Copy routes geodataframe and update geometry to start points\n",
    "gdfStart = gdfRoutes.copy(deep=True)\n",
    "gdfStart['geometry'] = gdfRoutes['geometry'].apply(lambda x: Point(x.coords[0]))\n",
    "gdfStart.drop(columns=drop_cols,axis=1,inplace=True)"
   ]
  },
  {
   "cell_type": "code",
   "execution_count": 5,
   "metadata": {},
   "outputs": [],
   "source": [
    "#Copy routes geodataframe and update geometry to start points\n",
    "gdfEnd = gdfRoutes.copy(deep=True)\n",
    "gdfEnd['geometry'] = gdfRoutes['geometry'].apply(lambda x: Point(x.coords[-1]))\n",
    "gdfEnd.drop(columns=drop_cols,axis=1,inplace=True)"
   ]
  },
  {
   "cell_type": "markdown",
   "metadata": {},
   "source": [
    "#### Split route features where new routes enter them\n",
    "1. Combine all endpoint point features into a single multipoint feature\n",
    "2. Split the LineString geometries with this multipoint feature, resulting in Geometry Collection features stored in the geodataframe's geometry series\n",
    "3. Iterate through each fearture in the above result, splitting its geometry collection back into individual LineString features, and adding each to a growing list.\n",
    "4. Reconstruct a new geodataframe of all the route segments from the split list, adding a new edge ID attribute"
   ]
  },
  {
   "cell_type": "code",
   "execution_count": 6,
   "metadata": {},
   "outputs": [],
   "source": [
    "#Combine endpoints into a single multipoint object\n",
    "ends = gdfEnd.geometry.unary_union"
   ]
  },
  {
   "cell_type": "code",
   "execution_count": 7,
   "metadata": {},
   "outputs": [],
   "source": [
    "#Create a geoseries of split routes (geometry collections) - takes a bit of time\n",
    "theSplits = gdfRoutes.geometry.apply(lambda x: split(x,ends))"
   ]
  },
  {
   "cell_type": "code",
   "execution_count": 8,
   "metadata": {},
   "outputs": [],
   "source": [
    "#Create lists to fill\n",
    "links = [] #List of each route's original route ID\n",
    "geom = []  #List of the LineString objects extracted from each feature's geometry collection"
   ]
  },
  {
   "cell_type": "code",
   "execution_count": 9,
   "metadata": {},
   "outputs": [],
   "source": [
    "#Iterate and add items to the list\n",
    "for index, row in gdfRoutes.iterrows():\n",
    "    #Iterate through split segments in the geometry collection\n",
    "    for line in theSplits[index].geoms:\n",
    "        #Add items to the list\n",
    "        links.append(str(row['index']))\n",
    "        geom.append(line)"
   ]
  },
  {
   "cell_type": "code",
   "execution_count": 10,
   "metadata": {},
   "outputs": [],
   "source": [
    "#Construct an output geodataframe from the route and geom lists created above\n",
    "gdfSegments = gpd.GeoDataFrame(pd.DataFrame({'route_id':links}),\n",
    "                               geometry = geom, crs = gdfRoutes.crs)\n",
    "\n",
    "#Add the index as a unique segment ID  \n",
    "gdfSegments['edge_ID'] = gdfSegments.index.astype(str)"
   ]
  },
  {
   "cell_type": "markdown",
   "metadata": {},
   "source": [
    "With the segments created, we now need assign attributes to each edge. These consist of the its upstream node ID, its downstream node ID, and the amount of biogas introduced at its upstream node. \n",
    "\n",
    "This process is a bit tricky and is done by:\n",
    "* Creating a feature class of the segment's starting vertex, linked to the segment's `edge_id`. This geodataframe is labeled `gdfDownstreamNodes` as its points are labeled with the edge that falls **downstream** of it. \n",
    "* Creating a second feature class of the segment's ending vertex, tagged with the segment's `edge_id `. This geodataframe is labeled `gdfUpstreamNodes` as its points are labeled with the edge that falls **upstream** of it. \n",
    "* The to points are spatially joined, resulting in a dataset of vertices (`gdNodes`) where each includes the label of the upstream and downstream edge_id. "
   ]
  },
  {
   "cell_type": "markdown",
   "metadata": {},
   "source": [
    "##### Create geodataframes from \"upstream\" and \"downstream\" nodes\n",
    "Here the \"downstream\" nodes are actually the first point in each segment, and the \"upstream\" nodes are the last. This seems backwards, but these are both intermediate datasets used to determine \"from-to\" pairs, done by spatially joining them. When joined, the \"from\" node carries the attribute of the upstream segment and the \"to\" node carries the downstream one..."
   ]
  },
  {
   "cell_type": "code",
   "execution_count": 42,
   "metadata": {},
   "outputs": [],
   "source": [
    "#Construct a gdf of segement start points; \n",
    "#  the 'edge_id' included is the id of the segement into which it flows, i.e. its downstream segment ID\n",
    "gdfFirstPoints = gdfSegments.copy(deep=True)\n",
    "gdfFirstPoints['geometry'] = gdfFirstPoints['geometry'].apply(lambda x: Point(x.coords[0]))\n",
    "gdfFirstPoints['downstream_id'] = gdfFirstPoints.index.astype(str)"
   ]
  },
  {
   "cell_type": "code",
   "execution_count": 43,
   "metadata": {},
   "outputs": [],
   "source": [
    "#Construct a gdf of segement start points; \n",
    "#  the 'edge_id' included is the id of the segement flowing into it, i.e. its upstream segment ID\n",
    "gdfLastPoints = gdfSegments.copy(deep=True)\n",
    "gdfLastPoints['geometry'] = gdfLastPoints['geometry'].apply(lambda x: Point(x.coords[-1]))\n",
    "gdfLastPoints['upstream_id'] = gdfLastPoints.index.astype(str)"
   ]
  },
  {
   "cell_type": "markdown",
   "metadata": {},
   "source": [
    "##### Spatially join the downstream and upstream points\n",
    "Spatially joining the two datasets results in a single point feature class with each point including the edge ids of the upstream and downstream segements, respectively."
   ]
  },
  {
   "cell_type": "code",
   "execution_count": 44,
   "metadata": {},
   "outputs": [
    {
     "data": {
      "text/html": [
       "<div>\n",
       "<style scoped>\n",
       "    .dataframe tbody tr th:only-of-type {\n",
       "        vertical-align: middle;\n",
       "    }\n",
       "\n",
       "    .dataframe tbody tr th {\n",
       "        vertical-align: top;\n",
       "    }\n",
       "\n",
       "    .dataframe thead th {\n",
       "        text-align: right;\n",
       "    }\n",
       "</style>\n",
       "<table border=\"1\" class=\"dataframe\">\n",
       "  <thead>\n",
       "    <tr style=\"text-align: right;\">\n",
       "      <th></th>\n",
       "      <th>geometry</th>\n",
       "      <th>upstream_id</th>\n",
       "      <th>downstream_id</th>\n",
       "    </tr>\n",
       "  </thead>\n",
       "  <tbody>\n",
       "    <tr>\n",
       "      <th>0</th>\n",
       "      <td>POINT (1582309.906 -310281.512)</td>\n",
       "      <td>0</td>\n",
       "      <td>1</td>\n",
       "    </tr>\n",
       "  </tbody>\n",
       "</table>\n",
       "</div>"
      ],
      "text/plain": [
       "                          geometry upstream_id downstream_id\n",
       "0  POINT (1582309.906 -310281.512)           0             1"
      ]
     },
     "execution_count": 44,
     "metadata": {},
     "output_type": "execute_result"
    }
   ],
   "source": [
    "#Spatially join the above geodataframes and remove indices\n",
    "gdfNodes = gpd.sjoin(left_df=gdfLastPoints, right_df=gdfFirstPoints, how='left')\n",
    "gdfNodes.drop(columns=['route_id_left','edge_ID_left','index_right','route_id_right','edge_ID_right'],\n",
    "              axis=1,inplace=True)\n",
    "gdfNodes.head(1)"
   ]
  },
  {
   "cell_type": "code",
   "execution_count": 45,
   "metadata": {},
   "outputs": [
    {
     "name": "stdout",
     "output_type": "stream",
     "text": [
      "<class 'geopandas.geodataframe.GeoDataFrame'>\n",
      "Int64Index: 2570 entries, 0 to 2569\n",
      "Data columns (total 3 columns):\n",
      " #   Column         Non-Null Count  Dtype   \n",
      "---  ------         --------------  -----   \n",
      " 0   geometry       2570 non-null   geometry\n",
      " 1   upstream_id    2570 non-null   object  \n",
      " 2   downstream_id  2161 non-null   object  \n",
      "dtypes: geometry(1), object(2)\n",
      "memory usage: 80.3+ KB\n"
     ]
    }
   ],
   "source": [
    "#Show info on the resulting dataset\n",
    "gdfNodes.info()"
   ]
  },
  {
   "cell_type": "markdown",
   "metadata": {},
   "source": [
    "The above reveals a number of records missing `downstream_id` values. These are the terminal segments, i.e. the ones connecting routes to existing NG pipeline infrastructure. \n",
    "> This is because we joined the \"first\" points of each segement to the \"last\" ones (left join above), leaving a number of downstream labeled as NaN (those segment end points that didn't intersect another segment's start point); these are the terminal nodes in each route grouping (i.e. where the pipes connect to the existing pipeline network). \n",
    "\n",
    "We relabel these terminal nodes with the upstream segment ID followed by a \"T\". "
   ]
  },
  {
   "cell_type": "code",
   "execution_count": 51,
   "metadata": {},
   "outputs": [
    {
     "data": {
      "text/html": [
       "<div>\n",
       "<style scoped>\n",
       "    .dataframe tbody tr th:only-of-type {\n",
       "        vertical-align: middle;\n",
       "    }\n",
       "\n",
       "    .dataframe tbody tr th {\n",
       "        vertical-align: top;\n",
       "    }\n",
       "\n",
       "    .dataframe thead th {\n",
       "        text-align: right;\n",
       "    }\n",
       "</style>\n",
       "<table border=\"1\" class=\"dataframe\">\n",
       "  <thead>\n",
       "    <tr style=\"text-align: right;\">\n",
       "      <th></th>\n",
       "      <th>geometry</th>\n",
       "      <th>upstream_id</th>\n",
       "      <th>downstream_id</th>\n",
       "    </tr>\n",
       "  </thead>\n",
       "  <tbody>\n",
       "    <tr>\n",
       "      <th>1389</th>\n",
       "      <td>POINT (1640316.091 -227055.247)</td>\n",
       "      <td>1389</td>\n",
       "      <td>1389T</td>\n",
       "    </tr>\n",
       "    <tr>\n",
       "      <th>712</th>\n",
       "      <td>POINT (1611565.199 -249753.319)</td>\n",
       "      <td>712</td>\n",
       "      <td>659</td>\n",
       "    </tr>\n",
       "    <tr>\n",
       "      <th>191</th>\n",
       "      <td>POINT (1568186.661 -328944.372)</td>\n",
       "      <td>191</td>\n",
       "      <td>191T</td>\n",
       "    </tr>\n",
       "    <tr>\n",
       "      <th>2135</th>\n",
       "      <td>POINT (1657970.147 -219993.625)</td>\n",
       "      <td>2135</td>\n",
       "      <td>1132</td>\n",
       "    </tr>\n",
       "    <tr>\n",
       "      <th>952</th>\n",
       "      <td>POINT (1584831.914 -275982.203)</td>\n",
       "      <td>952</td>\n",
       "      <td>930</td>\n",
       "    </tr>\n",
       "    <tr>\n",
       "      <th>523</th>\n",
       "      <td>POINT (1634767.673 -298175.874)</td>\n",
       "      <td>523</td>\n",
       "      <td>524</td>\n",
       "    </tr>\n",
       "    <tr>\n",
       "      <th>323</th>\n",
       "      <td>POINT (1484960.396 -228568.452)</td>\n",
       "      <td>323</td>\n",
       "      <td>324</td>\n",
       "    </tr>\n",
       "    <tr>\n",
       "      <th>832</th>\n",
       "      <td>POINT (1606521.183 -322387.151)</td>\n",
       "      <td>832</td>\n",
       "      <td>103</td>\n",
       "    </tr>\n",
       "    <tr>\n",
       "      <th>294</th>\n",
       "      <td>POINT (1592397.938 -273460.195)</td>\n",
       "      <td>294</td>\n",
       "      <td>295</td>\n",
       "    </tr>\n",
       "    <tr>\n",
       "      <th>2532</th>\n",
       "      <td>POINT (1621653.231 -288087.841)</td>\n",
       "      <td>2532</td>\n",
       "      <td>19</td>\n",
       "    </tr>\n",
       "  </tbody>\n",
       "</table>\n",
       "</div>"
      ],
      "text/plain": [
       "                             geometry upstream_id downstream_id\n",
       "1389  POINT (1640316.091 -227055.247)        1389         1389T\n",
       "712   POINT (1611565.199 -249753.319)         712           659\n",
       "191   POINT (1568186.661 -328944.372)         191          191T\n",
       "2135  POINT (1657970.147 -219993.625)        2135          1132\n",
       "952   POINT (1584831.914 -275982.203)         952           930\n",
       "523   POINT (1634767.673 -298175.874)         523           524\n",
       "323   POINT (1484960.396 -228568.452)         323           324\n",
       "832   POINT (1606521.183 -322387.151)         832           103\n",
       "294   POINT (1592397.938 -273460.195)         294           295\n",
       "2532  POINT (1621653.231 -288087.841)        2532            19"
      ]
     },
     "execution_count": 51,
     "metadata": {},
     "output_type": "execute_result"
    }
   ],
   "source": [
    "#Update null values with upstream IDs, appended with a \"T\"\n",
    "gdfNodes['downstream_id'].fillna(gdfNodes['upstream_id'] + \"T\",inplace=True)\n",
    "#Drop extraneous fields\n",
    "gdfNodes.sample(10)"
   ]
  },
  {
   "cell_type": "code",
   "execution_count": 59,
   "metadata": {},
   "outputs": [],
   "source": [
    "#Write the nodes to a file\n",
    "gdfNodes.to_file('../scratch/nodes.shp')"
   ]
  },
  {
   "cell_type": "markdown",
   "metadata": {},
   "source": [
    "#### Transfer node information to route segment features.\n",
    "The nodes geodataframe above includes points occuring at the end vertices of each pipeline segment (again, because we joined the `gdfFirstPoints` features *to* the `gdfEndPoint` features, keeping all the `gdfEndPoint` features). And each of these points is aware of the edge_IDs of the segment upstream of it and downstream of it (or if it's a terminal node). \n",
    "\n",
    "What we want in the next step is to link this information to each route segment feature such that each feature knows its node ID (taken from it's upstream_id) and the node ID immediately downstream of it. This will allow us to construct a graph from all the segments. \n",
    "\n",
    "We also need to link each segment with the amount of biogas potential it introduces into the system. "
   ]
  },
  {
   "cell_type": "markdown",
   "metadata": {},
   "source": [
    "##### Joining node attribute data to each segment feature\n",
    "The first step is done via attribute join, i.e., by merging the `downstream_id` attribute in the gdfNodes dataframe to the segment geodataframe using the `upstream_id` as the joining feature to link with the gdfSegments's `edge_ID` attribute."
   ]
  },
  {
   "cell_type": "code",
   "execution_count": 83,
   "metadata": {},
   "outputs": [
    {
     "data": {
      "text/html": [
       "<div>\n",
       "<style scoped>\n",
       "    .dataframe tbody tr th:only-of-type {\n",
       "        vertical-align: middle;\n",
       "    }\n",
       "\n",
       "    .dataframe tbody tr th {\n",
       "        vertical-align: top;\n",
       "    }\n",
       "\n",
       "    .dataframe thead th {\n",
       "        text-align: right;\n",
       "    }\n",
       "</style>\n",
       "<table border=\"1\" class=\"dataframe\">\n",
       "  <thead>\n",
       "    <tr style=\"text-align: right;\">\n",
       "      <th></th>\n",
       "      <th>route_id</th>\n",
       "      <th>geometry</th>\n",
       "      <th>edge_ID</th>\n",
       "      <th>downstream_id</th>\n",
       "    </tr>\n",
       "  </thead>\n",
       "  <tbody>\n",
       "    <tr>\n",
       "      <th>2419</th>\n",
       "      <td>454</td>\n",
       "      <td>LINESTRING (1638298.484 -290105.448, 1638298.4...</td>\n",
       "      <td>2419</td>\n",
       "      <td>2419T</td>\n",
       "    </tr>\n",
       "    <tr>\n",
       "      <th>1949</th>\n",
       "      <td>711</td>\n",
       "      <td>LINESTRING (1630228.059 -290105.448, 1630732.4...</td>\n",
       "      <td>1949</td>\n",
       "      <td>1304</td>\n",
       "    </tr>\n",
       "    <tr>\n",
       "      <th>2420</th>\n",
       "      <td>232</td>\n",
       "      <td>LINESTRING (1582309.906 -355677.657, 1582309.9...</td>\n",
       "      <td>2420</td>\n",
       "      <td>2314</td>\n",
       "    </tr>\n",
       "    <tr>\n",
       "      <th>1365</th>\n",
       "      <td>1668</td>\n",
       "      <td>LINESTRING (1602990.372 -280521.817, 1602990.3...</td>\n",
       "      <td>1365</td>\n",
       "      <td>1019</td>\n",
       "    </tr>\n",
       "    <tr>\n",
       "      <th>2522</th>\n",
       "      <td>754</td>\n",
       "      <td>LINESTRING (1625184.043 -282539.424, 1625184.0...</td>\n",
       "      <td>2522</td>\n",
       "      <td>2522T</td>\n",
       "    </tr>\n",
       "    <tr>\n",
       "      <th>1300</th>\n",
       "      <td>2138</td>\n",
       "      <td>LINESTRING (1615600.412 -257319.343, 1615096.0...</td>\n",
       "      <td>1300</td>\n",
       "      <td>1197</td>\n",
       "    </tr>\n",
       "    <tr>\n",
       "      <th>436</th>\n",
       "      <td>358</td>\n",
       "      <td>LINESTRING (1640316.091 -283043.825, 1639811.6...</td>\n",
       "      <td>436</td>\n",
       "      <td>437</td>\n",
       "    </tr>\n",
       "    <tr>\n",
       "      <th>2118</th>\n",
       "      <td>652</td>\n",
       "      <td>LINESTRING (1646873.312 -265894.171, 1647377.7...</td>\n",
       "      <td>2118</td>\n",
       "      <td>1087</td>\n",
       "    </tr>\n",
       "    <tr>\n",
       "      <th>492</th>\n",
       "      <td>789</td>\n",
       "      <td>LINESTRING (1622662.034 -305741.898, 1623166.4...</td>\n",
       "      <td>492</td>\n",
       "      <td>482</td>\n",
       "    </tr>\n",
       "    <tr>\n",
       "      <th>996</th>\n",
       "      <td>1558</td>\n",
       "      <td>LINESTRING (1543975.384 -370809.705, 1544479.7...</td>\n",
       "      <td>996</td>\n",
       "      <td>287</td>\n",
       "    </tr>\n",
       "  </tbody>\n",
       "</table>\n",
       "</div>"
      ],
      "text/plain": [
       "     route_id                                           geometry edge_ID  \\\n",
       "2419      454  LINESTRING (1638298.484 -290105.448, 1638298.4...    2419   \n",
       "1949      711  LINESTRING (1630228.059 -290105.448, 1630732.4...    1949   \n",
       "2420      232  LINESTRING (1582309.906 -355677.657, 1582309.9...    2420   \n",
       "1365     1668  LINESTRING (1602990.372 -280521.817, 1602990.3...    1365   \n",
       "2522      754  LINESTRING (1625184.043 -282539.424, 1625184.0...    2522   \n",
       "1300     2138  LINESTRING (1615600.412 -257319.343, 1615096.0...    1300   \n",
       "436       358  LINESTRING (1640316.091 -283043.825, 1639811.6...     436   \n",
       "2118      652  LINESTRING (1646873.312 -265894.171, 1647377.7...    2118   \n",
       "492       789  LINESTRING (1622662.034 -305741.898, 1623166.4...     492   \n",
       "996      1558  LINESTRING (1543975.384 -370809.705, 1544479.7...     996   \n",
       "\n",
       "     downstream_id  \n",
       "2419         2419T  \n",
       "1949          1304  \n",
       "2420          2314  \n",
       "1365          1019  \n",
       "2522         2522T  \n",
       "1300          1197  \n",
       "436            437  \n",
       "2118          1087  \n",
       "492            482  \n",
       "996            287  "
      ]
     },
     "execution_count": 83,
     "metadata": {},
     "output_type": "execute_result"
    }
   ],
   "source": [
    "#Join the upstream and downstream IDs to the segments features\n",
    "gdfSegments_ids = gdfSegments.merge(gdfNodes[['upstream_id','downstream_id']],left_on='edge_ID', right_on='upstream_id',how='left')\n",
    "#Drop the 'upstream_ID' as it's redundant with the edge_ID\n",
    "gdfSegments_ids. drop('upstream_id',axis=1,inplace=True)\n",
    "#Show the table\n",
    "gdfSegments_ids.sample(10)"
   ]
  },
  {
   "cell_type": "markdown",
   "metadata": {},
   "source": [
    "Now each segment feature knows its node/edge ID and the node ID of the segment immediately downstream!"
   ]
  },
  {
   "cell_type": "markdown",
   "metadata": {},
   "source": [
    "##### Attaching biogas potential data back to each segment\n",
    "Next, we need to join the Biogas Potential linked with each segment. The biogas potential is stored in the `gdfStart` geodataframe constructed by taking the first point in each original biogas route. Here, the `Biogas P_1` attribute is what we want. "
   ]
  },
  {
   "cell_type": "code",
   "execution_count": 60,
   "metadata": {},
   "outputs": [
    {
     "data": {
      "text/html": [
       "<div>\n",
       "<style scoped>\n",
       "    .dataframe tbody tr th:only-of-type {\n",
       "        vertical-align: middle;\n",
       "    }\n",
       "\n",
       "    .dataframe tbody tr th {\n",
       "        vertical-align: top;\n",
       "    }\n",
       "\n",
       "    .dataframe thead th {\n",
       "        text-align: right;\n",
       "    }\n",
       "</style>\n",
       "<table border=\"1\" class=\"dataframe\">\n",
       "  <thead>\n",
       "    <tr style=\"text-align: right;\">\n",
       "      <th></th>\n",
       "      <th>index</th>\n",
       "      <th>Biogas Pot</th>\n",
       "      <th>Biogas P_1</th>\n",
       "      <th>geometry</th>\n",
       "    </tr>\n",
       "  </thead>\n",
       "  <tbody>\n",
       "    <tr>\n",
       "      <th>0</th>\n",
       "      <td>179</td>\n",
       "      <td>6.957229e+06</td>\n",
       "      <td>2.456923e+08</td>\n",
       "      <td>POINT (1582814.308 -311794.717)</td>\n",
       "    </tr>\n",
       "    <tr>\n",
       "      <th>1</th>\n",
       "      <td>2106</td>\n",
       "      <td>6.346267e+06</td>\n",
       "      <td>2.241163e+08</td>\n",
       "      <td>POINT (1737161.199 -158961.030)</td>\n",
       "    </tr>\n",
       "    <tr>\n",
       "      <th>2</th>\n",
       "      <td>2112</td>\n",
       "      <td>5.402559e+06</td>\n",
       "      <td>1.907896e+08</td>\n",
       "      <td>POINT (1623166.436 -225037.641)</td>\n",
       "    </tr>\n",
       "    <tr>\n",
       "      <th>3</th>\n",
       "      <td>345</td>\n",
       "      <td>5.218998e+06</td>\n",
       "      <td>1.843072e+08</td>\n",
       "      <td>POINT (1618626.822 -297167.070)</td>\n",
       "    </tr>\n",
       "    <tr>\n",
       "      <th>4</th>\n",
       "      <td>1300</td>\n",
       "      <td>4.437842e+06</td>\n",
       "      <td>1.567209e+08</td>\n",
       "      <td>POINT (1627706.051 -108520.870)</td>\n",
       "    </tr>\n",
       "  </tbody>\n",
       "</table>\n",
       "</div>"
      ],
      "text/plain": [
       "   index    Biogas Pot    Biogas P_1                         geometry\n",
       "0    179  6.957229e+06  2.456923e+08  POINT (1582814.308 -311794.717)\n",
       "1   2106  6.346267e+06  2.241163e+08  POINT (1737161.199 -158961.030)\n",
       "2   2112  5.402559e+06  1.907896e+08  POINT (1623166.436 -225037.641)\n",
       "3    345  5.218998e+06  1.843072e+08  POINT (1618626.822 -297167.070)\n",
       "4   1300  4.437842e+06  1.567209e+08  POINT (1627706.051 -108520.870)"
      ]
     },
     "execution_count": 60,
     "metadata": {},
     "output_type": "execute_result"
    }
   ],
   "source": [
    "gdfStart.head()"
   ]
  },
  {
   "cell_type": "markdown",
   "metadata": {},
   "source": [
    "As this dataframe has no attribute feature that would let us join the data to our segement features, we'll need to create some sort of spatial join to link the biogas potential to our segments. \n",
    "\n",
    "To do this, we'll spatially join the `gdfStart` features (which contain biogas potential information ) to the `gdfFirstPoints` features (which contain the node/edge ID information):"
   ]
  },
  {
   "cell_type": "code",
   "execution_count": 72,
   "metadata": {},
   "outputs": [
    {
     "data": {
      "text/html": [
       "<div>\n",
       "<style scoped>\n",
       "    .dataframe tbody tr th:only-of-type {\n",
       "        vertical-align: middle;\n",
       "    }\n",
       "\n",
       "    .dataframe tbody tr th {\n",
       "        vertical-align: top;\n",
       "    }\n",
       "\n",
       "    .dataframe thead th {\n",
       "        text-align: right;\n",
       "    }\n",
       "</style>\n",
       "<table border=\"1\" class=\"dataframe\">\n",
       "  <thead>\n",
       "    <tr style=\"text-align: right;\">\n",
       "      <th></th>\n",
       "      <th>geometry</th>\n",
       "      <th>edge_ID</th>\n",
       "      <th>index_right</th>\n",
       "      <th>Biogas P_1</th>\n",
       "    </tr>\n",
       "  </thead>\n",
       "  <tbody>\n",
       "    <tr>\n",
       "      <th>0</th>\n",
       "      <td>POINT (1582814.308 -311794.717)</td>\n",
       "      <td>0</td>\n",
       "      <td>0</td>\n",
       "      <td>2.456923e+08</td>\n",
       "    </tr>\n",
       "    <tr>\n",
       "      <th>12</th>\n",
       "      <td>POINT (1737161.199 -158961.030)</td>\n",
       "      <td>12</td>\n",
       "      <td>1</td>\n",
       "      <td>2.241163e+08</td>\n",
       "    </tr>\n",
       "    <tr>\n",
       "      <th>13</th>\n",
       "      <td>POINT (1623166.436 -225037.641)</td>\n",
       "      <td>13</td>\n",
       "      <td>2</td>\n",
       "      <td>1.907896e+08</td>\n",
       "    </tr>\n",
       "    <tr>\n",
       "      <th>16</th>\n",
       "      <td>POINT (1618626.822 -297167.070)</td>\n",
       "      <td>16</td>\n",
       "      <td>3</td>\n",
       "      <td>1.843072e+08</td>\n",
       "    </tr>\n",
       "    <tr>\n",
       "      <th>21</th>\n",
       "      <td>POINT (1627706.051 -108520.870)</td>\n",
       "      <td>21</td>\n",
       "      <td>4</td>\n",
       "      <td>1.567209e+08</td>\n",
       "    </tr>\n",
       "  </tbody>\n",
       "</table>\n",
       "</div>"
      ],
      "text/plain": [
       "                           geometry edge_ID  index_right    Biogas P_1\n",
       "0   POINT (1582814.308 -311794.717)       0            0  2.456923e+08\n",
       "12  POINT (1737161.199 -158961.030)      12            1  2.241163e+08\n",
       "13  POINT (1623166.436 -225037.641)      13            2  1.907896e+08\n",
       "16  POINT (1618626.822 -297167.070)      16            3  1.843072e+08\n",
       "21  POINT (1627706.051 -108520.870)      21            4  1.567209e+08"
      ]
     },
     "execution_count": 72,
     "metadata": {},
     "output_type": "execute_result"
    }
   ],
   "source": [
    "gdfBiogasLookup = gpd.sjoin(left_df=gdfFirstPoints[['geometry','edge_ID']],#Join only the geom and edge_ID cols\n",
    "                            right_df=gdfStart[['geometry','Biogas P_1']],  #Join only the geom and biogas cols\n",
    "                            how='inner')\n",
    "gdfBiogasLookup.head()"
   ]
  },
  {
   "cell_type": "markdown",
   "metadata": {},
   "source": [
    "This gives us a table that we can now merge to our segments dataframe. Not all segments will have biogas data, so we need to set null values to zero (which requires fixing the datatype)."
   ]
  },
  {
   "cell_type": "code",
   "execution_count": 82,
   "metadata": {},
   "outputs": [
    {
     "data": {
      "text/html": [
       "<div>\n",
       "<style scoped>\n",
       "    .dataframe tbody tr th:only-of-type {\n",
       "        vertical-align: middle;\n",
       "    }\n",
       "\n",
       "    .dataframe tbody tr th {\n",
       "        vertical-align: top;\n",
       "    }\n",
       "\n",
       "    .dataframe thead th {\n",
       "        text-align: right;\n",
       "    }\n",
       "</style>\n",
       "<table border=\"1\" class=\"dataframe\">\n",
       "  <thead>\n",
       "    <tr style=\"text-align: right;\">\n",
       "      <th></th>\n",
       "      <th>route_id</th>\n",
       "      <th>geometry</th>\n",
       "      <th>edge_ID</th>\n",
       "    </tr>\n",
       "  </thead>\n",
       "  <tbody>\n",
       "    <tr>\n",
       "      <th>0</th>\n",
       "      <td>179</td>\n",
       "      <td>LINESTRING (1582814.308 -311794.717, 1582814.3...</td>\n",
       "      <td>0</td>\n",
       "    </tr>\n",
       "    <tr>\n",
       "      <th>1</th>\n",
       "      <td>179</td>\n",
       "      <td>LINESTRING (1582309.906 -310281.512, 1582309.9...</td>\n",
       "      <td>1</td>\n",
       "    </tr>\n",
       "    <tr>\n",
       "      <th>2</th>\n",
       "      <td>179</td>\n",
       "      <td>LINESTRING (1582309.906 -308768.307, 1582309.9...</td>\n",
       "      <td>2</td>\n",
       "    </tr>\n",
       "    <tr>\n",
       "      <th>3</th>\n",
       "      <td>179</td>\n",
       "      <td>LINESTRING (1582309.906 -308263.906, 1582309.9...</td>\n",
       "      <td>3</td>\n",
       "    </tr>\n",
       "    <tr>\n",
       "      <th>4</th>\n",
       "      <td>179</td>\n",
       "      <td>LINESTRING (1582309.906 -307255.102, 1582814.3...</td>\n",
       "      <td>4</td>\n",
       "    </tr>\n",
       "  </tbody>\n",
       "</table>\n",
       "</div>"
      ],
      "text/plain": [
       "  route_id                                           geometry edge_ID\n",
       "0      179  LINESTRING (1582814.308 -311794.717, 1582814.3...       0\n",
       "1      179  LINESTRING (1582309.906 -310281.512, 1582309.9...       1\n",
       "2      179  LINESTRING (1582309.906 -308768.307, 1582309.9...       2\n",
       "3      179  LINESTRING (1582309.906 -308263.906, 1582309.9...       3\n",
       "4      179  LINESTRING (1582309.906 -307255.102, 1582814.3...       4"
      ]
     },
     "execution_count": 82,
     "metadata": {},
     "output_type": "execute_result"
    }
   ],
   "source": [
    "gdfSegments.head()"
   ]
  },
  {
   "cell_type": "code",
   "execution_count": 84,
   "metadata": {},
   "outputs": [
    {
     "data": {
      "text/html": [
       "<div>\n",
       "<style scoped>\n",
       "    .dataframe tbody tr th:only-of-type {\n",
       "        vertical-align: middle;\n",
       "    }\n",
       "\n",
       "    .dataframe tbody tr th {\n",
       "        vertical-align: top;\n",
       "    }\n",
       "\n",
       "    .dataframe thead th {\n",
       "        text-align: right;\n",
       "    }\n",
       "</style>\n",
       "<table border=\"1\" class=\"dataframe\">\n",
       "  <thead>\n",
       "    <tr style=\"text-align: right;\">\n",
       "      <th></th>\n",
       "      <th>route_id</th>\n",
       "      <th>geometry</th>\n",
       "      <th>edge_ID</th>\n",
       "      <th>downstream_id</th>\n",
       "      <th>Biogas P_1</th>\n",
       "      <th>BG_potential</th>\n",
       "    </tr>\n",
       "  </thead>\n",
       "  <tbody>\n",
       "    <tr>\n",
       "      <th>0</th>\n",
       "      <td>179</td>\n",
       "      <td>LINESTRING (1582814.308 -311794.717, 1582814.3...</td>\n",
       "      <td>0</td>\n",
       "      <td>1</td>\n",
       "      <td>2.456923e+08</td>\n",
       "      <td>245692262</td>\n",
       "    </tr>\n",
       "    <tr>\n",
       "      <th>1</th>\n",
       "      <td>179</td>\n",
       "      <td>LINESTRING (1582309.906 -310281.512, 1582309.9...</td>\n",
       "      <td>1</td>\n",
       "      <td>2</td>\n",
       "      <td>NaN</td>\n",
       "      <td>0</td>\n",
       "    </tr>\n",
       "    <tr>\n",
       "      <th>2</th>\n",
       "      <td>179</td>\n",
       "      <td>LINESTRING (1582309.906 -308768.307, 1582309.9...</td>\n",
       "      <td>2</td>\n",
       "      <td>3</td>\n",
       "      <td>NaN</td>\n",
       "      <td>0</td>\n",
       "    </tr>\n",
       "    <tr>\n",
       "      <th>3</th>\n",
       "      <td>179</td>\n",
       "      <td>LINESTRING (1582309.906 -308263.906, 1582309.9...</td>\n",
       "      <td>3</td>\n",
       "      <td>4</td>\n",
       "      <td>NaN</td>\n",
       "      <td>0</td>\n",
       "    </tr>\n",
       "    <tr>\n",
       "      <th>4</th>\n",
       "      <td>179</td>\n",
       "      <td>LINESTRING (1582309.906 -307255.102, 1582814.3...</td>\n",
       "      <td>4</td>\n",
       "      <td>5</td>\n",
       "      <td>NaN</td>\n",
       "      <td>0</td>\n",
       "    </tr>\n",
       "  </tbody>\n",
       "</table>\n",
       "</div>"
      ],
      "text/plain": [
       "  route_id                                           geometry edge_ID  \\\n",
       "0      179  LINESTRING (1582814.308 -311794.717, 1582814.3...       0   \n",
       "1      179  LINESTRING (1582309.906 -310281.512, 1582309.9...       1   \n",
       "2      179  LINESTRING (1582309.906 -308768.307, 1582309.9...       2   \n",
       "3      179  LINESTRING (1582309.906 -308263.906, 1582309.9...       3   \n",
       "4      179  LINESTRING (1582309.906 -307255.102, 1582814.3...       4   \n",
       "\n",
       "  downstream_id    Biogas P_1  BG_potential  \n",
       "0             1  2.456923e+08     245692262  \n",
       "1             2           NaN             0  \n",
       "2             3           NaN             0  \n",
       "3             4           NaN             0  \n",
       "4             5           NaN             0  "
      ]
     },
     "execution_count": 84,
     "metadata": {},
     "output_type": "execute_result"
    }
   ],
   "source": [
    "#Merge the biogas potential to the segment featuresm using edge_ID as the common field\n",
    "gdfSegments_biogas = gdfSegments_ids.merge(gdfBiogasLookup[['edge_ID','Biogas P_1']],\n",
    "                                           on='edge_ID',how='left')\n",
    "\n",
    "#Fix biogas column\n",
    "gdfSegments_biogas['BG_potential'] = gdfSegments_biogas['Biogas P_1'].values.astype(np.int64)\n",
    "gdfSegments_biogas.loc[pd.isna(gdfSegments_biogas['Biogas P_1']),'BG_potential'] = 0\n",
    "\n",
    "gdfSegments_biogas.head()"
   ]
  },
  {
   "cell_type": "code",
   "execution_count": 88,
   "metadata": {},
   "outputs": [],
   "source": [
    "#Write out shapefile\n",
    "gdfSegments_biogas[['edge_ID','downstream_id','route_id',\n",
    "                    'BG_potential','geometry']].to_file('../data/processed/BasePipeline.shp')"
   ]
  },
  {
   "cell_type": "code",
   "execution_count": 89,
   "metadata": {},
   "outputs": [],
   "source": [
    "#Write out edge list\n",
    "gdfSegments_biogas[['edge_ID','downstream_id','Biogas P_1']].to_csv('../data/processed/BaseEdgeList.csv',index=False)"
   ]
  },
  {
   "cell_type": "code",
   "execution_count": null,
   "metadata": {},
   "outputs": [],
   "source": []
  }
 ],
 "metadata": {
  "kernelspec": {
   "display_name": "Python 3",
   "language": "python",
   "name": "python3"
  },
  "language_info": {
   "codemirror_mode": {
    "name": "ipython",
    "version": 3
   },
   "file_extension": ".py",
   "mimetype": "text/x-python",
   "name": "python",
   "nbconvert_exporter": "python",
   "pygments_lexer": "ipython3",
   "version": "3.7.6"
  }
 },
 "nbformat": 4,
 "nbformat_minor": 4
}
