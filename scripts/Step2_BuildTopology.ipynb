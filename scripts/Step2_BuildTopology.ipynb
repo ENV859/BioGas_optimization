{
 "cells": [
  {
   "cell_type": "markdown",
   "metadata": {},
   "source": [
    "# Build topology\n",
    "This script reads in the individual least cost routes linking each biogas source to the nearest pipeline and merges them into a topologically correct network. This is done by splitting each route where two routes meet. "
   ]
  },
  {
   "cell_type": "code",
   "execution_count": null,
   "metadata": {},
   "outputs": [],
   "source": [
    "#Import packages\n",
    "import geopandas as gpd\n",
    "import pandas as pd\n",
    "import numpy as np\n",
    "from shapely.geometry import Point, LineString\n",
    "from shapely.ops import split"
   ]
  },
  {
   "cell_type": "markdown",
   "metadata": {},
   "source": [
    "### Read in the routes feature class & tidy the data\n",
    "The routes feature class includes the least cost path between each biogas source and its connection to the pipeline framework. Here we read it in and tidy it up for analysis. "
   ]
  },
  {
   "cell_type": "code",
   "execution_count": null,
   "metadata": {},
   "outputs": [],
   "source": [
    "#Read in routes feature class as shapefile\n",
    "gdfRoutes = gpd.read_file('..\\\\data\\\\processed\\\\Routes.shp')\n",
    "\n",
    "#Tidy the data: drop columns\n",
    "drop_cols = ['Facility N', 'Address', 'City', 'County Nam',\n",
    "             'Zip', 'Latitude', 'Longitude', 'Regulated',\n",
    "             'Biogas Pot','Allowable']\n",
    "gdfRoutes.drop(columns=drop_cols,axis=1,inplace=True)\n",
    "\n",
    "#Rename other columns\n",
    "gdfRoutes.rename({'index':'SiteNo',\n",
    "                  'Biogas P_1':'Biogas',\n",
    "                  'Total Wast':'Waste'},\n",
    "                 axis=1,inplace=True)\n",
    "#Set the SiteNo column to str datatype\n",
    "gdfRoutes['SiteNo'] = gdfRoutes['SiteNo'].astype(str)\n",
    "#Examine the result\n",
    "gdfRoutes.head()"
   ]
  },
  {
   "cell_type": "markdown",
   "metadata": {},
   "source": [
    "### Derive geodataframes of the route start points and end points\n",
    "Start points are used to link each route's biogas potential to the final output and end points are used to split existing route features."
   ]
  },
  {
   "cell_type": "code",
   "execution_count": null,
   "metadata": {},
   "outputs": [],
   "source": [
    "#Copy routes geodataframe and update geometry to start points\n",
    "gdfStart = gdfRoutes.copy(deep=True)\n",
    "gdfStart['geometry'] = gdfRoutes['geometry'].apply(lambda x: Point(x.coords[0]))\n",
    "gdfStart.head()"
   ]
  },
  {
   "cell_type": "code",
   "execution_count": null,
   "metadata": {},
   "outputs": [],
   "source": [
    "#Copy routes geodataframe and update geometry to start points\n",
    "gdfEnd = gdfRoutes.copy(deep=True)\n",
    "gdfEnd['geometry'] = gdfRoutes['geometry'].apply(lambda x: Point(x.coords[-1]))\n",
    "gdfEnd.head()"
   ]
  },
  {
   "cell_type": "markdown",
   "metadata": {},
   "source": [
    "#### Split route features where new routes enter them\n",
    "1. Combine all endpoint point features into a single multipoint feature\n",
    "2. Split the LineString geometries with this multipoint feature, resulting in Geometry Collection features stored in the geodataframe's geometry series\n",
    "3. Iterate through each fearture in the above result, splitting its geometry collection back into individual LineString features, and adding each to a growing list.\n",
    "4. Reconstruct a new geodataframe of all the route segments from the split list, adding a new edge ID attribute"
   ]
  },
  {
   "cell_type": "code",
   "execution_count": null,
   "metadata": {},
   "outputs": [],
   "source": [
    "#Combine endpoints into a single multipoint object\n",
    "ends = gdfEnd.geometry.unary_union"
   ]
  },
  {
   "cell_type": "code",
   "execution_count": null,
   "metadata": {},
   "outputs": [],
   "source": [
    "#Create a geoseries of split routes (geometry collections) - takes a bit of time\n",
    "theSplits = gdfRoutes.geometry.apply(lambda x: split(x,ends))"
   ]
  },
  {
   "cell_type": "code",
   "execution_count": null,
   "metadata": {},
   "outputs": [],
   "source": [
    "#Create lists to fill\n",
    "links = [] #List of each route's original route ID\n",
    "points_top = []\n",
    "points_bottom = []\n",
    "geom = []  #List of the LineString objects extracted from each feature's geometry collection"
   ]
  },
  {
   "cell_type": "code",
   "execution_count": null,
   "metadata": {},
   "outputs": [],
   "source": [
    "#Iterate and add items to the list\n",
    "for idx, row in gdfRoutes.iterrows():\n",
    "    #Iterate through split segments in the geometry collection\n",
    "    for line in theSplits[idx].geoms:\n",
    "        #Add items to the list\n",
    "        links.append(str(row['SiteNo']))        #Add the index of the originating route line\n",
    "        geom.append(line)                      #Add the LineString geometry to the geom list\n",
    "        points_top.append(line.coords[0])      #Add the first point to the list\n",
    "        points_bottom.append(line.coords[-1])  #Add the last point to the list"
   ]
  },
  {
   "cell_type": "markdown",
   "metadata": {},
   "source": [
    "#### Create the nodes geodataframe from the end points extracted above"
   ]
  },
  {
   "cell_type": "markdown",
   "metadata": {},
   "source": [
    "#Combine the top and bottom points, as sets to eliminate duplicates\n",
    "points_all = list(set(points_top) | set(points_bottom))\n",
    "\n",
    "#Convert to a geoseries object\n",
    "points_all_geom = [Point(xy) for xy in points_all]\n",
    "\n",
    "#Create a geodataframe from the points\n",
    "gdf_points = gpd.GeoDataFrame(geometry=points_all_geom, crs = gdfRoutes.crs)\n",
    "\n",
    "gdf_points['NodeID'] = gdf_points.index\n",
    "gdf_points.head()"
   ]
  },
  {
   "cell_type": "code",
   "execution_count": null,
   "metadata": {},
   "outputs": [],
   "source": [
    "#Construct an output geodataframe from the route and geom lists created above\n",
    "gdfSegments = gpd.GeoDataFrame(pd.DataFrame({'route_id':links}),\n",
    "                               geometry = geom, crs = gdfRoutes.crs)\n",
    "\n",
    "#Add the index as a unique segment ID  \n",
    "gdfSegments['edge_ID'] = gdfSegments.index.astype(str)"
   ]
  },
  {
   "cell_type": "markdown",
   "metadata": {},
   "source": [
    "With the segments created, we now need assign attributes to each edge. These consist of the its upstream node ID, its downstream node ID, and the amount of biogas introduced at its upstream node. \n",
    "\n",
    "This process is a bit tricky and is done by:\n",
    "* Creating a feature class of the segment's starting vertex, linked to the segment's `edge_id`. This geodataframe is labeled `gdfDownstreamNodes` as its points are labeled with the edge that falls **downstream** of it. \n",
    "* Creating a second feature class of the segment's ending vertex, tagged with the segment's `edge_id `. This geodataframe is labeled `gdfUpstreamNodes` as its points are labeled with the edge that falls **upstream** of it. \n",
    "* The to points are spatially joined, resulting in a dataset of vertices (`gdNodes`) where each includes the label of the upstream and downstream edge_id. "
   ]
  },
  {
   "cell_type": "markdown",
   "metadata": {},
   "source": [
    "##### Create geodataframes from \"upstream\" and \"downstream\" nodes\n",
    "Here the \"downstream\" nodes are actually the first point in each segment, and the \"upstream\" nodes are the last. This seems backwards, but these are both intermediate datasets used to determine \"from-to\" pairs, done by spatially joining them. When joined, the \"from\" node carries the attribute of the upstream segment and the \"to\" node carries the downstream one..."
   ]
  },
  {
   "cell_type": "code",
   "execution_count": null,
   "metadata": {},
   "outputs": [],
   "source": [
    "#Construct a gdf of segement start points; \n",
    "#  the 'edge_id' included is the id of the segement into which it flows, i.e. its downstream segment ID\n",
    "gdfFirstPoints = gdfSegments.copy(deep=True)\n",
    "gdfFirstPoints['geometry'] = gdfFirstPoints['geometry'].apply(lambda x: Point(x.coords[0]))\n",
    "gdfFirstPoints['downstream_id'] = gdfFirstPoints.index.astype(str)"
   ]
  },
  {
   "cell_type": "code",
   "execution_count": null,
   "metadata": {},
   "outputs": [],
   "source": [
    "#Construct a gdf of segement start points; \n",
    "#  the 'edge_id' included is the id of the segement flowing into it, i.e. its upstream segment ID\n",
    "gdfLastPoints = gdfSegments.copy(deep=True)\n",
    "gdfLastPoints['geometry'] = gdfLastPoints['geometry'].apply(lambda x: Point(x.coords[-1]))\n",
    "gdfLastPoints['upstream_id'] = gdfLastPoints.index.astype(str)"
   ]
  },
  {
   "cell_type": "markdown",
   "metadata": {},
   "source": [
    "##### Spatially join the downstream and upstream points\n",
    "Spatially joining the two datasets results in a single point feature class with each point including the edge ids of the upstream and downstream segements, respectively."
   ]
  },
  {
   "cell_type": "code",
   "execution_count": null,
   "metadata": {},
   "outputs": [],
   "source": [
    "#Spatially join the above geodataframes and remove indices\n",
    "gdfNodes = gpd.sjoin(left_df=gdfLastPoints, right_df=gdfFirstPoints, how='left')\n",
    "gdfNodes.drop(columns=['route_id_left','edge_ID_left','index_right','route_id_right','edge_ID_right'],\n",
    "              axis=1,inplace=True)\n",
    "gdfNodes.head(1)"
   ]
  },
  {
   "cell_type": "code",
   "execution_count": null,
   "metadata": {},
   "outputs": [],
   "source": [
    "#Show info on the resulting dataset\n",
    "gdfNodes.info()"
   ]
  },
  {
   "cell_type": "markdown",
   "metadata": {},
   "source": [
    "The above reveals a number of records missing `downstream_id` values. These are the terminal segments, i.e. the ones connecting routes to existing NG pipeline infrastructure. \n",
    "> This is because we joined the \"first\" points of each segement to the \"last\" ones (left join above), leaving a number of downstream labeled as NaN (those segment end points that didn't intersect another segment's start point); these are the terminal nodes in each route grouping (i.e. where the pipes connect to the existing pipeline network). \n",
    "\n",
    "We relabel these terminal nodes with the upstream segment ID followed by a \"T\". "
   ]
  },
  {
   "cell_type": "code",
   "execution_count": null,
   "metadata": {},
   "outputs": [],
   "source": [
    "#Update null values with upstream IDs, appended with a \"T\"\n",
    "gdfNodes['downstream_id'].fillna(gdfNodes['upstream_id'] + \"T\",inplace=True)\n",
    "#Drop extraneous fields\n",
    "gdfNodes.sample(10)"
   ]
  },
  {
   "cell_type": "code",
   "execution_count": null,
   "metadata": {},
   "outputs": [],
   "source": [
    "#Write the nodes to a file\n",
    "gdfNodes.to_file('../scratch/nodes.shp')"
   ]
  },
  {
   "cell_type": "markdown",
   "metadata": {},
   "source": [
    "#### Transfer node information to route segment features.\n",
    "The nodes geodataframe above includes points occuring at the end vertices of each pipeline segment (again, because we joined the `gdfFirstPoints` features *to* the `gdfEndPoint` features, keeping all the `gdfEndPoint` features). And each of these points is aware of the edge_IDs of the segment upstream of it and downstream of it (or if it's a terminal node). \n",
    "\n",
    "What we want in the next step is to link this information to each route segment feature such that each feature knows its node ID (taken from it's upstream_id) and the node ID immediately downstream of it. This will allow us to construct a graph from all the segments. \n",
    "\n",
    "We also need to link each segment with the amount of biogas potential it introduces into the system. "
   ]
  },
  {
   "cell_type": "markdown",
   "metadata": {},
   "source": [
    "##### Joining node attribute data to each segment feature\n",
    "The first step is done via attribute join, i.e., by merging the `downstream_id` attribute in the gdfNodes dataframe to the segment geodataframe using the `upstream_id` as the joining feature to link with the gdfSegments's `edge_ID` attribute."
   ]
  },
  {
   "cell_type": "code",
   "execution_count": null,
   "metadata": {},
   "outputs": [],
   "source": [
    "#Join the upstream and downstream IDs to the segments features\n",
    "gdfSegments_ids = gdfSegments.merge(gdfNodes[['upstream_id','downstream_id']],\n",
    "                                    left_on='edge_ID', \n",
    "                                    right_on='upstream_id',\n",
    "                                    how='left')\n",
    "#Drop the 'upstream_ID' as it's redundant with the edge_ID\n",
    "gdfSegments_ids. drop('upstream_id',axis=1,inplace=True)\n",
    "#Show the table\n",
    "gdfSegments_ids.sample(10)"
   ]
  },
  {
   "cell_type": "markdown",
   "metadata": {},
   "source": [
    "Now each segment feature knows its node/edge ID and the node ID of the segment immediately downstream!"
   ]
  },
  {
   "cell_type": "markdown",
   "metadata": {},
   "source": [
    "##### Attaching biogas potential data back to each segment\n",
    "Next, we need to join the Biogas Potential linked with each segment. The biogas potential is stored in the `gdfStart` geodataframe constructed by taking the first point in each original biogas route. Here, the `Biogas P_1` attribute is what we want. "
   ]
  },
  {
   "cell_type": "code",
   "execution_count": null,
   "metadata": {},
   "outputs": [],
   "source": [
    "gdfStart.head()"
   ]
  },
  {
   "cell_type": "markdown",
   "metadata": {},
   "source": [
    "As this dataframe has no attribute feature that would let us join the data to our segement features, we'll need to create some sort of spatial join to link the biogas potential to our segments. \n",
    "\n",
    "To do this, we'll spatially join the `gdfStart` features (which contain biogas potential information ) to the `gdfFirstPoints` features (which contain the node/edge ID information):"
   ]
  },
  {
   "cell_type": "code",
   "execution_count": null,
   "metadata": {},
   "outputs": [],
   "source": [
    "gdfFirstPoints.head()"
   ]
  },
  {
   "cell_type": "code",
   "execution_count": null,
   "metadata": {},
   "outputs": [],
   "source": [
    "#Join the attribute data to the first points (i.e. the biogas source locations)\n",
    "gdfBiogasLookup = gpd.sjoin(left_df=gdfFirstPoints[['geometry','edge_ID']],#Join only the geom and edge_ID cols\n",
    "                            right_df=gdfStart, \n",
    "                            how='inner').drop('index_right',axis=1)\n",
    "gdfBiogasLookup.head()"
   ]
  },
  {
   "cell_type": "markdown",
   "metadata": {},
   "source": [
    "This gives us a table that we can now merge to our segments dataframe. Not all segments will have biogas data, so we need to set null values to zero (which requires fixing the datatype)."
   ]
  },
  {
   "cell_type": "code",
   "execution_count": null,
   "metadata": {},
   "outputs": [],
   "source": [
    "#Review the setments data\n",
    "gdfSegments_ids.head()"
   ]
  },
  {
   "cell_type": "code",
   "execution_count": null,
   "metadata": {},
   "outputs": [],
   "source": [
    "#Merge the biogas potential to the segment featuresm using edge_ID as the common field\n",
    "gdfSegments_biogas = gdfSegments_ids.merge(gdfBiogasLookup[['edge_ID','SiteNo','Waste','Biogas']],\n",
    "                                           on='edge_ID',how='left')\n",
    "\n",
    "#Fix waste and biogas columns (set NaN to zero)\n",
    "gdfSegments_biogas.loc[pd.isna(gdfSegments_biogas['Biogas']),'Waste'] = 0\n",
    "gdfSegments_biogas.loc[pd.isna(gdfSegments_biogas['Biogas']),'Biogas'] = 0\n",
    "\n",
    "#Examine the output\n",
    "gdfSegments_biogas.head()"
   ]
  },
  {
   "cell_type": "markdown",
   "metadata": {},
   "source": [
    "A number of these records will have missing values for the `SiteNo`, `Waste`, and `Biogas` columns; these are locations that don't correspond to biogas source locations (i.e., downstream junctions). So, we need to set those values "
   ]
  },
  {
   "cell_type": "code",
   "execution_count": null,
   "metadata": {},
   "outputs": [],
   "source": [
    "#Union all route starting points into a single multipoint geometry\n",
    "all_start_points = gdfStart.geometry.unary_union"
   ]
  },
  {
   "cell_type": "code",
   "execution_count": null,
   "metadata": {},
   "outputs": [],
   "source": [
    "gdfStart.head()"
   ]
  },
  {
   "cell_type": "code",
   "execution_count": null,
   "metadata": {},
   "outputs": [],
   "source": [
    "#create a gdf of segment start points\n",
    "gdfSegmentStarts = gdfSegments_biogas.copy(deep=True)\n",
    "gdfSegmentStarts['geometry'] = gdfSegmentStarts.geometry.apply(lambda x: Point(x.coords[0]))\n",
    "#spatially join those with the route start points\n",
    "gpd.sjoin(left_df=gdfSegmentStarts,right_df=gdfStart,how='left').head()"
   ]
  },
  {
   "cell_type": "code",
   "execution_count": null,
   "metadata": {},
   "outputs": [],
   "source": [
    "#Set the node as start if it intersects the start point\n",
    "gpd.sjoin(left_df=gdfStart,)"
   ]
  },
  {
   "cell_type": "code",
   "execution_count": null,
   "metadata": {},
   "outputs": [],
   "source": [
    "#Add segment attributes: Biogas site | Junction | Terminal\n",
    "gdfSegments['Node']"
   ]
  },
  {
   "cell_type": "code",
   "execution_count": null,
   "metadata": {},
   "outputs": [],
   "source": [
    "#Write out shapefile\n",
    "gdfSegments_biogas[['edge_ID','downstream_id','route_id','Total Wast',\n",
    "                    'BG_potential','geometry']].to_file('../data/processed/BasePipeline.shp')"
   ]
  },
  {
   "cell_type": "code",
   "execution_count": null,
   "metadata": {},
   "outputs": [],
   "source": [
    "#Write out edge list\n",
    "gdfSegments_biogas[['edge_ID','downstream_id','Total Wast','Biogas P_1']].to_csv('../data/processed/BaseEdgeList.csv',index=False)"
   ]
  },
  {
   "cell_type": "code",
   "execution_count": null,
   "metadata": {},
   "outputs": [],
   "source": []
  }
 ],
 "metadata": {
  "kernelspec": {
   "display_name": "Python 3",
   "language": "python",
   "name": "python3"
  },
  "language_info": {
   "codemirror_mode": {
    "name": "ipython",
    "version": 3
   },
   "file_extension": ".py",
   "mimetype": "text/x-python",
   "name": "python",
   "nbconvert_exporter": "python",
   "pygments_lexer": "ipython3",
   "version": "3.7.6"
  }
 },
 "nbformat": 4,
 "nbformat_minor": 4
}
