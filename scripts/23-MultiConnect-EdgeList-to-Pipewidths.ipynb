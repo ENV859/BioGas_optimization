{
 "cells": [
  {
   "cell_type": "markdown",
   "metadata": {},
   "source": [
    "#### Objective:\n",
    "Create a directional, weighted graph from the provided edge list and compute the total upstream throughput at each node. "
   ]
  },
  {
   "cell_type": "code",
   "execution_count": 1,
   "metadata": {},
   "outputs": [],
   "source": [
    "#Import packages\n",
    "import pandas as pd\n",
    "import networkx as nx\n",
    "import arcpy"
   ]
  },
  {
   "cell_type": "code",
   "execution_count": 2,
   "metadata": {},
   "outputs": [
    {
     "data": {
      "text/html": [
       "<div>\n",
       "<style scoped>\n",
       "    .dataframe tbody tr th:only-of-type {\n",
       "        vertical-align: middle;\n",
       "    }\n",
       "\n",
       "    .dataframe tbody tr th {\n",
       "        vertical-align: top;\n",
       "    }\n",
       "\n",
       "    .dataframe thead th {\n",
       "        text-align: right;\n",
       "    }\n",
       "</style>\n",
       "<table border=\"1\" class=\"dataframe\">\n",
       "  <thead>\n",
       "    <tr style=\"text-align: right;\">\n",
       "      <th></th>\n",
       "      <th>From_node</th>\n",
       "      <th>To_node</th>\n",
       "      <th>Site_yield_scf_h</th>\n",
       "    </tr>\n",
       "  </thead>\n",
       "  <tbody>\n",
       "    <tr>\n",
       "      <th>0</th>\n",
       "      <td>1</td>\n",
       "      <td>3</td>\n",
       "      <td>5450.830387</td>\n",
       "    </tr>\n",
       "    <tr>\n",
       "      <th>1</th>\n",
       "      <td>2</td>\n",
       "      <td>4</td>\n",
       "      <td>1874.747050</td>\n",
       "    </tr>\n",
       "    <tr>\n",
       "      <th>2</th>\n",
       "      <td>3</td>\n",
       "      <td>2</td>\n",
       "      <td>0.000000</td>\n",
       "    </tr>\n",
       "    <tr>\n",
       "      <th>3</th>\n",
       "      <td>4</td>\n",
       "      <td>-1</td>\n",
       "      <td>0.000000</td>\n",
       "    </tr>\n",
       "    <tr>\n",
       "      <th>4</th>\n",
       "      <td>5</td>\n",
       "      <td>6</td>\n",
       "      <td>5237.045262</td>\n",
       "    </tr>\n",
       "  </tbody>\n",
       "</table>\n",
       "</div>"
      ],
      "text/plain": [
       "  From_node To_node  Site_yield_scf_h\n",
       "0         1       3       5450.830387\n",
       "1         2       4       1874.747050\n",
       "2         3       2          0.000000\n",
       "3         4      -1          0.000000\n",
       "4         5       6       5237.045262"
      ]
     },
     "execution_count": 2,
     "metadata": {},
     "output_type": "execute_result"
    }
   ],
   "source": [
    "#Read in the edge list and add edges\n",
    "df_edgeList = pd.read_csv('../scratch/EdgeList_AllNG.csv',\n",
    "                          dtype={'From_node':'str','To_node':'str'})\n",
    "df_edgeList.head()"
   ]
  },
  {
   "cell_type": "code",
   "execution_count": 3,
   "metadata": {},
   "outputs": [],
   "source": [
    "#Create the empty directional graph\n",
    "G = nx.DiGraph()"
   ]
  },
  {
   "cell_type": "code",
   "execution_count": 4,
   "metadata": {},
   "outputs": [],
   "source": [
    "#Add the edges\n",
    "for i,r in df_edgeList.iterrows():\n",
    "    G.add_edge(r.From_node,r.To_node,cost=r.Site_yield_scf_h)"
   ]
  },
  {
   "cell_type": "code",
   "execution_count": 5,
   "metadata": {},
   "outputs": [],
   "source": [
    "nodeCosts = []\n",
    "#Iterate through each to_node\n",
    "for from_node in df_edgeList.From_node.unique():\n",
    "    #Reset the cost variable\n",
    "    total_yield = 0\n",
    "    #Get the upstream nodes for the current node\n",
    "    up_nodes = nx.ancestors(G,from_node)\n",
    "    #Append the node itself\n",
    "    up_nodes.add(from_node)\n",
    "    #Iterate through the to_node's ancestors\n",
    "    for up_node in up_nodes:\n",
    "        #Accumulate the total yield\n",
    "        total_yield += df_edgeList.query(\"From_node == '{}'\".format(up_node))['Site_yield_scf_h'].sum()\n",
    "    df_edgeList.loc[df_edgeList.From_node == from_node,'SumYield'] = total_yield"
   ]
  },
  {
   "cell_type": "code",
   "execution_count": 6,
   "metadata": {},
   "outputs": [],
   "source": [
    "#Compute pipe diameter from throughput\n",
    "df_edgeList['PipeSize_in'] = df_edgeList['SumYield']**0.394*0.051\n",
    "#Compute pipe cost from throughput \n",
    "df_edgeList['PipeCost'] = df_edgeList['PipeSize_in']**0.485*10829 \n",
    "#Compute return\n",
    "df_edgeList['Return_15yr'] = df_edgeList['PipeCost'] / (df_edgeList['SumYield'] * 15)"
   ]
  },
  {
   "cell_type": "code",
   "execution_count": 7,
   "metadata": {},
   "outputs": [],
   "source": [
    "#Save edge list to a filename\n",
    "edgeCSV_filename =  '../scratch/MultiConnect_EdgeList2.csv'\n",
    "df_edgeList[['From_node','Site_yield_scf_h', 'SumYield', 'PipeSize_in',\n",
    "            'PipeCost', 'Return_15yr']].to_csv(edgeCSV_filename,index=False)"
   ]
  },
  {
   "cell_type": "code",
   "execution_count": 8,
   "metadata": {},
   "outputs": [
    {
     "data": {
      "text/plain": [
       "<Result '..\\\\OptimizeViewer\\\\MultiConnect.gdb\\\\LCP_edges_MultiConnect'>"
      ]
     },
     "execution_count": 8,
     "metadata": {},
     "output_type": "execute_result"
    }
   ],
   "source": [
    "#Join edge list to edge features\n",
    "#Create a table from the CSV\n",
    "edge_table = arcpy.management.MakeTableView(edgeCSV_filename,'edge_table')\n",
    "edge_features = '..\\\\OptimizeViewer\\\\MultiConnect.gdb\\LCP_edges_MultiConnect'\n",
    "#Join to the edgeFC\n",
    "arcpy.management.JoinField(edge_features,'Edge_ID',\n",
    "                           edge_table,\n",
    "                           'From_node',\n",
    "                           ['Site_yield_scf_h', 'SumYield', 'PipeSize_in','PipeCost', 'Return_15yr'])"
   ]
  }
 ],
 "metadata": {
  "kernelspec": {
   "display_name": "Python 3",
   "language": "python",
   "name": "python3"
  },
  "language_info": {
   "codemirror_mode": {
    "name": "ipython",
    "version": 3
   },
   "file_extension": ".py",
   "mimetype": "text/x-python",
   "name": "python",
   "nbconvert_exporter": "python",
   "pygments_lexer": "ipython3",
   "version": "3.6.8"
  }
 },
 "nbformat": 4,
 "nbformat_minor": 2
}
