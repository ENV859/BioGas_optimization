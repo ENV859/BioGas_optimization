{
 "cells": [
  {
   "cell_type": "markdown",
   "metadata": {},
   "source": [
    "# Rasterize Natural Gas Pipeline Network\n",
    "Creates a raster version at the same extent and cell size of the MIT cost surface.\n",
    "\n",
    "### Workflow\n",
    "* Convert feature class to geopandas dataframe\n",
    "* Subset NC records \n",
    "* Group values on `STATUS`, `TYPE`, and `DIAMETER`\n",
    " * This results in 29 unique combinations. Each combination is given a unique ID (1 thru 29)\n",
    "* Add a new field to the list of unique combinations: 2 ^^ index"
   ]
  },
  {
   "cell_type": "code",
   "execution_count": 1,
   "metadata": {},
   "outputs": [],
   "source": [
    "import rasterio\n",
    "from rasterio import features\n",
    "import geopandas as gpd\n",
    "import pandas as pd\n",
    "import numpy as np"
   ]
  },
  {
   "cell_type": "markdown",
   "metadata": {},
   "source": [
    "#### Import the REXTAG natural gas feature class\n",
    "*NOTE: This is proprietary dataset stored on the secure server*"
   ]
  },
  {
   "cell_type": "code",
   "execution_count": 2,
   "metadata": {},
   "outputs": [],
   "source": [
    "#Read in features\n",
    "pipelines_gdb = 'C:\\\\Workspace\\\\Rextag_2July2020\\\\Rextag_Zone2_Natural_Gas.gdb'\n",
    "pipelines_lyr = 'NaturalGasPipelines'"
   ]
  },
  {
   "cell_type": "code",
   "execution_count": 3,
   "metadata": {},
   "outputs": [],
   "source": [
    "#Read in pipeline dataset as a geodataframe\n",
    "gdf = gpd.read_file(pipelines_gdb,driver='FileGDB',layer=pipelines_lyr)"
   ]
  },
  {
   "cell_type": "code",
   "execution_count": 4,
   "metadata": {},
   "outputs": [
    {
     "name": "stdout",
     "output_type": "stream",
     "text": [
      "STATE:\t\t38\n",
      "STATUS:\t\t7\n",
      "TYPE:\t\t3\n",
      "DIAMETER:\t37\n"
     ]
    }
   ],
   "source": [
    "#Print number of unique values in each - ENTIRE DATASET\n",
    "print(F\"STATE:\\t\\t{gdf.STATE_NAME.nunique()}\")\n",
    "print(F\"STATUS:\\t\\t{gdf.STATUS.nunique()}\")\n",
    "print(F\"TYPE:\\t\\t{gdf.TYPE.nunique()}\")\n",
    "print(F\"DIAMETER:\\t{gdf.DIAMETER.nunique()}\")"
   ]
  },
  {
   "cell_type": "code",
   "execution_count": 5,
   "metadata": {},
   "outputs": [],
   "source": [
    "#Group the data\n",
    "grp = gdf.groupby(['STATE_NAME','TYPE','STATUS','DIAMETER'])"
   ]
  },
  {
   "cell_type": "code",
   "execution_count": 6,
   "metadata": {},
   "outputs": [],
   "source": [
    "#Output to CSV file\n",
    "grp.count().to_csv(\"ALL_stats.csv\")"
   ]
  },
  {
   "cell_type": "markdown",
   "metadata": {},
   "source": [
    "## Isolate and map NC data"
   ]
  },
  {
   "cell_type": "code",
   "execution_count": 7,
   "metadata": {},
   "outputs": [],
   "source": [
    "#Isolate NC records\n",
    "gdf_nc = gdf.loc[gdf['STATE_NAME']=='North Carolina'].reset_index()"
   ]
  },
  {
   "cell_type": "code",
   "execution_count": 8,
   "metadata": {},
   "outputs": [],
   "source": [
    "#Group on attribs\n",
    "grp_nc = gdf_nc.groupby(['STATUS','TYPE','DIAMETER'])\n",
    "\n",
    "#Output grouped values to a dataframe\n",
    "df_unique = grp_nc.index.count().reset_index().drop('index',axis=1)\n",
    "#Save the index value to a field\n",
    "df_unique['UNIQIUE_ID'] = df_unique.index\n",
    "\n",
    "#Compute 2^^ index value\n",
    "df_unique['OUT_CODE'] = df_unique['UNIQIUE_ID'].apply(lambda x: 2**x)\n",
    "\n",
    "#Save to file\n",
    "df_unique.to_csv('Data_Lookup.csv',index=False)"
   ]
  },
  {
   "cell_type": "code",
   "execution_count": 9,
   "metadata": {},
   "outputs": [],
   "source": [
    "#Join the OUTCODE to each row in the gdf_dataset\n",
    "gdf_nc2 = pd.merge(left = gdf_nc, left_on = ['STATUS','TYPE','DIAMETER'],\n",
    "                   right = df_unique, right_on = ['STATUS','TYPE','DIAMETER'],\n",
    "                   how = 'left'\n",
    "                  )"
   ]
  },
  {
   "cell_type": "code",
   "execution_count": 10,
   "metadata": {},
   "outputs": [
    {
     "data": {
      "text/plain": [
       "Index(['index', 'NAME', 'SUB_OPER', 'OPERATOR', 'OWNER', 'SYS_NAME',\n",
       "       'SUBSYS_NM', 'TYPE', 'STATUS', 'DIAMETER', 'TRANSCAP', 'COMMODITY',\n",
       "       'CMDTY_DESC', 'CMDTY_CODE', 'INTERSTATE', 'FLOW_DIR', 'RATE_ZONE',\n",
       "       'PREV_OWNER', 'TRANS_DATE', 'TRANS_NOTE', 'TRANS_ID', 'LOC_ID',\n",
       "       'LOC_DOCS', 'SEG_ID', 'SUBSEG_ID', 'SUBOPER_ID', 'OPER_ID', 'OPER_URL',\n",
       "       'OPER_DOCS', 'OWNER_ID', 'OWNER_URL', 'OWNER_DOCS', 'CONTACTS_URL',\n",
       "       'NOTES', 'CATCHALL', 'CNTY_NAME', 'STATE_NAME', 'CNTRY_NAME', 'MILES',\n",
       "       'UPDATE_NO', 'QUALITY', 'Shape_Length', 'geometry', 'UNIQIUE_ID',\n",
       "       'OUT_CODE'],\n",
       "      dtype='object')"
      ]
     },
     "execution_count": 10,
     "metadata": {},
     "output_type": "execute_result"
    }
   ],
   "source": [
    "gdf_nc2.columns"
   ]
  },
  {
   "cell_type": "code",
   "execution_count": 11,
   "metadata": {},
   "outputs": [
    {
     "data": {
      "text/html": [
       "<div>\n",
       "<style scoped>\n",
       "    .dataframe tbody tr th:only-of-type {\n",
       "        vertical-align: middle;\n",
       "    }\n",
       "\n",
       "    .dataframe tbody tr th {\n",
       "        vertical-align: top;\n",
       "    }\n",
       "\n",
       "    .dataframe thead th {\n",
       "        text-align: right;\n",
       "    }\n",
       "</style>\n",
       "<table border=\"1\" class=\"dataframe\">\n",
       "  <thead>\n",
       "    <tr style=\"text-align: right;\">\n",
       "      <th></th>\n",
       "      <th>TYPE</th>\n",
       "      <th>STATUS</th>\n",
       "      <th>DIAMETER</th>\n",
       "      <th>OUT_CODE</th>\n",
       "    </tr>\n",
       "  </thead>\n",
       "  <tbody>\n",
       "    <tr>\n",
       "      <th>0</th>\n",
       "      <td>Transmission</td>\n",
       "      <td>Operational</td>\n",
       "      <td>0</td>\n",
       "      <td>16384</td>\n",
       "    </tr>\n",
       "    <tr>\n",
       "      <th>1</th>\n",
       "      <td>Transmission</td>\n",
       "      <td>Operational</td>\n",
       "      <td>12</td>\n",
       "      <td>1048576</td>\n",
       "    </tr>\n",
       "    <tr>\n",
       "      <th>2</th>\n",
       "      <td>Transmission</td>\n",
       "      <td>Operational</td>\n",
       "      <td>0</td>\n",
       "      <td>16384</td>\n",
       "    </tr>\n",
       "    <tr>\n",
       "      <th>3</th>\n",
       "      <td>Transmission</td>\n",
       "      <td>Operational</td>\n",
       "      <td>12</td>\n",
       "      <td>1048576</td>\n",
       "    </tr>\n",
       "    <tr>\n",
       "      <th>4</th>\n",
       "      <td>Transmission</td>\n",
       "      <td>Operational</td>\n",
       "      <td>0</td>\n",
       "      <td>16384</td>\n",
       "    </tr>\n",
       "  </tbody>\n",
       "</table>\n",
       "</div>"
      ],
      "text/plain": [
       "           TYPE       STATUS  DIAMETER  OUT_CODE\n",
       "0  Transmission  Operational         0     16384\n",
       "1  Transmission  Operational        12   1048576\n",
       "2  Transmission  Operational         0     16384\n",
       "3  Transmission  Operational        12   1048576\n",
       "4  Transmission  Operational         0     16384"
      ]
     },
     "execution_count": 11,
     "metadata": {},
     "output_type": "execute_result"
    }
   ],
   "source": [
    "gdf_nc2.iloc[:5,[7,8,9,-1]]"
   ]
  },
  {
   "cell_type": "markdown",
   "metadata": {},
   "source": [
    "### Now rasterize each unique value into an image layer, then add all layers"
   ]
  },
  {
   "cell_type": "markdown",
   "metadata": {},
   "source": [
    "#### Import the 500m MIT Cost Surface raster as a template\n",
    "This is used to extract the extent and cell size of the created pipeline raster"
   ]
  },
  {
   "cell_type": "code",
   "execution_count": 12,
   "metadata": {},
   "outputs": [],
   "source": [
    "#Load the cost surface raster\n",
    "template_raster_dataset = rasterio.open('../data/MIT_Surface_Subset/MIT_CostSurface_500m_NConly.img')\n",
    "#Get the surface \n",
    "template_raster_ = template_raster_dataset.read(1)\n",
    "#Extract the coordinate reference system\n",
    "raster_crs = template_raster_dataset.crs\n",
    "#Get the metadata\n",
    "raster_meta = template_raster_dataset.meta"
   ]
  },
  {
   "cell_type": "code",
   "execution_count": 13,
   "metadata": {},
   "outputs": [],
   "source": [
    "#Transform to same crs as cost surface\n",
    "gdf_nc2 = gdf_nc2.to_crs(raster_crs)"
   ]
  },
  {
   "cell_type": "markdown",
   "metadata": {},
   "source": [
    "#### Rastersize each unique `OUT_CODE` column as a unique layer"
   ]
  },
  {
   "cell_type": "code",
   "execution_count": 14,
   "metadata": {},
   "outputs": [
    {
     "name": "stdout",
     "output_type": "stream",
     "text": [
      "1\n",
      "2\n",
      "4\n",
      "8\n",
      "16\n",
      "32\n",
      "64\n",
      "128\n",
      "256\n",
      "512\n",
      "1024\n",
      "2048\n",
      "4096\n",
      "8192\n",
      "16384\n",
      "32768\n",
      "65536\n",
      "131072\n",
      "262144\n",
      "524288\n",
      "1048576\n",
      "2097152\n",
      "4194304\n",
      "8388608\n",
      "16777216\n",
      "33554432\n",
      "67108864\n",
      "134217728\n",
      "268435456\n"
     ]
    }
   ],
   "source": [
    "#Create a list to store each layer\n",
    "image_list = []\n",
    "#Set the name of the field containing the unique values\n",
    "fldName ='OUT_CODE'\n",
    "#Iterate through each unique value\n",
    "for val in df_unique[fldName].unique():\n",
    "    print(val)\n",
    "    #Subset the data\n",
    "    gdf_subset = gdf_nc2.loc[gdf_nc2[fldName] == val]\n",
    "    #Get the geometries from the subset\n",
    "    out_shapes = zip(gdf_subset.geometry,gdf_subset[fldName])\n",
    "    #Rasterize the geometries\n",
    "    image = features.rasterize(shapes=out_shapes,\n",
    "                               out_shape=template_raster_dataset.shape,\n",
    "                               transform=template_raster_dataset.transform,\n",
    "                               all_touched=False)\n",
    "    image_list.append(image)"
   ]
  },
  {
   "cell_type": "code",
   "execution_count": 15,
   "metadata": {},
   "outputs": [],
   "source": [
    "#Stack images and add together\n",
    "img_stack = np.stack(image_list)"
   ]
  },
  {
   "cell_type": "code",
   "execution_count": 16,
   "metadata": {},
   "outputs": [],
   "source": [
    "#Compute the sum of the stack\n",
    "img_sum = img_stack.sum(axis=0)"
   ]
  },
  {
   "cell_type": "code",
   "execution_count": 17,
   "metadata": {},
   "outputs": [
    {
     "name": "stdout",
     "output_type": "stream",
     "text": [
      "uint32\n"
     ]
    }
   ],
   "source": [
    "#Get the bit depth\n",
    "min_dtype = rasterio.dtypes.get_minimum_dtype(gdf_nc2[fldName])\n",
    "print(min_dtype)"
   ]
  },
  {
   "cell_type": "code",
   "execution_count": 18,
   "metadata": {},
   "outputs": [],
   "source": [
    "#Update the metadata with the bit depth\n",
    "raster_meta.update(\n",
    "{'driver':'GTiff',\n",
    " 'nodata':0,\n",
    " 'dtype':min_dtype\n",
    "})"
   ]
  },
  {
   "cell_type": "code",
   "execution_count": 19,
   "metadata": {},
   "outputs": [],
   "source": [
    "#Export as tiff\n",
    "with rasterio.open('../data/processed/NC_NGPipeline.tif','w',**raster_meta) as dst:\n",
    "    dst.write(img_sum, indexes=1)"
   ]
  }
 ],
 "metadata": {
  "kernelspec": {
   "display_name": "Python 3",
   "language": "python",
   "name": "python3"
  },
  "language_info": {
   "codemirror_mode": {
    "name": "ipython",
    "version": 3
   },
   "file_extension": ".py",
   "mimetype": "text/x-python",
   "name": "python",
   "nbconvert_exporter": "python",
   "pygments_lexer": "ipython3",
   "version": "3.7.6"
  }
 },
 "nbformat": 4,
 "nbformat_minor": 4
}
