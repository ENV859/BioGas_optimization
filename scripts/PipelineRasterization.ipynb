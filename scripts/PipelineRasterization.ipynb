{
 "cells": [
  {
   "cell_type": "markdown",
   "metadata": {},
   "source": [
    "# Rasterize Natural Gas Pipeline Network\n",
    "Creates a raster version at the same extent and cell size of the MIT cost surface.\n",
    "\n",
    "### Workflow\n",
    "* Convert feature class to geopandas dataframe\n",
    "* Subset NC records \n",
    "* Group values on `STATUS`, `TYPE`, and `DIAMETER`\n",
    " * This results in 29 unique combinations. Each combination is given a unique ID (1 thru 29)\n",
    "* Add a new field to the list of unique combinations: 2 ^^ index"
   ]
  },
  {
   "cell_type": "code",
   "execution_count": null,
   "metadata": {},
   "outputs": [],
   "source": [
    "import rasterio\n",
    "from rasterio import features\n",
    "import geopandas as gpd\n",
    "import pandas as pd\n",
    "import numpy as np"
   ]
  },
  {
   "cell_type": "markdown",
   "metadata": {},
   "source": [
    "#### Import the REXTAG natural gas feature class\n",
    "*NOTE: This is proprietary dataset stored on the secure server*"
   ]
  },
  {
   "cell_type": "code",
   "execution_count": null,
   "metadata": {},
   "outputs": [],
   "source": [
    "#Read in features\n",
    "pipelines_gdb = 'C:\\\\Workspace\\\\Rextag_2July2020\\\\Rextag_Zone2_Natural_Gas.gdb'\n",
    "pipelines_lyr = 'NaturalGasPipelines'"
   ]
  },
  {
   "cell_type": "code",
   "execution_count": null,
   "metadata": {},
   "outputs": [],
   "source": [
    "#Read in pipeline dataset as a geodataframe\n",
    "gdf = gpd.read_file(pipelines_gdb,driver='FileGDB',layer=pipelines_lyr)"
   ]
  },
  {
   "cell_type": "code",
   "execution_count": null,
   "metadata": {},
   "outputs": [],
   "source": [
    "#Print number of unique values in each - ENTIRE DATASET\n",
    "print(F\"STATE:\\t\\t{gdf.STATE_NAME.nunique()}\")\n",
    "print(F\"STATUS:\\t\\t{gdf.STATUS.nunique()}\")\n",
    "print(F\"TYPE:\\t\\t{gdf.TYPE.nunique()}\")\n",
    "print(F\"DIAMETER:\\t{gdf.DIAMETER.nunique()}\")"
   ]
  },
  {
   "cell_type": "code",
   "execution_count": null,
   "metadata": {},
   "outputs": [],
   "source": [
    "#Group the data\n",
    "grp = gdf.groupby(['STATE_NAME','TYPE','STATUS','DIAMETER'])"
   ]
  },
  {
   "cell_type": "code",
   "execution_count": null,
   "metadata": {},
   "outputs": [],
   "source": [
    "#Output to CSV file\n",
    "grp.count().to_csv(\"ALL_stats.csv\")"
   ]
  },
  {
   "cell_type": "markdown",
   "metadata": {},
   "source": [
    "## Isolate and map NC data"
   ]
  },
  {
   "cell_type": "code",
   "execution_count": null,
   "metadata": {},
   "outputs": [],
   "source": [
    "#Isolate NC records\n",
    "gdf_nc = gdf.loc[gdf['STATE_NAME']=='North Carolina'].reset_index()"
   ]
  },
  {
   "cell_type": "code",
   "execution_count": null,
   "metadata": {},
   "outputs": [],
   "source": [
    "#Group on attribs\n",
    "grp_nc = gdf_nc.groupby(['STATUS','TYPE','DIAMETER'])\n",
    "\n",
    "#Output grouped values to a dataframe\n",
    "df_unique = grp_nc.index.count().reset_index().drop('index',axis=1)\n",
    "#Save the index value to a field\n",
    "df_unique['UNIQIUE_ID'] = df_unique.index\n",
    "\n",
    "#Compute 2^^ index value\n",
    "df_unique['OUT_CODE'] = df_unique['UNIQIUE_ID'].apply(lambda x: 2**x)\n",
    "\n",
    "#Save to file\n",
    "df_unique.to_csv('Data_Lookup.csv',index=False)"
   ]
  },
  {
   "cell_type": "code",
   "execution_count": null,
   "metadata": {},
   "outputs": [],
   "source": [
    "#Join the OUTCODE to each row in the gdf_dataset\n",
    "gdf_nc2 = pd.merge(left = gdf_nc, left_on = ['STATUS','TYPE','DIAMETER'],\n",
    "                   right = df_unique, right_on = ['STATUS','TYPE','DIAMETER'],\n",
    "                   how = 'left'\n",
    "                  )"
   ]
  },
  {
   "cell_type": "code",
   "execution_count": null,
   "metadata": {},
   "outputs": [],
   "source": [
    "gdf_nc2.columns"
   ]
  },
  {
   "cell_type": "code",
   "execution_count": null,
   "metadata": {},
   "outputs": [],
   "source": [
    "gdf_nc2.iloc[:5,[7,8,9,-1]]"
   ]
  },
  {
   "cell_type": "markdown",
   "metadata": {},
   "source": [
    "### Now rasterize each unique value into an image layer, then add all layers"
   ]
  },
  {
   "cell_type": "markdown",
   "metadata": {},
   "source": [
    "#### Import a 100 m template raster\n",
    "This is used to extract the extent and cell size of the created pipeline raster"
   ]
  },
  {
   "cell_type": "code",
   "execution_count": null,
   "metadata": {},
   "outputs": [],
   "source": [
    "#Load the cost surface raster\n",
    "template_raster_dataset = rasterio.open('../data/processed/PipeDiameter_100m.tif')\n",
    "#Get the surface \n",
    "template_raster_ = template_raster_dataset.read(1)\n",
    "#Extract the coordinate reference system\n",
    "raster_crs = template_raster_dataset.crs\n",
    "#Get the metadata\n",
    "raster_meta = template_raster_dataset.meta"
   ]
  },
  {
   "cell_type": "code",
   "execution_count": null,
   "metadata": {},
   "outputs": [],
   "source": [
    "#Transform to same crs as cost surface\n",
    "gdf_nc2 = gdf_nc2.to_crs(raster_crs)"
   ]
  },
  {
   "cell_type": "markdown",
   "metadata": {},
   "source": [
    "#### Rastersize each unique OUTPUT_CODE as a unique layer"
   ]
  },
  {
   "cell_type": "code",
   "execution_count": null,
   "metadata": {},
   "outputs": [],
   "source": [
    "#Create a list to store each layer\n",
    "image_list = []\n",
    "#Set the name of the field containing the unique values\n",
    "fldName ='OUT_CODE'\n",
    "#Iterate through each unique value\n",
    "for val in df_unique[fldName].unique():\n",
    "    print(val)\n",
    "    #Subset the data\n",
    "    gdf_subset = gdf_nc2.loc[gdf_nc2[fldName] == val]\n",
    "    #Get the geometries from the subset\n",
    "    out_shapes = zip(gdf_subset.geometry,gdf_subset[fldName])\n",
    "    #Rasterize the geometries\n",
    "    image = features.rasterize(shapes=out_shapes,\n",
    "                               out_shape=template_raster_dataset.shape,\n",
    "                               transform=template_raster_dataset.transform,\n",
    "                               all_touched=False)\n",
    "    image_list.append(image)"
   ]
  },
  {
   "cell_type": "code",
   "execution_count": null,
   "metadata": {},
   "outputs": [],
   "source": [
    "#Stack images and add together\n",
    "img_stack = np.stack(image_list)"
   ]
  },
  {
   "cell_type": "code",
   "execution_count": null,
   "metadata": {},
   "outputs": [],
   "source": [
    "img_stack.shape"
   ]
  },
  {
   "cell_type": "code",
   "execution_count": null,
   "metadata": {},
   "outputs": [],
   "source": [
    "img_sum = img_stack.sum(axis=0)\n",
    "img_sum.shape"
   ]
  },
  {
   "cell_type": "code",
   "execution_count": null,
   "metadata": {},
   "outputs": [],
   "source": [
    "#Get the bit depth\n",
    "min_dtype = rasterio.dtypes.get_minimum_dtype(gdf_nc2[fldName])\n",
    "#Update the metadata\n",
    "cost_meta.update(\n",
    "{'driver':'GTiff',\n",
    " 'nodata':0,\n",
    " 'dtype':min_dtype\n",
    "})\n",
    "#Export as tiff\n",
    "with rasterio.open('../data/processed/image_stack.tif','w',**cost_meta) as dst:\n",
    "    dst.write(img_sum, indexes=1)\n"
   ]
  },
  {
   "cell_type": "markdown",
   "metadata": {},
   "source": [
    "#### Explort the result to a GeoTIFF"
   ]
  },
  {
   "cell_type": "code",
   "execution_count": null,
   "metadata": {},
   "outputs": [],
   "source": [
    "min_dtype"
   ]
  },
  {
   "cell_type": "code",
   "execution_count": null,
   "metadata": {},
   "outputs": [],
   "source": [
    "foo = image_list[0] | image_list[1]|image_list[1]"
   ]
  },
  {
   "cell_type": "code",
   "execution_count": null,
   "metadata": {},
   "outputs": [],
   "source": [
    "foo.max()"
   ]
  },
  {
   "cell_type": "code",
   "execution_count": null,
   "metadata": {},
   "outputs": [],
   "source": [
    "#Update metadata for output\n",
    "cost_meta = cost_surface_dataset.meta"
   ]
  },
  {
   "cell_type": "code",
   "execution_count": null,
   "metadata": {},
   "outputs": [],
   "source": [
    "cost_meta.update(\n",
    "    {'driver':'GTiff',\n",
    "     'nodata':255,\n",
    "     'dtype':min_dtype\n",
    "    })"
   ]
  },
  {
   "cell_type": "code",
   "execution_count": null,
   "metadata": {},
   "outputs": [],
   "source": [
    "#Export as tiff\n",
    "with rasterio.open('..\\\\data\\\\processed\\\\USA_pipes_operational.tif','w',**cost_meta) as dst:\n",
    "    dst.write(image, indexes=1)"
   ]
  }
 ],
 "metadata": {
  "kernelspec": {
   "display_name": "Python 3",
   "language": "python",
   "name": "python3"
  },
  "language_info": {
   "codemirror_mode": {
    "name": "ipython",
    "version": 3
   },
   "file_extension": ".py",
   "mimetype": "text/x-python",
   "name": "python",
   "nbconvert_exporter": "python",
   "pygments_lexer": "ipython3",
   "version": "3.7.6"
  }
 },
 "nbformat": 4,
 "nbformat_minor": 4
}
